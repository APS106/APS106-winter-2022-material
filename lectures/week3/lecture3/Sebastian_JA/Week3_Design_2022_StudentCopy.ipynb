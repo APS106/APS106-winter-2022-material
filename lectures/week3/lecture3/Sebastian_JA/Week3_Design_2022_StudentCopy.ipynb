{
 "cells": [
  {
   "cell_type": "markdown",
   "source": [
    "### APS106 Lecture Notes - Week 3, Design Problem\n",
    "\n",
    "## Problem Background\n",
    "\n",
    "You just finished your APS106 midterm and heading to dinner with a few friends. However, no one can decide what to eat. Recently, your friends have been watching the Big Bang Theory and are planning on using Rock-Paper-Scissors-Lizard-Spock to decide.\n",
    "\n",
    "However, to truly make the game truly random, you will not be playing each other, you will be playing against a computer and the person with the best record against the computer decides what to eat. Thus, write a Python program that using conditional statements and user input to play Rock-Paper-Lizard-Spock against a computer program with random choice selection.\n",
    "\n",
    "Keep in mind that you are hungry! Make sure your code is efficient, well-thought-out, and accounts for all possibilities.\n",
    "\n",
    "Here is a link to how the game works, courtesy of the Big Bang Theory: https://www.youtube.com/watch?v=IFurn06BDuc (upto 1:14)\n",
    "\n",
    "And a visual for those who do not want to watch the clip: https://files.realpython.com/media/rps-lizardspock.88cf9623a6f0.png"
   ],
   "metadata": {
    "collapsed": false,
    "pycharm": {
     "name": "#%% md\n"
    }
   }
  },
  {
   "cell_type": "markdown",
   "source": [
    "## Define the problem\n",
    "Given the spin on the classic rock-paper-scissors-game, we must develop a Python program with user input, with random computer choice selection, that obeys the game's rules, and accounts for all possible scenarios to be as comprehensive as possible.\n",
    "\n",
    "The difficulty in this problem lies in the implementation of the game with the comparison of randomly generated computer selections to string  user input. Do we want to use many if-statements? How do we want to handle the computer's choice? Let's consider some test cases first.\n",
    "\n",
    "Remember that: 1) we are doing this AFTER our APS106 midterm so #cleancode is fresh in our mind; and most importantly, 2) we are starving."
   ],
   "metadata": {
    "collapsed": false,
    "pycharm": {
     "name": "#%% md\n"
    }
   }
  },
  {
   "cell_type": "markdown",
   "source": [
    "## Define Test Cases\n",
    "\n",
    "Let's start with the easiest case of rock and scissors.\n",
    "It is quite simple, if the user selects rock and the computer selects scissors then we must choose the user to win!\n",
    "\n",
    "But what if the user makes a typo? Or selects an option not present?\n",
    "Our program must be able to recognize this and correct for it!"
   ],
   "metadata": {
    "collapsed": false
   }
  },
  {
   "cell_type": "markdown",
   "source": [
    "## Generate multiple solutions\n",
    "Based on what we have learned so far, we must have functions that:\n",
    " 1) Converts computer randomly generated choices to selections of rock, paper, scissors, lizard, or spock; and\n",
    " 2) The opposite of 1), where we convert user input of \"rock paper scissors, lizard or spock\" into numbers to compare with the computer selection to pick who wins.\n",
    "\n",
    "Thus, a fantastic algorithmic plan would be:\n",
    "1. Get RPLS selection from the user\n",
    "2. Randomly generate RPLS selection from the computer\n",
    "3. Compare to determine who wins (in an efficient way!)\n",
    "4. Display winner on the screen!\n",
    "\n",
    "What about a Programming Plan? How can we implement this efficiently and cleanly?\n",
    "1. Get input from the user and store in a variable.\n",
    "2. Pass to function to convert this input into a number.\n",
    "3. Generate random number input from computer\n",
    "4. Convert that random number input into a selection\n",
    "5. Compare number inputs between user and compute to see who won.\n",
    "6. Display winner!"
   ],
   "metadata": {
    "collapsed": false
   }
  },
  {
   "cell_type": "markdown",
   "source": [
    "## Select a Solution\n",
    "As the single solution looks straight-forward (since the problem is pretty easy), we can select it and proceed."
   ],
   "metadata": {
    "collapsed": false,
    "pycharm": {
     "name": "#%% md\n"
    }
   }
  },
  {
   "cell_type": "markdown",
   "source": [
    "## Implement the Solution"
   ],
   "metadata": {
    "collapsed": false
   }
  },
  {
   "cell_type": "code",
   "execution_count": null,
   "outputs": [],
   "source": [
    "# Rock Paper Scissors Lizard Spock\n",
    "\n",
    "# to import a Python function to randomize the computer's selection\n",
    "import ...\n",
    "\n",
    "# function to convert number to name\n",
    "def number_to_name(number):\n",
    "\n",
    "# function to convert name to number\n",
    "def name_to_number(name):\n",
    "\n",
    "# function which selects the winner\n",
    "def rpsls(selection):\n",
    "    # convert comp_number to name using number_to_name\n",
    "\n",
    "player_guess = input('')\n",
    "\n",
    "rpsls(str(player_guess))"
   ],
   "metadata": {
    "collapsed": false,
    "pycharm": {
     "name": "#%%\n",
     "is_executing": true
    }
   }
  },
  {
   "cell_type": "markdown",
   "source": [
    "## Perform Final Testing"
   ],
   "metadata": {
    "collapsed": false
   }
  },
  {
   "cell_type": "markdown",
   "source": [
    "Let's run the program and test different inputs."
   ],
   "metadata": {
    "collapsed": false,
    "pycharm": {
     "name": "#%% md\n"
    }
   }
  },
  {
   "cell_type": "markdown",
   "source": [],
   "metadata": {
    "collapsed": false,
    "pycharm": {
     "name": "#%% md\n"
    }
   }
  }
 ],
 "metadata": {
  "kernelspec": {
   "display_name": "Python 3",
   "language": "python",
   "name": "python3"
  },
  "language_info": {
   "codemirror_mode": {
    "name": "ipython",
    "version": 2
   },
   "file_extension": ".py",
   "mimetype": "text/x-python",
   "name": "python",
   "nbconvert_exporter": "python",
   "pygments_lexer": "ipython2",
   "version": "2.7.6"
  }
 },
 "nbformat": 4,
 "nbformat_minor": 0
}