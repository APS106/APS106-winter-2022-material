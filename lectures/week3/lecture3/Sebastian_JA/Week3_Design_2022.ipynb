{
 "cells": [
  {
   "cell_type": "markdown",
   "source": [
    "### APS106 Lecture Notes - Week 3, Design Problem\n",
    "\n",
    "## Problem Background\n",
    "\n",
    "You just finished your APS106 midterm and heading to dinner with a few friends. However, no one can decide what to eat. Recently, your friends have been watching the Big Bang Theory and are planning on using Rock-Paper-Scissors-Lizard-Spock to decide.\n",
    "\n",
    "However, to truly make the game truly random, you will not be playing each other, you will be playing against a computer and the person with the best record against the computer decides what to eat. Thus, write a Python program that using conditional statements and user input to play Rock-Paper-Lizard-Spock against a computer program with random choice selection.\n",
    "\n",
    "Keep in mind that you are hungry! Make sure your code is efficient, well-thought-out, and accounts for all possibilities.\n",
    "\n",
    "Here is a link to how the game works, courtesy of the Big Bang Theory: https://www.youtube.com/watch?v=IFurn06BDuc (upto 1:14)\n",
    "\n",
    "And a visual for those who do not want to watch the clip: https://files.realpython.com/media/rps-lizardspock.88cf9623a6f0.png"
   ],
   "metadata": {
    "collapsed": false,
    "pycharm": {
     "name": "#%% md\n"
    }
   }
  },
  {
   "cell_type": "markdown",
   "source": [
    "## Define the problem"
   ],
   "metadata": {
    "collapsed": false,
    "pycharm": {
     "name": "#%% md\n"
    }
   }
  },
  {
   "cell_type": "code",
   "execution_count": 6,
   "outputs": [],
   "source": [],
   "metadata": {
    "collapsed": false,
    "pycharm": {
     "name": "#%%\n"
    }
   }
  },
  {
   "cell_type": "markdown",
   "source": [
    "## Define Test Cases"
   ],
   "metadata": {
    "collapsed": false
   }
  },
  {
   "cell_type": "code",
   "execution_count": 7,
   "outputs": [],
   "source": [
    "#obvious ones\n",
    "#user error\n",
    "#when it is a tie"
   ],
   "metadata": {
    "collapsed": false,
    "pycharm": {
     "name": "#%%\n"
    }
   }
  },
  {
   "cell_type": "markdown",
   "source": [
    "## Generate multiple solutions"
   ],
   "metadata": {
    "collapsed": false
   }
  },
  {
   "cell_type": "code",
   "source": [
    "# functions?\n",
    "# classes?"
   ],
   "metadata": {
    "collapsed": false,
    "pycharm": {
     "name": "#%%\n"
    }
   },
   "execution_count": 8,
   "outputs": []
  },
  {
   "cell_type": "markdown",
   "source": [
    "## Select a Solution"
   ],
   "metadata": {
    "collapsed": false,
    "pycharm": {
     "name": "#%% md\n"
    }
   }
  },
  {
   "cell_type": "code",
   "execution_count": 8,
   "outputs": [],
   "source": [],
   "metadata": {
    "collapsed": false,
    "pycharm": {
     "name": "#%%\n"
    }
   }
  },
  {
   "cell_type": "markdown",
   "source": [
    "## Implement the Solution"
   ],
   "metadata": {
    "collapsed": false
   }
  },
  {
   "cell_type": "code",
   "execution_count": 10,
   "outputs": [
    {
     "name": "stdout",
     "output_type": "stream",
     "text": [
      "Player chooses rock\n",
      "Computer chooses rock\n",
      "Player and computer tie!\n",
      "\n"
     ]
    }
   ],
   "source": [
    "\n",
    "# name to number\n",
    "# number to name\n",
    "\n",
    "# Rock Paper Scissors Lizard Spock\n",
    "\n",
    "# to import random function for using random.randrange\n",
    "import random\n",
    "\n",
    "# function to convert number to name\n",
    "def number_to_name(number):\n",
    "    if number == 0:\n",
    "        return \"rock\"\n",
    "    elif number == 1:\n",
    "        return \"Spock\"\n",
    "    elif number == 2:\n",
    "        return \"paper\"\n",
    "    elif number == 3:\n",
    "        return \"lizard\"\n",
    "    elif number == 4:\n",
    "        return \"scissors\"\n",
    "    else:\n",
    "        return \"Error\"\n",
    "\n",
    "# function to convert name to number\n",
    "def name_to_number(name):\n",
    "    if name == \"rock\":\n",
    "        return 0\n",
    "    elif name == \"Spock\":\n",
    "        return 1\n",
    "    elif name == \"paper\":\n",
    "        return 2\n",
    "    elif name == \"lizard\":\n",
    "        return 3\n",
    "    elif name == \"scissors\":\n",
    "        return 4\n",
    "    else:\n",
    "        print (name + \"is not a character in RPSLS\")\n",
    "\n",
    "\n",
    "# function which selects the winner\n",
    "def rpsls(guess):\n",
    "\n",
    "    # convert name to player_number using name_to_number\n",
    "    player_number = name_to_number(guess)\n",
    "\n",
    "    # compute random guess for comp_number using random.randrange()\n",
    "    comp_number = random.randrange(0,5)\n",
    "    # compute difference of player_number and comp_number modulo five\n",
    "    winner = (comp_number - player_number) % 5\n",
    "\n",
    "    # use if/elif/else to determine winner\n",
    "    if winner < 3:\n",
    "        player_win = False\n",
    "    else:\n",
    "        player_win = True\n",
    "\n",
    "    # convert comp_number to name using number_to_name\n",
    "    comp_name = number_to_name(comp_number)\n",
    "\n",
    "    # print results\n",
    "    print (\"Player chooses \" + guess)\n",
    "    print (\"Computer chooses \" + comp_name)\n",
    "    if player_win:\n",
    "        print (\"Player wins!\\n\")\n",
    "    elif comp_number == player_number:\n",
    "        print (\"Player and computer tie!\\n\")\n",
    "    else:\n",
    "        print (\"Computer wins!\\n\")\n",
    "\n",
    "\n",
    "player_guess = input('Enter your choice.. Options: rock, Spock, paper, lizard, scissors')\n",
    "\n",
    "rpsls(str(player_guess))"
   ],
   "metadata": {
    "collapsed": false,
    "pycharm": {
     "name": "#%%\n"
    }
   }
  },
  {
   "cell_type": "markdown",
   "source": [
    "## Perform Final Testing"
   ],
   "metadata": {
    "collapsed": false
   }
  },
  {
   "cell_type": "code",
   "execution_count": null,
   "outputs": [],
   "source": [],
   "metadata": {
    "collapsed": false,
    "pycharm": {
     "name": "#%%\n"
    }
   }
  },
  {
   "cell_type": "markdown",
   "source": [],
   "metadata": {
    "collapsed": false,
    "pycharm": {
     "name": "#%% md\n"
    }
   }
  }
 ],
 "metadata": {
  "kernelspec": {
   "display_name": "Python 3",
   "language": "python",
   "name": "python3"
  },
  "language_info": {
   "codemirror_mode": {
    "name": "ipython",
    "version": 2
   },
   "file_extension": ".py",
   "mimetype": "text/x-python",
   "name": "python",
   "nbconvert_exporter": "python",
   "pygments_lexer": "ipython2",
   "version": "2.7.6"
  }
 },
 "nbformat": 4,
 "nbformat_minor": 0
}