{
 "cells": [
  {
   "cell_type": "markdown",
   "source": [
    "### APS106 Lecture Notes - Week 3, Design Problem\n",
    "\n",
    "## Problem Background\n",
    "\n",
    "You just finished your APS106 midterm and heading to dinner with a few friends. However, no one can decide what to eat. Recently, your friends have been watching the Big Bang Theory and are planning on using Rock-Paper-Scissors-Lizard-Spock to decide.\n",
    "\n",
    "However, to truly make the game truly random, you will not be playing each other, you will be playing against a computer and the person with the best record against the computer decides what to eat. Thus, write a Python program that using conditional statements and user input to play Rock-Paper-Lizard-Spock against a computer program with random choice selection.\n",
    "\n",
    "Keep in mind that you are hungry! Make sure your code is efficient, well-thought-out, and accounts for all possibilities.\n",
    "\n",
    "Here is a link to how the game works, courtesy of the Big Bang Theory: https://www.youtube.com/watch?v=IFurn06BDuc (upto 1:14)\n",
    "\n",
    "And a visual for those who do not want to watch the clip: https://files.realpython.com/media/rps-lizardspock.88cf9623a6f0.png"
   ],
   "metadata": {
    "collapsed": false,
    "pycharm": {
     "name": "#%% md\n"
    }
   }
  },
  {
   "cell_type": "markdown",
   "source": [
    "## Define the problem\n",
    "Given the spin on the classic rock-paper-scissors-game, we must develop a Python program with user input, with random computer choice selection, that obeys the game's rules, and accounts for all possible scenarios to be as comprehensive as possible.\n",
    "\n",
    "The difficulty in this problem lies in the implementation of the game with the comparison of randomly generated computer selections to string  user input. Do we want to use many if-statements? How do we want to handle the computer's choice? Let's consider some test cases first.\n",
    "\n",
    "Remember that: 1) we are doing this AFTER our APS106 midterm so #cleancode is fresh in our mind; and most importantly, 2) we are starving."
   ],
   "metadata": {
    "collapsed": false,
    "pycharm": {
     "name": "#%% md\n"
    }
   }
  },
  {
   "cell_type": "markdown",
   "source": [
    "## Define Test Cases\n",
    "\n",
    "Let's start with the easiest case of rock and scissors.\n",
    "It is quite simple, if the user selects rock and the computer selects scissors then we must choose the user to win!\n",
    "\n",
    "But what if the user makes a typo? Or selects an option not present?\n",
    "Our program must be able to recognize this and correct for it!"
   ],
   "metadata": {
    "collapsed": false
   }
  },
  {
   "cell_type": "markdown",
   "source": [
    "## Generate multiple solutions"
   ],
   "metadata": {
    "collapsed": false
   }
  },
  {
   "cell_type": "markdown",
   "source": [
    "Based on what we have learned so far, we must have functions that:\n",
    " 1) Converts computer randomly generated choices to selections of rock, paper, scissors, lizard, or spock; and\n",
    " 2) The opposite of 1), where we convert user input of \"rock paper scissors, lizard or spock\" into numbers to compare with the computer selection to pick who wins.\n",
    "\n",
    "Thus, a fantastic algorithmic plan would be:\n",
    "1. Get RPLS selection from the user\n",
    "2. Randomly generate RPLS selection from the user\n",
    "3. Compare to determine who wins\n",
    "4. Display winner on the screen!\n",
    "\n",
    "What about a Programming Plan? How can we implement this efficiently and cleanly?\n",
    "1. Get input from the user and store in a variable.\n",
    "2. Pass to function to convert this input into a number.\n",
    "3. Generate random number input from computer\n",
    "4. Convert that random number input into a selection\n",
    "5. Compare number inputs between user and compute to see who won.\n",
    "6. Display winner!\n"
   ],
   "metadata": {
    "collapsed": false,
    "pycharm": {
     "name": "#%% md\n"
    }
   }
  },
  {
   "cell_type": "markdown",
   "source": [
    "## Select a Solution\n",
    "As the single solution looks straight-forward (since the problem is pretty easy), we can select it and proceed."
   ],
   "metadata": {
    "collapsed": false,
    "pycharm": {
     "name": "#%% md\n"
    }
   }
  },
  {
   "cell_type": "markdown",
   "source": [
    "## Implement the Solution"
   ],
   "metadata": {
    "collapsed": false
   }
  },
  {
   "cell_type": "code",
   "execution_count": 5,
   "outputs": [
    {
     "name": "stdout",
     "output_type": "stream",
     "text": [
      "is not a character in RPSLS\n"
     ]
    },
    {
     "ename": "TypeError",
     "evalue": "unsupported operand type(s) for -: 'int' and 'NoneType'",
     "output_type": "error",
     "traceback": [
      "\u001B[1;31m---------------------------------------------------------------------------\u001B[0m",
      "\u001B[1;31mTypeError\u001B[0m                                 Traceback (most recent call last)",
      "Input \u001B[1;32mIn [5]\u001B[0m, in \u001B[0;36m<module>\u001B[1;34m\u001B[0m\n\u001B[0;32m     68\u001B[0m         \u001B[38;5;28mprint\u001B[39m (\u001B[38;5;124m\"\u001B[39m\u001B[38;5;124mComputer wins!\u001B[39m\u001B[38;5;130;01m\\n\u001B[39;00m\u001B[38;5;124m\"\u001B[39m)\n\u001B[0;32m     71\u001B[0m player_guess \u001B[38;5;241m=\u001B[39m \u001B[38;5;28minput\u001B[39m(\u001B[38;5;124m'\u001B[39m\u001B[38;5;124mEnter your choice.. Options: rock, Spock, paper, lizard, scissors\u001B[39m\u001B[38;5;124m'\u001B[39m)\n\u001B[1;32m---> 73\u001B[0m \u001B[43mrpsls\u001B[49m\u001B[43m(\u001B[49m\u001B[38;5;28;43mstr\u001B[39;49m\u001B[43m(\u001B[49m\u001B[43mplayer_guess\u001B[49m\u001B[43m)\u001B[49m\u001B[43m)\u001B[49m\n",
      "Input \u001B[1;32mIn [5]\u001B[0m, in \u001B[0;36mrpsls\u001B[1;34m(guess)\u001B[0m\n\u001B[0;32m     47\u001B[0m comp_number \u001B[38;5;241m=\u001B[39m random\u001B[38;5;241m.\u001B[39mrandrange(\u001B[38;5;241m0\u001B[39m,\u001B[38;5;241m5\u001B[39m)\n\u001B[0;32m     48\u001B[0m \u001B[38;5;66;03m# compute difference of player_number and comp_number modulo five\u001B[39;00m\n\u001B[1;32m---> 49\u001B[0m winner \u001B[38;5;241m=\u001B[39m (\u001B[43mcomp_number\u001B[49m\u001B[43m \u001B[49m\u001B[38;5;241;43m-\u001B[39;49m\u001B[43m \u001B[49m\u001B[43mplayer_number\u001B[49m) \u001B[38;5;241m%\u001B[39m \u001B[38;5;241m5\u001B[39m\n\u001B[0;32m     51\u001B[0m \u001B[38;5;66;03m# use if/elif/else to determine winner\u001B[39;00m\n\u001B[0;32m     52\u001B[0m \u001B[38;5;28;01mif\u001B[39;00m winner \u001B[38;5;241m<\u001B[39m \u001B[38;5;241m3\u001B[39m:\n",
      "\u001B[1;31mTypeError\u001B[0m: unsupported operand type(s) for -: 'int' and 'NoneType'"
     ]
    }
   ],
   "source": [
    "\n",
    "# name to number\n",
    "# number to name\n",
    "\n",
    "# Rock Paper Scissors Lizard Spock\n",
    "\n",
    "# to import random function for using random.randrange\n",
    "import random\n",
    "\n",
    "# function to convert number to name\n",
    "def number_to_name(number):\n",
    "    if number == 0:\n",
    "        return \"rock\"\n",
    "    elif number == 1:\n",
    "        return \"Spock\"\n",
    "    elif number == 2:\n",
    "        return \"paper\"\n",
    "    elif number == 3:\n",
    "        return \"lizard\"\n",
    "    elif number == 4:\n",
    "        return \"scissors\"\n",
    "    else:\n",
    "        return \"Error\"\n",
    "\n",
    "# function to convert name to number\n",
    "def name_to_number(name):\n",
    "    if name == \"rock\":\n",
    "        return 0\n",
    "    elif name == \"Spock\":\n",
    "        return 1\n",
    "    elif name == \"paper\":\n",
    "        return 2\n",
    "    elif name == \"lizard\":\n",
    "        return 3\n",
    "    elif name == \"scissors\":\n",
    "        return 4\n",
    "    else:\n",
    "        print (name + \"is not a character in RPSLS\")\n",
    "\n",
    "# function which selects the winner\n",
    "def rpsls(guess):\n",
    "\n",
    "    # convert name to player_number using name_to_number\n",
    "    player_number = name_to_number(guess)\n",
    "\n",
    "    # compute random guess for comp_number using random.randrange()\n",
    "    comp_number = random.randrange(0,5)\n",
    "    # compute difference of player_number and comp_number modulo five\n",
    "    winner = (comp_number - player_number) % 5\n",
    "\n",
    "    # use if/elif/else to determine winner\n",
    "    if winner < 3:\n",
    "        player_win = False\n",
    "    else:\n",
    "        player_win = True\n",
    "\n",
    "    # convert comp_number to name using number_to_name\n",
    "    comp_name = number_to_name(comp_number)\n",
    "\n",
    "    # print results\n",
    "    print (\"Player chooses \" + guess)\n",
    "    print (\"Computer chooses \" + comp_name)\n",
    "    if player_win:\n",
    "        print (\"Player wins!\\n\")\n",
    "    elif comp_number == player_number:\n",
    "        print (\"Player and computer tie!\\n\")\n",
    "    else:\n",
    "        print (\"Computer wins!\\n\")\n",
    "\n",
    "\n",
    "player_guess = input('Enter your choice.. Options: rock, Spock, paper, lizard, scissors')\n",
    "\n",
    "rpsls(str(player_guess))"
   ],
   "metadata": {
    "collapsed": false,
    "pycharm": {
     "name": "#%%\n"
    }
   }
  },
  {
   "cell_type": "markdown",
   "source": [
    "## Perform Final Testing"
   ],
   "metadata": {
    "collapsed": false
   }
  },
  {
   "cell_type": "code",
   "execution_count": null,
   "outputs": [],
   "source": [],
   "metadata": {
    "collapsed": false,
    "pycharm": {
     "name": "#%%\n"
    }
   }
  },
  {
   "cell_type": "markdown",
   "source": [],
   "metadata": {
    "collapsed": false,
    "pycharm": {
     "name": "#%% md\n"
    }
   }
  }
 ],
 "metadata": {
  "kernelspec": {
   "display_name": "Python 3",
   "language": "python",
   "name": "python3"
  },
  "language_info": {
   "codemirror_mode": {
    "name": "ipython",
    "version": 2
   },
   "file_extension": ".py",
   "mimetype": "text/x-python",
   "name": "python",
   "nbconvert_exporter": "python",
   "pygments_lexer": "ipython2",
   "version": "2.7.6"
  }
 },
 "nbformat": 4,
 "nbformat_minor": 0
}