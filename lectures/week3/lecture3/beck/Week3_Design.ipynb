{
 "cells": [
  {
   "cell_type": "markdown",
   "metadata": {},
   "source": [
    "### APS106 Lecture Notes - Week 4, Design Problem\n",
    "# Nuclear Reactor Safety Protocol\n",
    "\n",
    "![Nuclear](images/Nuclear.png)\n",
    "\n",
    "## Problem Background\n",
    "\n",
    "Most nuclear reactors, including those at Japan's Fukushima Daiichi generating station, are essentially high-tech kettles that efficiently boil water to produce electricity. They rely on harnessing nuclear fission—the splitting of an atom into two smaller atoms, which also yields heat and sends neutrons flying. If another atom absorbs one of those neutrons, the atom becomes unstable and undergoes fission itself, releasing more heat and more neutrons. The chain reaction becomes self-sustaining, producing a steady supply of heat to boil water, drive steam turbines and thereby generate electricity. \n",
    "\n",
    "Unlike with nuclear weapons, the uranium fuel used in nuclear reactors is not enriched sufficiently to make an explosion, however, once the chain reaction process is initiated, it cannot be easily stopped. If the reactor is not safely managed, it could lead to a “meltdown”, where heat is not dissipated quickly enough. Once the temperature in the reactor reaches a critical value, the uranium fuel pellets will begin to melt and eventually melt the containment vessel, spewing radioactive material into the environment (i.e. ground water, lakes, clouds, etc.).\n",
    "\n",
    "To prevent an environmental catastrophe, nuclear reactors have been designed with many safety measures and redundant systems. In this design project, we will take a look at some of the critical safety systems and how they could be organized to prevent catastrophic consequences such as Three Mile Island, Chernobyl, and, more recently, Fukushima."
   ]
  },
  {
   "cell_type": "markdown",
   "metadata": {},
   "source": [
    "## Define the Problem\n",
    "\n",
    "We have been hired by the Tokyo Electric Power Company (TEPCO), to come up with a Nuclear Reactor Safety Protocol that will prevent future disasters such as Fukushima. There are two key parts of the safety protocol. The first is to determine the state of alert (green, yellow, orange, red) and the second is the triggering of appropriate safety measures based on the level of alert.\n",
    "\n",
    "**State of Alert**\n",
    "- **Green**: Normal Conditions\n",
    "- **Yellow**: The plant is under alert level yellow if any of the following occur: Earthquake (4-6 Richter scale), Electrical Grid Offline, Temperature (301-500 ºC), Low Radiation Leak Detected.\n",
    "- **Orange**: The plant is under alert level orange if any of the following occur: Earthquake (above 6 and less than or equal to 8.5 on the Richter scale), High Water, High Radiation Leak Detected, Temperature (501-1000 ºC), Tsunami (less than 5 meters but greater than 0)\n",
    "- **Red**: The plant is under alert level red if any of the following occur: Earthquake (>8.5 Richter scale), Explosion, Low Water, Temperature (>1000 ºC), Tsunami (greater than or equal to 5 meters)\n",
    "\n",
    "**Safety Measures (Low to High Impact)**\n",
    "Depending on the alert level, different safety measures are taken: \n",
    "-\tInsert neutron absorbing rods\n",
    "-\tInject boron neutron absorber\n",
    "-\tTurn on condensors to cool steam. However, condensors can only be run if either the electrical grid is working or the electrical backup is working. And the electrical backup cannot be turned on if there is high water as it will be flooded.\n",
    "-\tEvacuate non-critical personnel\n",
    "-\tDump seawater into reactor\n",
    "-\tEvacuate region surrounding plant\n",
    "\n",
    "However, the relationship between the alert level of the plant and the actions to be taken is complicated and defined in the following decision trees. \n",
    "\n",
    "![DecisionTree](images/DecisionTree.png)\n",
    "\n",
    "For example, if the alert level is yellow, the correct measure is to insert the absorbing rods and then test if the temperature is below 300 degrees and decreasing. If it is then the plant moves to green alert level. If not, then it moves to the orange level.\n",
    "\n",
    "Power outages, rain, floods, earthquakes, tsunamis and overheating of the reactor occur frequently in Japan and do not always warrant drastic actions. Our task is to implement and prioritize an appropriate safety procedure that will maintain safe operation of the reactor. The emphasis is on safety of not only the personnel working at the reactor, but also the people living in the neighbouring region.\n",
    "\n",
    "For now we will only focus on the first problem – determining the status of the nuclear power plant. You can do the second part yourself."
   ]
  },
  {
   "cell_type": "markdown",
   "metadata": {},
   "source": [
    "## Define Test Cases\n",
    "\n",
    "### Test Case 1\n",
    "\n",
    "Earthquake of 8 on the Richter scale results in a tsunami of 4 meters resulting in a high water level.  Status should be elevated to orange alert.\n",
    "\n",
    "### Test Case 2\n",
    "\n",
    "Large magnitude earthquake (greater than 8.5 on the Richter scale) results in a tsunami that takes out the electrical power grid and floods the backup generators.\n",
    "\n",
    "This situation is similar to the Fukushima disaster and should elevate the status to red alert. \n",
    "\n",
    "### Test Case 3\n",
    "\n",
    "Routine testing of the nuclear power plant leads to a slight rise in temperature.\n",
    "\n",
    "This is a typical occurrence at a nuclear power plant and should not elevate the status beyond yellow alert if the standard procedures are followed."
   ]
  },
  {
   "cell_type": "markdown",
   "metadata": {},
   "source": [
    "## Generate Many Creative Solutions\n",
    "\n",
    "At first we may be tempted to come up with a bunch of if statements to cover every possible situation that may result. This would make it difficult to follow the logic and could easily lead to things being overlooked. This would not lead to safe operation of the reactor.\n",
    "\n",
    "The steps can be put into an **Algorithm Plan**:\n",
    "\n",
    "1.\tDetermine status of the reactor in terms of green, yellow, orange, and red alert levels.\n",
    "2.\tBased on the status, print out the current status.\n",
    "\n",
    "The second step is pretty easy but the first step probably needs to be broken down some more. How do we determine the status?\n",
    "\n",
    "1.\tTest if the status of the plant should be green by testing the appropriate variables and set the status variable to “green” if the test is True.\n",
    "2.\tTest if the status of the plant should be yellow by testing the appropriate variables and set the status variable to “yellow” if the test is True.\n",
    "3.\tTest if the status of the plant should be orange by testing the appropriate variables and set the status variable to “orange” if the test is True.\n",
    "4.\tTest if the status of the plant should be red by testing the appropriate variables and set the status variable to “red” if the test is True.\n",
    "5.\tPrint the status variable\n",
    "\n",
    "**Programming Plan**\n",
    "\n",
    "1.\tIdentify the measurements that determine the plant status (e.g., earthquake severity, electrical grid is down, etc.). \n",
    "2.\tCreate variables to represent the different possible values of each of these measurements.\n",
    "3.\tList the values of the measurement variables that trigger red alert, orange alert, yellow, and green. \n",
    "4.\tWrite an if-statement that will set the status variable to “green” if the measurement variables are set in the correct way and will do nothing if they are not. Test different values of the variables (both positive and negative examples).\n",
    "5.\tRepeat the previous step for the other status levels.\n",
    "6.\tLook at the if-statements and see if they can be combined into elif and else statements in order to reduce the number of Boolean tests."
   ]
  },
  {
   "cell_type": "markdown",
   "metadata": {},
   "source": [
    "## Select a Solution\n",
    "\n",
    "With such a simple problem, there is probably not a whole lot of other possibilities."
   ]
  },
  {
   "cell_type": "markdown",
   "metadata": {},
   "source": [
    "## Implement the Solution\n",
    "\n",
    "### Programming Step 1 and 2: Setup variables to correspond to Test Case 1 and determine the status."
   ]
  },
  {
   "cell_type": "code",
   "execution_count": 1,
   "metadata": {},
   "outputs": [],
   "source": [
    "# Define the situation\n",
    "earthquake = 8             # Richter scale\n",
    "electrical_grid_on = True  \n",
    "temperature = 500          # degrees Celsius\n",
    "radiation_level = \"None\"   # Values: None, Low, High\n",
    "tsunami_height = 4         # in meters\n",
    "water_level = \"Normal\"     # Values: Low, Normal, High\n",
    "explosion = False  "
   ]
  },
  {
   "cell_type": "markdown",
   "metadata": {},
   "source": [
    "### Programming Step 3, 4, and 5: Status is Green by default so there is nothing to test.\n",
    "\n",
    "Test for Yellow status. Set up variable values to correspond to yellow."
   ]
  },
  {
   "cell_type": "code",
   "execution_count": 2,
   "metadata": {},
   "outputs": [
    {
     "name": "stdout",
     "output_type": "stream",
     "text": [
      "yellow\n"
     ]
    }
   ],
   "source": [
    "status = \"green\"\n",
    "\n",
    "if (4 <= earthquake <= 6) or not electrical_grid_on or (300 < temperature <= 500) or radiation_level == \"Low\":\n",
    "    status = \"yellow\"\n",
    "\n",
    "print(status)"
   ]
  },
  {
   "cell_type": "markdown",
   "metadata": {},
   "source": [
    "Test shows that it appears to be working (green or yellow).\n",
    "\n",
    "Test for Orange status."
   ]
  },
  {
   "cell_type": "code",
   "execution_count": 3,
   "metadata": {},
   "outputs": [],
   "source": [
    "if (6 < earthquake <= 8.5) or (water_level == \"High\") or (500 < temperature <= 1000) or (0 < tsunami_height < 5):\n",
    "    status = \"orange\""
   ]
  },
  {
   "cell_type": "markdown",
   "metadata": {},
   "source": [
    "Test for red."
   ]
  },
  {
   "cell_type": "code",
   "execution_count": 4,
   "metadata": {},
   "outputs": [],
   "source": [
    "if (earthquake > 8.5) or explosion or (water_level == \"Low\") or (temperature > 1000) or (tsunami_height >= 5):\n",
    "    status = \"red\""
   ]
  },
  {
   "cell_type": "markdown",
   "metadata": {},
   "source": [
    "So what does the whole program look like now?"
   ]
  },
  {
   "cell_type": "code",
   "execution_count": 5,
   "metadata": {},
   "outputs": [
    {
     "name": "stdout",
     "output_type": "stream",
     "text": [
      "orange\n"
     ]
    }
   ],
   "source": [
    "# Define the situation\n",
    "earthquake = 8             # Richter scale\n",
    "electrical_grid_on = True  \n",
    "temperature = 500          # degrees Celsius\n",
    "radiation_level = \"None\"   # Values: None, Low, High\n",
    "tsunami_height = 4         # in meters\n",
    "water_level = \"Normal\"     # Values: Low, Normal, High\n",
    "explosion = False  \n",
    "\n",
    "status = \"green\"\n",
    "\n",
    "if (4 <= earthquake <= 6) or not electrical_grid_on or (300 < temperature <= 500) or radiation_level == \"Low\":\n",
    "    status = \"yellow\"\n",
    "    \n",
    "if (6 < earthquake <= 8.5) or (water_level == \"High\") or (500 < temperature <= 1000) or (0 < tsunami_height < 5):\n",
    "    status = \"orange\"\n",
    "\n",
    "if (earthquake > 8.5) or explosion or (water_level == \"Low\") or (temperature > 1000) or (tsunami_height >= 5):\n",
    "    status = \"red\"\n",
    "\n",
    "print(status)"
   ]
  },
  {
   "cell_type": "markdown",
   "metadata": {},
   "source": [
    "### Programming Step 6\n",
    "\n",
    "We know that the plant status can only be in one state. So if we’ve determined it to be yellow, we shouldn’t have to test again to see if it is orange. This suggests a modification to use elif and else."
   ]
  },
  {
   "cell_type": "code",
   "execution_count": 6,
   "metadata": {},
   "outputs": [
    {
     "name": "stdout",
     "output_type": "stream",
     "text": [
      "yellow\n"
     ]
    }
   ],
   "source": [
    "if (4 <= earthquake <= 6) or not electrical_grid_on or (300 < temperature <= 500) or radiation_level == \"Low\":\n",
    "    status = \"yellow\"\n",
    "\n",
    "elif (6 < earthquake <= 8.5) or (water_level == \"High\") or (500 < temperature <= 1000) or (0 < tsunami_height < 5):\n",
    "    status = \"orange\"\n",
    "\n",
    "elif (earthquake > 8.5) or explosion or (water_level == \"Low\") or (temperature > 1000) or (tsunami_height >= 5):\n",
    "    status = \"red\"\n",
    "    \n",
    "print(status)"
   ]
  },
  {
   "cell_type": "markdown",
   "metadata": {},
   "source": [
    "Uh-oh, our first try said orange (which is correct) but the second one says yellow. What is going on? \n",
    "\n",
    "The if-part is evaluating to `True`. Why? Because the temperature is in the right range! Notice that the actual tests are not mutually exclusive: both yellow and orange tests are `True` and this is correct. So what is the right thing to do? \n",
    "\n",
    "Really, we want to go to the highest alert level that is consistent with the situation. We could have a way more complicated if/elif statement but it is easier to reorganize the if/elif to test from the highest to lowest – that way the highest level that is true will be used and the rest will be skipped.\n"
   ]
  },
  {
   "cell_type": "code",
   "execution_count": 7,
   "metadata": {},
   "outputs": [
    {
     "name": "stdout",
     "output_type": "stream",
     "text": [
      "orange\n"
     ]
    }
   ],
   "source": [
    "if (earthquake > 8.5) or explosion or (water_level == \"Low\") or (temperature > 1000) or (tsunami_height >= 5):\n",
    "    status = \"red\"\n",
    "elif (6 < earthquake <= 8.5) or (water_level == \"High\") or (500 < temperature <= 1000) or (0 < tsunami_height < 5):\n",
    "    status = \"orange\"\n",
    "elif (4 <= earthquake <= 6) or not electrical_grid_on or (300 < temperature <= 500) or (radiation_level == \"Low\"):\n",
    "    status = \"yellow\"\n",
    "    \n",
    "print(status)"
   ]
  },
  {
   "cell_type": "markdown",
   "metadata": {},
   "source": [
    "That’s better! Is there anything else we can do to fix up the above statements? Perhaps make them easier to read? Notice that a bunch of the statements are redundant."
   ]
  },
  {
   "cell_type": "code",
   "execution_count": 8,
   "metadata": {},
   "outputs": [
    {
     "name": "stdout",
     "output_type": "stream",
     "text": [
      "orange\n"
     ]
    }
   ],
   "source": [
    "status = \"green\"\n",
    "\n",
    "if (earthquake > 8.5) or explosion or (water_level == \"Low\") or (temperature > 1000) or (tsunami_height >= 5):\n",
    "    status = \"red\"\n",
    "elif (earthquake > 6) or (water_level == \"High\") or (temperature > 500) or (tsunami_height < 5):\n",
    "    status = \"orange\"\n",
    "elif (earthquake >= 4) or electrical_grid_on or (temperature > 300) or (radiation_level == \"Low\"):\n",
    "    status = \"yellow\"\n",
    "    \n",
    "print(status)"
   ]
  },
  {
   "cell_type": "markdown",
   "metadata": {},
   "source": [
    "Put it all together."
   ]
  },
  {
   "cell_type": "code",
   "execution_count": 9,
   "metadata": {},
   "outputs": [
    {
     "name": "stdout",
     "output_type": "stream",
     "text": [
      "orange\n"
     ]
    }
   ],
   "source": [
    "# Define the situation\n",
    "earthquake = 8             # Richter scale\n",
    "electrical_grid_on = True  \n",
    "temperature = 500          # degrees Celsius\n",
    "radiation_level = \"None\"   # Values: None, Low, High\n",
    "tsunami_height = 4         # in meters (0 == no tsunami)\n",
    "water_level = \"High\"       # Values: Low, Normal, High\n",
    "explosion = False  \n",
    "\n",
    "# Define the plant status. \n",
    "status = \"green\"\n",
    "\n",
    "if (earthquake > 8.5) or explosion or (water_level == \"Low\") or (temperature > 1000) or (tsunami_height >= 5):\n",
    "    status = \"red\"\n",
    "elif (earthquake > 6) or (water_level == \"High\") or (temperature > 500) or (tsunami_height < 5):\n",
    "    status = \"orange\"\n",
    "elif (earthquake >= 4) or electrical_grid_on or (temperature > 300) or (radiation_level == \"Low\"):\n",
    "    status = \"yellow\"\n",
    "\n",
    "print(status)\n"
   ]
  },
  {
   "cell_type": "markdown",
   "metadata": {},
   "source": [
    "## Perform Final Testing\n",
    "\n",
    "Run on test cases and for all cases the solution was found to be satisfactory. \n",
    "\n",
    "Implementing the correct actions based on the plant status is now up to you!"
   ]
  }
 ],
 "metadata": {
  "kernelspec": {
   "display_name": "Python 3",
   "language": "python",
   "name": "python3"
  },
  "language_info": {
   "codemirror_mode": {
    "name": "ipython",
    "version": 3
   },
   "file_extension": ".py",
   "mimetype": "text/x-python",
   "name": "python",
   "nbconvert_exporter": "python",
   "pygments_lexer": "ipython3",
   "version": "3.7.2"
  }
 },
 "nbformat": 4,
 "nbformat_minor": 1
}
