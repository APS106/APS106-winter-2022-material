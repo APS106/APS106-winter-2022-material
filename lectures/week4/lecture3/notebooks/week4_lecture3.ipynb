{
 "cells": [
  {
   "cell_type": "markdown",
   "metadata": {
    "collapsed": true
   },
   "source": [
    "# APS106 - Fundamentals of Computer Programming\n",
    "## Week 4 | Lecture 3 (4.3) - Debugging\n",
    "\n",
    "### This Week\n",
    "| Lecture | Topics | Reading |\n",
    "| --- | --- | --- | \n",
    "| 4.1 | while loops, build your own counters | Section 9.6, 9.7 |\n",
    "| 4.2 | more while loops | Section 9.6  |\n",
    "| **4.3** | **debugging** | | \n",
    "\n",
    "### Lecture Structure\n",
    "1. [Syntax Errors](#section1)\n",
    "2. [Runtime Errors](#section2)\n",
    "3. [Semantic/Logical Errors](#section3)\n",
    "4. [Using `print()` Statements](#section4)\n",
    "5. [Breakout Session 1](#section5)\n",
    "6. [Breakout Session 2](#section6)\n",
    "7. [Breakout Session 3](#section7)"
   ]
  },
  {
   "cell_type": "markdown",
   "metadata": {},
   "source": [
    "<a id='section1'></a>\n",
    "## 1. Syntax Errors"
   ]
  },
  {
   "cell_type": "code",
   "execution_count": null,
   "metadata": {},
   "outputs": [],
   "source": [
    "3) + 2 * 4 S"
   ]
  },
  {
   "cell_type": "code",
   "execution_count": null,
   "metadata": {},
   "outputs": [],
   "source": [
    "12 = x"
   ]
  },
  {
   "cell_type": "code",
   "execution_count": null,
   "metadata": {},
   "outputs": [],
   "source": [
    "x = int(input('Enter a number: '))\n",
    "\n",
    "whille x % 2 == 0:\n",
    "    print('You have entered an even number.')\n",
    "else:\n",
    "    print ('You have entered an odd number.')"
   ]
  },
  {
   "cell_type": "code",
   "execution_count": null,
   "metadata": {},
   "outputs": [],
   "source": [
    "print \"All finished!\" "
   ]
  },
  {
   "cell_type": "code",
   "execution_count": null,
   "metadata": {},
   "outputs": [],
   "source": [
    "print(5 + )"
   ]
  },
  {
   "cell_type": "markdown",
   "metadata": {},
   "source": [
    "<a id='section2'></a>\n",
    "## 2. Runtime Errors"
   ]
  },
  {
   "cell_type": "code",
   "execution_count": null,
   "metadata": {},
   "outputs": [],
   "source": [
    "sub_total = input(\"Enter total before tax:\")\n",
    "tax = 0.08 * float(sub_total)\n",
    "# print('The tax is', tax)\n",
    "print(\"The tax on\", subtotal, \"is:\", tax)"
   ]
  },
  {
   "cell_type": "code",
   "execution_count": null,
   "metadata": {},
   "outputs": [],
   "source": [
    "while 1:\n",
    "    print('hello world')"
   ]
  },
  {
   "cell_type": "code",
   "execution_count": null,
   "metadata": {},
   "outputs": [],
   "source": [
    "number = number * 2 "
   ]
  },
  {
   "cell_type": "markdown",
   "metadata": {},
   "source": [
    "<a id='section3'></a>\n",
    "## 3. Semantic/Logical Errors"
   ]
  },
  {
   "cell_type": "code",
   "execution_count": null,
   "metadata": {},
   "outputs": [],
   "source": [
    "num1 = input('Enter a number:')\n",
    "num2 = input('Enter another number:')\n",
    "summation = num1 + num2\n",
    "\n",
    "print('The sum of', num1, 'and', num2, 'is', summation)"
   ]
  },
  {
   "cell_type": "markdown",
   "metadata": {},
   "source": [
    "What happened?"
   ]
  },
  {
   "cell_type": "code",
   "execution_count": null,
   "metadata": {},
   "outputs": [],
   "source": [
    "fahrenheit = 71.6\n",
    "celsius = fahrenheit - 32 * 5/9\n",
    "print(fahrenheit, 'degrees Fahrenheit is', celsius, 'degrees Celcius')"
   ]
  },
  {
   "cell_type": "markdown",
   "metadata": {},
   "source": [
    "What happened?\n",
    "\n",
    "**Hint:** `(32°F − 32) × 5/9 = 0°C`"
   ]
  },
  {
   "cell_type": "code",
   "execution_count": null,
   "metadata": {},
   "outputs": [],
   "source": [
    "temperature = 15\n",
    "if temperature > 15:\n",
    "    print(\"wear a T-shirt\")\n",
    "if temperature < 15:\n",
    "    print(\"wear a sweater\")"
   ]
  },
  {
   "cell_type": "markdown",
   "metadata": {},
   "source": [
    "What happened?"
   ]
  },
  {
   "cell_type": "markdown",
   "metadata": {},
   "source": [
    "<a id='section4'></a>\n",
    "## 4. Using `print()` Statements\n"
   ]
  },
  {
   "cell_type": "code",
   "execution_count": 52,
   "metadata": {},
   "outputs": [],
   "source": [
    "def max_number(numbers):\n",
    "    \"\"\"\n",
    "    (list) -> number\n",
    "    Take a list of numbers and return the largest number in the list.\n",
    "    \"\"\"\n",
    "    max_number = 0\n",
    "    for number in numbers:\n",
    "        if number > max_number:\n",
    "            max_number = number\n",
    "    return number"
   ]
  },
  {
   "cell_type": "code",
   "execution_count": 53,
   "metadata": {},
   "outputs": [
    {
     "data": {
      "text/plain": [
       "4"
      ]
     },
     "execution_count": 53,
     "metadata": {},
     "output_type": "execute_result"
    }
   ],
   "source": [
    "max_number([1, -2, 4])"
   ]
  },
  {
   "cell_type": "markdown",
   "metadata": {},
   "source": [
    "<a id='section5'></a>\n",
    "## 5. Breakout Session 1\n",
    "Write a program that will average 3 numeric exam grades, return an average test score, a corresponding letter grade, and a message stating whether the student is passing."
   ]
  },
  {
   "cell_type": "code",
   "execution_count": 17,
   "metadata": {},
   "outputs": [
    {
     "ename": "SyntaxError",
     "evalue": "invalid syntax (Temp/ipykernel_31552/3989971557.py, line 24)",
     "output_type": "error",
     "traceback": [
      "\u001b[1;36m  File \u001b[1;32m\"C:\\Users\\seb\\AppData\\Local\\Temp/ipykernel_31552/3989971557.py\"\u001b[1;36m, line \u001b[1;32m24\u001b[0m\n\u001b[1;33m    exam_two = input(\"Input exam grade two: \"))\u001b[0m\n\u001b[1;37m                                              ^\u001b[0m\n\u001b[1;31mSyntaxError\u001b[0m\u001b[1;31m:\u001b[0m invalid syntax\n"
     ]
    }
   ],
   "source": [
    "exam_one = int(input(\"Input exam grade one: \"))\n",
    "\n",
    "exam_two = input(\"Input exam grade two: \"))\n",
    "\n",
    "exam_3 = str(input(\"Input exam grade three: \"))\n",
    "\n",
    "sum = exam_one + exam_two + exam_3\n",
    "\n",
    "avg = sum / 3\n",
    "\n",
    "if avg >= 90:\n",
    "    letter_grade = \"A\"\n",
    "elif avg > 80 and avg < 90\n",
    "    letter_grade = \"B\"\n",
    "elif avg > 69 and avg < 80: \n",
    "    letter_grade = \"C'\n",
    "elif avg <= 69 and avg >= 65:\n",
    "    letter_grade = \"D\"\n",
    "elif:\n",
    "    letter_grade = \"F\"\n",
    "\n",
    "print(\"Exam 1: \" + str(exam_one))\n",
    "print(\"Exam 2: \" + str(exam_two))\n",
    "print(\"Exam 3: \" + str(exam_3))\n",
    "print(\"Average: \" + str(avg))\n",
    "print(\"Grade: \" + letter_grade)\n",
    "\n",
    "if letter-grade is \"F\":\n",
    "    print \"Student is failing.\"\n",
    "else:\n",
    "    print \"Student is passing.\""
   ]
  },
  {
   "cell_type": "markdown",
   "metadata": {},
   "source": [
    "<a id='section6'></a>\n",
    "## 6. Breakout Session 2\n",
    "Calculation of chemical rate constants. Find and correct the errors in the following cod."
   ]
  },
  {
   "cell_type": "code",
   "execution_count": 34,
   "metadata": {},
   "outputs": [
    {
     "ename": "SyntaxError",
     "evalue": "invalid syntax (Temp/ipykernel_31552/1839289384.py, line 11)",
     "output_type": "error",
     "traceback": [
      "\u001b[1;36m  File \u001b[1;32m\"C:\\Users\\seb\\AppData\\Local\\Temp/ipykernel_31552/1839289384.py\"\u001b[1;36m, line \u001b[1;32m11\u001b[0m\n\u001b[1;33m    k = A * e** -Ea / R * T_kelvin)\u001b[0m\n\u001b[1;37m                                  ^\u001b[0m\n\u001b[1;31mSyntaxError\u001b[0m\u001b[1;31m:\u001b[0m invalid syntax\n"
     ]
    }
   ],
   "source": [
    "Ea = 108000                  # Activation energy\n",
    "T_fahrenheit = 95            # Temperature in degrees Fahrenheit\n",
    "A = 80                       # Pre-exponential factor\n",
    "R = 8.3144598                # Universal gas constant\n",
    "e = 2.718281828              # Euler’s number\n",
    "T_celsius = fahrenheit - 32 * 5 / 9\n",
    "T_kelvin = T_celsius + 273.15\n",
    "k = A * e** -Ea / R * T_kelvin)"
   ]
  },
  {
   "cell_type": "markdown",
   "metadata": {},
   "source": [
    "<a id='section7'></a>\n",
    "## 7. Breakout Session 3\n",
    "Calculation of the deflection of a beam. Find and correct the errors in the following code."
   ]
  },
  {
   "cell_type": "code",
   "execution_count": 38,
   "metadata": {},
   "outputs": [
    {
     "ename": "SyntaxError",
     "evalue": "invalid syntax (Temp/ipykernel_31552/1155739092.py, line 6)",
     "output_type": "error",
     "traceback": [
      "\u001b[1;36m  File \u001b[1;32m\"C:\\Users\\seb\\AppData\\Local\\Temp/ipykernel_31552/1155739092.py\"\u001b[1;36m, line \u001b[1;32m6\u001b[0m\n\u001b[1;33m    delta_max = Pa**2/6*E*I*(3l-a)\u001b[0m\n\u001b[1;37m                              ^\u001b[0m\n\u001b[1;31mSyntaxError\u001b[0m\u001b[1;31m:\u001b[0m invalid syntax\n"
     ]
    }
   ],
   "source": [
    "P = 100           # Force applied in Newtons\n",
    "a = 6             # Distance in m to the force\n",
    "l = 13            # Total length of beam\n",
    "E = 2.0685e11     # Young’s modulus in Pa\n",
    "I = 0.005208      # Moment of inertia in m^4\n",
    "delta_max = Pa**2/6*E*I*(3l-a)"
   ]
  }
 ],
 "metadata": {
  "kernelspec": {
   "display_name": "Python 3 (ipykernel)",
   "language": "python",
   "name": "python3"
  },
  "language_info": {
   "codemirror_mode": {
    "name": "ipython",
    "version": 3
   },
   "file_extension": ".py",
   "mimetype": "text/x-python",
   "name": "python",
   "nbconvert_exporter": "python",
   "pygments_lexer": "ipython3",
   "version": "3.7.11"
  }
 },
 "nbformat": 4,
 "nbformat_minor": 1
}
