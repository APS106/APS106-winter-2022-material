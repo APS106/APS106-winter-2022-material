{
 "cells": [
  {
   "cell_type": "markdown",
   "metadata": {
    "collapsed": true
   },
   "source": [
    "# APS106 - Fundamentals of Computer Programming\n",
    "## Week 4 | Lecture 1 (4.1) - While Loops, Build Your Own Counters\n",
    "\n",
    "### This Week\n",
    "| Lecture | Topics | Reading |\n",
    "| --- | --- | --- | \n",
    "| **4.1** | **while loops, build your own counters** | **Section 9.6, 9.7** |\n",
    "| 4.2 | more while loops | Section 9.6  |\n",
    "| 4.3 | engineering design, design problem: forward kinematics | | \n",
    "\n",
    "### Lecture Structure\n",
    "1. [Asking the User a Question](#section1)\n",
    "2. [While Loops](#section2)\n",
    "3. [Back to User Input](#section3)\n",
    "4. [Breakout Session 1](#section4)\n",
    "5. [A Simple Guessing Game](#section5)"
   ]
  },
  {
   "cell_type": "markdown",
   "metadata": {},
   "source": [
    "<a id='section1'></a>\n",
    "## 1. Asking the User a Question\n",
    "\n",
    "Let's say you want to ask the user a question that has a yes-or-no answer. For example, \"Do you think the Toronto Maple Leafs will win the Stanley Cup in your lifetime?\" If the user answers 'y' (short for 'yes'), print out \"You are going to live for a very long time.\" If the user answers 'n' (short for 'no'), print out \"Well, sometimes miracles happen.\"\n",
    "\n",
    "With what we have studied so far, this should be pretty easy. **GO!**"
   ]
  },
  {
   "cell_type": "code",
   "execution_count": null,
   "metadata": {},
   "outputs": [],
   "source": [
    "answer = input(\"Do you think the Toronto Maple Leafs will win the Stanley Cup in your lifetime? (y/n): \")\n",
    "\n",
    "if answer == 'y':\n",
    "    print(\"You are going to live for a very long time.\")\n",
    "elif answer == 'n':\n",
    "    print(\"Well, sometimes miracles happen.\")"
   ]
  },
  {
   "cell_type": "markdown",
   "metadata": {},
   "source": [
    "OK, so we've written code that corresponds to the specification we were given (i.e., the problem requirements). But is there something that is not very satisfying about what this code does? Is there a possible input that the code doesn't work like you probably want it to?"
   ]
  },
  {
   "cell_type": "code",
   "execution_count": null,
   "metadata": {},
   "outputs": [],
   "source": [
    "answer = input(\"Do you think the Toronto Maple Leafs will win the Stanley Cup in your lifetime? (y/n): \")\n",
    "\n",
    "if answer == 'y':\n",
    "    print(\"You are going to live for a very long time.\")\n",
    "elif answer == 'n':\n",
    "    print(\"Well, sometimes miracles happen.\")\n",
    "else:\n",
    "    print(\"Sorry, that was not one of the options.\")"
   ]
  },
  {
   "cell_type": "markdown",
   "metadata": {},
   "source": [
    "Well, OK. But what if the user enters an incorrect response for the second time? Or a third time? We can't write code forever. Plus repeating multiple lines of identical code is almost always a very bad sign.\n",
    "\n",
    "The general solution is to loop: to execute the same lines of code more than once. This is also called *iteration*.\n",
    "\n",
    "But looping comes with a problem: if there is some magic way of repeatedly executing the same code, we need to figure out when to stop. We're going to talk about one loop construct today: the **while-loop** where you loop while some boolean expression is True."
   ]
  },
  {
   "cell_type": "markdown",
   "metadata": {},
   "source": [
    "<a id='section2'></a>\n",
    "## 2. While Loops\n",
    "The form of a while-loop is:\n",
    "\n",
    "```python\n",
    "while expression:    \n",
    "    body\n",
    "```\n",
    "\n",
    "`expression` is a boolean expression: it evaluates to `True` or `False`. While it is `True` the code in `body` is executed and then the execution returns to the `while` line and evaluates `expression` again. If it is still `True`, execute `body`, loop back, and test `expression` again. If `expression` is `False`, skip `body` and go to the next line after it.\n",
    "\n",
    "How can we use a while-loop to print the integers from 1 to 5?"
   ]
  },
  {
   "cell_type": "code",
   "execution_count": null,
   "metadata": {},
   "outputs": [],
   "source": [
    "x = 1\n",
    "while x <= 5:\n",
    "    print(x)\n",
    "    x = x + 1"
   ]
  },
  {
   "cell_type": "markdown",
   "metadata": {},
   "source": [
    "Use a while-loop to print out the first 5 perfect squares."
   ]
  },
  {
   "cell_type": "code",
   "execution_count": null,
   "metadata": {},
   "outputs": [],
   "source": [
    "x = 1\n",
    "while x <= 5:\n",
    "    print(x*x)\n",
    "    x = x + 1"
   ]
  },
  {
   "cell_type": "markdown",
   "metadata": {},
   "source": [
    "Now something slightly harder. Print out all perfect squares less than 101."
   ]
  },
  {
   "cell_type": "code",
   "execution_count": null,
   "metadata": {},
   "outputs": [],
   "source": [
    "x = 1\n",
    "while x*x < 101:\n",
    "    print(x*x)\n",
    "    x = x + 1"
   ]
  },
  {
   "cell_type": "markdown",
   "metadata": {},
   "source": [
    "Print out all the perfect squares less than 101 that are odd. There are at least two reasonable ways of doing this - see if you can figure out both."
   ]
  },
  {
   "cell_type": "code",
   "execution_count": null,
   "metadata": {},
   "outputs": [],
   "source": [
    "x = 1\n",
    "while x*x < 101:\n",
    "    if x*x % 2 != 0:\n",
    "        print(x*x)\n",
    "    x = x + 1"
   ]
  },
  {
   "cell_type": "markdown",
   "metadata": {},
   "source": [
    "You might make the observation that the only way that a perfect square is even is if its sqaure root is even and so you can make the code a bit more efficient."
   ]
  },
  {
   "cell_type": "code",
   "execution_count": null,
   "metadata": {},
   "outputs": [],
   "source": [
    "x = 1\n",
    "while x*x < 101:\n",
    "    if x % 2 != 0:\n",
    "        print(x*x)\n",
    "    x = x + 1"
   ]
  },
  {
   "cell_type": "markdown",
   "metadata": {},
   "source": [
    "And the other way to do it? (This is the nicer way since it avoid a test)."
   ]
  },
  {
   "cell_type": "code",
   "execution_count": null,
   "metadata": {},
   "outputs": [],
   "source": [
    "x = 1\n",
    "while x*x < 101:\n",
    "    print(x*x)\n",
    "    x = x + 2"
   ]
  },
  {
   "cell_type": "markdown",
   "metadata": {},
   "source": [
    "**[Comment for more advanced programmers]** Those of you who know some programming may be asking \"why don't we just use a for-loop?\". That is a good question and one answer is that we wanted to introduce while-loops first. Anotehr answer is that for the first few examples (e.g., print the first 5 perfect squares) you probably would use a for-loop. But once we wanted to print out all the squares less than some value, we no longer know how many times we want to loop. We want to loop until some condition is false - and this is exactly what while-loops are for."
   ]
  },
  {
   "cell_type": "markdown",
   "metadata": {},
   "source": [
    "<a id='section3'></a>\n",
    "## 3. Back to User Input\n",
    "Now, let's go back to our user input example.\n",
    "\n",
    "How can you use a while-loop to keep asking the user the question until they answer 'y' or 'n'?\n",
    "\n",
    "Let's start with some of the code we wrote above. How are we going to adapt it?"
   ]
  },
  {
   "cell_type": "code",
   "execution_count": null,
   "metadata": {},
   "outputs": [],
   "source": [
    "answer = input(\"Do you think the Toronto Maple Leafs will win the Stanley Cup in your lifetime? (y/n): \")\n",
    "\n",
    "if answer == 'y':\n",
    "    print(\"You are going to live for a very long time.\")\n",
    "elif answer == 'n':\n",
    "    print(\"Well, sometimes miracles happen.\")\n",
    "else:\n",
    "    print(\"Sorry, that was not one of the options.\")"
   ]
  },
  {
   "cell_type": "code",
   "execution_count": null,
   "metadata": {},
   "outputs": [],
   "source": [
    "answer = input(\"Do you think the Toronto Maple Leafs will win the Stanley Cup in your lifetime? (y/n): \")\n",
    "\n",
    "while answer != 'y' and answer != 'n':\n",
    "    print(\"Sorry, that was not one of the options.\")\n",
    "    answer = input(\"Do you think the Toronto Maple Leafs will win the Stanley Cup in your lifetime? (y/n): \")\n",
    "    \n",
    "if answer == 'y':\n",
    "    print(\"You are going to live for a very long time.\")\n",
    "else:\n",
    "    print(\"Well, sometimes miracles happen.\")"
   ]
  },
  {
   "cell_type": "markdown",
   "metadata": {},
   "source": [
    "Question: why is it OK to just use an `else` (not an `elif`)?"
   ]
  },
  {
   "cell_type": "markdown",
   "metadata": {},
   "source": [
    "<a id='section4'></a>\n",
    "## 4. Breakout Session 1\n",
    "Wire a code to print all the numbers from 0 to 20 that aren’t divisible by either 3 or 5.\n",
    "\n",
    "Zero is divisible by everything and should not appear in the output."
   ]
  },
  {
   "cell_type": "code",
   "execution_count": null,
   "metadata": {},
   "outputs": [],
   "source": [
    "x = 0\n",
    "while x <= 20:\n",
    "    \n",
    "    # Write your code here\n",
    "    if x % 3 != 0 and x % 5 != 0:\n",
    "        print(x)\n",
    "    \n",
    "    x = x + 1"
   ]
  },
  {
   "cell_type": "markdown",
   "metadata": {},
   "source": [
    "<a id='section5'></a>\n",
    "## 5. A Simple Guessing Game\n",
    "Let's implement a simple guessing game. As follows:\n",
    "- get the computer to choose a random integer from 0 to 100\n",
    "- ask the user for a guess and allow the user to input a guess or \"q\"\n",
    "- if the user inputs \"q\" print a nice message and end the program\n",
    "- if the user enters a guess, tell them if they should guess higher, lower, or if they got it right\n",
    "- if they got it right, print a nice message and quit\n",
    "\n",
    "Remember to write it step-by-step, testing on the way.\n",
    "\n",
    "Hint: import the `random` module and use the `randint` function to generate the number."
   ]
  },
  {
   "cell_type": "code",
   "execution_count": 5,
   "metadata": {},
   "outputs": [
    {
     "name": "stdout",
     "output_type": "stream",
     "text": [
      "48\n"
     ]
    }
   ],
   "source": [
    "import random\n",
    "\n",
    "num_to_guess = random.randint(0, 100)\n",
    "print(num_to_guess)"
   ]
  },
  {
   "cell_type": "code",
   "execution_count": null,
   "metadata": {},
   "outputs": [],
   "source": [
    "import random\n",
    "\n",
    "num_min = 0\n",
    "num_max = 100\n",
    "num_to_guess = random.randint(num_min,num_max)\n",
    "#print(num_to_guess)\n",
    "\n",
    "guess = input(\"Guess a number between \" + str(num_min) + \" and \" + str(num_max) + \" inclusive. ('q' to end): \")\n",
    "while guess != 'q':\n",
    "    print(\"You guessed: \", guess)\n",
    "    guess = input(\"Guess a number between \" + str(num_min) + \" and \" + str(num_max) + \" inclusive. ('q' to end): \")"
   ]
  },
  {
   "cell_type": "code",
   "execution_count": null,
   "metadata": {},
   "outputs": [],
   "source": [
    "import random\n",
    "\n",
    "num_min = 0\n",
    "num_max = 100\n",
    "num_to_guess = random.randint(num_min,num_max)\n",
    "#print(num_to_guess)\n",
    "\n",
    "guess = input(\"Guess a number between \" + str(num_min) + \" and \" + str(num_max) + \" inclusive. ('q' to end): \")\n",
    "while guess != 'q':\n",
    "    print(\"You guessed: \", guess)\n",
    "    guess_int = int(guess) \n",
    "    \n",
    "    if guess_int == num_to_guess:\n",
    "        print(\"Got it!\")\n",
    "    elif guess_int > num_to_guess:\n",
    "        print(\"Lower\")\n",
    "    else:\n",
    "        print(\"Higher\")\n",
    "        \n",
    "    guess = input(\"Guess a number between \" + str(num_min) + \" and \" + str(num_max) + \" inclusive. ('q' to end): \")"
   ]
  },
  {
   "cell_type": "markdown",
   "metadata": {},
   "source": [
    "OK works pretty well but asks again for a guess at the end of the game which doesn't make much sense. What can we do? We only want to ask for a guess if the user hasn't found the right number. This suggests that we should re-organize the if-statement."
   ]
  },
  {
   "cell_type": "code",
   "execution_count": null,
   "metadata": {},
   "outputs": [],
   "source": [
    "import random\n",
    "\n",
    "num_min = 0\n",
    "num_max = 100\n",
    "num_to_guess = random.randint(num_min,num_max)\n",
    "#print(num_to_guess)\n",
    "\n",
    "guess = input(\"Guess a number between \" + str(num_min) + \" and \" + str(num_max) + \" inclusive. ('q' to end): \")\n",
    "while guess != 'q':\n",
    "    print(\"You guessed: \", guess)\n",
    "    guess_int = int(guess) \n",
    "    \n",
    "    if guess_int == num_to_guess:\n",
    "        print(\"You got it!\")\n",
    "    else:\n",
    "        if guess_int > num_to_guess:\n",
    "            print(\"Lower\")\n",
    "        else:\n",
    "            print(\"Higher\")\n",
    "        \n",
    "        guess = input(\"Guess a number between \" + str(num_min) + \" and \" + str(num_max) + \" inclusive. ('q' to end): \")\n"
   ]
  },
  {
   "cell_type": "markdown",
   "metadata": {},
   "source": [
    "Can someone explain what is going on?\n",
    "\n",
    "This is a common bug with loops. And we'll come back to this in the next lecture."
   ]
  }
 ],
 "metadata": {
  "kernelspec": {
   "display_name": "Python 3 (ipykernel)",
   "language": "python",
   "name": "python3"
  },
  "language_info": {
   "codemirror_mode": {
    "name": "ipython",
    "version": 3
   },
   "file_extension": ".py",
   "mimetype": "text/x-python",
   "name": "python",
   "nbconvert_exporter": "python",
   "pygments_lexer": "ipython3",
   "version": "3.7.11"
  }
 },
 "nbformat": 4,
 "nbformat_minor": 1
}
