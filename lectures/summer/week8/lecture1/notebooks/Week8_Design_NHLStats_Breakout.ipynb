{
 "cells": [
  {
   "cell_type": "markdown",
   "metadata": {
    "pycharm": {
     "name": "#%% md\n"
    }
   },
   "source": [
    "## Problem Background\n",
    "\n",
    "A lot of introductory problems in this course can be seen as impractical due to their lack of application to everyday life. Here, we try to show how, using real world data, coding can be fun! In many data-focused jobs or applications, CSV files are used to store large matrices and sets of data. In these files, each column generally represents a piece of data. Here, we are looking at data from the National Hockey League (NHL) that contains the past head-to-head (H2H) information of teams since the beginning of the league (with modified names). But, we are not interested in ANY team - we are interested in the best hockey team of all time: the Toronto Maple Leafs. Your goal is to read this data file containing the Leafs' H2H record against other teams and be able to make an application where search for a team  and determine their head-to-head record and information regarding these match ups that are also contained in the CSV file."
   ]
  },
  {
   "cell_type": "markdown",
   "metadata": {
    "pycharm": {
     "name": "#%% md\n"
    }
   },
   "source": [
    "Let's read in the file:"
   ]
  },
  {
   "cell_type": "code",
   "execution_count": null,
   "metadata": {
    "pycharm": {
     "name": "#%%\n"
    }
   },
   "outputs": [],
   "source": [
    "import csv \n",
    "\n",
    "nhl_data = []\n",
    "with open('TML_WinLoss.csv', 'r') as csvfile:\n",
    "    nhl_stats_reader = csv.reader(csvfile)\n",
    "\n",
    "    for row in nhl_stats_reader:\n",
    "        nhl_data.append(row)\n",
    "\n",
    "for row in nhl_data:\n",
    "    print(row)"
   ]
  },
  {
   "cell_type": "code",
   "execution_count": null,
   "metadata": {},
   "outputs": [],
   "source": [
    "type(nhl_data)"
   ]
  },
  {
   "cell_type": "markdown",
   "metadata": {
    "pycharm": {
     "name": "#%% md\n"
    }
   },
   "source": [
    "With all this data, we want to be able to search for a team in this database of teams. Which data structure have we learned that might be best for this?"
   ]
  },
  {
   "cell_type": "code",
   "execution_count": null,
   "metadata": {
    "pycharm": {
     "name": "#%%\n"
    }
   },
   "outputs": [],
   "source": [
    " # Get the teams from the user and store them in a set\n",
    "team_set = set()\n",
    "\n",
    "team = input(\"Enter a team name (type exit to end): \")\n",
    "while team != \"exit\":\n",
    "    team_set.add(team)\n",
    "    team = input(\"Enter a team name (type exit to end): \")\n",
    "\n",
    "print(team_set)"
   ]
  },
  {
   "cell_type": "markdown",
   "metadata": {},
   "source": [
    "One awkward thing about this code is that we have to write the user prompt twice. And so if we want to change it, we need to remember to do it twice. We can get around this with a variable."
   ]
  },
  {
   "cell_type": "code",
   "execution_count": null,
   "metadata": {
    "pycharm": {
     "name": "#%%\n"
    }
   },
   "outputs": [],
   "source": [
    "# Get the teams from the user and store them in a set\n",
    "team_set = set()\n",
    "\n",
    "prompt = \"Enter a team name (type exit to end):  \"\n",
    "\n",
    "team = input(prompt)\n",
    "while team != \"exit\":\n",
    "    team_set.add(team)\n",
    "    team = input(prompt)\n",
    "\n",
    "print(team_set)"
   ]
  },
  {
   "cell_type": "markdown",
   "metadata": {
    "pycharm": {
     "name": "#%% md\n"
    }
   },
   "source": [
    "The question initially asked us to search for a team and print out their H2H information against the Leafs and some other info. Let's code for the wins, losses, ties, if they lost in overtimes, and games played. If they played no games against each other ever, then print \"No games played\".\n",
    "\n",
    "A pseudo-code plan might look like:"
   ]
  },
  {
   "cell_type": "code",
   "execution_count": null,
   "metadata": {
    "pycharm": {
     "name": "#%%\n"
    }
   },
   "outputs": [],
   "source": [
    "for team_name in team_set:\n",
    "    # search for team_name in NHL data\n",
    "    # if found - print out wins, losses, games played\n",
    "    # else - print out \"No games played\""
   ]
  },
  {
   "cell_type": "markdown",
   "metadata": {
    "pycharm": {
     "name": "#%% md\n"
    }
   },
   "source": [
    "It might be wise to have a function that prints everything for us nicely since we are accessing so much data from the CSV"
   ]
  },
  {
   "cell_type": "code",
   "execution_count": null,
   "metadata": {
    "pycharm": {
     "name": "#%%\n"
    }
   },
   "outputs": [],
   "source": [
    "#works if we know the index or row number of the team in CSV\n",
    "def print_headtohead(data, index):\n",
    "    '''\n",
    "    (list of lists, int) -> None\n",
    "    '''\n",
    "    # display showing Team name, games played, wins, losses, ties, overtime losses\n",
    "    print(\"Team Name:\",data[index][1], \"Games played:\",\n",
    "          data[index][2], \"Wins:\", data[index][3], \"Losses:\", data[index][4], \"Ties: \", data[index][5], \"Overtime Losses: \",data[index][6])\n"
   ]
  },
  {
   "cell_type": "markdown",
   "metadata": {},
   "source": [
    "# BREAKOUT SESSION\n",
    "\n",
    "Generalize the previous function so you only need to know the name of the team instead of needing to know the index.\n",
    "\n",
    "The function should now take in a list of lists and the string representing a team name instead of its index, without changing our print statement.\n"
   ]
  },
  {
   "cell_type": "code",
   "execution_count": null,
   "metadata": {},
   "outputs": [],
   "source": [
    "def print_headtohead(data, team):\n",
    "    '''\n",
    "    (list of lists, str) -> None\n",
    "    '''\n",
    "    \n",
    "    ...\n",
    "    \n",
    "    "
   ]
  },
  {
   "cell_type": "markdown",
   "metadata": {},
   "source": [
    "Test case below:"
   ]
  },
  {
   "cell_type": "code",
   "execution_count": null,
   "metadata": {
    "scrolled": true
   },
   "outputs": [],
   "source": [
    "print_headtohead(nhl_data, \"Winnipeg Jets\")"
   ]
  },
  {
   "cell_type": "markdown",
   "metadata": {},
   "source": [
    "# BREAKOUT SESSION ROUND 2\n",
    "\n",
    "Now generalize it even further, so the function can take in an entire set of team names, not just one.  It should print the Team's Head to Head data for each team in the set"
   ]
  },
  {
   "cell_type": "code",
   "execution_count": null,
   "metadata": {},
   "outputs": [],
   "source": [
    "def print_headtohead(data, team_set):\n",
    "    '''\n",
    "    (list of lists, set) -> None\n",
    "    '''\n",
    "    \n",
    "    ...\n",
    "    \n",
    "    "
   ]
  },
  {
   "cell_type": "markdown",
   "metadata": {},
   "source": [
    "Test case below:"
   ]
  },
  {
   "cell_type": "code",
   "execution_count": null,
   "metadata": {},
   "outputs": [],
   "source": [
    "print_headtohead(nhl_data, {\"Winnipeg Jets\", \"Anaheim Ducks\"})"
   ]
  },
  {
   "cell_type": "code",
   "execution_count": null,
   "metadata": {},
   "outputs": [],
   "source": [
    "for team in team_set:\n",
    "    index = 0\n",
    "    for i in nhl_data:\n",
    "        if team in i:\n",
    "            print_headtohead(nhl_data, index)\n",
    "        else:\n",
    "            index += 1"
   ]
  },
  {
   "cell_type": "code",
   "execution_count": null,
   "metadata": {},
   "outputs": [],
   "source": [
    "team = list(team_set)[0]\n",
    "print_headtohead(nhl_data,1)"
   ]
  },
  {
   "cell_type": "markdown",
   "metadata": {
    "pycharm": {
     "name": "#%% md\n"
    }
   },
   "source": [
    "So, how can we sort through the set? One way might be:"
   ]
  },
  {
   "cell_type": "code",
   "execution_count": null,
   "metadata": {
    "pycharm": {
     "name": "#%%\n"
    }
   },
   "outputs": [],
   "source": [
    "'''\n",
    "for team in team_set:\n",
    "    print(\"Head to Head for: \", team)\n",
    "    for lst in nhl_data:\n",
    "        if team in lst:\n",
    "            print_headtohead(nhl_data, team_set)\n",
    "        else:\n",
    "            print(\"No Head to Head for: \", lst[1])\n",
    "'''"
   ]
  },
  {
   "cell_type": "code",
   "execution_count": null,
   "metadata": {
    "pycharm": {
     "name": "#%%\n"
    }
   },
   "outputs": [],
   "source": [
    "#alternate solution for looping through the set and \n",
    "#using a print_headtohead version that takes in one string at a time\n",
    "\n",
    "nhl_team_index = 1\n",
    "for team in team_set:\n",
    "    print(\"Head to Head for: \", team)\n",
    "    found_team = False        # this is the \"flag\"\n",
    "    for lst in nhl_data:\n",
    "        if lst[nhl_team_index] == team:\n",
    "            print_headtohead(nhl_data, lst[nhl_team_index])\n",
    "            found_team = True\n",
    "\n",
    "        #else:   # if the flag hasn't been reset, then we didn't find the team\n",
    "            #print(\"No Head to Head for: \", team)\n"
   ]
  },
  {
   "cell_type": "markdown",
   "metadata": {
    "pycharm": {
     "name": "#%% md\n"
    }
   },
   "source": [
    "As problems have multiple solutions: Let's think of another data structure we can use:"
   ]
  },
  {
   "cell_type": "markdown",
   "metadata": {},
   "source": [
    "# Breakout Session 3\n",
    "\n",
    "For fun, let's convert our list of lists to a dictionary"
   ]
  },
  {
   "cell_type": "code",
   "execution_count": null,
   "metadata": {
    "pycharm": {
     "name": "#%%\n"
    },
    "scrolled": true
   },
   "outputs": [],
   "source": [
    "# Data Structure Design #2. Store the H2H data in a dict\n",
    "# key is team name : the value will be a list of stats\n",
    "\n",
    "def nhl_to_dict(nhl_list):\n",
    "    \"\"\" (list of lists) -> (dict of lists)\n",
    "    creates a dict from nhl_data with key being the team name\n",
    "    and the value being the list of lists of data for each team\n",
    "    \"\"\"\n",
    "    \n",
    "    ...\n"
   ]
  },
  {
   "cell_type": "markdown",
   "metadata": {},
   "source": [
    "Test case below:"
   ]
  },
  {
   "cell_type": "code",
   "execution_count": null,
   "metadata": {},
   "outputs": [],
   "source": [
    "nhl_dict = nhl_to_dict(nhl_data[1:])\n",
    "print(nhl_dict)\n",
    "\n",
    "#print(\"{\" + \"\\n\".join(\"{!r}: {!r},\".format(k, v) for k, v in nhl_dict.items()) + \"}\")"
   ]
  },
  {
   "cell_type": "markdown",
   "metadata": {},
   "source": [
    "So let's pause and think about this solution.\n",
    "\n",
    "What is good about it?\n",
    "\n",
    "What is bad about it?\n",
    "\n",
    "Brainstorm: what data structures might fix some of the problems?"
   ]
  },
  {
   "cell_type": "code",
   "execution_count": null,
   "metadata": {
    "pycharm": {
     "name": "#%%\n"
    }
   },
   "outputs": [],
   "source": [
    "for team in team_set:\n",
    "    if team in nhl_dict:\n",
    "        print(\"Head to Head for\", team)\n",
    "        for i in range (len(nhl_data)):\n",
    "            if nhl_data[i][nhl_team_index] == team:\n",
    "                print_headtohead(nhl_data, team)"
   ]
  },
  {
   "cell_type": "markdown",
   "metadata": {
    "pycharm": {
     "name": "#%% md\n"
    }
   },
   "source": [
    "## Programming Plan: Step 4: Translate NHL data to our data structure.\n",
    "\n",
    "Happily, this is almost done already since we did it in figuring out the previous step. Is there anything we want to change about this code? What don't you like?"
   ]
  },
  {
   "cell_type": "code",
   "execution_count": null,
   "metadata": {
    "pycharm": {
     "name": "#%%\n"
    }
   },
   "outputs": [],
   "source": [
    "def nhl_to_dict(nhl_list):\n",
    "    \"\"\" (list of lists) -> (dict of lists)\n",
    "    creates a dict from nhl_data with key being the team name\n",
    "    and the value being the list of data for each team\n",
    "    \"\"\"\n",
    "\n",
    "    team_dict = {}\n",
    "    for team in nhl_list:\n",
    "        '''\n",
    "        if team[1] in team_dict:\n",
    "            team_dict[team[1]].append(team)\n",
    "        else:\n",
    "            team_dict[team[1]] = [team]\n",
    "        '''\n",
    "        team_dict[team[1]] = team\n",
    "\n",
    "    return team_dict"
   ]
  },
  {
   "cell_type": "markdown",
   "metadata": {},
   "source": [
    "## Programming Plan: Step 5: Implement search for teams in the file\n",
    "\n",
    "How do we search for team information in the file?"
   ]
  },
  {
   "cell_type": "code",
   "execution_count": null,
   "metadata": {
    "pycharm": {
     "name": "#%%\n"
    }
   },
   "outputs": [],
   "source": [
    "for team in team_set:\n",
    "    print(team_set)\n",
    "    if team in nhl_dict:\n",
    "        print(\"Head to Head for\", team)\n",
    "        print_headtohead(nhl_data, team)\n",
    "        "
   ]
  },
  {
   "cell_type": "markdown",
   "metadata": {},
   "source": [
    "\n",
    "# Select a Solution\n",
    "\n",
    "As is common, we had to write code to figure out how to solve the problem. That is fine and normal. What we need to be careful of is assuming that our first solution is the best. Ask some questions:\n",
    "* Is this the most efficient way to solve this problem?\n",
    "* What are the weaknesses of the code?\n",
    "* Can the code be improved?\n",
    "* Are there other data structures that should be considered? For example, what if each house was not represented by a dictionary but by a list or a tuple?\n",
    "\n",
    "Let's put it all together."
   ]
  },
  {
   "cell_type": "code",
   "execution_count": null,
   "metadata": {
    "pycharm": {
     "is_executing": true,
     "name": "#%%\n"
    }
   },
   "outputs": [],
   "source": [
    "import csv\n",
    "\n",
    "def print_headtohead(data, index, team_index):\n",
    "\n",
    "    print(\"Team Name:\",data[index][team_index], \"Games played:\",\n",
    "          data[index][team_index+1], \"Wins:\", data[index][team_index+2], \"Losses:\", data[index][team_index+3], \"Ties: \", data[index][team_index+4], \"Overtime Losses: \",data[index][team_index+5])\n",
    "\n",
    "\n",
    "def nhl_to_dict(nhl_list):\n",
    "    \"\"\" (list of lists) -> (dict of list of lists)\n",
    "    creates a dict from nhl_list with key being the street name\n",
    "    and the value being the list of lists of data for each team\n",
    "    on the street\n",
    "    \"\"\"\n",
    "\n",
    "    team_dict = {}\n",
    "    for team in nhl_list:\n",
    "        if team[1] in team_dict:\n",
    "            team_dict[team[1]].append(team)\n",
    "        else:\n",
    "            team_dict[team[1]] = [team]\n",
    "\n",
    "    return team_dict\n",
    "\n",
    "nhl_dict = nhl_to_dict(nhl_data[1:])\n",
    "\n",
    "#print(nhl_dict)\n",
    "\n",
    "\n",
    "# read in the database\n",
    "nhl_data = []\n",
    "with open('TML_WinLoss.csv', 'r') as csvfile:\n",
    "    nhl_stats_reader = csv.reader(csvfile)\n",
    "\n",
    "    for row in nhl_stats_reader:\n",
    "        nhl_data.append(row)\n",
    "\n",
    "\n",
    "\n",
    "# Get the teams from the user and store them in a set\n",
    "\n",
    "team_set = set()\n",
    "prompt = \"Enter a team name (type exit to end):  \"\n",
    "\n",
    "team = input(prompt)\n",
    "while team != \"exit\":\n",
    "    team_set.add(team)\n",
    "    team = input(prompt)\n",
    "\n",
    "#print(team_set)\n",
    "\n",
    "for team in team_set:\n",
    "    if team in nhl_dict:\n",
    "        print(\"Head to Head for\", team)\n",
    "        for i in range (len(nhl_data)):\n",
    "            if nhl_data[i][nhl_team_index] == team:\n",
    "                print_headtohead(nhl_data, i, nhl_team_index)"
   ]
  },
  {
   "cell_type": "markdown",
   "metadata": {},
   "source": [
    "Is there anything we might want to fix-up? Any functions that we should write?\n",
    "\n",
    "There are a number of sections of code that could usefully go into a function in order to make the code more readable."
   ]
  },
  {
   "cell_type": "code",
   "execution_count": null,
   "metadata": {
    "pycharm": {
     "name": "#%%\n"
    }
   },
   "outputs": [],
   "source": [
    "import csv\n",
    "\n",
    "def print_headtohead(data, team_set):\n",
    "    '''\n",
    "    (list of lists, set) -> None\n",
    "    '''\n",
    "    for team in team_set:\n",
    "        index = 0\n",
    "        for lst in data:\n",
    "            if team in lst:\n",
    "                # display showing Team name, games played, wins, losses, ties, overtime losses\n",
    "                print(\"Team Name:\",data[index][1], \"Games played:\",\n",
    "                      data[index][2], \"Wins:\", data[index][3], \"Losses:\", data[index][4], \"Ties: \", data[index][5], \"Overtime Losses: \",data[index][6])\n",
    "            else:\n",
    "                index += 1\n",
    "                \n",
    "\n",
    "def nhl_to_dict(nhl_list):\n",
    "    \"\"\" (list of lists) -> (dict of list of lists)\n",
    "    creates a dict from nhl_list with key being the team name\n",
    "    and the value being the list of lists of data for each team\n",
    "    \"\"\"\n",
    "\n",
    "    team_dict = {}\n",
    "    for team in nhl_list:\n",
    "        if team[1] in team_dict:\n",
    "            team_dict[team[1]].append(team)\n",
    "        else:\n",
    "            team_dict[team[1]] = [team]\n",
    "\n",
    "    return team_dict\n",
    "\n",
    "def get_nhl_data(filename):\n",
    "    '''\n",
    "    (str)->list of lists of string\n",
    "    Opens <filename> as a CSV file, reads in each row and returns the list of rows\n",
    "    '''\n",
    "\n",
    "    # read in the database\n",
    "    nhl_data = []\n",
    "    with open('TML_WinLoss.csv', 'r') as file:\n",
    "        nhl_stats_reader = csv.reader(file)\n",
    "\n",
    "        for row in nhl_stats_reader:\n",
    "            nhl_data.append(row)\n",
    "    #print(nhl_data)\n",
    "    return nhl_data\n",
    "\n",
    "\n",
    "def get_team_queries():\n",
    "    '''\n",
    "    None -> set of strings\n",
    "    Prompts user to enter team names to query database\n",
    "    '''\n",
    "    team_set = set()\n",
    "\n",
    "    team = input(\"Enter a team name in the format of 'City Mascot' (e.g., 'Montreal Canadiens') (type exit to end): \")\n",
    "    while team != \"exit\":\n",
    "        team_set.add(team)\n",
    "        team = input(\"Enter a team name in the format of 'City Mascot' (e.g., 'Montreal Canadiens') (type exit to end): \")\n",
    "\n",
    "    return team_set\n",
    "\n",
    "'''\n",
    "def process_queries(teams, nhl_data):\n",
    "    \n",
    "    #(set of str, dictionary of lists of list) -> None\n",
    "    #Looks up each entry in teams CSV and prints the team info or an error message\n",
    "    \n",
    "    for team in team_set:\n",
    "        if team in nhl_dict:\n",
    "            print(\"Head to Head for\", team)\n",
    "            for i in range (len(nhl_data)):\n",
    "                if nhl_data[i][nhl_team_index] == team:\n",
    "                    print_headtohead(nhl_data, team)\n",
    "'''\n",
    "\n",
    "                    \n",
    "# *** Main code ***\n",
    "\n",
    "# Read in NHL data\n",
    "nhl_data = get_nhl_data(\"TML_WinLoss.csv\")\n",
    "\n",
    "# Convert to dictionary (if we want to)\n",
    "#nhl_dict = nhl_to_dict(nhl_data[1:])\n",
    "\n",
    "# Get the teams from the user and store them in a set\n",
    "team_set = get_team_queries()\n",
    "\n",
    "# Run the queries on the NHL CSV\n",
    "print_headtohead(nhl_data, team_set)\n",
    "\n",
    "#Can you write the code that would determine who won the most?\n"
   ]
  },
  {
   "cell_type": "markdown",
   "metadata": {},
   "source": [
    "# Challenge: \n",
    "### Write the code that would determine who has the highest winning percentage against the leafs"
   ]
  },
  {
   "cell_type": "code",
   "execution_count": null,
   "metadata": {},
   "outputs": [],
   "source": []
  }
 ],
 "metadata": {
  "kernelspec": {
   "display_name": "Python 3 (ipykernel)",
   "language": "python",
   "name": "python3"
  },
  "language_info": {
   "codemirror_mode": {
    "name": "ipython",
    "version": 3
   },
   "file_extension": ".py",
   "mimetype": "text/x-python",
   "name": "python",
   "nbconvert_exporter": "python",
   "pygments_lexer": "ipython3",
   "version": "3.9.7"
  }
 },
 "nbformat": 4,
 "nbformat_minor": 1
}
