{
 "cells": [
  {
   "cell_type": "code",
   "execution_count": null,
   "id": "96d1b536",
   "metadata": {},
   "outputs": [],
   "source": [
    "class Cat:\n",
    "    \n",
    "    def __init__(self,name_param='unknown', colour='unknown', hair='unknown'):\n",
    "        \n",
    "        self.name = name_param\n",
    "        self.colour = colour\n",
    "        self.hair = hair\n",
    "        \n",
    "    def meow(self):\n",
    "        \n",
    "        print('meow')\n",
    "    \n",
    "    def append(self):\n",
    "        \n",
    "        print('zzzzz')\n",
    "    \n",
    "    def eat(self):\n",
    "        \n",
    "        print('nomnom')\n",
    "\n",
    "        #attributes\n",
    "        #classes in classes"
   ]
  },
  {
   "cell_type": "code",
   "execution_count": null,
   "id": "65ba3d0c",
   "metadata": {},
   "outputs": [],
   "source": [
    "s = Cat('susie','purple')\n",
    "c = Cat('catonio','orange')\n",
    "\n",
    "\n",
    "print(s.name)\n",
    "s.meow()"
   ]
  },
  {
   "cell_type": "code",
   "execution_count": null,
   "id": "c998bfd4",
   "metadata": {
    "scrolled": true
   },
   "outputs": [],
   "source": [
    "#s.eat()\n",
    "\n",
    "s.hair = 'longhair'\n",
    "\n",
    "print(s.hair)\n",
    "\n",
    "#print('hello', '',sep = ' ', end = '')\n",
    "print('hi', 'hello', 'goodbye')\n",
    "print('jasmine')"
   ]
  },
  {
   "cell_type": "code",
   "execution_count": null,
   "id": "5fdfe594",
   "metadata": {},
   "outputs": [],
   "source": [
    "class CatPark:\n",
    "    \n",
    "    def __init__(self, name_param):\n",
    "        \n",
    "        self.name = name_param\n",
    "        \n",
    "        #population is a dictionary of Cat objects\n",
    "        #{<name>:<cat_object>,...}\n",
    "        self.population = {}\n",
    "        \n",
    "    \n",
    "    def __str__(self):\n",
    "        \n",
    "        my_string = ''\n",
    "        \n",
    "        for cat in self.population:\n",
    "            \n",
    "            my_string = my_string + ' ' + self.population[cat].colour\n",
    "            \n",
    "        return my_string\n",
    "        \n",
    "    \n",
    "    def cat_arrival(self, cat):\n",
    "        \n",
    "        self.population[cat.name] = cat\n",
    "        #self.population['susie'] = s\n",
    "        \n",
    "        print(cat.name + \" has arrived!\")\n",
    "        \n",
    "    \n",
    "    def special_print(self):\n",
    "        \n",
    "        print(self.name + \"is the best\")\n",
    "        \n",
    "        \n",
    "#help(open)       "
   ]
  },
  {
   "cell_type": "code",
   "execution_count": null,
   "id": "2a300354",
   "metadata": {},
   "outputs": [],
   "source": [
    "s = Cat('susie','purple')\n",
    "c = Cat('catonio','orange')\n",
    "\n",
    "cat_land = CatPark('Cat Land')\n",
    "\n",
    "#new cat shows up\n",
    "cat_land.cat_arrival(s)\n",
    "cat_land.cat_arrival(c)\n",
    "\n",
    "print(cat_land)"
   ]
  },
  {
   "cell_type": "code",
   "execution_count": null,
   "id": "f1e8f5fa",
   "metadata": {},
   "outputs": [],
   "source": [
    "cat_land.population['susie']"
   ]
  },
  {
   "cell_type": "code",
   "execution_count": null,
   "id": "b4982c15",
   "metadata": {},
   "outputs": [],
   "source": [
    "cat_land.special_print()"
   ]
  },
  {
   "cell_type": "code",
   "execution_count": null,
   "id": "59076dd6",
   "metadata": {},
   "outputs": [],
   "source": [
    "s.mood.append('happy')"
   ]
  },
  {
   "cell_type": "code",
   "execution_count": null,
   "id": "5badd6cf",
   "metadata": {},
   "outputs": [],
   "source": [
    "print(s)"
   ]
  },
  {
   "cell_type": "code",
   "execution_count": null,
   "id": "12faf214",
   "metadata": {},
   "outputs": [],
   "source": [
    "c.mood"
   ]
  },
  {
   "cell_type": "code",
   "execution_count": null,
   "id": "d1342891",
   "metadata": {},
   "outputs": [],
   "source": [
    "x = Cat()\n",
    "print(x.colour)"
   ]
  },
  {
   "cell_type": "code",
   "execution_count": null,
   "id": "b940fb6b",
   "metadata": {},
   "outputs": [],
   "source": [
    "data_structure1 = 'aps106'\n",
    "data_structure2 = ['a','p','s',1,0,6]\n",
    "data_structure3 = ('a','p','s',1,0,6)\n",
    "data_structure4 = {'a','p','s',1,0,6}\n",
    "data_structure5 = {'a':1,'p':0,'s':6}\n",
    "\n",
    "#printing\n",
    "print(data_structure1)\n",
    "print(data_structure2)\n",
    "print(data_structure3)\n",
    "print(data_structure4)\n",
    "print(data_structure5)"
   ]
  },
  {
   "cell_type": "code",
   "execution_count": null,
   "id": "e75e057e",
   "metadata": {},
   "outputs": [],
   "source": [
    "#length\n",
    "print(len(data_structure1))\n",
    "#print(len(data_structure2))\n",
    "#print(len(data_structure3))\n",
    "#print(len(data_structure4))\n",
    "#print(len(data_structure5))"
   ]
  },
  {
   "cell_type": "code",
   "execution_count": null,
   "id": "37c006b1",
   "metadata": {},
   "outputs": [],
   "source": [
    "#accessing\n",
    "print(data_structure1[0])\n",
    "#print(data_structure2[1])\n",
    "#print(data_structure3[2])\n",
    "#print(data_structure4[3])\n",
    "#print(data_structure5[4])"
   ]
  },
  {
   "cell_type": "code",
   "execution_count": null,
   "id": "c133f00b",
   "metadata": {},
   "outputs": [],
   "source": [
    "#modifying\n",
    "data_structure1[0] = 1\n",
    "#data_structure2[0] = 1\n",
    "#data_structure3[0] = 1\n",
    "#data_structure4[0] = 1\n",
    "#data_structure5[0] = 1"
   ]
  },
  {
   "cell_type": "code",
   "execution_count": null,
   "id": "f1b155af",
   "metadata": {},
   "outputs": [],
   "source": [
    "#mutating\n",
    "data_structure1 = data_structure1.upper()\n",
    "print(data_structure1)\n",
    "data_structure2.append(54)\n",
    "#print(data_structure2)\n",
    "data_structure3 += (1,2,3)\n",
    "#print(data_structure3)"
   ]
  },
  {
   "cell_type": "code",
   "execution_count": null,
   "id": "da15f8d4",
   "metadata": {},
   "outputs": [],
   "source": [
    "#accessing\n",
    "data_structure1[0]\n",
    "#data_structure2[0]\n",
    "#data_structure3[0]\n",
    "#data_structure4[0]\n",
    "#data_structure5['a']"
   ]
  },
  {
   "cell_type": "code",
   "execution_count": null,
   "id": "44858292",
   "metadata": {},
   "outputs": [],
   "source": [
    "print(data_structure5.values())\n",
    "print(data_structure5.keys())\n",
    "print(data_structure5.items())"
   ]
  },
  {
   "cell_type": "code",
   "execution_count": null,
   "id": "764d7902",
   "metadata": {
    "scrolled": true
   },
   "outputs": [],
   "source": [
    "my_set = {'n','o','m','n','o','m'}\n",
    "print(len(my_set))"
   ]
  },
  {
   "cell_type": "code",
   "execution_count": null,
   "id": "a7b71b92",
   "metadata": {},
   "outputs": [],
   "source": [
    "print(len(my_set.union({'f','o','o','d'})))\n",
    "print(my_set)"
   ]
  },
  {
   "cell_type": "code",
   "execution_count": null,
   "id": "afd36690",
   "metadata": {},
   "outputs": [],
   "source": [
    "print(my_set)\n",
    "my_set.add(1)\n",
    "print(my_set)"
   ]
  },
  {
   "cell_type": "code",
   "execution_count": null,
   "id": "d5108a86",
   "metadata": {},
   "outputs": [],
   "source": [
    "print(my_set)\n",
    "my_set.union({'f','o','o','d'})\n",
    "print(my_set)"
   ]
  },
  {
   "cell_type": "code",
   "execution_count": null,
   "id": "2f3c628b",
   "metadata": {},
   "outputs": [],
   "source": [
    "print(my_set)\n",
    "my_set.update({'f','o','o','d'})\n",
    "print(my_set)"
   ]
  },
  {
   "cell_type": "code",
   "execution_count": null,
   "id": "5299ccdd",
   "metadata": {},
   "outputs": [],
   "source": [
    "def some_func(container):\n",
    "    \n",
    "    #prints the value of container at the beginning of function\n",
    "    print('before add:', container)\n",
    "    \n",
    "    #add 5 to the data structure or container\n",
    "    container += 5\n",
    "    \n",
    "    #prints the value of container at the end of function\n",
    "    print('after add:', container)\n",
    "    \n",
    "cont = 5\n",
    "#cont = '1234'\n",
    "#cont = {1,2,3,4}\n",
    "#cont = (1,2,3,4)\n",
    "#cont = [1,2,3,4]\n",
    "#cont = {1:'a',2:'b',3:'c',4:'d'}\n",
    "some_func(cont)\n",
    "print('after func:', cont)"
   ]
  },
  {
   "cell_type": "code",
   "execution_count": null,
   "id": "379b3554",
   "metadata": {},
   "outputs": [],
   "source": [
    "#Custom Class - using self and __str__ method.  Classes within classes.\n",
    "\n",
    "class Student:\n",
    "    \n",
    "    def __init__(self, name):\n",
    "        \n",
    "        self.name = name\n",
    "\n"
   ]
  },
  {
   "cell_type": "code",
   "execution_count": null,
   "id": "5aa5ad61",
   "metadata": {},
   "outputs": [],
   "source": [
    "class Skule:\n",
    "    \n",
    "    def __init__(self, president, vp):\n",
    "        \n",
    "        self.president = president #of class Student\n",
    "        self.vp = vp\n",
    "        \n",
    "    "
   ]
  },
  {
   "cell_type": "code",
   "execution_count": null,
   "id": "9d19e453",
   "metadata": {},
   "outputs": [],
   "source": [
    "import csv \n",
    "\n",
    "def load_data(filename): \n",
    "    '''(str) -> {str : {str, str, ...}} \n",
    "    Input: a string specifying the CSV filename \n",
    "    Output: a dictionary with employee names as keys and a software    \n",
    "    expertise as values \n",
    "    '''     \n",
    "\n",
    "    # starter code to open and read from a csv file \n",
    "    with open(filename, 'r') as csvfile: \n",
    "        project_file = csv.reader(csvfile)\n",
    "        \n",
    "        \n",
    "    ...    \n",
    "        \n",
    "projects = load_data('projects.csv')\n",
    "print(projects)"
   ]
  },
  {
   "cell_type": "code",
   "execution_count": null,
   "id": "5bb30ebd",
   "metadata": {},
   "outputs": [],
   "source": [
    "def reverse_dictionary(employees): \n",
    "    '''({str : {str, str, ...}}) -> {str : {str, str, ...}} \n",
    "    Input: a dictionary with employee names as keys and a software \n",
    "expertise as values \n",
    "    Output: a dictionary with software as keys and employee names as \n",
    "values \n",
    "    ''' \n",
    "    ...\n",
    "    \n",
    "out = reverse_dictionary(projects)    \n",
    "print(out)"
   ]
  },
  {
   "cell_type": "code",
   "execution_count": null,
   "id": "c3989f7f",
   "metadata": {},
   "outputs": [],
   "source": [
    "def write_data(programs):\n",
    "    '''\n",
    "    write the new dictionary to file where each program (with respective employees) is a new line. \n",
    "    \n",
    "    Example:\n",
    "    Word,Mary,John\n",
    "    Wing101 ,Tom,Mary\n",
    "    Excel ,Mary\n",
    "    PowerPoint ,Sarah,John\n",
    "    SolidWorks,Tom,Sarah\n",
    "    MATLAB,John\n",
    "    '''\n",
    "    \n",
    "    with open('programs.csv','w') as file:\n",
    "        csvfile = csv.writer(file)\n",
    "        \n",
    "        ...\n",
    "            \n",
    "write_data(out)"
   ]
  },
  {
   "cell_type": "code",
   "execution_count": null,
   "id": "27f9865c",
   "metadata": {},
   "outputs": [],
   "source": []
  }
 ],
 "metadata": {
  "kernelspec": {
   "display_name": "Python 3 (ipykernel)",
   "language": "python",
   "name": "python3"
  },
  "language_info": {
   "codemirror_mode": {
    "name": "ipython",
    "version": 3
   },
   "file_extension": ".py",
   "mimetype": "text/x-python",
   "name": "python",
   "nbconvert_exporter": "python",
   "pygments_lexer": "ipython3",
   "version": "3.9.7"
  }
 },
 "nbformat": 4,
 "nbformat_minor": 5
}
