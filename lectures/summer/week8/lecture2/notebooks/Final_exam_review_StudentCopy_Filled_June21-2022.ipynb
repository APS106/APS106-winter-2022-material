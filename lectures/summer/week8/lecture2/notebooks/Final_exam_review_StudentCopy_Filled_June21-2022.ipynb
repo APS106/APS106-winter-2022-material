{
 "cells": [
  {
   "cell_type": "markdown",
   "metadata": {},
   "source": [
    "# Final Exam Review"
   ]
  },
  {
   "cell_type": "markdown",
   "metadata": {
    "pycharm": {
     "name": "#%% md\n"
    }
   },
   "source": [
    "## Question 1"
   ]
  },
  {
   "cell_type": "markdown",
   "metadata": {},
   "source": [
    "![](Q1_Library.png)"
   ]
  },
  {
   "cell_type": "code",
   "execution_count": null,
   "metadata": {
    "pycharm": {
     "name": "#%%\n"
    }
   },
   "outputs": [],
   "source": [
    "class LibraryEmployee:\n",
    "    def __init__(self, name, favourites):\n",
    "        self.name = name\n",
    "        self.favourites = favourites\n",
    "        self.num_coffees = 0\n",
    "    \n",
    "    def drink_coffee(self, num):\n",
    "        self.num_coffees += num\n",
    "    \n",
    "    def shush_hooligans(self, num_hooligans):\n",
    "        for i in range(num_hooligans):\n",
    "            print(\"Shhh!\")\n",
    "            self.drink_coffee(1)\n",
    "        \n",
    "    def __str__(self):\n",
    "        return self.name"
   ]
  },
  {
   "cell_type": "markdown",
   "metadata": {
    "pycharm": {
     "name": "#%% md\n"
    }
   },
   "source": [
    "![](Q2.png)"
   ]
  },
  {
   "cell_type": "code",
   "execution_count": 2,
   "metadata": {
    "pycharm": {
     "name": "#%%\n"
    }
   },
   "outputs": [],
   "source": [
    "import csv\n",
    "\n",
    "def load_inventory(filename):\n",
    "    '''(str) -> dictionary {str : [[int, str], [int, str], ...]}\n",
    "    Input: a string specifying the CSV filename\n",
    "    Output: a dictionary representing the inventory, amounts, and locations\n",
    "    '''\n",
    "    mydict={}\n",
    "    with open(filename, 'r') as csvfile:\n",
    "        reader = csv.reader(csvfile)\n",
    "        \n",
    "        for row in reader:\n",
    "            \n",
    "            if row[0] in mydict:\n",
    "                mydict[row[0]].append([row[1], row[2].split('-')])\n",
    "            \n",
    "            else:\n",
    "                mydict[row[0]] = [row[1], row[2].split('-')]\n",
    "   \n",
    "    print (mydict)\n",
    "    #csvfile.close()\n"
   ]
  },
  {
   "cell_type": "markdown",
   "metadata": {
    "pycharm": {
     "name": "#%% md\n"
    }
   },
   "source": [
    "# Question 3"
   ]
  },
  {
   "cell_type": "markdown",
   "metadata": {
    "pycharm": {
     "name": "#%% md\n"
    }
   },
   "source": [
    "![](Q4.png)"
   ]
  },
  {
   "cell_type": "code",
   "execution_count": null,
   "metadata": {
    "pycharm": {
     "name": "#%%\n"
    }
   },
   "outputs": [],
   "source": [
    "def vectorize(M):\n",
    "    '''(list of lists) -> list\n",
    "    Transforms a two dimensional matrix M into a vector\n",
    "    '''\n",
    "    vector = []\n",
    "    \n",
    "    for list_in_list in M:\n",
    "        for item in list_in_list:\n",
    "            vector.append(item)\n",
    "    \n",
    "    return vector"
   ]
  },
  {
   "cell_type": "markdown",
   "metadata": {
    "pycharm": {
     "name": "#%% md\n"
    }
   },
   "source": [
    "![](Q4b.png)"
   ]
  },
  {
   "cell_type": "code",
   "execution_count": 1,
   "metadata": {
    "pycharm": {
     "name": "#%%\n"
    }
   },
   "outputs": [],
   "source": [
    "def reshape (V, m, n):\n",
    "    '''(list, int, int) -> list of lists\n",
    "    Transforms a vector V into a two dimensional matrix with m rows and n columns. If the vector cannot be reshaped to the dimensions specified by m and n, then print the error message: \n",
    "    'Error: a vector cannot be reshaped to specified dimensions and return an empty list'\n",
    "    '''\n",
    "    list_of_lists = []\n",
    "    \n",
    "    if m * n == len(V):\n",
    "        for i in range(m):\n",
    "            rowList = []\n",
    "            for j in range(n):\n",
    "                # you need to increment through dataList here, like this:\n",
    "                rowList.append(V[m * i + j])\n",
    "            list_of_lists.append(rowList)\n",
    "\n",
    "        return list_of_lists\n",
    "    \n",
    "    else:\n",
    "        return (list_of_lists, (\"Error: vector cannot be reshaped to specified dimensions\"))"
   ]
  },
  {
   "cell_type": "code",
   "execution_count": null,
   "metadata": {},
   "outputs": [],
   "source": []
  }
 ],
 "metadata": {
  "kernelspec": {
   "display_name": "Python 3 (ipykernel)",
   "language": "python",
   "name": "python3"
  },
  "language_info": {
   "codemirror_mode": {
    "name": "ipython",
    "version": 3
   },
   "file_extension": ".py",
   "mimetype": "text/x-python",
   "name": "python",
   "nbconvert_exporter": "python",
   "pygments_lexer": "ipython3",
   "version": "3.8.12"
  }
 },
 "nbformat": 4,
 "nbformat_minor": 1
}
