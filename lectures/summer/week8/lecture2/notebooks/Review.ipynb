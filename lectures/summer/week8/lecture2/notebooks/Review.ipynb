{
 "cells": [
  {
   "cell_type": "code",
   "execution_count": 2,
   "id": "96d1b536",
   "metadata": {},
   "outputs": [],
   "source": [
    "class Cat:\n",
    "    \n",
    "    def __init__(self,name_param='unknown', colour='unknown', hair='unknown'):\n",
    "        \n",
    "        self.name = name_param\n",
    "        self.colour = colour\n",
    "        self.hair = hair\n",
    "        \n",
    "    def meow(self):\n",
    "        \n",
    "        print('meow')\n",
    "    \n",
    "    def append(self):\n",
    "        \n",
    "        print('zzzzz')\n",
    "    \n",
    "    def eat(self):\n",
    "        \n",
    "        print('nomnom')\n",
    "\n",
    "        #attributes\n",
    "        #classes in classes"
   ]
  },
  {
   "cell_type": "code",
   "execution_count": 9,
   "id": "65ba3d0c",
   "metadata": {},
   "outputs": [
    {
     "name": "stdout",
     "output_type": "stream",
     "text": [
      "susie\n",
      "meow\n",
      "65\n"
     ]
    },
    {
     "data": {
      "text/plain": [
       "True"
      ]
     },
     "execution_count": 9,
     "metadata": {},
     "output_type": "execute_result"
    }
   ],
   "source": [
    "s = Cat('susie','purple')\n",
    "c = Cat('catonio','orange')\n",
    "\n",
    "\n",
    "print(s.name)\n",
    "s.meow()"
   ]
  },
  {
   "cell_type": "code",
   "execution_count": 36,
   "id": "c998bfd4",
   "metadata": {
    "scrolled": true
   },
   "outputs": [
    {
     "name": "stdout",
     "output_type": "stream",
     "text": [
      "longhair\n",
      "hi hello goodbye\n",
      "jasmine\n"
     ]
    }
   ],
   "source": [
    "#s.eat()\n",
    "\n",
    "s.hair = 'longhair'\n",
    "\n",
    "print(s.hair)\n",
    "\n",
    "#print('hello', '',sep = ' ', end = '')\n",
    "print('hi', 'hello', 'goodbye')\n",
    "print('jasmine')"
   ]
  },
  {
   "cell_type": "code",
   "execution_count": 20,
   "id": "5fdfe594",
   "metadata": {},
   "outputs": [],
   "source": [
    "class CatPark:\n",
    "    \n",
    "    def __init__(self, name_param):\n",
    "        \n",
    "        self.name = name_param\n",
    "        \n",
    "        #population is a dictionary of Cat objects\n",
    "        #{<name>:<cat_object>,...}\n",
    "        self.population = {}\n",
    "        \n",
    "    \n",
    "    def __str__(self):\n",
    "        \n",
    "        my_string = ''\n",
    "        \n",
    "        for cat in self.population:\n",
    "            \n",
    "            my_string = my_string + ' ' + self.population[cat].colour\n",
    "            \n",
    "        return my_string\n",
    "        \n",
    "    \n",
    "    def cat_arrival(self, cat):\n",
    "        \n",
    "        self.population[cat.name] = cat\n",
    "        #self.population['susie'] = s\n",
    "        \n",
    "        print(cat.name + \" has arrived!\")\n",
    "        \n",
    "    \n",
    "    def special_print(self):\n",
    "        \n",
    "        print(self.name + \"is the best\")\n",
    "        \n",
    "        \n",
    "#help(open)       "
   ]
  },
  {
   "cell_type": "code",
   "execution_count": 21,
   "id": "2a300354",
   "metadata": {},
   "outputs": [
    {
     "name": "stdout",
     "output_type": "stream",
     "text": [
      "susie has arrived!\n",
      "catonio has arrived!\n",
      " susie catonio\n"
     ]
    }
   ],
   "source": [
    "s = Cat('susie','purple')\n",
    "c = Cat('catonio','orange')\n",
    "\n",
    "cat_land = CatPark('Cat Land')\n",
    "\n",
    "#new cat shows up\n",
    "cat_land.cat_arrival(s)\n",
    "cat_land.cat_arrival(c)\n",
    "\n",
    "print(cat_land)"
   ]
  },
  {
   "cell_type": "code",
   "execution_count": 23,
   "id": "f1e8f5fa",
   "metadata": {},
   "outputs": [
    {
     "data": {
      "text/plain": [
       "<__main__.Cat at 0x7f7b2801adc0>"
      ]
     },
     "execution_count": 23,
     "metadata": {},
     "output_type": "execute_result"
    }
   ],
   "source": [
    "cat_land.population['susie']"
   ]
  },
  {
   "cell_type": "code",
   "execution_count": 102,
   "id": "b4982c15",
   "metadata": {},
   "outputs": [
    {
     "name": "stdout",
     "output_type": "stream",
     "text": [
      "Cat Land is the best\n"
     ]
    }
   ],
   "source": [
    "cat_land.special_print()"
   ]
  },
  {
   "cell_type": "code",
   "execution_count": 50,
   "id": "59076dd6",
   "metadata": {},
   "outputs": [],
   "source": [
    "s.mood.append('happy')"
   ]
  },
  {
   "cell_type": "code",
   "execution_count": 103,
   "id": "5badd6cf",
   "metadata": {},
   "outputs": [
    {
     "name": "stdout",
     "output_type": "stream",
     "text": [
      "<__main__.Cat object at 0x7f97506a5e20>\n"
     ]
    }
   ],
   "source": [
    "print(s)"
   ]
  },
  {
   "cell_type": "code",
   "execution_count": 54,
   "id": "12faf214",
   "metadata": {},
   "outputs": [
    {
     "data": {
      "text/plain": [
       "['grumpy', 'happy']"
      ]
     },
     "execution_count": 54,
     "metadata": {},
     "output_type": "execute_result"
    }
   ],
   "source": [
    "c.mood"
   ]
  },
  {
   "cell_type": "code",
   "execution_count": 20,
   "id": "d1342891",
   "metadata": {},
   "outputs": [
    {
     "name": "stdout",
     "output_type": "stream",
     "text": [
      "orange\n"
     ]
    }
   ],
   "source": [
    "x = Cat()\n",
    "print(x.colour)"
   ]
  },
  {
   "cell_type": "code",
   "execution_count": 30,
   "id": "b940fb6b",
   "metadata": {},
   "outputs": [
    {
     "name": "stdout",
     "output_type": "stream",
     "text": [
      "aps106\n",
      "['a', 'p', 's', 1, 0, 6]\n",
      "('a', 'p', 's', 1, 0, 6)\n",
      "{0, 1, 'p', 's', 6, 'a'}\n",
      "{'a': 1, 'p': 0, 's': 6}\n"
     ]
    }
   ],
   "source": [
    "data_structure1 = 'aps106'\n",
    "data_structure2 = ['a','p','s',1,0,6]\n",
    "data_structure3 = ('a','p','s',1,0,6)\n",
    "data_structure4 = {'a','p','s',1,0,6}\n",
    "data_structure5 = {'a':1,'p':0,'s':6}\n",
    "\n",
    "#printing\n",
    "print(data_structure1)\n",
    "print(data_structure2)\n",
    "print(data_structure3)\n",
    "print(data_structure4)\n",
    "print(data_structure5)"
   ]
  },
  {
   "cell_type": "code",
   "execution_count": 15,
   "id": "e75e057e",
   "metadata": {},
   "outputs": [
    {
     "name": "stdout",
     "output_type": "stream",
     "text": [
      "6\n",
      "3\n"
     ]
    }
   ],
   "source": [
    "#length\n",
    "print(len(data_structure1))\n",
    "print(len(data_structure2))\n",
    "print(len(data_structure3))\n",
    "print(len(data_structure4))\n",
    "print(len(data_structure5))"
   ]
  },
  {
   "cell_type": "code",
   "execution_count": 17,
   "id": "37c006b1",
   "metadata": {},
   "outputs": [
    {
     "name": "stdout",
     "output_type": "stream",
     "text": [
      "a\n",
      "p\n",
      "s\n"
     ]
    },
    {
     "ename": "TypeError",
     "evalue": "'set' object is not subscriptable",
     "output_type": "error",
     "traceback": [
      "\u001b[0;31m---------------------------------------------------------------------------\u001b[0m",
      "\u001b[0;31mTypeError\u001b[0m                                 Traceback (most recent call last)",
      "\u001b[0;32m/var/folders/mn/8vlvqnvd1gl1d04y6pbyzbhh0000gn/T/ipykernel_2237/1082504143.py\u001b[0m in \u001b[0;36m<module>\u001b[0;34m\u001b[0m\n\u001b[1;32m      3\u001b[0m \u001b[0mprint\u001b[0m\u001b[0;34m(\u001b[0m\u001b[0mdata_structure2\u001b[0m\u001b[0;34m[\u001b[0m\u001b[0;36m1\u001b[0m\u001b[0;34m]\u001b[0m\u001b[0;34m)\u001b[0m\u001b[0;34m\u001b[0m\u001b[0;34m\u001b[0m\u001b[0m\n\u001b[1;32m      4\u001b[0m \u001b[0mprint\u001b[0m\u001b[0;34m(\u001b[0m\u001b[0mdata_structure3\u001b[0m\u001b[0;34m[\u001b[0m\u001b[0;36m2\u001b[0m\u001b[0;34m]\u001b[0m\u001b[0;34m)\u001b[0m\u001b[0;34m\u001b[0m\u001b[0;34m\u001b[0m\u001b[0m\n\u001b[0;32m----> 5\u001b[0;31m \u001b[0mprint\u001b[0m\u001b[0;34m(\u001b[0m\u001b[0mdata_structure4\u001b[0m\u001b[0;34m[\u001b[0m\u001b[0;36m3\u001b[0m\u001b[0;34m]\u001b[0m\u001b[0;34m)\u001b[0m\u001b[0;34m\u001b[0m\u001b[0;34m\u001b[0m\u001b[0m\n\u001b[0m\u001b[1;32m      6\u001b[0m \u001b[0mprint\u001b[0m\u001b[0;34m(\u001b[0m\u001b[0mdata_structure5\u001b[0m\u001b[0;34m[\u001b[0m\u001b[0;36m4\u001b[0m\u001b[0;34m]\u001b[0m\u001b[0;34m)\u001b[0m\u001b[0;34m\u001b[0m\u001b[0;34m\u001b[0m\u001b[0m\n",
      "\u001b[0;31mTypeError\u001b[0m: 'set' object is not subscriptable"
     ]
    }
   ],
   "source": [
    "#accessing\n",
    "print(data_structure1[0])\n",
    "print(data_structure2[1])\n",
    "print(data_structure3[2])\n",
    "print(data_structure4[3])\n",
    "print(data_structure5[4])"
   ]
  },
  {
   "cell_type": "code",
   "execution_count": 21,
   "id": "c133f00b",
   "metadata": {},
   "outputs": [],
   "source": [
    "#modifying\n",
    "#data_structure1[0] = 1\n",
    "data_structure2[0] = 1\n",
    "#data_structure3[0] = 1\n",
    "#data_structure4[0] = 1\n",
    "data_structure5[0] = 1"
   ]
  },
  {
   "cell_type": "code",
   "execution_count": 31,
   "id": "f1b155af",
   "metadata": {},
   "outputs": [
    {
     "name": "stdout",
     "output_type": "stream",
     "text": [
      "APS106\n",
      "['a', 'p', 's', 1, 0, 6, 54]\n",
      "('a', 'p', 's', 1, 0, 6, 1, 2, 3)\n"
     ]
    }
   ],
   "source": [
    "#mutating\n",
    "data_structure1 = data_structure1.upper()\n",
    "print(data_structure1)\n",
    "data_structure2.append(54)\n",
    "print(data_structure2)\n",
    "data_structure3 += (1,2,3)\n",
    "print(data_structure3)"
   ]
  },
  {
   "cell_type": "code",
   "execution_count": 32,
   "id": "da15f8d4",
   "metadata": {},
   "outputs": [
    {
     "data": {
      "text/plain": [
       "1"
      ]
     },
     "execution_count": 32,
     "metadata": {},
     "output_type": "execute_result"
    }
   ],
   "source": [
    "#accessing\n",
    "#data_structure1[0]\n",
    "data_structure2[0]\n",
    "#data_structure3[0]\n",
    "#data_structure4[0]\n",
    "data_structure5['a']"
   ]
  },
  {
   "cell_type": "code",
   "execution_count": 33,
   "id": "44858292",
   "metadata": {},
   "outputs": [
    {
     "name": "stdout",
     "output_type": "stream",
     "text": [
      "dict_values([1, 0, 6])\n",
      "dict_keys(['a', 'p', 's'])\n",
      "dict_items([('a', 1), ('p', 0), ('s', 6)])\n"
     ]
    }
   ],
   "source": [
    "print(data_structure5.values())\n",
    "print(data_structure5.keys())\n",
    "print(data_structure5.items())"
   ]
  },
  {
   "cell_type": "code",
   "execution_count": 32,
   "id": "764d7902",
   "metadata": {
    "scrolled": true
   },
   "outputs": [
    {
     "name": "stdout",
     "output_type": "stream",
     "text": [
      "3\n"
     ]
    }
   ],
   "source": [
    "my_set = {'n','o','m','n','o','m'}\n",
    "print(len(my_set))"
   ]
  },
  {
   "cell_type": "code",
   "execution_count": 28,
   "id": "a7b71b92",
   "metadata": {},
   "outputs": [
    {
     "name": "stdout",
     "output_type": "stream",
     "text": [
      "5\n",
      "{'n', 'o', 'm'}\n"
     ]
    }
   ],
   "source": [
    "print(len(my_set.union({'f','o','o','d'})))\n",
    "print(my_set)"
   ]
  },
  {
   "cell_type": "code",
   "execution_count": 33,
   "id": "afd36690",
   "metadata": {},
   "outputs": [
    {
     "name": "stdout",
     "output_type": "stream",
     "text": [
      "{'n', 'o', 'm'}\n",
      "{1, 'n', 'o', 'm'}\n"
     ]
    }
   ],
   "source": [
    "print(my_set)\n",
    "my_set.add(1)\n",
    "print(my_set)"
   ]
  },
  {
   "cell_type": "code",
   "execution_count": 34,
   "id": "d5108a86",
   "metadata": {},
   "outputs": [
    {
     "name": "stdout",
     "output_type": "stream",
     "text": [
      "{1, 'n', 'o', 'm'}\n",
      "{1, 'n', 'o', 'm'}\n"
     ]
    }
   ],
   "source": [
    "print(my_set)\n",
    "my_set.union({'f','o','o','d'})\n",
    "print(my_set)"
   ]
  },
  {
   "cell_type": "code",
   "execution_count": 35,
   "id": "2f3c628b",
   "metadata": {},
   "outputs": [
    {
     "name": "stdout",
     "output_type": "stream",
     "text": [
      "{1, 'n', 'o', 'm'}\n",
      "{1, 'n', 'f', 'd', 'o', 'm'}\n"
     ]
    }
   ],
   "source": [
    "print(my_set)\n",
    "my_set.update({'f','o','o','d'})\n",
    "print(my_set)"
   ]
  },
  {
   "cell_type": "code",
   "execution_count": 50,
   "id": "5299ccdd",
   "metadata": {},
   "outputs": [
    {
     "name": "stdout",
     "output_type": "stream",
     "text": [
      "before add: {1: 'a', 2: 'b', 3: 'c', 4: 'd'}\n",
      "after add: {1: 'a', 2: 'b', 3: 'c', 4: 'd', 5: 'e'}\n",
      "after func: {1: 'a', 2: 'b', 3: 'c', 4: 'd', 5: 'e'}\n"
     ]
    }
   ],
   "source": [
    "def some_func(container):\n",
    "    \n",
    "    #prints the value of container at the beginning of function\n",
    "    print('before add:', container)\n",
    "    \n",
    "    #add 5 to the data structure or container\n",
    "    container += 5\n",
    "    \n",
    "    #prints the value of container at the end of function\n",
    "    print('after add:', container)\n",
    "    \n",
    "cont = 5\n",
    "#cont = '1234'\n",
    "#cont = {1,2,3,4}\n",
    "#cont = (1,2,3,4)\n",
    "#cont = [1,2,3,4]\n",
    "#cont = {1:'a',2:'b',3:'c',4:'d'}\n",
    "some_func(cont)\n",
    "print('after func:', cont)"
   ]
  },
  {
   "cell_type": "code",
   "execution_count": 34,
   "id": "379b3554",
   "metadata": {},
   "outputs": [],
   "source": [
    "#Custom Class - using self and __str__ method.  Classes within classes.\n",
    "\n",
    "class Student:\n",
    "    \n",
    "    def __init__(self, name):\n",
    "        \n",
    "        self.name = name\n",
    "\n"
   ]
  },
  {
   "cell_type": "code",
   "execution_count": null,
   "id": "5aa5ad61",
   "metadata": {},
   "outputs": [],
   "source": [
    "class Skule:\n",
    "    \n",
    "    def __init__(self, president, vp):\n",
    "        \n",
    "        self.president = president #of class Student\n",
    "        self.vp = vp\n",
    "        \n",
    "    "
   ]
  },
  {
   "cell_type": "code",
   "execution_count": 7,
   "id": "9d19e453",
   "metadata": {},
   "outputs": [
    {
     "name": "stdout",
     "output_type": "stream",
     "text": [
      "['Project 24', 'Mary', 'Word', 'Excel ']\n",
      "['Project 24', 'Sarah', 'SolidWorks', 'PowerPoint ']\n",
      "['Project 25', 'John', 'MATLAB', 'Word', 'PowerPoint ']\n",
      "['Project 26', 'Tom', 'Wing101 ']\n",
      "['Project 26', 'Mary', 'Word', 'Wing101 ']\n",
      "Mary\n",
      "['Project 26', 'Tom', 'SolidWorks']\n",
      "Tom\n",
      "{'Mary': {'Word', 'Wing101 ', 'Excel '}, 'Sarah': {'PowerPoint ', 'SolidWorks'}, 'John': {'PowerPoint ', 'Word', 'MATLAB'}, 'Tom': {'SolidWorks', 'Wing101 '}}\n"
     ]
    }
   ],
   "source": [
    "import csv \n",
    "\n",
    "def load_data(filename): \n",
    "    '''(str) -> {str : {str, str, ...}} \n",
    "    Input: a string specifying the CSV filename \n",
    "    Output: a dictionary with employee names as keys and a software    \n",
    "    expertise as values \n",
    "    '''     \n",
    "    data = {}\n",
    "    # starter code to open and read from a csv file \n",
    "    with open(filename, 'r') as csvfile: \n",
    "        project_file = csv.reader(csvfile)\n",
    "        for line in project_file:\n",
    "            print(line)\n",
    "            if line[1] in data:\n",
    "                print(line[1])\n",
    "                for program in line[2:]:\n",
    "                    data[line[1]].add(program)\n",
    "            else:\n",
    "                data[line[1]] = set()\n",
    "                for program in line[2:]:\n",
    "                    data[line[1]].add(program)\n",
    "    \n",
    "    return data\n",
    "    \n",
    "projects = load_data('projects.csv')\n",
    "print(projects)"
   ]
  },
  {
   "cell_type": "code",
   "execution_count": 10,
   "id": "5bb30ebd",
   "metadata": {},
   "outputs": [
    {
     "name": "stdout",
     "output_type": "stream",
     "text": [
      "{'Word': {'Mary', 'John'}, 'Wing101 ': {'Tom', 'Mary'}, 'Excel ': {'Mary'}, 'PowerPoint ': {'Sarah', 'John'}, 'SolidWorks': {'Tom', 'Sarah'}, 'MATLAB': {'John'}}\n"
     ]
    }
   ],
   "source": [
    "def reverse_dictionary(employees): \n",
    "    '''({str : {str, str, ...}}) -> {str : {str, str, ...}} \n",
    "    Input: a dictionary with employee names as keys and a software \n",
    "expertise as values \n",
    "    Output: a dictionary with software as keys and employee names as \n",
    "values \n",
    "    ''' \n",
    "    return_dict = {}\n",
    "    \n",
    "    for person in employees:\n",
    "        for program in employees[person]:\n",
    "            if program in return_dict:\n",
    "                return_dict[program].add(person)\n",
    "            else:\n",
    "                return_dict[program] = {person}\n",
    "                \n",
    "    return return_dict\n",
    "out = reverse_dictionary(projects)    \n",
    "print(out)"
   ]
  },
  {
   "cell_type": "code",
   "execution_count": 16,
   "id": "c3989f7f",
   "metadata": {},
   "outputs": [],
   "source": [
    "def write_data(programs):\n",
    "    \n",
    "    with open('programs.csv','w') as file:\n",
    "        csvfile = csv.writer(file)\n",
    "        for program in programs:\n",
    "            write_list = []\n",
    "            write_list.append(program)\n",
    "            for name in programs[program]:\n",
    "                write_list.append(name)\n",
    "            csvfile.writerow(write_list)\n",
    "            \n",
    "write_data(out)"
   ]
  },
  {
   "cell_type": "code",
   "execution_count": null,
   "id": "27f9865c",
   "metadata": {},
   "outputs": [],
   "source": []
  }
 ],
 "metadata": {
  "kernelspec": {
   "display_name": "Python 3 (ipykernel)",
   "language": "python",
   "name": "python3"
  },
  "language_info": {
   "codemirror_mode": {
    "name": "ipython",
    "version": 3
   },
   "file_extension": ".py",
   "mimetype": "text/x-python",
   "name": "python",
   "nbconvert_exporter": "python",
   "pygments_lexer": "ipython3",
   "version": "3.9.7"
  }
 },
 "nbformat": 4,
 "nbformat_minor": 5
}
