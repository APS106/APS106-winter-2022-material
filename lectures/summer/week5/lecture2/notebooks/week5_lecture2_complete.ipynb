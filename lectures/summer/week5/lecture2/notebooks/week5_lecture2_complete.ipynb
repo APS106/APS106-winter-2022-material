{
 "cells": [
  {
   "cell_type": "code",
   "execution_count": 51,
   "id": "96ac19c0",
   "metadata": {},
   "outputs": [
    {
     "name": "stdout",
     "output_type": "stream",
     "text": [
      "inside function, a = 20\n",
      "outside function, a_outside = None\n",
      "outside function, a= 0\n"
     ]
    }
   ],
   "source": [
    "#scope practice\n",
    "\n",
    "a = 0\n",
    "\n",
    "def area(x,y):\n",
    "    a = x*y\n",
    "    print('inside function, a =', a)\n",
    "\n",
    "\n",
    "a_outside = area(5,4)\n",
    "\n",
    "print('outside function, a_outside =', a_outside)\n",
    "print('outside function, a=', a)"
   ]
  },
  {
   "cell_type": "code",
   "execution_count": 25,
   "id": "ea2974aa",
   "metadata": {},
   "outputs": [
    {
     "name": "stdout",
     "output_type": "stream",
     "text": [
      "function called\n",
      "and\n",
      "dogs\n",
      "end\n",
      "None\n"
     ]
    }
   ],
   "source": [
    "##2022 TT1 Q2\n",
    "def cats_and_dogs(cats, dogs):\n",
    "    print(\"function called\")\n",
    "\n",
    "    if cats > 0 and dogs > 0:\n",
    "        print(\"and\")\n",
    "\n",
    "        if cats != 0 and dogs - 1 > 0:\n",
    "            print(\"cats\")\n",
    "        elif cats - 1 > 0 and dogs != 0:\n",
    "            print(\"dogs\")\n",
    "\n",
    "    elif cats > 0 or dogs > 0:\n",
    "        print(\"or\")\n",
    "\n",
    "        if cats !=0 or dogs - 1 > 0:\n",
    "            print(\"cats\")\n",
    "        elif cats - 1 > 0 or dogs != 0:\n",
    "            print(\"dogs\") \n",
    "           \n",
    "    else:\n",
    "        print(\"else\")\n",
    "\n",
    "        if cats != 0 and dogs - 1 > 0:\n",
    "            print(\"cats\")\n",
    "        elif cats - 1 > 0 or dogs != 0:\n",
    "            print(\"dogs\") \n",
    "           \n",
    "    print(\"end\")\n",
    "\n",
    "output = cats_and_dogs(5, 1)\n",
    "print(output)\n"
   ]
  },
  {
   "cell_type": "code",
   "execution_count": 26,
   "id": "2b0751e5",
   "metadata": {},
   "outputs": [
    {
     "name": "stdout",
     "output_type": "stream",
     "text": [
      "world\n",
      "world-class \n",
      "world-class rower\n"
     ]
    }
   ],
   "source": [
    "#2022 TT2 Q2\n",
    "letters = ['w','o','r','d','l','e']\n",
    "ind1 = [0,1,2,4,3]\n",
    "\n",
    "out_str = ''\n",
    "for i in ind1:\n",
    "    out_str += letters[i]\n",
    "print(out_str)\n",
    "\n",
    "out_str += \"-class \"\n",
    "print(out_str)\n",
    "\n",
    "ind2 = [2,1,0,5,2]\n",
    "for i in ind2:\n",
    "    out_str += letters[i]\n",
    "print(out_str)\n"
   ]
  },
  {
   "cell_type": "code",
   "execution_count": 56,
   "id": "00b60e79",
   "metadata": {},
   "outputs": [
    {
     "name": "stdout",
     "output_type": "stream",
     "text": [
      "False\n",
      "True\n"
     ]
    }
   ],
   "source": [
    "#Common Mistake Timeout\n",
    "print('ooz' in 'zoology')\n",
    "print('zoo' in 'zoology')"
   ]
  },
  {
   "cell_type": "code",
   "execution_count": null,
   "id": "a0293d8c",
   "metadata": {},
   "outputs": [],
   "source": [
    "if 'z' in 'zoology':\n",
    "    print('hola')\n",
    "elif 'zoo' in 'zoology':\n",
    "    print('hello')"
   ]
  },
  {
   "cell_type": "code",
   "execution_count": 57,
   "id": "e90425b7",
   "metadata": {},
   "outputs": [
    {
     "name": "stdout",
     "output_type": "stream",
     "text": [
      "ABCD\n"
     ]
    }
   ],
   "source": [
    "some_str = 'abcd'\n",
    "some_str = some_str.upper()\n",
    "print(some_str)"
   ]
  },
  {
   "cell_type": "code",
   "execution_count": null,
   "id": "00427046",
   "metadata": {},
   "outputs": [],
   "source": [
    "some_list = ['a','b','c']\n",
    "some_list = some_list.append('d')\n",
    "print(some_list)"
   ]
  },
  {
   "cell_type": "code",
   "execution_count": null,
   "id": "6a9cf1d3",
   "metadata": {},
   "outputs": [],
   "source": []
  },
  {
   "cell_type": "code",
   "execution_count": 52,
   "id": "95bd02e3",
   "metadata": {},
   "outputs": [
    {
     "name": "stdout",
     "output_type": "stream",
     "text": [
      "AUGAUGAUGAUGUAUGAUGAUGAUGUAUGAUGAUGAUGUAUGAUGAUGAUGUUAUGAUGAUGAUGUAUGAUGAUGAUGUAUGAUGAUGAUGUAUGAUGAUGAUGUU\n"
     ]
    }
   ],
   "source": [
    "#2022 TT1 Q5\n",
    "import random\n",
    "\n",
    "def pcr(target_seq,num_cycles):\n",
    "    \"\"\"(str, int) -> string\n",
    "        target_seq: the DNA sequence to be amplified\n",
    "        num_cycles:  the number of amplification cycles\n",
    "        Returns: the amplified target sequence generated\n",
    "                considering randomly occurring copying mistakes \n",
    "    \"\"\" \n",
    "    iteration = 1 #deciding to start at 1 to make logic easier, so need to increase num_cyles by 1 too\n",
    "    amplified_seq = target_seq\n",
    "    \n",
    "    while iteration < (num_cycles+1):\n",
    "          \n",
    "        if iteration % 2 != 0:\n",
    "            amplified_seq += amplified_seq \n",
    "        else:\n",
    "            selector = random.randrange(5)\n",
    "            if selector == 0:      \n",
    "                amplified_seq = 2 * amplified_seq + \"A\"\n",
    "                #amplified_seq = (2 * amplified_seq) + ['A']\n",
    "            elif selector == 1:      \n",
    "                amplified_seq = 2 * amplified_seq + \"C\"  \n",
    "            elif selector == 2:      \n",
    "                amplified_seq = 2 * amplified_seq + \"G\"\n",
    "            elif selector == 3:      \n",
    "                amplified_seq = 2 * amplified_seq + \"T\"  \n",
    "            else:      \n",
    "                amplified_seq = 2 * amplified_seq + \"U\"    \n",
    "                \n",
    "        iteration += 1  \n",
    "\n",
    "    return amplified_seq                \n",
    "\n",
    "dna = 'AUG'\n",
    "#dna = ['A','U','G']\n",
    "\n",
    "print(pcr(dna,5))"
   ]
  },
  {
   "cell_type": "code",
   "execution_count": 53,
   "id": "0d547a03",
   "metadata": {},
   "outputs": [
    {
     "name": "stdout",
     "output_type": "stream",
     "text": [
      "Enter x between -1 and 1: 0.5\n",
      "Enter epsilon: 0.01\n",
      "tanh-1(0.5) = 0.5416666666666666\n"
     ]
    }
   ],
   "source": [
    "# Write a function that evaluates tanh-1(x) from the series\n",
    "#\n",
    "# tanh-1(x) = x + x3/3 + x5/5 + x7/7 + x9/9 + ...\n",
    "#\n",
    "# where x < 1.0 and x > -1.0.  The function should take x and, epsilon, \n",
    "# and return the estimate when the absolute value of the next term is the \n",
    "# series is less than epsilon. \n",
    "\n",
    "\n",
    "def estimate_tanh_inv(x, epsilon):\n",
    "    '''(float, int) -> float\n",
    "    Returns an estimate of tanh^-1 based on the series:\n",
    "    tanh-1(x) = x + x3/3 + x5/5 + x7/7 + x9/9 + ...\n",
    "    Stops when the estimate is with next item is the series is less than\n",
    "    or equal to epsilon\n",
    "    '''\n",
    "    tanh_inv = 0\n",
    "    term = x\n",
    "    num = 3\n",
    "    while abs(term) > epsilon:\n",
    "        #print(term, num)\n",
    "        tanh_inv += term\n",
    "        term = x**num/num\n",
    "        num += 2\n",
    "        \n",
    "    return tanh_inv\n",
    "\n",
    "x = -2\n",
    "while x < -1.0 or x > 1.0:\n",
    "    x = float(input(\"Enter x between -1 and 1: \"))\n",
    "    eps = float(input(\"Enter epsilon: \"))\n",
    "\n",
    "tanh_inv = estimate_tanh_inv(x,eps)\n",
    "print(\"tanh-1(\", x, \") = \", tanh_inv, sep=\"\")\n"
   ]
  },
  {
   "cell_type": "code",
   "execution_count": 41,
   "id": "e45b7bf1",
   "metadata": {},
   "outputs": [
    {
     "name": "stdout",
     "output_type": "stream",
     "text": [
      "[2, 7, 15, 54, 87, 95, 100]\n",
      "pre-check indices 0 6\n",
      "checking at index:  3\n",
      "post-check indices 0 2\n",
      "pre-check indices 0 2\n",
      "checking at index:  1\n",
      "post-check indices 0 0\n",
      "pre-check indices 0 0\n",
      "checking at index:  0\n",
      "0\n"
     ]
    }
   ],
   "source": [
    "# binary search\n",
    "'''\n",
    "Write a function that\n",
    "corresponds to the following definition:\n",
    "def binary_search (array, value)\n",
    "The function does a binary search, and returns the \n",
    "index in the list where value is stored. \n",
    "If value isn’t in the array, the function returns -1.\n",
    "A binary search is a way to search a sorted list of numbers. \n",
    "Begin at the middle of the list and decide if \n",
    "the value you’re looking for is in the first half \n",
    "of the list or the second half. \n",
    "If it is the first half, then look at the \n",
    "middle element of the first half \n",
    "(i.e., a quarter of thy way through the initial list) \n",
    "and decide if the element is in the \n",
    "first quarter or second quarter. \n",
    "If it is in the second half, look at the middle \n",
    "element of the second half \n",
    "(i.e. three- quarters of the way through the original list)\n",
    "to decide if you should like in the third quarter or fourth quarter. \n",
    "Then look halfway again, and halfway again, and ...\n",
    "'''\n",
    "\n",
    "import random\n",
    "\n",
    "def binary_search(numbers, num):\n",
    "    ''' (list of int, int) -> int\n",
    "    Returns the index of num in numbers or -1 if num is not in the list\n",
    "    numbers is a sorted list\n",
    "    '''\n",
    "    min_index = 0\n",
    "    max_index = len(numbers) - 1\n",
    "    while(min_index <= max_index):\n",
    "        print('pre-check indices', min_index, max_index)\n",
    "        \n",
    "        middle = (min_index + max_index)//2\n",
    "        print('checking at index: ', middle)\n",
    "        \n",
    "        if numbers[middle] > num:\n",
    "            max_index = middle - 1\n",
    "        elif numbers[middle] < num:\n",
    "            min_index = middle + 1\n",
    "        else:\n",
    "            return middle\n",
    "        \n",
    "        print('post-check indices',min_index, max_index)\n",
    "\n",
    "    return -1\n",
    "    \n",
    "#size = int(input(\"How large a list: \"))\n",
    "\n",
    "search_list = [2,7,15,54,87,95,100]\n",
    "print(search_list)\n",
    "index = binary_search(search_list,2)\n",
    "print(index)"
   ]
  },
  {
   "cell_type": "code",
   "execution_count": 67,
   "id": "24731dd7",
   "metadata": {},
   "outputs": [
    {
     "name": "stdout",
     "output_type": "stream",
     "text": [
      "[['May 1', 1000], ['May 2', 2000], ['May 3', 3000]]\n",
      "On May 1 there were 1000 cases\tWARNING\n"
     ]
    }
   ],
   "source": [
    "def merge_lists(case_counts, dates):\n",
    "    '''\n",
    "    (list of num, list of strings) -> list of lists\n",
    "    \n",
    "Takes in a list of daily case counts and a list of dates, then returns a list of lists. Each of the sublists contains an appropriately paired date and case count.\n",
    "    '''\n",
    "    \n",
    "    #'''\n",
    "    dated_cases = []\n",
    "    for i in range(len(case_counts)):\n",
    "        dated_cases.append([dates[i], case_counts[i]])\n",
    "    return dated_cases\n",
    "    #'''\n",
    "\n",
    "    '''\n",
    "    #OR\n",
    "    \n",
    "    i = 0\n",
    "    dated_cases = []\n",
    "    while i < len(case_counts):\n",
    "        dated_cases.append([dates [i], case_counts[i]])\n",
    "        i+=1\n",
    "    return dated_cases\n",
    "    '''\n",
    "    \n",
    "    '''\n",
    "    #DIFFERENT\n",
    "    \n",
    "    dated_cases = []\n",
    "    for i in range(len(case_counts)):\n",
    "        for j in range(len(dates)):\n",
    "            dated_cases.append([case_counts[i], dates[j]])\n",
    "    return dated_cases\n",
    "    '''\n",
    "\n",
    "counts = [1000,2000,3000]\n",
    "dates = ['May 1', 'May 2', 'May 3']\n",
    "\n",
    "output = merge_lists(counts,dates)\n",
    "print(output)\n",
    "\n",
    "#using one of the sublists returned (i.e. output[0]), print the following \n",
    "#On <DATE> there were <CASES> cases<tab>WARNING\n",
    "\n",
    "my_str = 'On ' + output[0][0] + ' there were ' + str(output[0][1]) + ' cases\\tWARNING'\n",
    "print(my_str)\n"
   ]
  },
  {
   "cell_type": "code",
   "execution_count": null,
   "id": "5b8d9cc4",
   "metadata": {},
   "outputs": [],
   "source": []
  }
 ],
 "metadata": {
  "kernelspec": {
   "display_name": "Python 3 (ipykernel)",
   "language": "python",
   "name": "python3"
  },
  "language_info": {
   "codemirror_mode": {
    "name": "ipython",
    "version": 3
   },
   "file_extension": ".py",
   "mimetype": "text/x-python",
   "name": "python",
   "nbconvert_exporter": "python",
   "pygments_lexer": "ipython3",
   "version": "3.9.7"
  }
 },
 "nbformat": 4,
 "nbformat_minor": 5
}
