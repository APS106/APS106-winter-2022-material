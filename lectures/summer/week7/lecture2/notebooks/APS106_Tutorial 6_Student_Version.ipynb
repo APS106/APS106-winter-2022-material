{
 "cells": [
  {
   "cell_type": "markdown",
   "id": "33e39ea4",
   "metadata": {},
   "source": [
    "## Stock OOP Example- Practice Exam Question"
   ]
  },
  {
   "cell_type": "markdown",
   "id": "9fa80812",
   "metadata": {},
   "source": [
    "Stocks are a fantastic OOP example that allow us to use all the tools in our toolkit and better understand how things in Python can build on eachother. The code below is the beginning of the class that can be used to represent a stock portfolio.\n",
    "\n",
    "\n",
    "Part A [5 marks]: Write a constructor for this class (i.e., the initializer or init method - you must define the method and its name correctly and precisely). \n",
    "\n",
    "The object should be initialized by passing in the name of the stock (a string), the number of shares (int), and the price (int). There are no default values for these arguments. \n",
    "\n",
    "In addition to this initializer method, write two other methods:\n",
    "\n",
    "1) value() that enables us to calculate the value of our portfolio by multiplying the shares and price together (from the __init__ method)\n",
    "\n",
    "2) sell() that enables us to calculate the value of the shares after selling a number of shares (called 'nshares'). \n",
    "\n"
   ]
  },
  {
   "cell_type": "code",
   "execution_count": 1,
   "id": "00718850",
   "metadata": {},
   "outputs": [],
   "source": [
    "class Stock:\n",
    "    \"\"\"\n",
    "    Stores and manipulates the name, shares, and price of a particular stock\n",
    "    \"\"\" "
   ]
  },
  {
   "cell_type": "markdown",
   "id": "f9a05807",
   "metadata": {},
   "source": [
    "Part B [3 marks]: Beyond this general code, most basic stock portfolio information is stored in CSV files whereby the first column is the name of the stock, the second column is the number of shares, and the third column is the price. There could be multiple stocks in the CSV file but the general order is the same:"
   ]
  },
  {
   "attachments": {
    "image.png": {
     "image/png": "[encoded data removed]"
    }
   },
   "cell_type": "markdown",
   "id": "11e87b71",
   "metadata": {},
   "source": [
    "![image.png](attachment:image.png)"
   ]
  },
  {
   "cell_type": "markdown",
   "id": "1c44d953",
   "metadata": {},
   "source": [
    "Write a function called read_portfolio() that reads in the information from a CSV file formatted as above and returns the stock information organized in reference to the class Stock() from above and stores it into another variable \"stocks\". Return this variable back from your function. "
   ]
  },
  {
   "cell_type": "code",
   "execution_count": null,
   "id": "256db422",
   "metadata": {},
   "outputs": [],
   "source": [
    "def read_portfolio(filename):\n",
    "    \"\"\"\n",
    "    Reads in data from CSV file and stores in the Stock class\n",
    "    \"\"\""
   ]
  },
  {
   "cell_type": "code",
   "execution_count": null,
   "id": "ed3c2447",
   "metadata": {},
   "outputs": [],
   "source": []
  },
  {
   "cell_type": "markdown",
   "id": "0c430cdc",
   "metadata": {},
   "source": [
    "Part C [3 marks]: Given the recent events in the world, many stocks have tanked. Stock price can be used an one indicator of the success of a stock (although a deep level understanding of the stock market will tell you that external factors affect stocks more than an arbitrary price). In this next part, write a function that reads the prices from the CSV file into a dictionary (into a variable called \"prices\") and returns this dictionary. Here, the stock name is the key and he stock price is the value. "
   ]
  },
  {
   "cell_type": "code",
   "execution_count": null,
   "id": "c00d3e2d",
   "metadata": {},
   "outputs": [],
   "source": [
    "def read_prices(filename):\n",
    "    \"\"\"\n",
    "    Reads in price data from CSV file and stores it in a dictionary\n",
    "    \"\"\"    "
   ]
  },
  {
   "cell_type": "markdown",
   "id": "4402df8f",
   "metadata": {},
   "source": [
    "Part D [2 marks]: Using the functions defined above, calculate the current value of this person's portfolio by looping through the portfolio information stored in the Stock class. "
   ]
  },
  {
   "cell_type": "code",
   "execution_count": null,
   "id": "6eb13715",
   "metadata": {},
   "outputs": [],
   "source": []
  }
 ],
 "metadata": {
  "kernelspec": {
   "display_name": "Python 3 (ipykernel)",
   "language": "python",
   "name": "python3"
  },
  "language_info": {
   "codemirror_mode": {
    "name": "ipython",
    "version": 3
   },
   "file_extension": ".py",
   "mimetype": "text/x-python",
   "name": "python",
   "nbconvert_exporter": "python",
   "pygments_lexer": "ipython3",
   "version": "3.8.12"
  }
 },
 "nbformat": 4,
 "nbformat_minor": 5
}
