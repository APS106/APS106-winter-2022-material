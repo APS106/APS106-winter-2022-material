{
 "cells": [
  {
   "cell_type": "markdown",
   "metadata": {
    "collapsed": true
   },
   "source": [
    "# APS106 - Fundamentals of Computer Programming\n",
    "## Week 10 | Lecture 1 (10.1) - objects, classes, and methods\n",
    "\n",
    "### This Week\n",
    "| Lecture | Topics | Reading |\n",
    "| --- | --- | --- | \n",
    "| 10.1 | Midterm Review |  |\n",
    "| **10.2** | **Objects, Classes, and Methods** | **Chapter 14**  |\n",
    "| 10.3 | Classes in Classes, Functions, and Collections | Chapter 14 | \n",
    "\n",
    "### Lecture Structure\n",
    "1. [Write A Point Class: Constructor](#section1)\n",
    "2. [Write A Point Class: Methods](#section2)"
   ]
  },
  {
   "cell_type": "markdown",
   "metadata": {},
   "source": [
    "<a id='section1'></a>\n",
    "## 1. Write A Point Class: Constructor\n",
    "First, let's write the `Point` class and have it initialize to the origin `(0, 0)`."
   ]
  },
  {
   "cell_type": "code",
   "execution_count": 5,
   "metadata": {},
   "outputs": [],
   "source": [
    "class Point:\n",
    "    \"\"\"A class that represents and manipulates 2D points\"\"\"\n",
    "    \n",
    "    def __init__(self):\n",
    "        \"\"\" \n",
    "        (self) -> None\n",
    "        Initializes a new point at (0, 0)\n",
    "        \"\"\"\n",
    "        self.x = 0\n",
    "        self.y = 0"
   ]
  },
  {
   "cell_type": "markdown",
   "metadata": {},
   "source": [
    "Next, let's create an instance of the `Point` class. This is sometimes called initialization."
   ]
  },
  {
   "cell_type": "code",
   "execution_count": 7,
   "metadata": {},
   "outputs": [
    {
     "name": "stdout",
     "output_type": "stream",
     "text": [
      "0 0\n"
     ]
    }
   ],
   "source": [
    "p1 = Point()\n",
    "print(p1.x, p1.y)"
   ]
  },
  {
   "cell_type": "markdown",
   "metadata": {},
   "source": [
    "### The Constructor\n",
    "An instantiation operation automatically calls the `__init__` method defined in the class definition. The `__init__` method, commonly known as a **\"constructor\"**, is responsible for setting up the initial state of the new instance. \n",
    "\n",
    "Let's modify our constructor to show that it does automatically run when a new instance is initialized."
   ]
  },
  {
   "cell_type": "code",
   "execution_count": 16,
   "metadata": {},
   "outputs": [],
   "source": [
    "class Point:\n",
    "    \"\"\"A class that represents and manipulates 2D points\"\"\"\n",
    "    \n",
    "    def __init__(self):\n",
    "        \"\"\" \n",
    "        (self) -> None\n",
    "        Initializes a new point at (0, 0)\n",
    "        \"\"\"\n",
    "        self.x = 0\n",
    "        self.y = 0\n",
    "        \n",
    "        print('The constructor has been called')"
   ]
  },
  {
   "cell_type": "code",
   "execution_count": 17,
   "metadata": {},
   "outputs": [
    {
     "name": "stdout",
     "output_type": "stream",
     "text": [
      "The constructor has been called\n"
     ]
    }
   ],
   "source": [
    "p1 = Point()"
   ]
  },
  {
   "cell_type": "markdown",
   "metadata": {},
   "source": [
    "Let's try initializing multiple instances of the `Point` class."
   ]
  },
  {
   "cell_type": "code",
   "execution_count": 9,
   "metadata": {},
   "outputs": [
    {
     "name": "stdout",
     "output_type": "stream",
     "text": [
      "0 0\n",
      "0 0\n"
     ]
    }
   ],
   "source": [
    "# Instantiate an object of type Point\n",
    "my_point = Point()\n",
    "\n",
    "# Make a second point\n",
    "second_point = Point()\n",
    "\n",
    "# Print the point data\n",
    "print(my_point.x, my_point.y)\n",
    "print(second_point.x, second_point.y)"
   ]
  },
  {
   "cell_type": "markdown",
   "metadata": {},
   "source": [
    "### Attributes\n",
    "As seen below, our `Point` class has two attributes (`x` and `y`). These attributes are assigned during initialization, however, we can change them."
   ]
  },
  {
   "cell_type": "code",
   "execution_count": null,
   "metadata": {},
   "outputs": [],
   "source": [
    "class Point:\n",
    "    \"\"\"A class that represents and manipulates 2D points\"\"\"\n",
    "    \n",
    "    def __init__(self):\n",
    "        \"\"\" \n",
    "        (self) -> None\n",
    "        Initializes a new point at (0, 0)\n",
    "        \"\"\"\n",
    "        self.x = 0\n",
    "        self.y = 0"
   ]
  },
  {
   "cell_type": "markdown",
   "metadata": {},
   "source": [
    "Let's initialize another point."
   ]
  },
  {
   "cell_type": "code",
   "execution_count": 22,
   "metadata": {},
   "outputs": [
    {
     "name": "stdout",
     "output_type": "stream",
     "text": [
      "0 0\n"
     ]
    }
   ],
   "source": [
    "p = Point()\n",
    "print(p.x, p.y)"
   ]
  },
  {
   "cell_type": "markdown",
   "metadata": {},
   "source": [
    "Next, let's update the attributes `x` and `y` for the `Point` instance `p`."
   ]
  },
  {
   "cell_type": "code",
   "execution_count": 23,
   "metadata": {},
   "outputs": [
    {
     "name": "stdout",
     "output_type": "stream",
     "text": [
      "2 4\n"
     ]
    }
   ],
   "source": [
    "p.x = 2\n",
    "p.y = 4\n",
    "print(p.x, p.y)"
   ]
  },
  {
   "cell_type": "markdown",
   "metadata": {},
   "source": [
    "### A More Convinient Constructor\n",
    "We may not always want the point to initialize to position `(0, 0)`. We can update our constructor to initialize to any point."
   ]
  },
  {
   "cell_type": "code",
   "execution_count": 24,
   "metadata": {},
   "outputs": [],
   "source": [
    "class Point:\n",
    "    \"\"\"A class that represents and manipulates 2D points\"\"\"\n",
    "    \n",
    "    def __init__(self, x=0, y=0):\n",
    "        \"\"\" \n",
    "        (self) -> None\n",
    "        Initializes a new point at (0, 0)\n",
    "        \"\"\"\n",
    "        self.x = x\n",
    "        self.y = y"
   ]
  },
  {
   "cell_type": "code",
   "execution_count": 26,
   "metadata": {},
   "outputs": [
    {
     "name": "stdout",
     "output_type": "stream",
     "text": [
      "0 0\n"
     ]
    }
   ],
   "source": [
    "p = Point()\n",
    "print(p.x, p.y)"
   ]
  },
  {
   "cell_type": "code",
   "execution_count": 27,
   "metadata": {},
   "outputs": [
    {
     "name": "stdout",
     "output_type": "stream",
     "text": [
      "8 15\n"
     ]
    }
   ],
   "source": [
    "q = Point(8, 15)\n",
    "print(q.x, q.y)"
   ]
  },
  {
   "cell_type": "markdown",
   "metadata": {},
   "source": [
    "<a id='section2'></a>\n",
    "## 2. Write A Point Class: Methods"
   ]
  },
  {
   "cell_type": "code",
   "execution_count": null,
   "metadata": {},
   "outputs": [],
   "source": []
  },
  {
   "cell_type": "code",
   "execution_count": null,
   "metadata": {},
   "outputs": [],
   "source": []
  },
  {
   "cell_type": "code",
   "execution_count": null,
   "metadata": {},
   "outputs": [],
   "source": []
  },
  {
   "cell_type": "code",
   "execution_count": null,
   "metadata": {},
   "outputs": [],
   "source": []
  },
  {
   "cell_type": "code",
   "execution_count": null,
   "metadata": {},
   "outputs": [],
   "source": []
  },
  {
   "cell_type": "code",
   "execution_count": null,
   "metadata": {},
   "outputs": [],
   "source": []
  },
  {
   "cell_type": "code",
   "execution_count": null,
   "metadata": {},
   "outputs": [],
   "source": []
  },
  {
   "cell_type": "code",
   "execution_count": null,
   "metadata": {},
   "outputs": [],
   "source": []
  },
  {
   "cell_type": "code",
   "execution_count": null,
   "metadata": {},
   "outputs": [],
   "source": []
  },
  {
   "cell_type": "code",
   "execution_count": null,
   "metadata": {},
   "outputs": [],
   "source": []
  },
  {
   "cell_type": "markdown",
   "metadata": {},
   "source": [
    "Introduction\n",
    "With procedural languages, we typically break a problem down into functions. (In some languages like Python, we only have functions but in other languages like Pascal, there are functions and procedures, each doing a similar but different job). Each function in a typical solution does just one task and we call this 'modular programming'. To run this program, our main program is simply a series of calls to the different functions. We can use many programming languages either in a procedural way, or using an object oriented approach. Let's see an example of both approaches using Python 3.\n",
    "\n",
    "Here is a program that calculates an electricty using a procedural approach. We have four functions. The actual program is started by calling the first function using main() at the bottom of the code. This calls the function called main() which in turn asks the user to enter the number of kWh units they've used, and then calls three functions. The first one multiplies the units by the cost per unit. The second one adds a standing charge. The third one is in charge of displaying the total correctly. Each function carries out one and only one job (modular programming) and the main program simply consists of a function call. Note, that if you are unsure of any of the code e.g. the formatting code for the total, then you should refer to the Python course on out website.\n",
    "\n",
    "Type in this code and get it working."
   ]
  },
  {
   "cell_type": "code",
   "execution_count": 7,
   "metadata": {},
   "outputs": [
    {
     "name": "stdout",
     "output_type": "stream",
     "text": [
      "Enter the number of units used:150\n",
      "The cost of your bill is $ 45.955\n"
     ]
    }
   ],
   "source": [
    "def unit_cost(units_used):\n",
    "    return units_used * 0.1397\n",
    "\n",
    "def add_standing_cost(bill):\n",
    "    return bill + 25\n",
    "\n",
    "def display_cost(total):\n",
    "    print('The cost of your bill is $', total)\n",
    "    \n",
    "units_used = float(input('Enter the number of units used:'))\n",
    "cost = unit_cost(units_used)\n",
    "total_cost = add_standing(cost)\n",
    "display_cost(total_cost)"
   ]
  },
  {
   "cell_type": "code",
   "execution_count": 15,
   "metadata": {},
   "outputs": [],
   "source": [
    "class UtilityBill(object):\n",
    "    \n",
    "    cost_per_unit = 0.1397\n",
    "    standing_cost = 25\n",
    "    \n",
    "    def __init__(self, units):\n",
    "        self.units = units\n",
    "    \n",
    "    def unit_cost(self):\n",
    "        return self.units * self.cost_per_unit\n",
    "    \n",
    "    def total_cost(self):\n",
    "        return self.unit_cost() + self.standing_cost\n",
    "    \n",
    "    def display_cost(self):\n",
    "        print('The cost of your bill is $', self.total_cost())"
   ]
  },
  {
   "cell_type": "code",
   "execution_count": 16,
   "metadata": {},
   "outputs": [
    {
     "name": "stdout",
     "output_type": "stream",
     "text": [
      "The cost of your bill is $ 45.955\n"
     ]
    }
   ],
   "source": [
    "january_bill = UtilityBill(units = 150)\n",
    "january_bill.display_cost()"
   ]
  },
  {
   "cell_type": "code",
   "execution_count": 17,
   "metadata": {},
   "outputs": [
    {
     "data": {
      "text/plain": [
       "20.955"
      ]
     },
     "execution_count": 17,
     "metadata": {},
     "output_type": "execute_result"
    }
   ],
   "source": [
    "january_bill.unit_cost()"
   ]
  },
  {
   "cell_type": "code",
   "execution_count": 18,
   "metadata": {},
   "outputs": [
    {
     "data": {
      "text/plain": [
       "0.1397"
      ]
     },
     "execution_count": 18,
     "metadata": {},
     "output_type": "execute_result"
    }
   ],
   "source": [
    "january_bill.cost_per_unit"
   ]
  },
  {
   "cell_type": "code",
   "execution_count": 19,
   "metadata": {},
   "outputs": [
    {
     "data": {
      "text/plain": [
       "25"
      ]
     },
     "execution_count": 19,
     "metadata": {},
     "output_type": "execute_result"
    }
   ],
   "source": [
    "january_bill.standing_cost"
   ]
  }
 ],
 "metadata": {
  "kernelspec": {
   "display_name": "Python 3 (ipykernel)",
   "language": "python",
   "name": "python3"
  },
  "language_info": {
   "codemirror_mode": {
    "name": "ipython",
    "version": 3
   },
   "file_extension": ".py",
   "mimetype": "text/x-python",
   "name": "python",
   "nbconvert_exporter": "python",
   "pygments_lexer": "ipython3",
   "version": "3.7.11"
  }
 },
 "nbformat": 4,
 "nbformat_minor": 1
}
