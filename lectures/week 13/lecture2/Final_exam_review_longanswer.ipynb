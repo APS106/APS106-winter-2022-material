{
 "cells": [
  {
   "cell_type": "markdown",
   "source": [
    "# Final Exam Review"
   ],
   "metadata": {
    "collapsed": false
   }
  },
  {
   "cell_type": "markdown",
   "source": [
    "## Question 1"
   ],
   "metadata": {
    "collapsed": false,
    "pycharm": {
     "name": "#%% md\n"
    }
   }
  },
  {
   "cell_type": "markdown",
   "source": [
    "![](Q1_Library.png)"
   ],
   "metadata": {
    "collapsed": false
   }
  },
  {
   "cell_type": "code",
   "execution_count": 1,
   "outputs": [],
   "source": [
    "class LibraryEmployee:\n",
    "    def __init__(self, name, favourites):\n",
    "        self.name = name\n",
    "        self.favourites = favourites\n",
    "        self.num_coffees = 0\n",
    "\n",
    "    def drink_coffee(self, num):\n",
    "        self.num_coffees += num\n",
    "\n",
    "    def shush_hooliganes(self, num_hooligans):\n",
    "        for i in range(num_hooligans):\n",
    "            print(\"Shhh!\")\n",
    "            self.drink_coffee(1)\n",
    "\n",
    "    def __str__(self):\n",
    "        return self.name"
   ],
   "metadata": {
    "collapsed": false,
    "pycharm": {
     "name": "#%%\n"
    }
   }
  },
  {
   "cell_type": "markdown",
   "source": [
    "# Question 2"
   ],
   "metadata": {
    "collapsed": false,
    "pycharm": {
     "name": "#%% md\n"
    }
   }
  },
  {
   "cell_type": "code",
   "execution_count": 82,
   "outputs": [],
   "source": [
    "import csv\n",
    "\n",
    "def load_inventory(filename):\n",
    "    '''(str) -> dictionary {str : [[int, str], [int, str], ...]}\n",
    "    Input: a string specifying the CSV filename\n",
    "    Output: a dictionary representing the inventory, amounts, and locations\n",
    "    '''\n",
    "    inventory_set = set()\n",
    "    mydict={}\n",
    "    with open(filename, 'r') as csvfile:\n",
    "        reader = csv.reader(csvfile)\n",
    "\n",
    "        # check for multiples\n",
    "        for row in reader:\n",
    "            inventory_set.add(row[0])\n",
    "            if row[0] in mydict:\n",
    "                mydict[row[0]].append([row[1], row[2].split('-')])\n",
    "            else:\n",
    "                mydict[row[0]] = [row[1], row[2].split('-')]\n",
    "\n",
    "    print (mydict)\n",
    "    #return (mydict)\n",
    "    csvfile.close()"
   ],
   "metadata": {
    "collapsed": false,
    "pycharm": {
     "name": "#%%\n"
    }
   }
  },
  {
   "cell_type": "code",
   "execution_count": 83,
   "outputs": [
    {
     "name": "stdout",
     "output_type": "stream",
     "text": [
      "{'widget': ['230', ['Toronto', 'Ontario'], ['200', ['Vancouver', 'BC']]], 'gadget': ['113', ['Montreal', 'Quebec']], 'bucket': ['200', ['Toronto', 'Ontario']]}\n"
     ]
    }
   ],
   "source": [
    "load_inventory('Q2file.csv')"
   ],
   "metadata": {
    "collapsed": false,
    "pycharm": {
     "name": "#%%\n"
    }
   }
  },
  {
   "cell_type": "markdown",
   "source": [
    "# Question 3"
   ],
   "metadata": {
    "collapsed": false
   }
  },
  {
   "cell_type": "code",
   "execution_count": null,
   "outputs": [],
   "source": [
    "class Node:\n",
    "    def __init__(self, c=None, p=None):\n",
    "        '''Creates an object of type Node.'''\n",
    "\n",
    "        self.cargo = c\n",
    "        self.priority = p\n",
    "        self.next = None\n",
    "class"
   ],
   "metadata": {
    "collapsed": false,
    "pycharm": {
     "name": "#%%\n"
    }
   }
  }
 ],
 "metadata": {
  "kernelspec": {
   "display_name": "Python 3",
   "language": "python",
   "name": "python3"
  },
  "language_info": {
   "codemirror_mode": {
    "name": "ipython",
    "version": 2
   },
   "file_extension": ".py",
   "mimetype": "text/x-python",
   "name": "python",
   "nbconvert_exporter": "python",
   "pygments_lexer": "ipython2",
   "version": "2.7.6"
  }
 },
 "nbformat": 4,
 "nbformat_minor": 0
}