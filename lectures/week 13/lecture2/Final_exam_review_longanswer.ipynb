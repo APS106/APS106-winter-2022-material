{
 "cells": [
  {
   "cell_type": "markdown",
   "metadata": {},
   "source": [
    "# Final Exam Review"
   ]
  },
  {
   "cell_type": "markdown",
   "metadata": {
    "pycharm": {
     "name": "#%% md\n"
    }
   },
   "source": [
    "## Question 1"
   ]
  },
  {
   "cell_type": "markdown",
   "metadata": {},
   "source": [
    "![](Q1_Library.png)"
   ]
  },
  {
   "cell_type": "code",
   "execution_count": 1,
   "metadata": {
    "pycharm": {
     "name": "#%%\n"
    }
   },
   "outputs": [],
   "source": [
    "class LibraryEmployee:\n",
    "    def __init__(self, name, favourites):\n",
    "        self.name = name\n",
    "        self.favourites = favourites\n",
    "        self.num_coffees = 0\n",
    "\n",
    "    def drink_coffee(self, num):\n",
    "        self.num_coffees += num\n",
    "\n",
    "    def shush_hooliganes(self, num_hooligans):\n",
    "        for i in range(num_hooligans):\n",
    "            print(\"Shhh!\")\n",
    "            self.drink_coffee(1)\n",
    "\n",
    "    def __str__(self):\n",
    "        return self.name"
   ]
  },
  {
   "cell_type": "markdown",
   "metadata": {
    "pycharm": {
     "name": "#%% md\n"
    }
   },
   "source": [
    "# Question 2"
   ]
  },
  {
   "cell_type": "code",
   "execution_count": 82,
   "metadata": {
    "pycharm": {
     "name": "#%%\n"
    }
   },
   "outputs": [],
   "source": [
    "import csv\n",
    "\n",
    "def load_inventory(filename):\n",
    "    '''(str) -> dictionary {str : [[int, str], [int, str], ...]}\n",
    "    Input: a string specifying the CSV filename\n",
    "    Output: a dictionary representing the inventory, amounts, and locations\n",
    "    '''\n",
    "    inventory_set = set()\n",
    "    mydict={}\n",
    "    with open(filename, 'r') as csvfile:\n",
    "        reader = csv.reader(csvfile)\n",
    "\n",
    "        # check for multiples\n",
    "        for row in reader:\n",
    "            inventory_set.add(row[0])\n",
    "            if row[0] in mydict:\n",
    "                mydict[row[0]].append([row[1], row[2].split('-')])\n",
    "            else:\n",
    "                mydict[row[0]] = [row[1], row[2].split('-')]\n",
    "\n",
    "    print (mydict)\n",
    "    #return (mydict)\n",
    "    csvfile.close()"
   ]
  },
  {
   "cell_type": "code",
   "execution_count": 83,
   "metadata": {
    "pycharm": {
     "name": "#%%\n"
    }
   },
   "outputs": [
    {
     "name": "stdout",
     "output_type": "stream",
     "text": [
      "{'widget': ['230', ['Toronto', 'Ontario'], ['200', ['Vancouver', 'BC']]], 'gadget': ['113', ['Montreal', 'Quebec']], 'bucket': ['200', ['Toronto', 'Ontario']]}\n"
     ]
    }
   ],
   "source": [
    "load_inventory('Q2file.csv')"
   ]
  },
  {
   "cell_type": "markdown",
   "metadata": {},
   "source": [
    "# Question 3"
   ]
  },
  {
   "cell_type": "code",
   "execution_count": 1,
   "metadata": {
    "pycharm": {
     "name": "#%%\n"
    }
   },
   "outputs": [],
   "source": [
    "class Node:\n",
    "    def __init__(self, c = None, p = None):\n",
    "        '''Creates an object of type Node.'''\n",
    "        self.cargo = c\n",
    "        self.priority = p\n",
    "        self.next = None"
   ]
  },
  {
   "cell_type": "code",
   "execution_count": null,
   "metadata": {},
   "outputs": [],
   "source": [
    "class LinkedList:\n",
    "    def __init__(self):\n",
    "        '''Creates a linked list, i.e., an object of type LinkedList. This list is empty.\n",
    "        '''\n",
    "\n",
    "        self.length = 0 # the number of elements in the list\n",
    "        self.head = None\n",
    "\n",
    "    def __str__(self):\n",
    "        \"\"\"\n",
    "        (self) -> str\n",
    "        Print out the entire linked list from head (left) to tail (right).\n",
    "        \"\"\"\n",
    "        # defining a blank res variable\n",
    "        res = \"\"\n",
    "         \n",
    "        # initializing ptr to head\n",
    "        ptr = self.head\n",
    "         \n",
    "       # traversing and adding it to res\n",
    "        while ptr:\n",
    "            res += str(ptr.cargo) + \", \"\n",
    "            ptr = ptr.next\n",
    " \n",
    "       # removing trailing commas\n",
    "        res = res.strip(\", \")\n",
    "         \n",
    "        # chen checking if\n",
    "        # anything is present in res or not\n",
    "        if len(res):\n",
    "            return \"[\" + res + \"]\"\n",
    "        else:\n",
    "            return \"[]\"\n",
    "\n",
    "    def insert_in_front(self, cargo, priority):\n",
    "        '''(LinkedList) -> NoneType\n",
    "        Insert an element at the front of the list.\n",
    "        '''\n",
    "        if self.length == 0:\n",
    "            self.head = Node(cargo, priority)\n",
    "        else:\n",
    "            aux = self.head\n",
    "            self.head = Node(cargo, priority)\n",
    "            self.head.next = aux\n",
    "\n",
    "        self.length += 1\n",
    "\n",
    "    def insert_after_node(self, n, cargo, priority):\n",
    "        '''Linked List -> NoneType\n",
    "        Insert an element in the list, right after node n.\n",
    "        '''\n",
    "        aux = n.next\n",
    "        n.next = Node(c, priority)\n",
    "        n.next.next = aux\n",
    "        self.length += 1"
   ]
  },
  {
   "cell_type": "markdown",
   "metadata": {},
   "source": [
    "# Part A"
   ]
  },
  {
   "cell_type": "code",
   "execution_count": 78,
   "metadata": {},
   "outputs": [],
   "source": [
    "class LinkedList:\n",
    "    def __init__(self):\n",
    "        '''Creates a linked list, i.e., an object of type LinkedList. This list is empty.\n",
    "        '''\n",
    "\n",
    "        self.length = 0 # the number of elements in the list\n",
    "        self.head = None\n",
    "\n",
    "    def __str__(self):\n",
    "        \"\"\"\n",
    "        (self) -> str\n",
    "        Print out the entire linked list from head (left) to tail (right).\n",
    "        \"\"\"\n",
    "        # defining a blank res variable\n",
    "        res = \"\"\n",
    "         \n",
    "        # initializing ptr to head\n",
    "        ptr = self.head\n",
    "         \n",
    "       # traversing and adding it to res\n",
    "        while ptr:\n",
    "            res += str(ptr.cargo) + \", \"\n",
    "            ptr = ptr.next\n",
    " \n",
    "       # removing trailing commas\n",
    "        res = res.strip(\", \")\n",
    "         \n",
    "        # chen checking if\n",
    "        # anything is present in res or not\n",
    "        if len(res):\n",
    "            return \"[\" + res + \"]\"\n",
    "        else:\n",
    "            return \"[]\"\n",
    "\n",
    "    def insert_in_front(self, cargo, priority):\n",
    "        '''(LinkedList) -> NoneType\n",
    "        Insert an element at the front of the list.\n",
    "        '''\n",
    "        if self.length == 0:\n",
    "            self.head = Node(cargo, priority)\n",
    "        else:\n",
    "            aux = self.head\n",
    "            self.head = Node(cargo, priority)\n",
    "            self.head.next = aux\n",
    "\n",
    "        self.length += 1\n",
    "\n",
    "    def insert_after_node(self, n, cargo, priority):\n",
    "        '''Linked List -> NoneType\n",
    "        Insert an element in the list, right after node n.\n",
    "        '''\n",
    "        aux = n.next\n",
    "        n.next = Node(c, priority)\n",
    "        n.next.next = aux\n",
    "        self.length += 1\n",
    "\n",
    "    def is_empty(self):\n",
    "        '''(LinkedList) -> bool\n",
    "        Return True if the list is empty and False otherwise'''\n",
    "        return self.head is None"
   ]
  },
  {
   "cell_type": "code",
   "execution_count": 79,
   "metadata": {},
   "outputs": [],
   "source": [
    "linked_list = LinkedList()"
   ]
  },
  {
   "cell_type": "code",
   "execution_count": 81,
   "metadata": {},
   "outputs": [],
   "source": [
    "linked_list.insert_in_front('Robin', 2)"
   ]
  },
  {
   "cell_type": "code",
   "execution_count": 82,
   "metadata": {},
   "outputs": [
    {
     "data": {
      "text/plain": [
       "False"
      ]
     },
     "execution_count": 82,
     "metadata": {},
     "output_type": "execute_result"
    }
   ],
   "source": [
    "linked_list.is_empty()"
   ]
  },
  {
   "cell_type": "markdown",
   "metadata": {},
   "source": [
    "# Part B"
   ]
  },
  {
   "cell_type": "code",
   "execution_count": 83,
   "metadata": {
    "pycharm": {
     "name": "#%%\n"
    }
   },
   "outputs": [],
   "source": [
    "class LinkedList:\n",
    "    def __init__(self):\n",
    "        '''Creates a linked list, i.e., an object of type LinkedList. This list is empty.\n",
    "        '''\n",
    "\n",
    "        self.length = 0 # the number of elements in the list\n",
    "        self.head = None\n",
    "\n",
    "    def __str__(self):\n",
    "        \"\"\"\n",
    "        (self) -> str\n",
    "        Print out the entire linked list from head (left) to tail (right).\n",
    "        \"\"\"\n",
    "        # defining a blank res variable\n",
    "        res = \"\"\n",
    "         \n",
    "        # initializing ptr to head\n",
    "        ptr = self.head\n",
    "         \n",
    "       # traversing and adding it to res\n",
    "        while ptr:\n",
    "            res += str(ptr.cargo) + \", \"\n",
    "            ptr = ptr.next\n",
    " \n",
    "       # removing trailing commas\n",
    "        res = res.strip(\", \")\n",
    "         \n",
    "        # chen checking if\n",
    "        # anything is present in res or not\n",
    "        if len(res):\n",
    "            return \"[\" + res + \"]\"\n",
    "        else:\n",
    "            return \"[]\"\n",
    "\n",
    "    def insert_in_front(self, cargo, priority):\n",
    "        '''(LinkedList) -> NoneType\n",
    "        Insert an element at the front of the list.\n",
    "        '''\n",
    "        if self.length == 0:\n",
    "            self.head = Node(cargo, priority)\n",
    "        else:\n",
    "            aux = self.head\n",
    "            self.head = Node(cargo, priority)\n",
    "            self.head.next = aux\n",
    "\n",
    "        self.length += 1\n",
    "\n",
    "    def insert_after_node(self, n, cargo, priority):\n",
    "        '''Linked List -> NoneType\n",
    "        Insert an element in the list, right after node n.\n",
    "        '''\n",
    "        aux = n.next\n",
    "        n.next = Node(c, priority)\n",
    "        n.next.next = aux\n",
    "        self.length += 1\n",
    "\n",
    "    def is_empty(self):\n",
    "        '''(LinkedList) -> bool\n",
    "        Return True if the list is empty and False otherwise'''\n",
    "        return self.head.next is None\n",
    "\n",
    "    def extract_first(self):\n",
    "        '''(LinkedList) -> string or NoneType\n",
    "        If the list has at least one element, remove the first element from the list, return its cargo and assign the next node in the sequence to be the new head of the list. If the list has only one element, remove the element and return its cargo. Return none if the list is empty. (No element removal is performed in this case). '''\n",
    "\n",
    "        if self.length > 1:\n",
    "            temp = self.head\n",
    "            temp_cargo = self.head.cargo\n",
    "            # Move the head pointer to the next node\n",
    "            self.head = self.head.next\n",
    "            temp = None\n",
    "            return temp_cargo\n",
    "\n",
    "        elif self.length == 1:\n",
    "            temp = self.head.cargo\n",
    "            self.head = None\n",
    "            return temp\n",
    "        \n",
    "        else:\n",
    "            return None"
   ]
  },
  {
   "cell_type": "code",
   "execution_count": 84,
   "metadata": {
    "pycharm": {
     "name": "#%%\n"
    }
   },
   "outputs": [],
   "source": [
    "linked_list = LinkedList()"
   ]
  },
  {
   "cell_type": "code",
   "execution_count": 85,
   "metadata": {
    "pycharm": {
     "name": "#%%\n"
    }
   },
   "outputs": [],
   "source": [
    "linked_list.insert_in_front('Robin', 2)\n",
    "linked_list.insert_in_front('Eric', 1)"
   ]
  },
  {
   "cell_type": "code",
   "execution_count": 86,
   "metadata": {
    "pycharm": {
     "name": "#%%\n"
    }
   },
   "outputs": [
    {
     "name": "stdout",
     "output_type": "stream",
     "text": [
      "[Eric, Robin]\n"
     ]
    }
   ],
   "source": [
    "print(linked_list)"
   ]
  },
  {
   "cell_type": "code",
   "execution_count": 87,
   "metadata": {
    "pycharm": {
     "name": "#%%\n"
    }
   },
   "outputs": [],
   "source": [
    "def len_link(list):\n",
    "    temp=list.head\n",
    "    count=0\n",
    "    while(temp):\n",
    "        count+=1\n",
    "        temp=temp.next\n",
    "    return count"
   ]
  },
  {
   "cell_type": "code",
   "execution_count": 88,
   "metadata": {
    "pycharm": {
     "name": "#%%\n"
    }
   },
   "outputs": [
    {
     "data": {
      "text/plain": [
       "2"
      ]
     },
     "execution_count": 88,
     "metadata": {},
     "output_type": "execute_result"
    }
   ],
   "source": [
    "len_link(linked_list)"
   ]
  },
  {
   "cell_type": "code",
   "execution_count": 89,
   "metadata": {
    "pycharm": {
     "name": "#%%\n"
    }
   },
   "outputs": [
    {
     "data": {
      "text/plain": [
       "'Eric'"
      ]
     },
     "execution_count": 89,
     "metadata": {},
     "output_type": "execute_result"
    }
   ],
   "source": [
    "linked_list.extract_first()"
   ]
  },
  {
   "cell_type": "code",
   "execution_count": 90,
   "metadata": {},
   "outputs": [
    {
     "data": {
      "text/plain": [
       "1"
      ]
     },
     "execution_count": 90,
     "metadata": {},
     "output_type": "execute_result"
    }
   ],
   "source": [
    "len_link(linked_list)"
   ]
  },
  {
   "cell_type": "code",
   "execution_count": 91,
   "metadata": {
    "scrolled": true
   },
   "outputs": [
    {
     "name": "stdout",
     "output_type": "stream",
     "text": [
      "[Robin]\n"
     ]
    }
   ],
   "source": [
    "print(linked_list)"
   ]
  },
  {
   "cell_type": "markdown",
   "metadata": {},
   "source": [
    "# Part C"
   ]
  },
  {
   "cell_type": "code",
   "execution_count": 384,
   "metadata": {
    "pycharm": {
     "name": "#%%\n"
    }
   },
   "outputs": [],
   "source": [
    "class LinkedList:\n",
    "    def __init__(self):\n",
    "        '''Creates a linked list, i.e., an object of type LinkedList. This list is empty.\n",
    "        '''\n",
    "\n",
    "        self.length = 0 # the number of elements in the list\n",
    "        self.head = None\n",
    "\n",
    "    def __str__(self):\n",
    "        \"\"\"\n",
    "        (self) -> str\n",
    "        Print out the entire linked list from head (left) to tail (right).\n",
    "        \"\"\"\n",
    "        # defining a blank res variable\n",
    "        string = \"\"\n",
    "         \n",
    "        # initializing ptr to head\n",
    "        ptr = self.head\n",
    "         \n",
    "       # traversing and adding it to res\n",
    "        while ptr:\n",
    "            string += str(ptr.cargo) + \", \"\n",
    "            ptr = ptr.next\n",
    " \n",
    "       # removing trailing commas\n",
    "        string = string.strip(\", \")\n",
    "         \n",
    "        # chen checking if\n",
    "        # anything is present in res or not\n",
    "        if len(string):\n",
    "            return \"[\" + string + \"]\"\n",
    "        else:\n",
    "            return \"[]\"\n",
    "\n",
    "    def insert_in_front(self, cargo, priority):\n",
    "        '''(LinkedList) -> NoneType\n",
    "        Insert an element at the front of the list.\n",
    "        '''\n",
    "        if self.length == 0:\n",
    "            self.head = Node(cargo, priority)\n",
    "        else:\n",
    "            aux = self.head\n",
    "            self.head = Node(cargo, priority)\n",
    "            self.head.next = aux\n",
    "\n",
    "        self.length += 1\n",
    "\n",
    "    def insert_after_node(self, n, cargo, priority):\n",
    "        '''Linked List -> NoneType\n",
    "        Insert an element in the list, right after node n.\n",
    "        '''\n",
    "        aux = n.next\n",
    "        n.next = Node(cargo, priority)\n",
    "        n.next.next = aux\n",
    "        self.length += 1\n",
    "\n",
    "    def is_empty(self):\n",
    "        '''(LinkedList) -> bool\n",
    "        Return True if the list is empty and False otherwise'''\n",
    "        return self.head.next is None\n",
    "\n",
    "    def extract_first(self):\n",
    "        '''(LinkedList) -> string or NoneType\n",
    "        If the list has at least one element, remove the first element from the list, return its cargo and assign the next node in the sequence to be the new head of the list. If the list has only one element, remove the element and return its cargo. Return none if the list is empty. (No element removal is performed in this case). '''\n",
    "\n",
    "        if self.length > 1:\n",
    "            temp = self.head\n",
    "            temp_cargo = self.head.cargo\n",
    "            # Move the head pointer to the next node\n",
    "            self.head = self.head.next\n",
    "            temp = None\n",
    "            return temp_cargo\n",
    "\n",
    "        elif self.length == 1:\n",
    "            temp = self.head.cargo\n",
    "            self.head = None\n",
    "            return temp\n",
    "        \n",
    "        else:\n",
    "            return None\n",
    "        \n",
    "    def insert(self, cargo, priority):\n",
    "        '''(LinkedList, string, int) -> NoneType\n",
    "        Insert a new element in the list at the position corresponding to its given priority. Update the length of the list'''\n",
    "        \n",
    "        newNode = Node(cargo, priority)\n",
    "        \n",
    "        if self.is_empty() == True:\n",
    "             \n",
    "            # Creating a new node and assigning\n",
    "            # it to class variable\n",
    "            self.head = Node(cargo, priority)\n",
    "       \n",
    "        elif self.head.priority < priority:\n",
    "\n",
    "                    # Updating the new node next value\n",
    "                    newNode.next = self.head\n",
    "\n",
    "                    # Assigning it to self.front\n",
    "                    self.head = newNode\n",
    "\n",
    "        else:\n",
    "            #the node has a lower priority than the first\n",
    "            #find the next node with a lower priority, insert newnode before that\n",
    "            on = self.head\n",
    "            while on.next != None: \n",
    "                #traverse nodes until we find a lower priority or until the end\n",
    "                if on.next.priority < newNode.priority:\n",
    "                    break\n",
    "                on = on.next\n",
    "            #insert newnode between currentnode and currentnode.next\n",
    "            newNode.next = on.next\n",
    "            on.next = newNode\n",
    "            \n",
    "            if newNode.next == None:\n",
    "                self.next = newNode\n",
    "    \n",
    "        self.length += 1"
   ]
  },
  {
   "cell_type": "code",
   "execution_count": 385,
   "metadata": {
    "pycharm": {
     "name": "#%%\n"
    }
   },
   "outputs": [],
   "source": [
    "linked_list = LinkedList()"
   ]
  },
  {
   "cell_type": "code",
   "execution_count": 386,
   "metadata": {},
   "outputs": [],
   "source": [
    "linked_list.insert_in_front('Ashley', 2)\n",
    "linked_list.insert_in_front('Erin', 6)\n",
    "linked_list.insert_in_front('Robin', 7)"
   ]
  },
  {
   "cell_type": "code",
   "execution_count": 387,
   "metadata": {},
   "outputs": [
    {
     "name": "stdout",
     "output_type": "stream",
     "text": [
      "[Robin, Erin, Ashley]\n"
     ]
    }
   ],
   "source": [
    "print(linked_list)"
   ]
  },
  {
   "cell_type": "code",
   "execution_count": 388,
   "metadata": {},
   "outputs": [],
   "source": [
    "linked_list.insert('Alexis', 3)"
   ]
  },
  {
   "cell_type": "code",
   "execution_count": 389,
   "metadata": {},
   "outputs": [
    {
     "name": "stdout",
     "output_type": "stream",
     "text": [
      "[Robin, Erin, Alexis, Ashley]\n"
     ]
    }
   ],
   "source": [
    "print(linked_list)"
   ]
  },
  {
   "cell_type": "code",
   "execution_count": 391,
   "metadata": {},
   "outputs": [
    {
     "data": {
      "text/plain": [
       "4"
      ]
     },
     "execution_count": 391,
     "metadata": {},
     "output_type": "execute_result"
    }
   ],
   "source": [
    "len_link(linked_list)"
   ]
  },
  {
   "cell_type": "markdown",
   "metadata": {},
   "source": [
    "# Question 4 (if time)"
   ]
  },
  {
   "cell_type": "code",
   "execution_count": 396,
   "metadata": {},
   "outputs": [],
   "source": [
    "def vectorize(M):\n",
    "    '''(list of lists) -> list\n",
    "    Transforms a two dimensional matrix M into a vector\n",
    "    '''\n",
    "    vector = []\n",
    "    \n",
    "    for list_in_list in M:\n",
    "        for item in list_in_list:\n",
    "            vector.append(item)\n",
    "    \n",
    "    return vector"
   ]
  },
  {
   "cell_type": "code",
   "execution_count": 397,
   "metadata": {},
   "outputs": [],
   "source": [
    "M = [[2, 1, 4, 5], [5, 2, 8, 1], [3, 6, 2, 0]]"
   ]
  },
  {
   "cell_type": "code",
   "execution_count": 412,
   "metadata": {},
   "outputs": [
    {
     "data": {
      "text/plain": [
       "[2, 1, 4, 5, 5, 2, 8, 1, 3, 6, 2, 0]"
      ]
     },
     "execution_count": 412,
     "metadata": {},
     "output_type": "execute_result"
    }
   ],
   "source": [
    "vectorize(M)"
   ]
  },
  {
   "cell_type": "code",
   "execution_count": 424,
   "metadata": {},
   "outputs": [],
   "source": [
    "def reshape (V, m, n):\n",
    "    '''(list, int, int) -> list of lists\n",
    "    Transforms a vector V into a two dimensional matrix with m rows and n columns. If the vector cannot be reshaped to the dimensions specified by m and n, then print the error message: \n",
    "    'Error: a vector cannot be reshaped to specified dimensions and return an empty list'\n",
    "    '''\n",
    "    list_of_lists = []\n",
    "    \n",
    "    if (m * n == len(V)):\n",
    "        for i in range(m):\n",
    "            rowList = []\n",
    "            for j in range(n):\n",
    "                # you need to increment through dataList here, like this:\n",
    "                rowList.append(V[m * i + j])\n",
    "            list_of_lists.append(rowList)\n",
    "\n",
    "        return list_of_lists\n",
    "    \n",
    "    else:\n",
    "        return (\"Error: vector cannot be reshaped to specified dimensions\")   "
   ]
  },
  {
   "cell_type": "code",
   "execution_count": 425,
   "metadata": {},
   "outputs": [],
   "source": [
    "k = [2, 1, 4, 5, 5, 2, 8, 1, 3, 6, 2, 0]"
   ]
  },
  {
   "cell_type": "code",
   "execution_count": 428,
   "metadata": {},
   "outputs": [
    {
     "data": {
      "text/plain": [
       "'Error: vector cannot be reshaped to specified dimensions'"
      ]
     },
     "execution_count": 428,
     "metadata": {},
     "output_type": "execute_result"
    }
   ],
   "source": [
    "reshape(k, 2, 6)"
   ]
  },
  {
   "cell_type": "code",
   "execution_count": null,
   "metadata": {},
   "outputs": [],
   "source": []
  }
 ],
 "metadata": {
  "kernelspec": {
   "display_name": "Python 3 (ipykernel)",
   "language": "python",
   "name": "python3"
  },
  "language_info": {
   "codemirror_mode": {
    "name": "ipython",
    "version": 3
   },
   "file_extension": ".py",
   "mimetype": "text/x-python",
   "name": "python",
   "nbconvert_exporter": "python",
   "pygments_lexer": "ipython3",
   "version": "3.8.12"
  }
 },
 "nbformat": 4,
 "nbformat_minor": 1
}
