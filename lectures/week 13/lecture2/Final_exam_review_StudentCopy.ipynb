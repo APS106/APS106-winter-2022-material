{
 "cells": [
  {
   "cell_type": "markdown",
   "source": [
    "# Final Exam Review"
   ],
   "metadata": {
    "collapsed": false
   }
  },
  {
   "cell_type": "markdown",
   "source": [
    "## Question 1"
   ],
   "metadata": {
    "collapsed": false,
    "pycharm": {
     "name": "#%% md\n"
    }
   }
  },
  {
   "cell_type": "markdown",
   "source": [
    "![](Q1_Library.png)"
   ],
   "metadata": {
    "collapsed": false
   }
  },
  {
   "cell_type": "code",
   "execution_count": null,
   "outputs": [],
   "source": [],
   "metadata": {
    "collapsed": false,
    "pycharm": {
     "name": "#%%\n"
    }
   }
  },
  {
   "cell_type": "markdown",
   "source": [
    "# Question 2"
   ],
   "metadata": {
    "collapsed": false,
    "pycharm": {
     "name": "#%% md\n"
    }
   }
  },
  {
   "cell_type": "code",
   "execution_count": null,
   "outputs": [],
   "source": [
    "import csv\n",
    "\n",
    "def load_inventory(filename):\n",
    "    '''(str) -> dictionary {str : [[int, str], [int, str], ...]}\n",
    "    Input: a string specifying the CSV filename\n",
    "    Output: a dictionary representing the inventory, amounts, and locations\n",
    "    '''"
   ],
   "metadata": {
    "collapsed": false,
    "pycharm": {
     "name": "#%%\n"
    }
   }
  },
  {
   "cell_type": "markdown",
   "source": [
    "# Question 3"
   ],
   "metadata": {
    "collapsed": false,
    "pycharm": {
     "name": "#%% md\n"
    }
   }
  },
  {
   "cell_type": "code",
   "execution_count": 1,
   "outputs": [],
   "source": [
    "class Node:\n",
    "    def __init__(self, c = None, p = None):\n",
    "        '''Creates an object of type Node.'''\n",
    "        self.cargo = c\n",
    "        self.priority = p\n",
    "        self.next = None"
   ],
   "metadata": {
    "collapsed": false,
    "pycharm": {
     "name": "#%%\n"
    }
   }
  },
  {
   "cell_type": "code",
   "execution_count": 2,
   "outputs": [],
   "source": [
    "class LinkedList:\n",
    "    def __init__(self):\n",
    "        '''Creates a linked list, i.e., an object of type LinkedList. This list is empty.\n",
    "        '''\n",
    "\n",
    "        self.length = 0 # the number of elements in the list\n",
    "        self.head = None\n",
    "\n",
    "    def __str__(self):\n",
    "        \"\"\"\n",
    "        (self) -> str\n",
    "        Print out the entire linked list from head (left) to tail (right).\n",
    "        \"\"\"\n",
    "        # defining a blank res variable\n",
    "        res = \"\"\n",
    "\n",
    "        # initializing ptr to head\n",
    "        ptr = self.head\n",
    "\n",
    "       # traversing and adding it to res\n",
    "        while ptr:\n",
    "            res += str(ptr.cargo) + \", \"\n",
    "            ptr = ptr.next\n",
    "\n",
    "       # removing trailing commas\n",
    "        res = res.strip(\", \")\n",
    "\n",
    "        # chen checking if\n",
    "        # anything is present in res or not\n",
    "        if len(res):\n",
    "            return \"[\" + res + \"]\"\n",
    "        else:\n",
    "            return \"[]\"\n",
    "\n",
    "    def insert_in_front(self, cargo, priority):\n",
    "        '''(LinkedList) -> NoneType\n",
    "        Insert an element at the front of the list.\n",
    "        '''\n",
    "        if self.length == 0:\n",
    "            self.head = Node(cargo, priority)\n",
    "        else:\n",
    "            aux = self.head\n",
    "            self.head = Node(cargo, priority)\n",
    "            self.head.next = aux\n",
    "\n",
    "        self.length += 1\n",
    "\n",
    "    def insert_after_node(self, n, cargo, priority):\n",
    "        '''Linked List -> NoneType\n",
    "        Insert an element in the list, right after node n.\n",
    "        '''\n",
    "        aux = n.next\n",
    "        n.next = Node(c, priority)\n",
    "        n.next.next = aux\n",
    "        self.length += 1"
   ],
   "metadata": {
    "collapsed": false,
    "pycharm": {
     "name": "#%%\n"
    }
   }
  },
  {
   "cell_type": "markdown",
   "source": [],
   "metadata": {
    "collapsed": false,
    "pycharm": {
     "name": "#%% md\n"
    }
   }
  },
  {
   "cell_type": "markdown",
   "source": [
    "![](Q3A.png)"
   ],
   "metadata": {
    "collapsed": false,
    "pycharm": {
     "name": "#%% md\n"
    }
   }
  },
  {
   "cell_type": "markdown",
   "source": [
    "# Part B"
   ],
   "metadata": {
    "collapsed": false,
    "pycharm": {
     "name": "#%% md\n"
    }
   }
  },
  {
   "cell_type": "markdown",
   "source": [
    "![](Q3B.png)"
   ],
   "metadata": {
    "collapsed": false,
    "pycharm": {
     "name": "#%% md\n"
    }
   }
  },
  {
   "cell_type": "markdown",
   "source": [
    "# Part C"
   ],
   "metadata": {
    "collapsed": false,
    "pycharm": {
     "name": "#%% md\n"
    }
   }
  },
  {
   "cell_type": "markdown",
   "source": [
    "![](Q3C.png)"
   ],
   "metadata": {
    "collapsed": false,
    "pycharm": {
     "name": "#%% md\n"
    }
   }
  },
  {
   "cell_type": "markdown",
   "source": [],
   "metadata": {
    "collapsed": false,
    "pycharm": {
     "name": "#%% md\n"
    }
   }
  },
  {
   "cell_type": "markdown",
   "source": [
    "# Question 4 (if time)"
   ],
   "metadata": {
    "collapsed": false,
    "pycharm": {
     "name": "#%% md\n"
    }
   }
  },
  {
   "cell_type": "markdown",
   "source": [
    "![](Q4.png)"
   ],
   "metadata": {
    "collapsed": false,
    "pycharm": {
     "name": "#%% md\n"
    }
   }
  },
  {
   "cell_type": "code",
   "execution_count": null,
   "outputs": [],
   "source": [
    "def vectorize(M):\n",
    "    '''(list of lists) -> list\n",
    "    Transforms a two dimensional matrix M into a vector\n",
    "    '''"
   ],
   "metadata": {
    "collapsed": false,
    "pycharm": {
     "name": "#%%\n"
    }
   }
  },
  {
   "cell_type": "markdown",
   "source": [
    "![](Q4b.png)"
   ],
   "metadata": {
    "collapsed": false,
    "pycharm": {
     "name": "#%% md\n"
    }
   }
  },
  {
   "cell_type": "code",
   "execution_count": null,
   "outputs": [],
   "source": [
    "def reshape (V, m, n):\n",
    "    '''(list, int, int) -> list of lists\n",
    "    Transforms a vector V into a two dimensional matrix with m rows and n columns. If the vector cannot be reshaped to the dimensions specified by m and n, then print the error message:\n",
    "    'Error: a vector cannot be reshaped to specified dimensions and return an empty list'\n",
    "    '''"
   ],
   "metadata": {
    "collapsed": false,
    "pycharm": {
     "name": "#%%\n"
    }
   }
  }
 ],
 "metadata": {
  "kernelspec": {
   "display_name": "Python 3",
   "language": "python",
   "name": "python3"
  },
  "language_info": {
   "codemirror_mode": {
    "name": "ipython",
    "version": 2
   },
   "file_extension": ".py",
   "mimetype": "text/x-python",
   "name": "python",
   "nbconvert_exporter": "python",
   "pygments_lexer": "ipython2",
   "version": "2.7.6"
  }
 },
 "nbformat": 4,
 "nbformat_minor": 0
}