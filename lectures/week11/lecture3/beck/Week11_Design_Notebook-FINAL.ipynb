{
 "cells": [
  {
   "cell_type": "markdown",
   "metadata": {},
   "source": [
    "### APS106 Lecture Notes - Week 8, Design Problem\n",
    "# Solving Systems of Equations"
   ]
  },
  {
   "cell_type": "markdown",
   "metadata": {},
   "source": [
    "## Problem Background\n",
    "\n",
    "Often in engineering we are faced with problems requiring us to solve systems of equations. A linear system of equations is one where there is no exponents on any of the variables, for example:\n",
    "\n",
    "$$\n",
    "25x_1 - 5x_2 - 20x_3 = 50 \\\\\n",
    "-5x_1 +10x_2 - 4x_3 = 0 \\\\\n",
    "-5x_1 -4x_2 + 9x_3 = 0 \\\\\n",
    "$$\n",
    "\n",
    "This linear system can also be expressed in matrix form like so:\n",
    "\n",
    "$\\begin{bmatrix} \n",
    "25 & -5 & -20 & | & 50 \\\\ \n",
    "-5 & 10 & -4 & | & 0\\\\ \n",
    "-5 & -4 & 9 & | & 0 \\end{bmatrix}$\n",
    "\n",
    "There are several applications of matrices, including image manipulation (named the Gaussian blur algorithm!) to reduce noise and detail. This is important if you have some images where you want to make something into a background (think of your phone focus feature as an example), or in microscopy, where you might have noise introduced in a picture that should be excluded.\n",
    "\n",
    "![Flower](images/flower.png)\n",
    "\n",
    "Matrices also have several applications in optimization problems. This is common in industrial engineering applications, where you might want to balance pricing, revenue and manufacturing functions to determine the optimal quantities to ship and manufacture materials.\n",
    "\n",
    "![Pricing](images/pricing.png)\n",
    "\n",
    "Write a program to automate the process of solving the matrix."
   ]
  },
  {
   "cell_type": "markdown",
   "metadata": {},
   "source": [
    "## Define the Problem\n",
    "\n",
    "Given a set of equations we would like to determine values that solve them. The design should be able find the solution to at least 3 equations."
   ]
  },
  {
   "cell_type": "markdown",
   "metadata": {},
   "source": [
    "## Define Test Cases\n",
    "\n",
    "### Test case 1:\n",
    "\n",
    "$$\n",
    "9x_1 + 12x_2 = 75 \\\\\n",
    "3x_1 - 2x_2 = 1 \\\\\n",
    "$$\n",
    "\n",
    "Answer $x_1 = 3$, $x_2 = 4$.\n",
    "\n",
    "### Test case 2:\n",
    "\n",
    "$$\n",
    "25x_1 - 5x_2 - 20x_3 = 50 \\\\\n",
    "-5x_1 + 10x_2 - 4x_3 = 0 \\\\\n",
    "-5x_1 - 4x_2 + 9x_3 = 0 \\\\\n",
    "$$\n",
    "\n",
    "Answer $x_1 = 29.6$, $x_2 = 26$, and $x_3 = 28$."
   ]
  },
  {
   "cell_type": "markdown",
   "metadata": {},
   "source": [
    "## Generate Many Creative Solutions\n",
    "\n",
    "This is the most challenging design problem so far, so here are some decisions and hints that will help you to figure out the rest of it -- as well as to figure out how to approach such a problem in a step-by-step way.\n",
    "\n",
    "First, there are a bunch of ways to solve a system of equations: for example, Gaussian Elimination, Cramer’s Rule, find the inverse matrix. Gaussian Elimination is pretty straightforward and you likely studied it in high school, so let's choose that method. Note that such a choice changes the problem definition from writing code to solve a system of equations to writing code that implements Gaussian Elimination. This is a big step since you don't have to re-invent Gaussian Elimination -- we can just look up the method.\n",
    "\n",
    "As usual, you also need to figure out how to represent the problem in the computer. The basic thing to represent is the system of equations. By far the most standard way of doing this is in matrix form.\n",
    "\n",
    "Great two decisions made!\n",
    "\n",
    "At this point you might want to even write some code to setup your test cases. (It is certainly way to early to start writing code to solve the problem, but it is not uncommon to start doing some coding of the easy bits.)\n",
    "\n",
    "So here is some starting code."
   ]
  },
  {
   "cell_type": "code",
   "execution_count": null,
   "metadata": {},
   "outputs": [],
   "source": [
    "mtx0 = [[6, 1, 20],\n",
    "       [5, 1, 13]]\n",
    "sol0 = [7,-22]\n",
    "\n",
    "gauss_elim(mtx0)\n",
    "\n",
    "mtx1 = [[25, -5, -20, 50],\n",
    "       [-5, 10, -4, 0],\n",
    "       [-5, -4, 9, 0]]\n",
    "sol1 = [29.6, 26, 28]\n",
    "\n",
    "gauss_elim(mtx1)"
   ]
  },
  {
   "cell_type": "markdown",
   "metadata": {},
   "source": [
    "What happens when you try to run this code?\n",
    "\n",
    "Python tells you it doesn't know the function `gauss_elim` - which makes sense since you haven't written it. Here's another common practice: even though you don't know the contents of the function, you can still code it up as a \"stub\": a function that is only the name and the arguments and doesn't do anything. It's also a good idea to write some documentation."
   ]
  },
  {
   "cell_type": "code",
   "execution_count": null,
   "metadata": {},
   "outputs": [],
   "source": [
    "def gauss_elim(mtx):\n",
    "    '''\n",
    "    (list of lists) -> None\n",
    "    Execute the Gaussian Elimination algorithm on mtx\n",
    "    '''\n",
    "    ..."
   ]
  },
  {
   "cell_type": "markdown",
   "metadata": {},
   "source": [
    "OK, enough messing around. It's time to try to remember how to do Gaussian elimination.\n",
    "\n",
    "The basic idea of Gaussian elimination is to represent the system of equations in a matrix and then use a series of multiplications and subtractions to achieve an identity matrix. \n",
    "\n",
    "An initial **Algorithm Plan**\n",
    "1. Represent the system of equations by a matrix, mtx\n",
    "2. For each row, `r`\n",
    "    1. Divide each element row `r` by the `mtx[r][r]` so the value in `mtx[r][r]` becomes a 1.\n",
    "    2. Subtract a multiple of row `r` from each of the other rows to zero out their rth column.\n",
    "3. The solution to the system of equations now lies in the last column.\n",
    "\n",
    "Hmmm ... that is looking like something you could start to implement, even though you still have to work out some details. Step 2 looks like a loop, right? Note that Step 2B says something about \"each of the other rows\". If you are doing something to each row, that is a good indication of another loop -- nested inside the first one. But perhaps it's best to see if we can get Step 2A working before we go into 2B.\n",
    "\n",
    "And so this gives us a **Programming Plan**\n",
    "\n",
    "1. Write the test cases in Python. **DONE**\n",
    "2. Write a stub for the function `gauss_elim`. **DONE**\n",
    "3. In `gauss_elim` write for loop that calls a function to set the diagonal cell (i.e., `mtx[r][r]`) is assigned to 1. \n",
    "4. Write a stub for `set_diagonal_cell_to_one`\n",
    "5. Write the `set_diagonal_cell_to_one` function.\n",
    "6. Inside that main for loop in `gauss_elim` write another loop that calls a function to zero out the rth column.\n",
    "7. Write as stub for `set_column_to_zero`\n",
    "8. Write the `set_column_to_zero` function.\n",
    "\n",
    "It looks like this won't be easy and it definitely looks like Steps 5 and 8 are going to need to be refined. But let's see what the code might look like.\n",
    "\n",
    "## Step 3: Write a for-loop that calls `set_diagonal_to_one` for each row."
   ]
  },
  {
   "cell_type": "code",
   "execution_count": null,
   "metadata": {},
   "outputs": [],
   "source": [
    "def gauss_elim(mtx):\n",
    "    '''\n",
    "    (list of lists) -> None\n",
    "    Execute the Gaussian Elimination algorithm on mtx\n",
    "    '''\n",
    "    \n",
    "    for i in range(len(mtx)): #Note: i represents the rows in each matrix\n",
    "        set_diagonal_to_one(mtx,i)"
   ]
  },
  {
   "cell_type": "markdown",
   "metadata": {},
   "source": [
    "Wow! That was easy.\n",
    "\n",
    "## Step 4. Breakout Session: Write a function for `set_diagonal_cell_to_one`"
   ]
  },
  {
   "cell_type": "code",
   "execution_count": null,
   "metadata": {},
   "outputs": [],
   "source": [
    "def set_diagonal_cell_to_one(mtx, col):\n",
    "    '''\n",
    "    (list of lists, int) -> None\n",
    "    Set the cell mtx[col][col] to 1 by dividing each element \n",
    "    in the row mtx[col] by mtx[col][col]. Remember that return is none for this function!\n",
    "    '''\n",
    "    #write your code here\n",
    "    #hint use a for loop, diagonal values are found at mtx[col][col]\n",
    "    \n",
    "    divisor = mtx[col][col]\n",
    "    \n",
    "    if divisor == 1:\n",
    "        return\n",
    "    \n",
    "    for i in range(len(mtx[col])):\n",
    "        mtx[col][i] /= divisor #question: why would using mtx[col][col] not work here?"
   ]
  },
  {
   "cell_type": "markdown",
   "metadata": {},
   "source": [
    "### Test Case 0:"
   ]
  },
  {
   "cell_type": "markdown",
   "metadata": {},
   "source": [
    "Input:\n",
    "$\\begin{bmatrix} \n",
    "6 & 1 & | & 20 \\\\ \n",
    "5 & 1 & | & 13 \\end{bmatrix}$\n",
    "\n",
    "Expected Output:\n",
    "$\\begin{bmatrix} \n",
    "1 & 0.166 & | & 3.333 \\\\ \n",
    "5 & 1 & | & 13 \\end{bmatrix}$\n",
    "\n",
    "As a list: `[[1.0, 0.16666666666666666, 3.3333333333333335], [5, 1, 13]]`\n"
   ]
  },
  {
   "cell_type": "code",
   "execution_count": null,
   "metadata": {},
   "outputs": [],
   "source": [
    "mtx0 = [[6, 1, 20],\n",
    "       [5, 1, 13]]\n",
    "\n",
    "for row in range(len(mtx0)):\n",
    "    set_diagonal_cell_to_one(mtx0,row)\n",
    "    \n",
    "print(mtx0)"
   ]
  },
  {
   "cell_type": "markdown",
   "metadata": {},
   "source": [
    "### Test case 2:"
   ]
  },
  {
   "cell_type": "markdown",
   "metadata": {},
   "source": [
    "Input:\n",
    "$\\begin{bmatrix} \n",
    "25 & -5 & -20 & | & 50 \\\\ \n",
    "-5 & 10 & -4 & | & 0\\\\ \n",
    "-5 & -4 & 9 & | & 0 \\end{bmatrix}$\n",
    "\n",
    "Expected Output:\n",
    "$\\begin{bmatrix} \n",
    "1 & -0.2 & -0.8 & | & 2 \\\\ \n",
    "-0.5 & 1 & -0.4 & | & 0\\\\ \n",
    "-0.555 & -0.444 & 1 & | & 0 \\end{bmatrix}$\n",
    "\n",
    "As a list:\n",
    "`[[1.0, -0.2, -0.8, 2.0], [-0.5, 1.0, -0.4, 0.0], [-0.5555555555555556, -0.4444444444444444, 1.0, 0.0]]`"
   ]
  },
  {
   "cell_type": "code",
   "execution_count": null,
   "metadata": {},
   "outputs": [],
   "source": [
    "mtx1 = [[25, -5, -20, 50],\n",
    "       [-5, 10, -4, 0],\n",
    "       [-5, -4, 9, 0]]\n",
    "\n",
    "for column in range(len(mtx1)):\n",
    "    set_diagonal_cell_to_one(mtx1,column)\n",
    "\n",
    "print(mtx1)"
   ]
  },
  {
   "cell_type": "markdown",
   "metadata": {},
   "source": [
    "Before going any further, it is **strongly** recommended to get this code working. You have a well-defined problem and you have two test cases. Without writing the rest of the algorithm, you can write `set_diagonal_cell_to_one` and then make sure it works by running the tests.\n",
    "\n",
    "Hint: you may want to write some helper functions to help you debug. For example, a function that prints out a matrix in an easily readable format.\n",
    "\n",
    "So go - do it! *Do not read any further until you have successful code up to the end of Step 5!*\n",
    "\n",
    "**One More Hint**\n",
    "\n",
    "And just in case Step 6 confuses you, here's what your *final* code for the `gauss_elim` function might look like."
   ]
  },
  {
   "cell_type": "markdown",
   "metadata": {},
   "source": [
    "# Back in the Lecture\n",
    "\n",
    "### What Happened to the Engineering Design Process?\n",
    "\n",
    "You may be wondering at this point what happened to the **Engineering Design Process**. Afterall, we are actually implementing part of the solution before we even have an idea how to solve the rest. \n",
    "\n",
    "The design process does exist but its a simplification to think that we go through it one time, step-by-step. We actually go through the process multiple times on small sub-problems. Often the process looks more like the following:\n",
    "- design process at a high-level to map out big picture. This process might include all the steps but probably leaves some \"subproblems\" unsolved\n",
    "- loop back, choose a subproblem, and go through the entire design process on it (including testing!). (If the subproblem is complicated enough this design process may result in a series of subsubproblems that need to be solved via, you guessed it, another design process loop).\n",
    "- loop back again, choose a subproblem (or subsubproblem or subsubsubproblem), and go through the entire design process again.\n",
    "\n",
    "## Where Were We?\n",
    "\n",
    "At the end of the prompt, we were left with the following code (not counting the final hint)."
   ]
  },
  {
   "cell_type": "code",
   "execution_count": null,
   "metadata": {},
   "outputs": [],
   "source": [
    "def gauss_elim(mtx):\n",
    "    '''\n",
    "    (list of lists) -> None\n",
    "    Execute the Gaussian Elimination algorithm on mtx\n",
    "    '''\n",
    "    \n",
    "    for i in range(len(mtx)): #Note: i represents the rows in each matrix\n",
    "        set_diagonal_to_one(mtx,i)\n",
    "        \n",
    "        # todo: for row set_column_to_zero using row i    \n",
    "\n",
    "def set_diagonal_cell_to_one(mtx, col):\n",
    "    '''\n",
    "    (list of lists, int) -> None\n",
    "    Set the cell mtx[col][col] to 1 by dividing each element \n",
    "    in the row mtx[col] by mtx[col][col]. Remember that return is none for this function!\n",
    "    '''\n",
    "    #write your code here\n",
    "    #hint use a for loop, diagonal values are found at mtx[col][col]\n",
    "    \n",
    "    divisor = mtx[col][col]\n",
    "    \n",
    "    if divisor == 1:\n",
    "        return\n",
    "    \n",
    "    for i in range(len(mtx[col])):\n",
    "        mtx[col][i] /= divisor\n",
    "        \n",
    "\n",
    "mtx1 = [[25, -5, -20, 50],\n",
    "       [-5, 10, -4, 0],\n",
    "       [-5, -4, 9, 0]]\n",
    "sol1 = [29.6, 26, 28]\n",
    "\n",
    "gauss_elim(mtx1)\n",
    "print(mtx1)\n",
    "\n",
    "mtx2 = [[1, 1, -1, 4],\n",
    "       [-2, 2, 12, 12],\n",
    "       [6, -4, 2, 6]]\n",
    "sol2 = [2.39, 2.58, 0.97]\n",
    "\n",
    "gauss_elim(mtx2)\n",
    "print(mtx2)\n"
   ]
  },
  {
   "cell_type": "markdown",
   "metadata": {},
   "source": [
    "Looks like it works.\n",
    "\n",
    "Time to revisit out upper-level **Programming Plan**\n",
    "\n",
    "1. Write the test cases in Python. **DONE**\n",
    "2. Write a stub for the function `gauss_elim`. **DONE**\n",
    "3. In `gauss_elim` write for loop that calls a function to set the diagonal cell (i.e., `mtx[r][r]`) is assigned to 1. **DONE**\n",
    "4. Write a stub for `set_diagonal_cell_to_one` **DONE**\n",
    "5. Write the `set_diagonal_cell_to_one` function. **DONE**\n",
    "6. Inside that main for loop in `gauss_elim` write another loop that calls a function to zero out the rth column.\n",
    "7. Write as stub for `set_column_to_zero`\n",
    "8. Write the `set_column_to_zero` function.\n",
    "\n",
    "We actually did Step 6 in the last hint in the prompt."
   ]
  },
  {
   "cell_type": "code",
   "execution_count": null,
   "metadata": {},
   "outputs": [],
   "source": [
    "def gauss_elim(mtx):\n",
    "    '''\n",
    "    (list of lists) -> None\n",
    "    Execute the Gaussian Elimination algorithm on mtx\n",
    "    '''\n",
    "    \n",
    "    for i in range(len(mtx)): #Note: i represents the rows in each matrix\n",
    "        set_diagonal_to_one(mtx,i)\n",
    "        \n",
    "        for row in range(len(mtx)):\n",
    "            if i!=row:\n",
    "                set_column_to_zero(mtx,row,i)  \n",
    "        \n",
    "        ...\n",
    "            ..."
   ]
  },
  {
   "cell_type": "markdown",
   "metadata": {},
   "source": [
    "Let's write the stub for `set_column_to_zero`.\n"
   ]
  },
  {
   "cell_type": "markdown",
   "metadata": {},
   "source": [
    "Now we need an **Algorithm Plan** for `set_column_to_zero`.\n",
    "\n",
    "1. Get the multiplier - row * col.\n",
    "2. For each element of row\n",
    "    1. set the element to be what it was minus multiplier times the corresponding element of `mtx[col]`"
   ]
  },
  {
   "cell_type": "code",
   "execution_count": null,
   "metadata": {},
   "outputs": [],
   "source": [
    "def set_column_to_zero(mtx, row, col):\n",
    "    '''\n",
    "    (list of lists, int, int) -> None\n",
    "    \n",
    "    mtx is the matrix\n",
    "    row is the row that we want to process\n",
    "    col is the column of the row that we want to zero out\n",
    "        and `mtx[col][col]` is the entry we previous set to one\n",
    "    \n",
    "    Set the entry mtx[row][col] to 0 by subtracting\n",
    "    mtx[row][i] * mtx[col][i] from each entry i in the mtx[row]\n",
    "    '''\n",
    "    multiplier = mtx[row][col] #we will be zero-ing out one value in the matrix at a time\n",
    "   \n",
    "    for i in range(len(mtx[row])):\n",
    "        mtx[row][i] -= multiplier * mtx[col][i]\n"
   ]
  },
  {
   "cell_type": "markdown",
   "metadata": {},
   "source": [
    "### Test case 1:"
   ]
  },
  {
   "cell_type": "markdown",
   "metadata": {},
   "source": [
    "Input:\n",
    "$\\begin{bmatrix} \n",
    "6 & 1 & | & 20 \\\\ \n",
    "5 & 1 & | & 13 \\end{bmatrix}$\n",
    "\n",
    "Expected Output:\n",
    "$\\begin{bmatrix} \n",
    "1 & 0 & | & 7 \\\\ \n",
    "0 & 1 & | & -22 \\end{bmatrix}$\n",
    "\n",
    "As a list: `[[1, 0, 7], [0, 1, -22]]`"
   ]
  },
  {
   "cell_type": "code",
   "execution_count": null,
   "metadata": {},
   "outputs": [],
   "source": [
    "mtx0 = [[6, 1, 20],\n",
    "       [5, 1, 13]]\n",
    "\n",
    "for row in range(len(mtx0)):\n",
    "    set_diagonal_cell_to_one(mtx0,row)\n",
    "    for column in range(len(mtx0)):\n",
    "        if column != row:\n",
    "            set_column_to_zero(mtx0,column,row)\n",
    "\n",
    "print(mtx0)"
   ]
  },
  {
   "cell_type": "markdown",
   "metadata": {},
   "source": [
    "### Test case 2:"
   ]
  },
  {
   "cell_type": "markdown",
   "metadata": {},
   "source": [
    "Input:\n",
    "$\\begin{bmatrix} \n",
    "25 & -5 & -20 & | & 50 \\\\ \n",
    "-5 & 10 & -4 & | & 0\\\\ \n",
    "-5 & -4 & 9 & | & 0 \\end{bmatrix}$\n",
    "\n",
    "\n",
    "Expected Output:\n",
    "$\\begin{bmatrix} \n",
    "1 & 0 & 0 & | & 29.6 \\\\ \n",
    "0 & 1 & 0 & | & 26\\\\ \n",
    "0 & 0 & 1 & | & 28 \\end{bmatrix}$\n",
    "\n",
    "As a list:\n",
    "`[[1.0, 0.0, 0.0, 29.600000000000012], [0.0, 1.0, 0.0, 26.000000000000007], [0.0, 0.0, 1.0, 28.00000000000001]]`"
   ]
  },
  {
   "cell_type": "code",
   "execution_count": null,
   "metadata": {},
   "outputs": [],
   "source": [
    "mtx1 = [[25, -5, -20, 50],\n",
    "       [-5, 10, -4, 0],\n",
    "       [-5, -4, 9, 0]]\n",
    "\n",
    "for row in range(len(mtx1)):\n",
    "    set_diagonal_cell_to_one(mtx1,row)\n",
    "    for column in range(len(mtx1)):\n",
    "        if column != row:\n",
    "            set_column_to_zero(mtx1,column,row)\n",
    "\n",
    "\n",
    "print(mtx1)"
   ]
  },
  {
   "cell_type": "markdown",
   "metadata": {},
   "source": [
    "## Final Code"
   ]
  },
  {
   "cell_type": "code",
   "execution_count": null,
   "metadata": {},
   "outputs": [],
   "source": [
    "# Gaussian elimination\n",
    "\n",
    "def gauss_elim(mtx):\n",
    "    '''\n",
    "    (list of lists) -> None\n",
    "    Execute the Gaussian Elimination algorithm on mtx\n",
    "    '''\n",
    "    \n",
    "    for i in range(len(mtx)): #Note: i represents the rows in each matrix\n",
    "        set_diagonal_cell_to_one(mtx,i)\n",
    "        \n",
    "        for row in range(len(mtx)):\n",
    "            if i!=row:\n",
    "                set_column_to_zero(mtx,row,i)  \n",
    "\n",
    "def set_column_to_zero(mtx, row, col):\n",
    "    '''\n",
    "    (list of lists, int, int) -> None\n",
    "    \n",
    "    mtx is the matrix\n",
    "    row is the row that we want to process\n",
    "    col is the column of the row that we want to zero out\n",
    "        and `mtx[col][col]` is the entry we previous set to one\n",
    "    \n",
    "    Set the entry mtx[row][col] to 0 by subtracting\n",
    "    mtx[row][i] * mtx[col][i] from each entry i in the mtx[row]\n",
    "    '''\n",
    "    multiplier = mtx[row][col] #we will be zero-ing out one value in the matrix at a time\n",
    "   \n",
    "    for i in range(len(mtx[row])):\n",
    "        mtx[row][i] -= multiplier * mtx[col][i]\n",
    "        \n",
    "        \n",
    "def set_diagonal_cell_to_one(mtx, col):\n",
    "    '''\n",
    "    (list of lists, int) -> None\n",
    "    Set the cell mtx[col][col] to 1 by dividing each element \n",
    "    in the row mtx[col] by mtx[col][col]. Remember that return is none for this function!\n",
    "    '''\n",
    "    #write your code here\n",
    "    #hint use a for loop, diagonal values are found at mtx[col][col]\n",
    "    \n",
    "    divisor = mtx[col][col]\n",
    "    \n",
    "    if divisor == 1:\n",
    "        return\n",
    "    \n",
    "    for i in range(len(mtx[col])):\n",
    "        mtx[col][i] /= divisor\n",
    "\n",
    "\n",
    "mtx0 = [[6, 1, 20],\n",
    "       [5, 1, 13]]\n",
    "sol0 = [7,-22]\n",
    "\n",
    "mtx1 = [[25, -5, -20, 50],\n",
    "       [-5, 10, -4, 0],\n",
    "       [-5, -4, 9, 0]]\n",
    "sol1 = [29.6, 26, 28]\n",
    "\n",
    "gauss_elim(mtx1)\n",
    "print(mtx0)"
   ]
  },
  {
   "cell_type": "markdown",
   "metadata": {},
   "source": [
    "## Step 7 Breakout Session: Write a function to `check_solution`"
   ]
  },
  {
   "cell_type": "markdown",
   "metadata": {},
   "source": [
    "Now one final step! We need to check that we are getting the correct solutions from the scripts that we made. This will be done by comparing the given solution to each matrix and extracting the solution from the solved matrix like so:\n",
    "1. Create a function def_solution, which takes a matrix and its solution as arguments.\n",
    "2. Create a list that will store the solution from the passed in matrix.\n",
    "3. Take this list and compare it to the passed in solution. If they are the same, return True. Else return False."
   ]
  },
  {
   "cell_type": "code",
   "execution_count": null,
   "metadata": {},
   "outputs": [],
   "source": [
    "def check_solution(mtx,correct_sol):\n",
    "    '''\n",
    "    (list of lists, list) -> boolean\n",
    "    Returns True if the last column of mtx is equal to the list sol we generate in the function\n",
    "    Note: you have to run the gauss_elim function to change the original matrix first!\n",
    "    Append the last value in each row to the list check []\n",
    "    '''\n",
    "    check = []\n",
    "    for row in range(len(mtx)):\n",
    "        check.append(round(mtx[row][-1],1))\n",
    "    \n",
    "    print(check)\n",
    "    #optional, you can print(check) here\n",
    "    \n",
    "    if check == correct_sol:\n",
    "        return True\n",
    "       \n",
    "    else:\n",
    "        False\n",
    "            "
   ]
  },
  {
   "cell_type": "markdown",
   "metadata": {},
   "source": [
    "### Test Case 0:"
   ]
  },
  {
   "cell_type": "code",
   "execution_count": null,
   "metadata": {},
   "outputs": [],
   "source": [
    "check_solution(mtx0, sol0) #expected output = True"
   ]
  },
  {
   "cell_type": "markdown",
   "metadata": {},
   "source": [
    "### Test Case 1:"
   ]
  },
  {
   "cell_type": "code",
   "execution_count": null,
   "metadata": {
    "scrolled": true
   },
   "outputs": [],
   "source": [
    "gauss_elim(mtx1)\n",
    "check_solution(mtx1, sol1) #expected output = True"
   ]
  },
  {
   "cell_type": "markdown",
   "metadata": {},
   "source": [
    "### Well done! We made it to the end of the code :)"
   ]
  },
  {
   "cell_type": "code",
   "execution_count": null,
   "metadata": {},
   "outputs": [],
   "source": [
    "#some extra material:\n",
    "#Extra - helper functions for debugging\n",
    "\n",
    "def check_sol(sol, mtx): #alternative check solution function\n",
    "    '''\n",
    "    (list, list of lists) -> boolean\n",
    "    Returns True if the last column of mtx is equal to the list sol\n",
    "    '''\n",
    "    # check the length\n",
    "    if len(sol) != len(mtx):\n",
    "        return False\n",
    "\n",
    "    for i in range(len(sol)):\n",
    "        mtx_val = round(mtx[i][len(mtx[i]) - 1],2)\n",
    "        print(\"\\t\", sol[i], mtx_val,end=\" \")\n",
    "        if round(sol[i],2) !=  mtx_val:\n",
    "            print(\"MISMATCH\")\n",
    "            return False\n",
    "        else:\n",
    "            print(\"OK\")\n",
    "        \n",
    "    return True\n",
    "\n",
    "def print_matrix(mtx): #a debugging function to print out the rows in a matrix. Good for visualizing the steps in \n",
    "                        #diagonalize function and set col to zero function\n",
    "    '''\n",
    "    (list of lists) -> None\n",
    "    Prints out a matrix, each row on a separate line\n",
    "    '''\n",
    "    for row in mtx:\n",
    "        print(row)\n",
    "    print()\n",
    "    \n",
    "gauss_elim(mtx1)\n",
    "if check_sol(sol1,mtx1):\n",
    "    print(\"Test1 PASSED\")\n",
    "else:\n",
    "    print(\"Test1 FAILED\")\n",
    "\n",
    "gauss_elim(mtx2)\n",
    "if check_sol(sol2,mtx2):\n",
    "    print(\"Test2 PASSED\")\n",
    "else:\n",
    "    print(\"Test2 FAILED\")"
   ]
  }
 ],
 "metadata": {
  "kernelspec": {
   "display_name": "Python 3",
   "language": "python",
   "name": "python3"
  },
  "language_info": {
   "codemirror_mode": {
    "name": "ipython",
    "version": 3
   },
   "file_extension": ".py",
   "mimetype": "text/x-python",
   "name": "python",
   "nbconvert_exporter": "python",
   "pygments_lexer": "ipython3",
   "version": "3.8.5"
  }
 },
 "nbformat": 4,
 "nbformat_minor": 1
}
