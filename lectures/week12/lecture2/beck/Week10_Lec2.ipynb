{
 "cells": [
  {
   "cell_type": "markdown",
   "metadata": {},
   "source": [
    "# APS106 Lecture Notes - Week 10, Lecture 2\n",
    "# Object-Oriented Programming\n",
    "\n",
    "# Methods\n",
    "\n",
    "We’ve already seen methods for objects like Turtle and str. A method behaves like a function but it is invoked on a specific instance, i.e. `tina.right(90)`. Like a data attribute, methods are accessed using dot notation.\n",
    "\n",
    "An object is not just a collection of related data but also of related methods! This is a very powerful organizational idea for our programs and our thinking.\n",
    "\n",
    "We can group together the sensible operations, and the kinds of data they apply to, and each instance of the class can have its own state. For example, if we have 3 ovens, with each one set to a different temperature, then all of that would be maintained inside three different `Oven` objects and when we call a method on one of the objects, it can respond appropriately based on its temperature (i.e. a hot oven may provide a red warning light, whereas a cold oven would not). \n",
    "\n",
    "The key advantage of using a class like `Point` rather than a simple tuple (2, 4) is that we can add methods to the `Point` class that are sensible for points, but which may not be appropriate for other tuples like (25, 12) which might represent, say, a day and a month, e.g. Christmas day. So being able to calculate the distance from the origin is sensible for points, but not for (day, month) data. For (day, month) data, we’d like different operations, perhaps to find what day of the week it will fall on in some year in the future.\n"
   ]
  },
  {
   "cell_type": "code",
   "execution_count": 1,
   "metadata": {},
   "outputs": [
    {
     "name": "stdout",
     "output_type": "stream",
     "text": [
      "3\n",
      "4\n",
      "Outside 4406570848\n",
      "Inside 4406570848\n",
      "5.0\n",
      "Outside 4406570904\n",
      "Inside 4406570904\n",
      "0.0\n"
     ]
    }
   ],
   "source": [
    "class Point:\n",
    "    \"\"\" A 2D point, at coordinates x, y \"\"\"\n",
    "\n",
    "    def __init__(self, x=0, y=0):\n",
    "        ''' \n",
    "        (self) -> None\n",
    "        Initializes a new point at (x,y), defaults to (0,0)\n",
    "        '''\n",
    "        self.x = x\n",
    "        self.y = y\n",
    "\n",
    "    def distance_from_origin(self):\n",
    "        ''' \n",
    "        (self) -> float\n",
    "        Returns the distance of teh current point to (0,0)\n",
    "        '''\n",
    "        return (self.x**2 + self.y**2)**0.5\n",
    "    \n",
    "p = Point(3,4)\n",
    "print(p.x)\n",
    "print(p.y)\n",
    "\n",
    "print(p.distance_from_origin())\n",
    "\n",
    "q = Point()\n",
    "print(q.distance_from_origin())\n"
   ]
  },
  {
   "cell_type": "markdown",
   "metadata": {},
   "source": [
    "A common error is to omit the self argument as the first parameter of a method definition. In such cases, calling the method produces an error indicating too many arguments to the method were given by the programmer, because a method call automatically inserts an instance reference as the first argument.\n",
    "\n",
    "When defining a method, the first parameter refers to the instance being manipulated. As already noted, it is customary to name this parameter `self`. Notice that when you call `distance_from_origin` you do not explicitly provide an instance of `Point` as an argument (i.e., in the parenthesis) — this is done for us internally.\n"
   ]
  },
  {
   "cell_type": "code",
   "execution_count": 1,
   "metadata": {},
   "outputs": [
    {
     "name": "stdout",
     "output_type": "stream",
     "text": [
      "3\n",
      "4\n",
      "5.0\n"
     ]
    }
   ],
   "source": [
    "class Point:\n",
    "    \"\"\" A 2D point, at coordinates x, y \"\"\"\n",
    "\n",
    "    def __init__(self, x=0, y=0):\n",
    "        ''' \n",
    "        (self) -> None\n",
    "        Initializes a new point at (x,y), defaults to (0,0)\n",
    "        '''\n",
    "        self.x = x\n",
    "        self.y = y\n",
    "\n",
    "    def distance_from_origin(self):\n",
    "        ''' \n",
    "        (self) -> float\n",
    "        Returns the distance of teh current point to (0,0)\n",
    "        '''\n",
    "        return (self.x**2 + self.y**2)**0.5\n",
    "\n",
    "\n",
    "p = Point(3,4)\n",
    "print(p.x)\n",
    "print(p.y)\n",
    "print(p.distance_from_origin())"
   ]
  },
  {
   "cell_type": "markdown",
   "metadata": {},
   "source": [
    "Let’s create a few point instances, look at their attributes, and call our new method on them"
   ]
  },
  {
   "cell_type": "code",
   "execution_count": 2,
   "metadata": {},
   "outputs": [
    {
     "name": "stdout",
     "output_type": "stream",
     "text": [
      "3\n",
      "4\n",
      "5.0\n",
      "5\n",
      "12\n",
      "13.0\n",
      "0\n",
      "0\n",
      "0.0\n",
      "[<__main__.Point object at 0x1047bccc0>, <__main__.Point object at 0x1047bce80>, <__main__.Point object at 0x1046922e8>]\n"
     ]
    }
   ],
   "source": [
    "p = Point(3,4)\n",
    "print(p.x)\n",
    "print(p.y)\n",
    "print(p.distance_from_origin())\n",
    "\n",
    "q = Point(5, 12)\n",
    "print(q.x)\n",
    "print(q.y)\n",
    "print(q.distance_from_origin())\n",
    "\n",
    "r = Point()\n",
    "print(r.x)\n",
    "print(r.y)\n",
    "print(r.distance_from_origin())\n",
    "\n",
    "point_list = [p, q, r]\n",
    "print(point_list)"
   ]
  },
  {
   "cell_type": "markdown",
   "metadata": {},
   "source": [
    "## Two ways to call methods\n",
    "\n",
    "There are two ways to call a method. One way is to access the method through the class name and pass in the object."
   ]
  },
  {
   "cell_type": "code",
   "execution_count": 3,
   "metadata": {},
   "outputs": [
    {
     "name": "stdout",
     "output_type": "stream",
     "text": [
      "5.0\n",
      "Browning\n"
     ]
    }
   ],
   "source": [
    "print(Point.distance_from_origin(p))\n",
    "print(str.capitalize(\"browning\"))"
   ]
  },
  {
   "cell_type": "markdown",
   "metadata": {},
   "source": [
    " The other is to use object-oriented syntax."
   ]
  },
  {
   "cell_type": "code",
   "execution_count": 4,
   "metadata": {},
   "outputs": [
    {
     "name": "stdout",
     "output_type": "stream",
     "text": [
      "5.0\n",
      "Browning\n"
     ]
    }
   ],
   "source": [
    "print(p.distance_from_origin())\n",
    "print(\"browning\".capitalize())"
   ]
  },
  {
   "cell_type": "markdown",
   "metadata": {},
   "source": [
    "## Instances as return values\n",
    "\n",
    "Functions and methods can return instances. For example, given two `Point` objects, what if you want to create a point halfway in between? First we’ll write this as a regular function:\n"
   ]
  },
  {
   "cell_type": "code",
   "execution_count": 5,
   "metadata": {},
   "outputs": [
    {
     "name": "stdout",
     "output_type": "stream",
     "text": [
      "4.0 8.0\n"
     ]
    }
   ],
   "source": [
    "def midpoint(p1, p2):\n",
    "    \"\"\" \n",
    "    (Point, Point) -> Point\n",
    "    Returns the midpoint of points p1 and p2 \n",
    "    \"\"\"\n",
    "    mx = (p1.x + p2.x)/2\n",
    "    my = (p1.y + p2.y)/2\n",
    "    return Point(mx,my)\n",
    "\n",
    "p = Point(3, 4)\n",
    "q = Point(5, 12)\n",
    "r = midpoint(p, q)\n",
    "print(r.x, r.y)"
   ]
  },
  {
   "cell_type": "markdown",
   "metadata": {},
   "source": [
    "Let's do this as a method instead. Suppose we have a point object, and wish to find the midpoint halfway between it and some other target point:"
   ]
  },
  {
   "cell_type": "code",
   "execution_count": 6,
   "metadata": {},
   "outputs": [
    {
     "name": "stdout",
     "output_type": "stream",
     "text": [
      "4.0 8.0\n",
      "4.0 8.0\n"
     ]
    }
   ],
   "source": [
    "class Point:\n",
    "    \"\"\" A 2D point, at coordinates x, y \"\"\"\n",
    "\n",
    "    def __init__(self, x=0, y=0):\n",
    "        ''' \n",
    "        (self) -> None\n",
    "        Initializes a new point at (x,y), defaults to (0,0)\n",
    "        '''\n",
    "        self.x = x\n",
    "        self.y = y\n",
    "\n",
    "    def distance_from_origin(self):\n",
    "        ''' \n",
    "        (self) -> float\n",
    "        Returns the distance of teh current point to (0,0)\n",
    "        '''\n",
    "        return (self.x**2 + self.y**2)**0.5\n",
    "    \n",
    "    def halfway(self, target):\n",
    "        \"\"\" \n",
    "        (self,Point) -> Point\n",
    "        Return the halfway point between myself and the target\n",
    "        \"\"\"\n",
    "        mx = (self.x + target.x)/2\n",
    "        my = (self.y + target.y)/2\n",
    "        return Point(mx,my)\n",
    "\n",
    "p = Point(3, 4)\n",
    "q = Point(5, 12)\n",
    "r = p.halfway(q) # call the method\n",
    "s = Point.halfway(p,q)\n",
    "print(r.x, r.y)\n",
    "print(s.x, s.y)"
   ]
  },
  {
   "cell_type": "markdown",
   "metadata": {},
   "source": [
    "While this example assigns each point to a variable, this need not be done. Here is an alternative that uses no explicit variables that will blow your mind:"
   ]
  },
  {
   "cell_type": "code",
   "execution_count": 7,
   "metadata": {},
   "outputs": [
    {
     "name": "stdout",
     "output_type": "stream",
     "text": [
      "<__main__.Point object at 0x1045f9128>\n",
      "4.0\n"
     ]
    }
   ],
   "source": [
    "print(Point(3,4).halfway(Point(5,12)))\n",
    "print(Point(3,4).halfway(Point(5,12)).x)"
   ]
  },
  {
   "cell_type": "markdown",
   "metadata": {},
   "source": [
    "## Multiple Classes\n",
    "\n",
    "Objects are programmer-created data types that can be used just like other data types. In particular, the data in an object can be in the form of instances of other classes."
   ]
  },
  {
   "cell_type": "code",
   "execution_count": 8,
   "metadata": {},
   "outputs": [
    {
     "name": "stdout",
     "output_type": "stream",
     "text": [
      "<__main__.Square object at 0x1047c9518>\n",
      "225\n",
      "7.5 7.5\n"
     ]
    }
   ],
   "source": [
    "class Point:\n",
    "    \"\"\" A 2D point, at coordinates x, y \"\"\"\n",
    "\n",
    "    def __init__(self, x=0, y=0):\n",
    "        ''' \n",
    "        (self) -> None\n",
    "        Initializes a new point at (x,y), defaults to (0,0)\n",
    "        '''\n",
    "        self.x = x\n",
    "        self.y = y\n",
    "\n",
    "    def distance_from_origin(self):\n",
    "        ''' \n",
    "        (self) -> float\n",
    "        Returns the distance of teh current point to (0,0)\n",
    "        '''\n",
    "        return (self.x**2 + self.y**2)**0.5\n",
    "    \n",
    "    def halfway(self, target):\n",
    "        \"\"\" \n",
    "        (self,Point) -> Point\n",
    "        Return the halfway point between myself and the target\n",
    "        \"\"\"\n",
    "        mx = (self.x + target.x)/2\n",
    "        my = (self.y + target.y)/2\n",
    "        return Point(mx,my)\n",
    "\n",
    "class Square:\n",
    "    '''A square represent by 2 Points: lower left and upper right'''\n",
    "    \n",
    "    def __init__(self, x1 = 0, y1 = 0, x2 = 0, y2 = 0):\n",
    "        '''\n",
    "        (self,number,number,number,number) -> None\n",
    "        Initializes a point with (x1,y1) as lower left corner and \n",
    "        (x2,y2) as upper-right corner. All default to zeros.\n",
    "        '''\n",
    "        self.lower_left = Point(x1,y1)\n",
    "        self.upper_right = Point(x2,y2)\n",
    "    \n",
    "    def area(self):\n",
    "        '''\n",
    "        (self) -> number\n",
    "        Returns the area of the square\n",
    "        '''\n",
    "        return ((self.upper_right.x - self.lower_left.x) *\n",
    "            (self.upper_right.y - self.lower_left.y))\n",
    "    \n",
    "    def centre(self):\n",
    "        '''\n",
    "        (self) -> Point\n",
    "        Returns the Point in the middle of the square\n",
    "        '''\n",
    "        return self.upper_right.halfway(self.lower_left)\n",
    "\n",
    "s = Square(0, 0, 15, 15)\n",
    "print(s)\n",
    "print(s.area())\n",
    "\n",
    "c = s.centre()\n",
    "print(c.x, c.y)\n",
    "\n"
   ]
  },
  {
   "cell_type": "markdown",
   "metadata": {},
   "source": [
    "## More Examples"
   ]
  },
  {
   "cell_type": "code",
   "execution_count": 9,
   "metadata": {},
   "outputs": [
    {
     "name": "stdout",
     "output_type": "stream",
     "text": [
      "7\n",
      "45\n"
     ]
    }
   ],
   "source": [
    "class Time(object):\n",
    "    '''A class that represents time objects in terms of hours and minutes'''\n",
    "\n",
    "    def __init__(self, h = 0, m = 0):\n",
    "        ''' \n",
    "        (self,int=0,int=0) -> None\n",
    "        Initializes a new Time object with hours = h, minutes = m, defaulting to 0,0\n",
    "        '''        \n",
    "        self.hours = h\n",
    "        self.minutes = m\n",
    "\n",
    "    def print_time(self):\n",
    "        ''' \n",
    "        (self) -> None\n",
    "        Print the object\n",
    "        '''        \n",
    "        print('Hours:', self.hours, end=' ')\n",
    "        print('Minutes:', self.minutes)\n",
    "\n",
    "time1 = Time()\n",
    "\n",
    "time1.hours = 7\n",
    "time1.minutes = 15\n",
    "\n",
    "time2 = Time()  \n",
    "time2.hours = 12\n",
    "time2.minutes = 45\n",
    "\n",
    "print(time1.hours)\n",
    "print(time2.minutes)\n"
   ]
  },
  {
   "cell_type": "code",
   "execution_count": 11,
   "metadata": {},
   "outputs": [
    {
     "name": "stdout",
     "output_type": "stream",
     "text": [
      "Patient data (before): Luna 0 cm, 0 kg\n",
      "Patient data (after): Luna 155 cm, 52 kg\n"
     ]
    }
   ],
   "source": [
    "class PatientData:\n",
    "    '''A class that stores and manipulates patient data'''\n",
    "    \n",
    "    def __init__(self, name):\n",
    "        ''' (self, str) -> None\n",
    "        Initializes patient named name with data of 0\n",
    "        '''\n",
    "        self.name = name\n",
    "        self.height_cm = 0\n",
    "        self.weight_kg = 0\n",
    "\n",
    "    def print(self):\n",
    "        ''' \n",
    "        (self) -> None\n",
    "        Print the object\n",
    "        '''        \n",
    "        print(self.name, self.height_cm, \"cm,\", self.weight_kg, \"kg\")\n",
    "\n",
    "Luna_Lovegood = PatientData(\"Luna\")\n",
    "print('Patient data (before):', end=' ')\n",
    "Luna_Lovegood.print()\n",
    "\n",
    "Luna_Lovegood.height_cm = 155\n",
    "Luna_Lovegood.weight_kg = 52\n",
    "\n",
    "print('Patient data (after):', end=' ')\n",
    "Luna_Lovegood.print()\n"
   ]
  }
 ],
 "metadata": {
  "kernelspec": {
   "display_name": "Python 3 (ipykernel)",
   "language": "python",
   "name": "python3"
  },
  "language_info": {
   "codemirror_mode": {
    "name": "ipython",
    "version": 3
   },
   "file_extension": ".py",
   "mimetype": "text/x-python",
   "name": "python",
   "nbconvert_exporter": "python",
   "pygments_lexer": "ipython3",
   "version": "3.7.11"
  }
 },
 "nbformat": 4,
 "nbformat_minor": 1
}
