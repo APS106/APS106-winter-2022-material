{
 "cells": [
  {
   "cell_type": "markdown",
   "metadata": {},
   "source": [
    "# APS106 Lecture Notes - Week 12, Lecture 2\n",
    "# Advanced Data Structures\n",
    "\n",
    "## More Binary Trees\n",
    "\n",
    "In the last lecture, we developed a binary tree: a branching data structure that looks like this: \n",
    "\n",
    "![BinaryTree1](images/btree1.png)\n",
    "\n"
   ]
  },
  {
   "cell_type": "code",
   "execution_count": 1,
   "metadata": {},
   "outputs": [
    {
     "name": "stdout",
     "output_type": "stream",
     "text": [
      "1  \n",
      "\n",
      "2  3  \n",
      "\n",
      "4  5  6  7  \n",
      "\n"
     ]
    }
   ],
   "source": [
    "class Node:\n",
    "    '''A Node class used by a binary tree class'''\n",
    "    \n",
    "    def __init__(self,cargo = None, left = None, right = None):\n",
    "        '''\n",
    "        (self) -> NoneType\n",
    "        Create a Node with cargo and left and right subtrees\n",
    "        '''\n",
    "        self.cargo = cargo\n",
    "        self.left = left\n",
    "        self.right = right\n",
    "                \n",
    "    def __str__(self):\n",
    "        '''\n",
    "        (self) -> str\n",
    "        Return a str representation of cargo\n",
    "        '''\n",
    "        return str(self.cargo)\n",
    " \n",
    "    def print_tree(self):\n",
    "        '''\n",
    "        (self) -> NoneTyoe\n",
    "        Prints tree level by level\n",
    "        '''\n",
    "\n",
    "        thislevel = [self]\n",
    "        while thislevel:\n",
    "            nextlevel = list()\n",
    "            for n in thislevel:\n",
    "                print (n.cargo, \" \", end = \"\")\n",
    "                if n.left: \n",
    "                    nextlevel.append(n.left)\n",
    "                if n.right: \n",
    "                    nextlevel.append(n.right)\n",
    "            print(\"\\n\")\n",
    "            thislevel = nextlevel\n",
    "    \n",
    "\n",
    "t = Node(1, Node(2, Node(4), Node(5)), Node(3, Node(6), Node(7)))\n",
    "t.print_tree()"
   ]
  },
  {
   "cell_type": "markdown",
   "metadata": {},
   "source": [
    "### Traversing trees\n",
    "\n",
    "Any time you see a new data structure, your first question should be, “How do I traverse it?” That is, how do you examine every element in the data structure and process them in some way.\n",
    "\n",
    "For example, if you have a linked list of numbers, how do you find the sum of the elements in the list?\n",
    "\n",
    "The easiest way is to iterate through the elements and accumulate the sum."
   ]
  },
  {
   "cell_type": "code",
   "execution_count": 2,
   "metadata": {},
   "outputs": [
    {
     "name": "stdout",
     "output_type": "stream",
     "text": [
      "19\n"
     ]
    }
   ],
   "source": [
    "class LL_Node:\n",
    "    \"A linked list node\"\n",
    "    \n",
    "    def __init__(self, cargo=None, next=None):\n",
    "        self.cargo = cargo\n",
    "        self.next  = next\n",
    "\n",
    "def sum_list_loop(n):\n",
    "    '''sum up all the values in a linked list'''\n",
    "    sum = 0\n",
    "    while n: # same as: while n is not None:\n",
    "        sum += n.cargo\n",
    "        n = n.next\n",
    "        \n",
    "    return sum\n",
    "\n",
    "my_list = LL_Node(4, LL_Node(1, LL_Node(3, LL_Node(11))))\n",
    "print(sum_list_loop(my_list))"
   ]
  },
  {
   "cell_type": "markdown",
   "metadata": {},
   "source": [
    "Now what if you have a binary tree?\n",
    "\n",
    "Remember that you can think of a tree as a node with two sub-trees. And so one way to traverse a tree (e.g. to sum the elements) is to sum the left sub-tree with the right sub-tree with the current node. \n",
    "\n",
    "If you keep doing this, you eventually reach an empty tree (e.g. a tree that is None). In such a case, the sum is 0. \n",
    "\n",
    "The sum of a tree is the sum of the left subtree plus the cargo of the current node plus the sum of the right subtree. And so we get the sums of the left and right subtrees and then add the current cargo. "
   ]
  },
  {
   "cell_type": "code",
   "execution_count": 20,
   "metadata": {},
   "outputs": [
    {
     "name": "stdout",
     "output_type": "stream",
     "text": [
      "1  \n",
      "\n",
      "2  3  \n",
      "\n",
      "4  5  6  7  \n",
      "\n",
      "Sum:  28\n"
     ]
    }
   ],
   "source": [
    "\n",
    "def tree_sum(tree):\n",
    "    '''sums up all the values in a tree (cargo assumed to be of type num)'''\n",
    "    if tree is None:\n",
    "        return 0\n",
    "    return tree_sum(tree.left) + tree.cargo + tree_sum(tree.right)\n",
    "\n",
    "tree = Node(1, Node(2, Node(4), Node(5)), Node(3, Node(6), Node(7)))\n",
    "tree.print_tree()\n",
    "print(\"Sum: \", tree_sum(tree))\n"
   ]
  },
  {
   "cell_type": "markdown",
   "metadata": {},
   "source": [
    "\n",
    "\n",
    "Another example:\n",
    "\n",
    "We can also do something similar to print out each item in the tree.\n"
   ]
  },
  {
   "cell_type": "code",
   "execution_count": 4,
   "metadata": {},
   "outputs": [
    {
     "name": "stdout",
     "output_type": "stream",
     "text": [
      "1  \n",
      "\n",
      "2  3  \n",
      "\n",
      "4  5  6  7  \n",
      "\n",
      "1\n",
      "2\n",
      "4\n",
      "5\n",
      "3\n",
      "6\n",
      "7\n"
     ]
    }
   ],
   "source": [
    "class Node:\n",
    "    '''A Node class used by a binary tree class'''\n",
    "    \n",
    "    def __init__(self,cargo = None, left = None, right = None):\n",
    "        '''\n",
    "        (self) -> NoneType\n",
    "        Create a Node with cargo and left and right subtrees\n",
    "        '''\n",
    "        self.cargo = cargo\n",
    "        self.left = left\n",
    "        self.right = right\n",
    "                \n",
    "    def __str__(self):\n",
    "        '''\n",
    "        (self) -> str\n",
    "        Return a str representation of cargo\n",
    "        '''\n",
    "        return str(self.cargo)\n",
    " \n",
    "    def print_tree(self):\n",
    "        '''\n",
    "        (self) -> NoneTyoe\n",
    "        Prints tree level by level\n",
    "        '''\n",
    "\n",
    "        thislevel = [self]\n",
    "        while thislevel:\n",
    "            nextlevel = list()\n",
    "            for n in thislevel:\n",
    "                print (n.cargo, \" \", end = \"\")\n",
    "                if n.left: \n",
    "                    nextlevel.append(n.left)\n",
    "                if n.right: \n",
    "                    nextlevel.append(n.right)\n",
    "            print(\"\\n\")\n",
    "            thislevel = nextlevel\n",
    "            \n",
    "    def traversal(self):\n",
    "        '''\n",
    "        (self) -> NoneTyoe\n",
    "        Print out the current cargo, then the left sub-tree, then the right sub-tree\n",
    "        Implements a pre-order traversal\n",
    "        '''\n",
    "        print(self.cargo)\n",
    "        if self.left is not None:\n",
    "            self.left.traversal()\n",
    "        if self.right is not None:\n",
    "            self.right.traversal()\n",
    "\n",
    "tree = Node(1, Node(2, Node(4), Node(5)), Node(3, Node(6), Node(7)))\n",
    "tree.print_tree()\n",
    "tree.traversal()"
   ]
  },
  {
   "cell_type": "markdown",
   "metadata": {},
   "source": [
    "## Wrapping Up a Tree\n",
    "\n",
    "Remember with linked lists, we created a ``LinkedList`` class that implemented operations on the list: adding items, removing items, summing items. etc. Each item was represented by a ``Node`` object and each list by a ``LinkedList`` object. Let's do the same for binary trees.\n",
    "\n",
    "Start with a basic ``Node`` class, similar to what we have been developing."
   ]
  },
  {
   "cell_type": "code",
   "execution_count": null,
   "metadata": {},
   "outputs": [],
   "source": [
    "class TreeNode:\n",
    "    '''A Node class used by a binary tree class'''\n",
    "    \n",
    "    def __init__(self,cargo = None, left = None, right = None):\n",
    "        '''\n",
    "        (self) -> NoneType\n",
    "        Create a Node with cargo and left and right subtrees\n",
    "        '''\n",
    "        self.cargo = cargo\n",
    "        self.left = left\n",
    "        self.right = right\n",
    "                \n",
    "    def __str__(self):\n",
    "        '''\n",
    "        (self) -> str\n",
    "        Return a str representation of cargo\n",
    "        '''\n",
    "        return str(self.cargo)"
   ]
  },
  {
   "cell_type": "markdown",
   "metadata": {},
   "source": [
    "Then we can think about what we want a ``BinaryTree`` class to be able to do. Let's focus on a few basic things:\n",
    "- add a node\n",
    "- remove a node\n",
    "- print all nodes\n",
    "\n",
    "If I have a tree and want to add a new node ... where should it go? If I just add it to the \"top\" of the tree (like we did with a linked list) then I will not actually create a tree. In fact, it doesn't make too much sense to have a binary tree unless the nodes are sorted in some way. So let's assume that for any node the following relationship holds: all nodes in the left sub-tree have cargos that are less than the current cargo and all nodes in the right subtree have cargoes that are greater than the current cargo. And let us further assume that each node is unique (like in a set)."
   ]
  },
  {
   "cell_type": "code",
   "execution_count": null,
   "metadata": {},
   "outputs": [],
   "source": [
    "class BinaryTree:\n",
    "    '''Implements a sorted binary tree using the Node class'''\n",
    "    \n",
    "    def __init__(self, cargo = None):\n",
    "        '''\n",
    "        (self, num) -> NoneType\n",
    "        Create a tree with one node containin cargo (or else empty if cargo is None)\n",
    "        '''\n",
    "        if cargo:\n",
    "            self.root = Node(cargo)\n",
    "            self.len = 1\n",
    "        else:\n",
    "            self.root = None\n",
    "            self.len = 0"
   ]
  },
  {
   "cell_type": "markdown",
   "metadata": {},
   "source": [
    "What is the algorithm for adding a node?\n",
    "1. If the root is None, create a new node and make it the root.\n",
    "2. Else traverse the tree (going right and left depending on the cargo comparison) until we find an empty sub-tree and create a new node there."
   ]
  },
  {
   "cell_type": "code",
   "execution_count": 8,
   "metadata": {
    "scrolled": true
   },
   "outputs": [],
   "source": [
    "class BinaryTree:\n",
    "    '''Implements a sorted binary tree using the Node class'''\n",
    "    \n",
    "    def __init__(self, cargo = None):\n",
    "        '''\n",
    "        (self, num) -> NoneType\n",
    "        Create a tree with one node containin cargo (or else empty if cargo is None)\n",
    "        '''\n",
    "        if cargo:\n",
    "            self.root = Node(cargo)\n",
    "            self.len = 1\n",
    "        else:\n",
    "            self.root = None\n",
    "            self.len = 0\n",
    "            \n",
    "    def add_node(self, cargo):\n",
    "        '''\n",
    "        (self, num) -> NoneType\n",
    "        Adds cargo to the right place in the tree\n",
    "        '''\n",
    "        new_node = Node(cargo)\n",
    "        \n",
    "        if not self.root:\n",
    "            # add at root\n",
    "            self.root = new_node\n",
    "            self.len += 1\n",
    "        else:\n",
    "            # find the leaf to add the new node to\n",
    "            curr_node = self.root\n",
    "            while curr_node:\n",
    "                if curr_node.cargo > new_node.cargo: # should go left\n",
    "                    if not curr_node.left:           # empty left tree: insert node\n",
    "                        curr_node.left = new_node\n",
    "                        self.len += 1\n",
    "                        curr_node = None\n",
    "                    else:\n",
    "                        curr_node = curr_node.left    # go left\n",
    "                        \n",
    "                elif curr_node.cargo < new_node.cargo: # should go right\n",
    "                    if not curr_node.right:            # empty right tree: insert node\n",
    "                        curr_node.right = new_node\n",
    "                        self.len += 1\n",
    "                        curr_node = None\n",
    "                    else:\n",
    "                        curr_node = curr_node.right    # go right\n",
    "                else:\n",
    "                    curr_node = None # trying to insert matching cargo: do nothing\n",
    "                    \n"
   ]
  },
  {
   "cell_type": "markdown",
   "metadata": {},
   "source": [
    "Does this work? Probably not (since it was our first try) but in fact, we need to write some more code to print out the tree to see if our tests are working.\n",
    "\n",
    "So we have to also write a method to print all the nodes out before we can even test `add_node`."
   ]
  },
  {
   "cell_type": "code",
   "execution_count": 21,
   "metadata": {},
   "outputs": [],
   "source": [
    "class BinaryTree:\n",
    "    '''Implements a sorted binary tree using the Node class'''\n",
    "    \n",
    "    def __init__(self, cargo = None):\n",
    "        '''\n",
    "        (self, num) -> NoneType\n",
    "        Create a tree with one node containin cargo (or else empty if cargo is None)\n",
    "        '''\n",
    "        if cargo:\n",
    "            self.root = Node(cargo)\n",
    "            self.len = 1\n",
    "        else:\n",
    "            self.root = None\n",
    "            self.len = 0\n",
    "            \n",
    "    def __str__(self):\n",
    "        '''\n",
    "        (self) -> str\n",
    "        Returns a string representing a level-by-level print out\n",
    "        '''\n",
    "        thislevel = [self.root]\n",
    "        tree_str = \"\"\n",
    "        while thislevel:\n",
    "            nextlevel = list()\n",
    "            for n in thislevel:\n",
    "                if n is None:\n",
    "                    tree_str += \"NONE \"\n",
    "                else:\n",
    "                    tree_str += str(n.cargo) + \" \"\n",
    "                    nextlevel.append(n.left)\n",
    "                    nextlevel.append(n.right)\n",
    "            tree_str += \"\\n\"\n",
    "            thislevel = nextlevel\n",
    "        return tree_str\n",
    "    \n",
    "    def add_node(self, cargo):\n",
    "        '''\n",
    "        (self, num) -> NoneType\n",
    "        Adds cargo to the right place in the tree\n",
    "        '''\n",
    "        new_node = Node(cargo)\n",
    "        \n",
    "        if not self.root:\n",
    "            # add at root\n",
    "            self.root = new_node\n",
    "            self.len += 1\n",
    "        else:\n",
    "            # find the leaf to add the new node to\n",
    "            curr_node = self.root\n",
    "            while curr_node:\n",
    "                if curr_node.cargo > new_node.cargo: # should go left\n",
    "                    if not curr_node.left:           # empty left tree: insert node\n",
    "                        curr_node.left = new_node\n",
    "                        self.len += 1\n",
    "                        curr_node = None\n",
    "                    else:\n",
    "                        curr_node = curr_node.left    # go left\n",
    "                        \n",
    "                elif curr_node.cargo < new_node.cargo: # should go right\n",
    "                    if not curr_node.right:            # empty right tree: insert node\n",
    "                        curr_node.right = new_node\n",
    "                        self.len += 1\n",
    "                        curr_node = None\n",
    "                    else:\n",
    "                        curr_node = curr_node.right    # go right\n",
    "                else:\n",
    "                    curr_node = None # trying to insert matching cargo: do nothing\n",
    "                    \n"
   ]
  },
  {
   "cell_type": "code",
   "execution_count": 22,
   "metadata": {},
   "outputs": [
    {
     "name": "stdout",
     "output_type": "stream",
     "text": [
      "100 \n",
      "NONE NONE \n",
      "\n"
     ]
    }
   ],
   "source": [
    "tree = BinaryTree(100)\n",
    "print(tree)"
   ]
  },
  {
   "cell_type": "code",
   "execution_count": 23,
   "metadata": {},
   "outputs": [
    {
     "name": "stdout",
     "output_type": "stream",
     "text": [
      "100 \n",
      "50 500 \n",
      "NONE NONE NONE NONE \n",
      "\n"
     ]
    }
   ],
   "source": [
    "tree.add_node(50)\n",
    "tree.add_node(500)\n",
    "print(tree)"
   ]
  },
  {
   "cell_type": "code",
   "execution_count": 24,
   "metadata": {},
   "outputs": [
    {
     "name": "stdout",
     "output_type": "stream",
     "text": [
      "100 \n",
      "50 500 \n",
      "10 NONE 250 NONE \n",
      "-10 NONE NONE 300 \n",
      "NONE NONE NONE NONE \n",
      "\n"
     ]
    }
   ],
   "source": [
    "tree.add_node(10)\n",
    "tree.add_node(-10)\n",
    "tree.add_node(250)\n",
    "tree.add_node(300)\n",
    "print(tree)"
   ]
  },
  {
   "cell_type": "markdown",
   "metadata": {},
   "source": [
    "## Questions?\n",
    "\n",
    "That was a lot of code and so it may take you some time to understand. The best thing to do is draw some pictures about what you think the tree looks like and trace through the code to understand."
   ]
  },
  {
   "cell_type": "markdown",
   "metadata": {},
   "source": [
    "## Removing a Node\n",
    "\n",
    "We still have to figure out how to remove a node. What do we need to think about?\n",
    "\n",
    "1. Removing a leaf node is easy - just assign the parent left or right pointer to be None.\n",
    "2. How do we remove an internal node? Remember, we still need to maintain the order of the nodes.\n",
    "\n",
    "It turns out that removing a internal node from an ordered binary tree is not that easy. We won't go into the details here but consider the following example to give you an idea.\n",
    "\n",
    "<div>\n",
    "<img src=\"images/btree_remove1.png\" width=\"300\"/>\n",
    "</div>\n",
    "\n",
    "If we remove 50, we have tree that looks like this.\n",
    "\n",
    "<div>\n",
    "<img src=\"images/btree_remove2.png\" width=\"300\"/>\n",
    "</div>\n",
    "\n",
    "We now have to move other nodes around to reconstruct the tree. Something like the following:\n",
    "\n",
    "<div>\n",
    "<img src=\"images/btree_remove3.png\" width=\"1000\"/>\n",
    "</div>\n",
    "\n",
    "This is a bit beyond what is expected in this course."
   ]
  },
  {
   "cell_type": "markdown",
   "metadata": {},
   "source": [
    "<div class=\"alert alert-block alert-info\">\n",
    "<big><b>This Lecture</b></big>\n",
    "<ul>  \n",
    " <li>Implementing binary trees.</li>  \n",
    "</ul>  \n",
    "</div>"
   ]
  },
  {
   "cell_type": "code",
   "execution_count": null,
   "metadata": {},
   "outputs": [],
   "source": []
  }
 ],
 "metadata": {
  "kernelspec": {
   "display_name": "Python 3",
   "language": "python",
   "name": "python3"
  },
  "language_info": {
   "codemirror_mode": {
    "name": "ipython",
    "version": 3
   },
   "file_extension": ".py",
   "mimetype": "text/x-python",
   "name": "python",
   "nbconvert_exporter": "python",
   "pygments_lexer": "ipython3",
   "version": "3.7.2"
  }
 },
 "nbformat": 4,
 "nbformat_minor": 1
}
