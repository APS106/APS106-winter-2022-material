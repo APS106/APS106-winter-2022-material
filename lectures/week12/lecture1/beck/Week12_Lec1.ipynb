{
 "cells": [
  {
   "cell_type": "markdown",
   "metadata": {},
   "source": [
    "# APS106 Lecture Notes - Week 12, Lecture 1\n",
    "# Advanced Data Structures\n",
    "\n",
    "## A Linked List Class\n",
    "\n",
    "A more OO way to implement linked lists is to create a LinkedList class to serve as a handle for manipulating lists of the Node class. Its attributes are an integer that contains the length of the list and a reference to the first node."
   ]
  },
  {
   "cell_type": "code",
   "execution_count": null,
   "metadata": {
    "collapsed": true
   },
   "outputs": [],
   "source": [
    "class LinkedList:\n",
    "    \"A class that implements a linked list\"\n",
    "    \n",
    "    def __init__(self):\n",
    "        '''\n",
    "        (self) -> NoneType\n",
    "        Create an empty linked list\n",
    "        '''\n",
    "        self.length = 0\n",
    "        self.head = None\n"
   ]
  },
  {
   "cell_type": "markdown",
   "metadata": {},
   "source": [
    "One nice thing about the LinkedList class is that it provides a natural place to put wrapper functions like print_backward_nicely, which we can make a method in the LinkedList class:"
   ]
  },
  {
   "cell_type": "code",
   "execution_count": 1,
   "metadata": {},
   "outputs": [
    {
     "name": "stdout",
     "output_type": "stream",
     "text": [
      "[ some string 3 2 1 ]"
     ]
    }
   ],
   "source": [
    "class LinkedList:\n",
    "    \"A class that implements a linked list\"\n",
    "    \n",
    "    def __init__(self):\n",
    "        '''\n",
    "        (self) -> NoneType\n",
    "        Create an empty linked list\n",
    "        '''\n",
    "        self.length = 0\n",
    "        self.head = None\n",
    "\n",
    "    def print_backward_nicely(self):\n",
    "        '''\n",
    "        (self) -> NoneType\n",
    "        Print the list backward using Node.print_backward\n",
    "        '''\n",
    "        print(\"[\", end=\" \")\n",
    "        if self.head is not None:\n",
    "            self.head.print_backward()\n",
    "        print(\"]\", end=\"\")\n",
    "\n",
    "class Node:\n",
    "    \"A class implementing a node in a linked list\"\n",
    "    \n",
    "    def __init__(self, cargo=None, next=None):\n",
    "        '''\n",
    "        (self) -> NoneType\n",
    "        Create a Node with cargo and whose next element is next\n",
    "        '''\n",
    "        self.cargo = cargo\n",
    "        self.next  = next\n",
    "\n",
    "    def __str__(self):\n",
    "        '''\n",
    "        (self) -> str\n",
    "        Return a string representation of the carge\n",
    "        '''\n",
    "        return str(self.cargo)\n",
    "\n",
    "    def print_backward(self):\n",
    "        '''\n",
    "        (self) -> NoneType\n",
    "        Print the list out backward ending with self\n",
    "        '''\n",
    "        if self.next is not None:\n",
    "            tail = self.next\n",
    "            tail.print_backward()\n",
    "        print(self, end=\" \")\n",
    "\n",
    "\n",
    "node1 = Node(1)\n",
    "node2 = Node(2)\n",
    "node3 = Node(3)\n",
    "node4 = Node(\"some string\")\n",
    "\n",
    "node1.next = node2\n",
    "node2.next = node3\n",
    "node3.next = node4\n",
    "\n",
    "mylist = LinkedList()\n",
    "mylist.head = node1\n",
    "mylist.print_backward_nicely()\n"
   ]
  },
  {
   "cell_type": "markdown",
   "metadata": {},
   "source": [
    "Another benefit of the LinkedList class is that it makes it easier to add or remove the first element of a list. For example, `add_first` is a method for LinkedList it takes an item of cargo as an argument and puts it at the beginning of the list:"
   ]
  },
  {
   "cell_type": "code",
   "execution_count": 2,
   "metadata": {},
   "outputs": [
    {
     "name": "stdout",
     "output_type": "stream",
     "text": [
      "[ 0 1 2 3 4 ]\n",
      "5\n"
     ]
    }
   ],
   "source": [
    "class LinkedList:\n",
    "    \"A class that implements a linked list\"\n",
    "    \n",
    "    def __init__(self):\n",
    "        '''\n",
    "        (self) -> NoneType\n",
    "        Create an empty linked list\n",
    "        '''\n",
    "        self.length = 0\n",
    "        self.head = None\n",
    "\n",
    "    def print_backward_nicely(self):\n",
    "        '''\n",
    "        (self) -> NoneType\n",
    "        Print the list backward using Node.print_backward\n",
    "        '''\n",
    "        print(\"[\", end=\" \")\n",
    "        if self.head is not None:\n",
    "            self.head.print_backward()\n",
    "        print(\"]\", end=\"\")\n",
    "\n",
    "    \n",
    "    def add_first(self, cargo):\n",
    "        '''\n",
    "        (self, object) -> NoneType\n",
    "        Add cargo to the front of the list\n",
    "        '''\n",
    "        n = Node(cargo)\n",
    "        n.next = self.head\n",
    "        self.head = n\n",
    "        self.length += 1\n",
    "        \n",
    "\n",
    "class Node:\n",
    "    \"A class implementing a node in a linked list\"\n",
    "    \n",
    "    def __init__(self, cargo=None, next=None):\n",
    "        '''\n",
    "        (self) -> NoneType\n",
    "        Create a Node with cargo and whose next element is next\n",
    "        '''\n",
    "        self.cargo = cargo\n",
    "        self.next  = next\n",
    "\n",
    "    def __str__(self):\n",
    "        '''\n",
    "        (self) -> str\n",
    "        Return a string representation of the carge\n",
    "        '''\n",
    "        return str(self.cargo)\n",
    "\n",
    "    def print_backward(self):\n",
    "        '''\n",
    "        (self) -> NoneType\n",
    "        Recursively print the list out backward ending with self\n",
    "        '''\n",
    "        if self.next is not None:\n",
    "            tail = self.next\n",
    "            tail.print_backward()\n",
    "        print(self, end=\" \")\n",
    "\n",
    "mylist = LinkedList()\n",
    "for i in range(5):\n",
    "    mylist.add_first(i)\n",
    "    \n",
    "mylist.print_backward_nicely()\n",
    "print()\n",
    "print(mylist.length)\n",
    "\n"
   ]
  },
  {
   "cell_type": "markdown",
   "metadata": {},
   "source": [
    "### Removing items\n",
    "\n",
    "`remove_second` was a function we defined earlier to remove the second item in the linked list. We can extend this function to search through the items in a list until there is a match, at which point that item will be removed. \n",
    "\n",
    "Now that we are using the LinkedList class, we can make this into a method:\n"
   ]
  },
  {
   "cell_type": "code",
   "execution_count": null,
   "metadata": {
    "collapsed": true
   },
   "outputs": [],
   "source": [
    "class LinkedList:\n",
    "    \n",
    "    # ...\n",
    "    def remove_item(self, item):\n",
    "        '''\n",
    "        (self, object) -> NoneType\n",
    "        Remove item from the list\n",
    "        '''\n",
    "        # create two references that move in step through the list\n",
    "        previous = None\n",
    "        current = self.head\n",
    "        \n",
    "        # find the item: current will reference the matching item, previous the Node before\n",
    "        while current and current.cargo != item:\n",
    "            previous = current\n",
    "            current = current.next\n",
    "            \n",
    "        if current:  # found the item\n",
    "            if previous is None:              # removing the first element\n",
    "                self.head = current.next\n",
    "            else:                             # removing internal element\n",
    "                previous.next = current.next\n",
    "            \n",
    "            current.next = None\n",
    "            self.length -= 1\n",
    "            "
   ]
  },
  {
   "cell_type": "code",
   "execution_count": 1,
   "metadata": {},
   "outputs": [
    {
     "name": "stdout",
     "output_type": "stream",
     "text": [
      "[ 0 1 2 3 4 ]\n",
      "5\n",
      "[ 0 1 3 4 ]\n",
      "4\n",
      "[ 0 1 3 ]\n",
      "3\n",
      "[ 0 1 3 ]\n",
      "3\n"
     ]
    }
   ],
   "source": [
    "class LinkedList:\n",
    "    \"A class that implements a linked list\"\n",
    "    \n",
    "    def __init__(self):\n",
    "        '''\n",
    "        (self) -> NoneType\n",
    "        Create an empty linked list\n",
    "        '''\n",
    "        self.length = 0\n",
    "        self.head = None\n",
    "\n",
    "    def print_backward_nicely(self):\n",
    "        '''\n",
    "        (self) -> NoneType\n",
    "        Print the list backward using Node.print_backward\n",
    "        '''\n",
    "        print(\"[\", end=\" \")\n",
    "        if self.head is not None:\n",
    "            self.head.print_backward()\n",
    "        print(\"]\", end=\"\")\n",
    "\n",
    "    \n",
    "    def add_first(self, cargo):\n",
    "        '''\n",
    "        (self, object) -> NoneType\n",
    "        Add cargo to the front of the list\n",
    "        '''\n",
    "        n = Node(cargo)\n",
    "        n.next = self.head\n",
    "        self.head = n\n",
    "        self.length += 1\n",
    "        \n",
    "    def remove_item(self, item):\n",
    "        '''\n",
    "        (self, object) -> NoneType\n",
    "        Remove item from the list\n",
    "        '''\n",
    "        # create two references that move in step through the list\n",
    "        previous = None\n",
    "        current = self.head\n",
    "        \n",
    "        # find the item: current will reference the matching item, previous the Node before\n",
    "        while current and current.cargo != item:\n",
    "            previous = current\n",
    "            current = current.next\n",
    "            \n",
    "        if current:  # found the item\n",
    "            if previous is None:              # removing the first element\n",
    "                self.head = current.next\n",
    "            else:                             # removing internal element\n",
    "                previous.next = current.next\n",
    "            \n",
    "            current.next = None\n",
    "            self.length -= 1\n",
    "            \n",
    "            \n",
    "class Node:\n",
    "    \"A class implementing a node in a linked list\"\n",
    "    \n",
    "    def __init__(self, cargo=None, next=None):\n",
    "        '''\n",
    "        (self) -> NoneType\n",
    "        Create a Node with cargo and whose next element is next\n",
    "        '''\n",
    "        self.cargo = cargo\n",
    "        self.next  = next\n",
    "\n",
    "    def __str__(self):\n",
    "        '''\n",
    "        (self) -> str\n",
    "        Return a string representation of the carge\n",
    "        '''\n",
    "        return str(self.cargo)\n",
    "\n",
    "    def print_backward(self):\n",
    "        '''\n",
    "        (self) -> NoneType\n",
    "        Recursively print the list out backward ending with self\n",
    "        '''\n",
    "        if self.next is not None:\n",
    "            tail = self.next\n",
    "            tail.print_backward()\n",
    "        print(self, end=\" \")\n",
    "\n",
    "mylist = LinkedList()\n",
    "for i in range(5):\n",
    "    mylist.add_first(i)\n",
    "    \n",
    "mylist.print_backward_nicely()\n",
    "print()\n",
    "print(mylist.length)\n",
    "\n",
    "mylist.remove_item(2)\n",
    "mylist.print_backward_nicely()\n",
    "print()\n",
    "print(mylist.length)\n",
    "\n",
    "mylist.remove_item(4)\n",
    "mylist.print_backward_nicely()\n",
    "print()\n",
    "print(mylist.length)\n",
    "\n",
    "mylist.remove_item(8)\n",
    "mylist.print_backward_nicely()\n",
    "print()\n",
    "print(mylist.length)"
   ]
  },
  {
   "cell_type": "markdown",
   "metadata": {},
   "source": [
    "# Binary Trees\n",
    "\n",
    "Linked lists are one of many types of linked data structure. In general, linked data structures are built using fundamental components which we refer to as nodes. As we have seen previously, each node contains a unit of data (i.e. str, int, list, set, etc.) that we call the cargo, and one (or more!) links to other nodes. Depending on the number and organization of the links, we can have a linked list (i.e. link to one other node). We can also have two links and use them to create what is called a binary tree as shown below.\n",
    "\n",
    "![BinaryTree1](images/btree1.png)\n",
    "\n",
    "The top of the tree is called the root. A tree, like the name suggests, branches out from the root all the way to the ends which are referred to as leaves. In keeping with the tree metaphor, the other nodes are called branches (or internal nodes) and the nodes at the tips with null references are called leaves. It may seem odd that we draw the picture with the root at the top and the leaves at the bottom, but that is not the strangest thing.\n",
    "\n",
    "Notice that you can think of a tree as either:\n",
    "1.\tthe empty tree, represented by None, or\n",
    "2.\ta node that contains data (cargo) and two tree references (left and right).\n",
    "\n",
    "That is, a non-empty tree is made of a node and (optionally) two **sub-trees**."
   ]
  },
  {
   "cell_type": "markdown",
   "metadata": {},
   "source": [
    "## Building trees\n",
    "\n",
    "The process of assembling a tree is similar to the process of assembling a linked list."
   ]
  },
  {
   "cell_type": "code",
   "execution_count": 4,
   "metadata": {},
   "outputs": [],
   "source": [
    "class Node:\n",
    "    '''A Node class used by a binary tree class'''\n",
    "    \n",
    "    def __init__(self,cargo = None, left = None, right = None):\n",
    "        '''\n",
    "        (self) -> NoneType\n",
    "        Create a Node with cargo and left and right subtrees\n",
    "        '''\n",
    "        self.cargo = cargo\n",
    "        self.left = left\n",
    "        self.right = right\n",
    "        "
   ]
  },
  {
   "cell_type": "markdown",
   "metadata": {},
   "source": [
    "The cargo can be any type, but the left and right parameters should be tree nodes, the default value is None. The following few steps will illustrate how to build a tree.\n",
    "\n",
    "One way to build a tree is from the bottom up. Allocate the leaf nodes first:\n"
   ]
  },
  {
   "cell_type": "code",
   "execution_count": 5,
   "metadata": {},
   "outputs": [
    {
     "name": "stdout",
     "output_type": "stream",
     "text": [
      "2\n",
      "0\n",
      "2\n"
     ]
    }
   ],
   "source": [
    "left = Node(2)\n",
    "right = Node(3)\n",
    "\n",
    "print(left.cargo)\n",
    "tree = Node(0, left, right)\n",
    "print(tree.cargo)\n",
    "print(tree.left.cargo)\n"
   ]
  },
  {
   "cell_type": "markdown",
   "metadata": {},
   "source": [
    "Or more concisely:"
   ]
  },
  {
   "cell_type": "code",
   "execution_count": 6,
   "metadata": {},
   "outputs": [
    {
     "name": "stdout",
     "output_type": "stream",
     "text": [
      "0\n",
      "2\n"
     ]
    }
   ],
   "source": [
    "tree = Node(0, Node(2), Node(3))\n",
    "print(tree.cargo)\n",
    "print(tree.left.cargo)"
   ]
  },
  {
   "cell_type": "markdown",
   "metadata": {},
   "source": [
    "### Printing the tree\n",
    "\n",
    "It would be nice to have a method that will print all the nodes in binary tree, just like we did for a linked list. This method can be made part of the Node class. First we need to provide a \\_\\_str\\_\\_ method.\n"
   ]
  },
  {
   "cell_type": "code",
   "execution_count": 2,
   "metadata": {},
   "outputs": [
    {
     "name": "stdout",
     "output_type": "stream",
     "text": [
      "1  \n",
      "\n",
      "2  3  \n",
      "\n",
      "4  5  6  7  \n",
      "\n"
     ]
    }
   ],
   "source": [
    "class Node:\n",
    "    '''A Node class used by a binary tree class'''\n",
    "    \n",
    "    def __init__(self,cargo = None, left = None, right = None):\n",
    "        '''\n",
    "        (self) -> NoneType\n",
    "        Create a Node with cargo and left and right subtrees\n",
    "        '''\n",
    "        self.cargo = cargo\n",
    "        self.left = left\n",
    "        self.right = right\n",
    "                \n",
    "    def __str__(self):\n",
    "        '''\n",
    "        (self) -> str\n",
    "        Return a str representation of cargo\n",
    "        '''\n",
    "        return str(self.cargo)\n",
    " \n",
    "    def print_tree(self):\n",
    "        '''\n",
    "        (self) -> NoneTyoe\n",
    "        Prints tree level by level\n",
    "        '''\n",
    "\n",
    "        thislevel = [self]        # all the nodes in a given level\n",
    "        while thislevel:\n",
    "            nextlevel = list()    # collect nodes in the next level\n",
    "            for n in thislevel:\n",
    "                print (n.cargo, \" \", end = \"\")\n",
    "                if n.left: \n",
    "                    nextlevel.append(n.left)\n",
    "                if n.right: \n",
    "                    nextlevel.append(n.right)\n",
    "            print(\"\\n\")\n",
    "            thislevel = nextlevel  # move to the next level\n",
    "    \n",
    "\n",
    "t = Node(1, Node(2, Node(4), Node(5)), Node(3, Node(6), Node(7)))\n",
    "t.print_tree()"
   ]
  },
  {
   "cell_type": "markdown",
   "metadata": {},
   "source": [
    "We will see more about trees in the next two lectures.\n",
    "\n",
    "<div class=\"alert alert-block alert-info\">\n",
    "<big><b>This Lecture</b></big>\n",
    "<ul>  \n",
    " <li>Linked data structures are typically a pattern of two classes. For example a LinkedList class which points to the first node in the list and a Node class, one object for each list element.</li>  \n",
    "     <li>We can build different linked data structures and trees are an important one.</li>  \n",
    "</ul>  \n",
    "</div>"
   ]
  },
  {
   "cell_type": "code",
   "execution_count": null,
   "metadata": {},
   "outputs": [],
   "source": []
  }
 ],
 "metadata": {
  "kernelspec": {
   "display_name": "Python 3 (ipykernel)",
   "language": "python",
   "name": "python3"
  },
  "language_info": {
   "codemirror_mode": {
    "name": "ipython",
    "version": 3
   },
   "file_extension": ".py",
   "mimetype": "text/x-python",
   "name": "python",
   "nbconvert_exporter": "python",
   "pygments_lexer": "ipython3",
   "version": "3.7.11"
  }
 },
 "nbformat": 4,
 "nbformat_minor": 1
}
