{
 "cells": [
  {
   "cell_type": "markdown",
   "metadata": {},
   "source": [
    "# Design Problem: Cryptography\n",
    "\n",
    "![crypto](crypto.png)\n",
    "\n",
    "## Problem Background\n",
    "\n",
    "For thousands of years cryptographers have made secret messages that only the sender and recipient could read. The secret code system (or algorithm) used for encrypting and decrypting messages is called a cipher. Even if the message (today’s equivalent would be a file) were to be captured, it would not help in decoding the message, since only sender and recipient would know the cipher.\n",
    "\n",
    "One of the earliest examples of cryptography is the Caesar cipher which encrypts a message by taking each letter in the message and replacing it with a “shifted” letter. If you shift the letter A by one space, you get the letter B. If you shift the letter A by two spaces, you get the letter C. The Caesar cipher is overly simple and it wouldn’t take much to break the encryption. Even though the Caesar cipher is no longer used, it still makes for a great learning example for cryptography.  \n",
    "\n",
    "## Define the Problem\n",
    "\n",
    "Given a sensitive message that should not be read by others, we would like devise an algorithm to encrypt the message so that only someone with the secret key can access it. This message will need to be easily transferable using a flash drive or email. \n",
    "There are many options available for encryption ranging from classic methods that are not secure, to more modern ones that are highly mathematical. Since the message being encrypted is not of great importance, and there is little motivation for your friends to try and decrypt it, it makes sense to use an easier implementation, such as the Caesar cipher.\n",
    "\n",
    "So let's define a message and a **key** the number of spaces that you shift each letter in the message.\n",
    "\n",
    "\n",
    "\n",
    "## Define Test Cases \n",
    "\n",
    "### Test Case 1: Encryption\n",
    "\n",
    "Message: Meet me at snakes and lattes on Friday at 7pm\n",
    "\n",
    "Key: 10\n",
    "\n",
    "Encoded Message: Wood wo kd cxkuoc kxn vkddoc yx Pbsnki kd 7zw\n",
    "\n",
    "### Test case 2: Decryption\n",
    "\n",
    "Message: Wood wo kd cxkuoc kxn vkddoc yx Pbsnki kd 7zw\n",
    "\n",
    "Key: 10\n",
    "\n",
    "Decrypted Message: Meet me at snakes and lattes on Friday at 7pm\n",
    "\n",
    "\n",
    "### Test case 3: Wrong key\n",
    "\n",
    "Message: Wood wo kd cxkuoc kxn vkddoc yx Pbsnki kd 7zw\n",
    "\n",
    "Key: 9\n",
    "\n",
    "Decrypted Message: Nffu nf bu toblft boe mbuuft po Gsjebz bu 7qn\n",
    "\n",
    "\n",
    "\n",
    "## Generate Many Creative Solutions\n",
    "\n",
    "The Caesar cipher performs message encryption by taking each letter in the message and replacing it with a “shifted” letter. \n",
    "\n",
    "### The Algorithm Plan\n",
    "\n",
    "- Prompt user for a message and secret key\n",
    "- Encrypt a message using the Caesar Cipher\n",
    "- Save encrypted message to a text file named encrypted_message\n",
    "- Load encrypted message from text file named encrypted_message\n",
    "- Decrypt message using secret key\n",
    "- Print message\n",
    "- [Bonus (not discussed here): place the above functionality in a menu that asks the user if she wants to encrypt or decrypt and then prompts her further depending on which she wants to do]\n",
    "\n",
    "To perform a shift we need to think of characters as numbers. For example, we could define the letter ‘a’ as 1, and then ‘b’ as 2, and so forth. This could be implemented using a dictionary data structure. \n",
    "\n",
    "But in Week 4 we learned that all characters and symbols are already numbered using the ASCII cade. Using ASCII might work just as well and we wouldn’t need to reinvent our own code for the characters.\n",
    "\n",
    "### Programming Plan\n",
    "\n",
    "Some of the steps in the Algorithm Plan look pretty straightforward. Some are more difficult.  Let’s get the easy ones out of the way first.\n",
    "\n",
    "1.\tImplement code to read the message and key.\n",
    "2.\tWithout encrypting it, just write out the message to a file.\n",
    "3.\tRead in the message from the file and then without decrypting it, write it out.\n",
    "\n",
    "Based on what we already know in python, the above should be easy. Then we only have two items left:\n",
    "\n",
    "4.\tEncrypt the message (where do we do this in the code?)\n",
    "5.\tDecrypt the message (where do we do this?)\n",
    "\n",
    "## Select a Solution\n",
    "\n",
    "ASCII looks like the way to go.\n",
    "\n",
    "\n",
    "## Programming Plan: Step 1: Prompt user for message and key\n",
    "\n",
    "Let’s write the “main” code first even to see how far we get before we have to think.\n"
   ]
  },
  {
   "cell_type": "code",
   "execution_count": 1,
   "metadata": {},
   "outputs": [
    {
     "ename": "NameError",
     "evalue": "name 'get_message' is not defined",
     "output_type": "error",
     "traceback": [
      "\u001b[0;31m---------------------------------------------------------------------------\u001b[0m",
      "\u001b[0;31mNameError\u001b[0m                                 Traceback (most recent call last)",
      "\u001b[0;32m<ipython-input-1-ce5899b7e567>\u001b[0m in \u001b[0;36m<module>\u001b[0;34m()\u001b[0m\n\u001b[1;32m      1\u001b[0m \u001b[0;31m# Prompt user for a message and secret key\u001b[0m\u001b[0;34m\u001b[0m\u001b[0;34m\u001b[0m\u001b[0m\n\u001b[0;32m----> 2\u001b[0;31m \u001b[0mmessage\u001b[0m \u001b[0;34m=\u001b[0m \u001b[0mget_message\u001b[0m\u001b[0;34m(\u001b[0m\u001b[0;34m)\u001b[0m\u001b[0;34m\u001b[0m\u001b[0m\n\u001b[0m\u001b[1;32m      3\u001b[0m \u001b[0mkey\u001b[0m \u001b[0;34m=\u001b[0m \u001b[0mget_key\u001b[0m\u001b[0;34m(\u001b[0m\u001b[0;34m)\u001b[0m\u001b[0;34m\u001b[0m\u001b[0m\n\u001b[1;32m      4\u001b[0m \u001b[0;34m\u001b[0m\u001b[0m\n\u001b[1;32m      5\u001b[0m \u001b[0;31m# Encrypt a message using the Caesar Cipher\u001b[0m\u001b[0;34m\u001b[0m\u001b[0;34m\u001b[0m\u001b[0m\n",
      "\u001b[0;31mNameError\u001b[0m: name 'get_message' is not defined"
     ]
    }
   ],
   "source": [
    "# Prompt user for a message and secret key\n",
    "message = get_message()\n",
    "key = get_key()\n",
    "\n",
    "# Encrypt a message using the Caesar Cipher\n",
    "\n",
    "# Save encrypted message to a text file named encrypted_message\n",
    "\n",
    "# Load encrypted message from text file named encrypted_message\n",
    "\n",
    "# Decrypt message using secret key\n",
    "\n",
    "# Print message"
   ]
  },
  {
   "cell_type": "markdown",
   "metadata": {},
   "source": [
    "After the second line, I am not really sure what to do. So let’s just leave this as is and see if we can write some functions.\n"
   ]
  },
  {
   "cell_type": "code",
   "execution_count": 2,
   "metadata": {},
   "outputs": [
    {
     "name": "stdout",
     "output_type": "stream",
     "text": [
      "Enter the secret message: This is the secret message\n",
      "Enter the key: 10\n",
      "This is the secret message\n",
      "10\n"
     ]
    }
   ],
   "source": [
    "def get_message():\n",
    "    ''' Returns the secret message from user input'''\n",
    "    return input(\"Enter the secret message: \")\n",
    "\n",
    "def get_key():\n",
    "    '''Returns the key from user input'''\n",
    "    return int(input(\"Enter the key: \"))\n",
    "\n",
    "# Prompt user for a message and secret key\n",
    "message = get_message()\n",
    "key = get_key()\n",
    "\n",
    "print(message)\n",
    "print(key)\n",
    "\n",
    "# Encrypt a message using the Caesar Cipher\n",
    "# Save encrypted message to a text file named encrypted_message\n",
    "# Load encrypted message from text file named encrypted_message\n",
    "# Decrypt message using secret key\n",
    "# Print message\n"
   ]
  },
  {
   "cell_type": "markdown",
   "metadata": {},
   "source": [
    "## Programming Plan: Step 2: Without decrypting it, just write out the message to a file.\n",
    "\n",
    "OK, based on our programming plan, we are going to skip the encryption and just print out the message to a file. Then we’ll come back and do the encryption.\n",
    "\n",
    "We need to open the file in ‘w’ mode, use the write function to write it, and then close it. So:\n",
    "\n",
    "Save encrypted message in text file, encrypted_message.txt"
   ]
  },
  {
   "cell_type": "code",
   "execution_count": 4,
   "metadata": {},
   "outputs": [],
   "source": [
    "encrypted_file = open(\"encrypted_message.txt\", \"w\")\n",
    "encrypted_file.write(message)\n",
    "encrypted_file.close()"
   ]
  },
  {
   "cell_type": "markdown",
   "metadata": {},
   "source": [
    "How do we check if this has worked?\n",
    "\n",
    "## Programming Plan: Step 3: Read in the message from the file and then without decrypting it, write it out.\n",
    "\n",
    "Now we want to do the reverse: open the file in ‘r’ mode, read in the message, and then close the file.\n",
    "\n",
    "Retrieve encrypted message from text file, encrypted_message.txt"
   ]
  },
  {
   "cell_type": "code",
   "execution_count": 6,
   "metadata": {},
   "outputs": [
    {
     "name": "stdout",
     "output_type": "stream",
     "text": [
      "This is the secret message\n"
     ]
    }
   ],
   "source": [
    "encrypted_file = open(\"encrypted_message.txt\", \"r\")\n",
    "input_message = encrypted_file.read()\n",
    "encrypted_file.close()\n",
    "print(input_message)"
   ]
  },
  {
   "cell_type": "markdown",
   "metadata": {},
   "source": [
    "Let’s see what the whole code looks like at this point."
   ]
  },
  {
   "cell_type": "code",
   "execution_count": null,
   "metadata": {},
   "outputs": [],
   "source": [
    "def get_message():\n",
    "    ''' Returns the secret message from user input'''\n",
    "    return input(\"Enter the secret message: \")\n",
    "\n",
    "def get_key():\n",
    "    '''Returns the key from user input'''\n",
    "    return int(input(\"Enter the key: \"))\n",
    "\n",
    "# Prompt user for a message and secret key\n",
    "message = get_message()\n",
    "key = get_key()\n",
    "\n",
    "#print(message)\n",
    "#print(key)\n",
    "\n",
    "# Encrypt a message using the Caesar Cipher\n",
    "# Save encrypted message to a text file named encrypted_message\n",
    "encrypted_file = open(\"encrypted_message.txt\", \"w\")\n",
    "encrypted_file.write(message)\n",
    "encrypted_file.close()\n",
    "\n",
    "# Load encrypted message from text file named encrypted_message\n",
    "encrypted_file = open(\"encrypted_message.txt\", \"r\")\n",
    "input_message = encrypted_file.read()\n",
    "encrypted_file.close()\n",
    "print(input_message)\n",
    "\n",
    "# Decrypt message using secret key\n",
    "# Print message"
   ]
  },
  {
   "cell_type": "markdown",
   "metadata": {},
   "source": [
    "OK, where are we?\n",
    "\n",
    "What does our Programming Plan say?\n",
    "\n",
    "1.\t~~Implement code to read the message and key.~~\n",
    "2.\t~~Without decrypting it, just write out the message to a file.~~\n",
    "3.\t~~Read in the message from the file and then without decrypting it, write it out.~~\n",
    "4.\tEncrypt the message (where do we do this in the code?)\n",
    "5.\tDecrypt the message (where do we do this?)\n",
    "\n",
    "## Programming Plan: Step 4: Encrypt the Message\n",
    "\n",
    "Now we have the problem of figuring out how to encrypt and decrypt the message (which we’ve been avoiding all along). Any ideas?\n",
    "\n",
    "Let’s write a function that initially does nothing except copy unencrypted characters. We know we have to somehow change each character so let's loop through them and just copy them.\n"
   ]
  },
  {
   "cell_type": "code",
   "execution_count": 7,
   "metadata": {},
   "outputs": [
    {
     "name": "stdout",
     "output_type": "stream",
     "text": [
      "This is a string\n"
     ]
    }
   ],
   "source": [
    "def encrypt_message(message, key):\n",
    "    ''' Returns the encypted message using the Caesar cypher'''\n",
    "    translated = \"\"\n",
    "    for c in message:\n",
    "        # encryption needs to happen here\n",
    "        translated += c\n",
    "        \n",
    "    return translated\n",
    "\n",
    "print(encrypt_message(\"This is a string\", 10))"
   ]
  },
  {
   "cell_type": "markdown",
   "metadata": {},
   "source": [
    "We studied chr() and ord() \n"
   ]
  },
  {
   "cell_type": "code",
   "execution_count": 10,
   "metadata": {},
   "outputs": [
    {
     "name": "stdout",
     "output_type": "stream",
     "text": [
      "97\n",
      "a\n"
     ]
    }
   ],
   "source": [
    "print(ord('a'))\n",
    "print(chr(97))"
   ]
  },
  {
   "cell_type": "markdown",
   "metadata": {},
   "source": [
    "Leading to something like:"
   ]
  },
  {
   "cell_type": "code",
   "execution_count": 11,
   "metadata": {},
   "outputs": [
    {
     "name": "stdout",
     "output_type": "stream",
     "text": [
      "h|}4}4u4}{\n"
     ]
    }
   ],
   "source": [
    "def encrypt_message(message, key):\n",
    "    ''' Returns the encypted message using the Caesar cypher'''\n",
    "    translated = \"\"\n",
    "    for c in message:\n",
    "        num = ord(c)\n",
    "        num += key\n",
    "        symbol = chr(num)\n",
    "        translated += symbol\n",
    "        \n",
    "    return translated\n",
    "\n",
    "print(encrypt_message(\"This is a string\", 20))"
   ]
  },
  {
   "cell_type": "markdown",
   "metadata": {},
   "source": [
    "So what is going on?\n",
    "\n",
    "We also only want to translate characters and take into account capital vs. lower case."
   ]
  },
  {
   "cell_type": "code",
   "execution_count": 12,
   "metadata": {},
   "outputs": [
    {
     "name": "stdout",
     "output_type": "stream",
     "text": [
      "Nbcm cm u mnlcha.\n"
     ]
    }
   ],
   "source": [
    "def encrypt_message(message, key):\n",
    "    ''' Returns the encypted message using the Caesar cypher'''\n",
    "    translated = \"\"\n",
    "    for c in message:\n",
    "        if c.isalpha():\n",
    "            num = ord(c)\n",
    "            num += key\n",
    "        \n",
    "            if c.islower():\n",
    "                if num > ord('z'):\n",
    "                    num -= 26\n",
    "                elif num < ord('a'):\n",
    "                    num += 26\n",
    "            else:\n",
    "                if num > ord('Z'):\n",
    "                    num -= 26\n",
    "                elif num < ord('A'):\n",
    "                    num += 26\n",
    "            symbol = chr(num)\n",
    "        else:\n",
    "            symbol = c\n",
    "            \n",
    "        translated += symbol\n",
    "        \n",
    "    return translated\n",
    "\n",
    "print(encrypt_message(\"This is a string.\", 20))"
   ]
  },
  {
   "cell_type": "markdown",
   "metadata": {},
   "source": [
    "## Programming Plan: Step 5: Decrypt the Message\n",
    "\n",
    "Ideas?\n",
    "\n",
    "Hint: You want to do as little work as possible.\n",
    "\n",
    "Hint #2: In fact, you do not have to do anything!\n"
   ]
  },
  {
   "cell_type": "code",
   "execution_count": 1,
   "metadata": {},
   "outputs": [
    {
     "name": "stdout",
     "output_type": "stream",
     "text": [
      "Enter the secret message: This is the secret message.\n",
      "Enter the key: 9\n",
      "This is the secret message.\n",
      "9\n",
      "Cqrb rb cqn bnlanc vnbbjpn.\n",
      "This is the secret message.\n"
     ]
    }
   ],
   "source": [
    "def get_message():\n",
    "    ''' Returns the secret message from user input'''\n",
    "    return input(\"Enter the secret message: \")\n",
    "\n",
    "def get_key():\n",
    "    '''Returns the key from user input'''\n",
    "    key = 0\n",
    "    while not (1 <= key <= 26):\n",
    "        key = int(input(\"Enter the key: \"))\n",
    "        \n",
    "    return key\n",
    "\n",
    "def encrypt_message(message, key):\n",
    "    ''' Returns the encypted message using the Caesar cypher'''\n",
    "    translated = \"\"\n",
    "    for c in message:\n",
    "        if c.isalpha():\n",
    "            num = ord(c)\n",
    "            num += key\n",
    "        \n",
    "            if c.islower():\n",
    "                if num > ord('z'):\n",
    "                    num -= 26\n",
    "                elif num < ord('a'):\n",
    "                    num += 26\n",
    "            else:\n",
    "                if num > ord('Z'):\n",
    "                    num -= 26\n",
    "                elif num < ord('A'):\n",
    "                    num += 26\n",
    "            symbol = chr(num)\n",
    "        else:\n",
    "            symbol = c\n",
    "            \n",
    "        translated += symbol\n",
    "        \n",
    "    return translated\n",
    "\n",
    "# Prompt user for a message and secret key\n",
    "message = get_message()\n",
    "key = get_key()\n",
    "\n",
    "print(message)\n",
    "print(key)\n",
    "\n",
    "# Encrypt a message using the Caesar Cipher\n",
    "encrypted_message = encrypt_message(message, key)\n",
    "print(encrypted_message)\n",
    "\n",
    "# Save encrypted message to a text file named encrypted_message\n",
    "encrypted_file = open(\"encrypted_message.txt\", \"w\")\n",
    "encrypted_file.write(encrypted_message)\n",
    "encrypted_file.close()\n",
    "\n",
    "# Load encrypted message from text file named encrypted_message\n",
    "encrypted_file = open(\"encrypted_message.txt\", \"r\")\n",
    "input_message = encrypted_file.read()\n",
    "encrypted_file.close()\n",
    "\n",
    "# Decrypt message using secret key\n",
    "plaintext = encrypt_message(input_message, -key)\n",
    "\n",
    "# Print message\n",
    "print(plaintext)"
   ]
  },
  {
   "cell_type": "markdown",
   "metadata": {},
   "source": [
    "# Perform Final Testing"
   ]
  }
 ],
 "metadata": {
  "kernelspec": {
   "display_name": "Python 3 (ipykernel)",
   "language": "python",
   "name": "python3"
  },
  "language_info": {
   "codemirror_mode": {
    "name": "ipython",
    "version": 3
   },
   "file_extension": ".py",
   "mimetype": "text/x-python",
   "name": "python",
   "nbconvert_exporter": "python",
   "pygments_lexer": "ipython3",
   "version": "3.7.11"
  }
 },
 "nbformat": 4,
 "nbformat_minor": 1
}
