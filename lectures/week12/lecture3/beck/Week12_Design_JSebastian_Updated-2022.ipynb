{
 "cells": [
  {
   "cell_type": "markdown",
   "source": [
    "## APS106 Lecture Notes - Week 12, Design Problem\n",
    "# Purchasing concert tickets using a priority queue"
   ],
   "metadata": {
    "collapsed": false
   }
  },
  {
   "cell_type": "markdown",
   "source": [
    "## Problem Background\n",
    "\n",
    "You've probably purchased or heard of someone purchasing concert tickets at some point in your life. There is a drop time and people log on to a website and purchase the tickets on a first come, first served basis. Using our knowledge from this weeks on linked lists and queues, we want to design a code to be able to prioritize people on when they join the queue but also, if we have exclusive members who have special priority, we want to incorporate this also."
   ],
   "metadata": {
    "collapsed": false
   }
  },
  {
   "cell_type": "markdown",
   "source": [
    "## Define The Problem\n",
    "\n",
    "You need to build a priority queue using our knowledge of linked list. A priority queue is a type of queue in which each element in a queue is associated with some priority, and they are served based on their priorities. If the elements have the same priority, they are served based on their order in a queue. An example is illustrated below with test cases included."
   ],
   "metadata": {
    "collapsed": false
   }
  },
  {
   "cell_type": "markdown",
   "source": [
    "![](PriorityQueue.png)"
   ],
   "metadata": {
    "collapsed": false
   }
  },
  {
   "cell_type": "markdown",
   "source": [
    "## Generate Many Creative Solutions\n",
    "\n",
    "At this point, you may be thinking \"how am I ever going to write this program?\" It seems daunting. We just have to build on the code that we learned this week. We need to determine a way to prioritize the input from the concert holder and put them in line! Seems simple enough.\n",
    "\n",
    "### An Algorithm/Programming Plan\n",
    "1. Check if the list is empty!\n",
    "2. Remove people who are first in line when they have purchased their tickets\n",
    "3. Insert based on priority set in the input to the queue"
   ],
   "metadata": {
    "collapsed": false
   }
  },
  {
   "cell_type": "code",
   "execution_count": 1,
   "outputs": [],
   "source": [
    "class Node:\n",
    "    def __init__(self, c = None, p = None):\n",
    "        '''Creates an object of type Node.'''\n",
    "        self.cargo = c\n",
    "        self.priority = p\n",
    "        self.next = None"
   ],
   "metadata": {
    "collapsed": false,
    "pycharm": {
     "name": "#%%\n"
    }
   }
  },
  {
   "cell_type": "code",
   "execution_count": 2,
   "outputs": [],
   "source": [
    "class LinkedList:\n",
    "    def __init__(self):\n",
    "        '''Creates a linked list, i.e., an object of type LinkedList. This list is empty.\n",
    "        '''\n",
    "\n",
    "        self.length = 0 # the number of elements in the list\n",
    "        self.head = None\n",
    "\n",
    "    def __str__(self):\n",
    "        \"\"\"\n",
    "        (self) -> str\n",
    "        Print out the entire linked list from head (left) to tail (right).\n",
    "        \"\"\"\n",
    "        # defining a blank res variable\n",
    "        res = \"\"\n",
    "\n",
    "        # initializing ptr to head\n",
    "        ptr = self.head\n",
    "\n",
    "       # traversing and adding it to res\n",
    "        while ptr:\n",
    "            res += str(ptr.cargo) + \", \"\n",
    "            ptr = ptr.next\n",
    "\n",
    "       # removing trailing commas\n",
    "        res = res.strip(\", \")\n",
    "\n",
    "        # chen checking if\n",
    "        # anything is present in res or not\n",
    "        if len(res):\n",
    "            return \"[\" + res + \"]\"\n",
    "        else:\n",
    "            return \"[]\"\n",
    "\n",
    "    def insert_in_front(self, cargo, priority):\n",
    "        '''(LinkedList) -> NoneType\n",
    "        Insert an element at the front of the list.\n",
    "        '''\n",
    "        if self.length == 0:\n",
    "            self.head = Node(cargo, priority)\n",
    "        else:\n",
    "            aux = self.head\n",
    "            self.head = Node(cargo, priority)\n",
    "            self.head.next = aux\n",
    "\n",
    "        self.length += 1\n",
    "\n",
    "    def insert_after_node(self, n, cargo, priority):\n",
    "        '''Linked List -> NoneType\n",
    "        Insert an element in the list, right after node n.\n",
    "        '''\n",
    "        aux = n.next\n",
    "        n.next = Node(c, priority)\n",
    "        n.next.next = aux\n",
    "        self.length += 1"
   ],
   "metadata": {
    "collapsed": false,
    "pycharm": {
     "name": "#%%\n"
    }
   }
  },
  {
   "cell_type": "markdown",
   "source": [
    "# Breakout session 1 - Is the list empty?"
   ],
   "metadata": {
    "collapsed": false
   }
  },
  {
   "cell_type": "code",
   "execution_count": 3,
   "outputs": [],
   "source": [
    "class LinkedList:\n",
    "    def __init__(self):\n",
    "        '''Creates a linked list, i.e., an object of type LinkedList. This list is empty.\n",
    "        '''\n",
    "\n",
    "        self.length = 0 # the number of elements in the list\n",
    "        self.head = None\n",
    "\n",
    "    def __str__(self):\n",
    "        \"\"\"\n",
    "        (self) -> str\n",
    "        Print out the entire linked list from head (left) to tail (right).\n",
    "        \"\"\"\n",
    "        # defining a blank res variable\n",
    "        res = \"\"\n",
    "\n",
    "        # initializing ptr to head\n",
    "        ptr = self.head\n",
    "\n",
    "       # traversing and adding it to res\n",
    "        while ptr:\n",
    "            res += str(ptr.cargo) + \", \"\n",
    "            ptr = ptr.next\n",
    "\n",
    "       # removing trailing commas\n",
    "        res = res.strip(\", \")\n",
    "\n",
    "        # chen checking if\n",
    "        # anything is present in res or not\n",
    "        if len(res):\n",
    "            return \"[\" + res + \"]\"\n",
    "        else:\n",
    "            return \"[]\"\n",
    "\n",
    "    def insert_in_front(self, cargo, priority):\n",
    "        '''(LinkedList) -> NoneType\n",
    "        Insert an element at the front of the list.\n",
    "        '''\n",
    "        if self.length == 0:\n",
    "            self.head = Node(cargo, priority)\n",
    "        else:\n",
    "            aux = self.head\n",
    "            self.head = Node(cargo, priority)\n",
    "            self.head.next = aux\n",
    "\n",
    "        self.length += 1\n",
    "\n",
    "    def insert_after_node(self, n, cargo, priority):\n",
    "        '''Linked List -> NoneType\n",
    "        Insert an element in the list, right after node n.\n",
    "        '''\n",
    "        aux = n.next\n",
    "        n.next = Node(c, priority)\n",
    "        n.next.next = aux\n",
    "        self.length += 1\n",
    "\n",
    "    def is_empty(self):\n",
    "        '''(LinkedList) -> bool\n",
    "        Return True if the list is empty and False otherwise'''\n",
    "        return self.head is None"
   ],
   "metadata": {
    "collapsed": false,
    "pycharm": {
     "name": "#%%\n"
    }
   }
  },
  {
   "cell_type": "code",
   "execution_count": 4,
   "outputs": [],
   "source": [
    "linked_list = LinkedList()"
   ],
   "metadata": {
    "collapsed": false,
    "pycharm": {
     "name": "#%%\n"
    }
   }
  },
  {
   "cell_type": "code",
   "execution_count": 5,
   "outputs": [],
   "source": [
    "linked_list.insert_in_front('Robin', 2)"
   ],
   "metadata": {
    "collapsed": false,
    "pycharm": {
     "name": "#%%\n"
    }
   }
  },
  {
   "cell_type": "code",
   "execution_count": 6,
   "outputs": [
    {
     "data": {
      "text/plain": "False"
     },
     "execution_count": 6,
     "metadata": {},
     "output_type": "execute_result"
    }
   ],
   "source": [
    "linked_list.is_empty()"
   ],
   "metadata": {
    "collapsed": false,
    "pycharm": {
     "name": "#%%\n"
    }
   }
  },
  {
   "cell_type": "markdown",
   "source": [
    "# Part B - Breakout session 2: Pop out the first person in the queue and get their information"
   ],
   "metadata": {
    "collapsed": false
   }
  },
  {
   "cell_type": "code",
   "execution_count": 7,
   "outputs": [],
   "source": [
    "class LinkedList:\n",
    "    def __init__(self):\n",
    "        '''Creates a linked list, i.e., an object of type LinkedList. This list is empty.\n",
    "        '''\n",
    "\n",
    "        self.length = 0 # the number of elements in the list\n",
    "        self.head = None\n",
    "\n",
    "    def __str__(self):\n",
    "        \"\"\"\n",
    "        (self) -> str\n",
    "        Print out the entire linked list from head (left) to tail (right).\n",
    "        \"\"\"\n",
    "        # defining a blank res variable\n",
    "        res = \"\"\n",
    "\n",
    "        # initializing ptr to head\n",
    "        ptr = self.head\n",
    "\n",
    "       # traversing and adding it to res\n",
    "        while ptr:\n",
    "            res += str(ptr.cargo) + \", \"\n",
    "            ptr = ptr.next\n",
    "\n",
    "       # removing trailing commas\n",
    "        res = res.strip(\", \")\n",
    "\n",
    "        # chen checking if\n",
    "        # anything is present in res or not\n",
    "        if len(res):\n",
    "            return \"[\" + res + \"]\"\n",
    "        else:\n",
    "            return \"[]\"\n",
    "\n",
    "    def insert_in_front(self, cargo, priority):\n",
    "        '''(LinkedList) -> NoneType\n",
    "        Insert an element at the front of the list.\n",
    "        '''\n",
    "        if self.length == 0:\n",
    "            self.head = Node(cargo, priority)\n",
    "        else:\n",
    "            aux = self.head\n",
    "            self.head = Node(cargo, priority)\n",
    "            self.head.next = aux\n",
    "\n",
    "        self.length += 1\n",
    "\n",
    "    def insert_after_node(self, n, cargo, priority):\n",
    "        '''Linked List -> NoneType\n",
    "        Insert an element in the list, right after node n.\n",
    "        '''\n",
    "        aux = n.next\n",
    "        n.next = Node(c, priority)\n",
    "        n.next.next = aux\n",
    "        self.length += 1\n",
    "\n",
    "    def is_empty(self):\n",
    "        '''(LinkedList) -> bool\n",
    "        Return True if the list is empty and False otherwise'''\n",
    "        return self.head.next is None\n",
    "\n",
    "    def extract_first(self):\n",
    "        '''(LinkedList) -> string or NoneType\n",
    "        If the list has at least one element, remove the first element from the list, return its cargo and assign the next node in the sequence to be the new head of the list. If the list has only one element, remove the element and return its cargo. Return none if the list is empty. (No element removal is performed in this case). '''\n",
    "\n",
    "        if self.length > 1:\n",
    "            temp = self.head\n",
    "            temp_cargo = self.head.cargo\n",
    "            # Move the head pointer to the next node\n",
    "            self.head = self.head.next\n",
    "            temp = None\n",
    "            return temp_cargo\n",
    "\n",
    "        elif self.length == 1:\n",
    "            temp = self.head.cargo\n",
    "            self.head = None\n",
    "            return temp\n",
    "\n",
    "        else:\n",
    "            return None"
   ],
   "metadata": {
    "collapsed": false,
    "pycharm": {
     "name": "#%%\n"
    }
   }
  },
  {
   "cell_type": "code",
   "execution_count": 8,
   "outputs": [],
   "source": [
    "linked_list = LinkedList()"
   ],
   "metadata": {
    "collapsed": false,
    "pycharm": {
     "name": "#%%\n"
    }
   }
  },
  {
   "cell_type": "code",
   "execution_count": 9,
   "outputs": [],
   "source": [
    "linked_list.insert_in_front('Robin', 2)\n",
    "linked_list.insert_in_front('Eric', 1)"
   ],
   "metadata": {
    "collapsed": false,
    "pycharm": {
     "name": "#%%\n"
    }
   }
  },
  {
   "cell_type": "code",
   "execution_count": 10,
   "outputs": [
    {
     "name": "stdout",
     "output_type": "stream",
     "text": [
      "[Eric, Robin]\n"
     ]
    }
   ],
   "source": [
    "print(linked_list)"
   ],
   "metadata": {
    "collapsed": false,
    "pycharm": {
     "name": "#%%\n"
    }
   }
  },
  {
   "cell_type": "code",
   "execution_count": 11,
   "outputs": [],
   "source": [
    "def len_link(list):\n",
    "    temp=list.head\n",
    "    count=0\n",
    "    while(temp):\n",
    "        count+=1\n",
    "        temp=temp.next\n",
    "    return count"
   ],
   "metadata": {
    "collapsed": false,
    "pycharm": {
     "name": "#%%\n"
    }
   }
  },
  {
   "cell_type": "code",
   "execution_count": 12,
   "outputs": [
    {
     "data": {
      "text/plain": "2"
     },
     "execution_count": 12,
     "metadata": {},
     "output_type": "execute_result"
    }
   ],
   "source": [
    "len_link(linked_list)"
   ],
   "metadata": {
    "collapsed": false,
    "pycharm": {
     "name": "#%%\n"
    }
   }
  },
  {
   "cell_type": "code",
   "execution_count": 13,
   "outputs": [
    {
     "data": {
      "text/plain": "'Eric'"
     },
     "execution_count": 13,
     "metadata": {},
     "output_type": "execute_result"
    }
   ],
   "source": [
    "linked_list.extract_first()"
   ],
   "metadata": {
    "collapsed": false,
    "pycharm": {
     "name": "#%%\n"
    }
   }
  },
  {
   "cell_type": "code",
   "execution_count": 14,
   "outputs": [
    {
     "data": {
      "text/plain": "1"
     },
     "execution_count": 14,
     "metadata": {},
     "output_type": "execute_result"
    }
   ],
   "source": [
    "len_link(linked_list)"
   ],
   "metadata": {
    "collapsed": false,
    "pycharm": {
     "name": "#%%\n"
    }
   }
  },
  {
   "cell_type": "code",
   "execution_count": 15,
   "outputs": [
    {
     "name": "stdout",
     "output_type": "stream",
     "text": [
      "[Robin]\n"
     ]
    }
   ],
   "source": [
    "print(linked_list)"
   ],
   "metadata": {
    "collapsed": false,
    "pycharm": {
     "name": "#%%\n"
    }
   }
  },
  {
   "cell_type": "markdown",
   "source": [
    "# Part C - How to implement a priority queue?"
   ],
   "metadata": {
    "collapsed": false
   }
  },
  {
   "cell_type": "code",
   "execution_count": 16,
   "outputs": [],
   "source": [
    "class LinkedList:\n",
    "    def __init__(self):\n",
    "        '''Creates a linked list, i.e., an object of type LinkedList. This list is empty.\n",
    "        '''\n",
    "\n",
    "        self.length = 0 # the number of elements in the list\n",
    "        self.head = None\n",
    "\n",
    "    def __str__(self):\n",
    "        \"\"\"\n",
    "        (self) -> str\n",
    "        Print out the entire linked list from head (left) to tail (right).\n",
    "        \"\"\"\n",
    "        # defining a blank res variable\n",
    "        string = \"\"\n",
    "\n",
    "        # initializing ptr to head\n",
    "        ptr = self.head\n",
    "\n",
    "       # traversing and adding it to res\n",
    "        while ptr:\n",
    "            string += str(ptr.cargo) + \", \"\n",
    "            ptr = ptr.next\n",
    "\n",
    "       # removing trailing commas\n",
    "        string = string.strip(\", \")\n",
    "\n",
    "        # chen checking if\n",
    "        # anything is present in res or not\n",
    "        if len(string):\n",
    "            return \"[\" + string + \"]\"\n",
    "        else:\n",
    "            return \"[]\"\n",
    "\n",
    "    def insert_in_front(self, cargo, priority):\n",
    "        '''(LinkedList) -> NoneType\n",
    "        Insert an element at the front of the list.\n",
    "        '''\n",
    "        if self.length == 0:\n",
    "            self.head = Node(cargo, priority)\n",
    "        else:\n",
    "            aux = self.head\n",
    "            self.head = Node(cargo, priority)\n",
    "            self.head.next = aux\n",
    "\n",
    "        self.length += 1\n",
    "\n",
    "    def insert_after_node(self, n, cargo, priority):\n",
    "        '''Linked List -> NoneType\n",
    "        Insert an element in the list, right after node n.\n",
    "        '''\n",
    "        aux = n.next\n",
    "        n.next = Node(cargo, priority)\n",
    "        n.next.next = aux\n",
    "        self.length += 1\n",
    "\n",
    "    def is_empty(self):\n",
    "        '''(LinkedList) -> bool\n",
    "        Return True if the list is empty and False otherwise'''\n",
    "        return self.head.next is None\n",
    "\n",
    "    def extract_first(self):\n",
    "        '''(LinkedList) -> string or NoneType\n",
    "        If the list has at least one element, remove the first element from the list, return its cargo and assign the next node in the sequence to be the new head of the list. If the list has only one element, remove the element and return its cargo. Return none if the list is empty. (No element removal is performed in this case). '''\n",
    "\n",
    "        if self.length > 1:\n",
    "            temp = self.head\n",
    "            temp_cargo = self.head.cargo\n",
    "            # Move the head pointer to the next node\n",
    "            self.head = self.head.next\n",
    "            temp = None\n",
    "            return temp_cargo\n",
    "\n",
    "        elif self.length == 1:\n",
    "            temp = self.head.cargo\n",
    "            self.head = None\n",
    "            return temp\n",
    "\n",
    "        else:\n",
    "            return None\n",
    "\n",
    "    def insert(self, cargo, priority):\n",
    "        '''(LinkedList, string, int) -> NoneType\n",
    "        Insert a new element in the list at the position corresponding to its given priority. Update the length of the list'''\n",
    "\n",
    "        newNode = Node(cargo, priority)\n",
    "\n",
    "        if self.is_empty() == True:\n",
    "\n",
    "            # Creating a new node and assigning\n",
    "            # it to class variable\n",
    "            self.head = Node(cargo, priority)\n",
    "\n",
    "        elif self.head.priority < priority:\n",
    "\n",
    "                    # Updating the new node next value\n",
    "                    newNode.next = self.head\n",
    "\n",
    "                    # Assigning it to self.front\n",
    "                    self.head = newNode\n",
    "\n",
    "        else:\n",
    "            #the node has a lower priority than the first\n",
    "            #find the next node with a lower priority, insert newnode before that\n",
    "            on = self.head\n",
    "            while on.next != None:\n",
    "                #traverse nodes until we find a lower priority or until the end\n",
    "                if on.next.priority < newNode.priority:\n",
    "                    break\n",
    "                on = on.next\n",
    "            #insert newnode between currentnode and currentnode.next\n",
    "            newNode.next = on.next\n",
    "            on.next = newNode\n",
    "\n",
    "            if newNode.next == None:\n",
    "                self.next = newNode\n",
    "\n",
    "        self.length += 1"
   ],
   "metadata": {
    "collapsed": false,
    "pycharm": {
     "name": "#%%\n"
    }
   }
  },
  {
   "cell_type": "code",
   "execution_count": 17,
   "outputs": [],
   "source": [
    "linked_list = LinkedList()"
   ],
   "metadata": {
    "collapsed": false,
    "pycharm": {
     "name": "#%%\n"
    }
   }
  },
  {
   "cell_type": "code",
   "execution_count": 18,
   "outputs": [],
   "source": [
    "linked_list.insert_in_front('Ashley', 2)\n",
    "linked_list.insert_in_front('Erin', 6)\n",
    "linked_list.insert_in_front('Robin', 7)"
   ],
   "metadata": {
    "collapsed": false,
    "pycharm": {
     "name": "#%%\n"
    }
   }
  },
  {
   "cell_type": "code",
   "execution_count": 19,
   "outputs": [
    {
     "name": "stdout",
     "output_type": "stream",
     "text": [
      "[Robin, Erin, Ashley]\n"
     ]
    }
   ],
   "source": [
    "print(linked_list)"
   ],
   "metadata": {
    "collapsed": false,
    "pycharm": {
     "name": "#%%\n"
    }
   }
  },
  {
   "cell_type": "code",
   "execution_count": 20,
   "outputs": [],
   "source": [
    "linked_list.insert('Alexis', 3)"
   ],
   "metadata": {
    "collapsed": false,
    "pycharm": {
     "name": "#%%\n"
    }
   }
  },
  {
   "cell_type": "code",
   "execution_count": 21,
   "outputs": [
    {
     "name": "stdout",
     "output_type": "stream",
     "text": [
      "[Robin, Erin, Alexis, Ashley]\n"
     ]
    }
   ],
   "source": [
    "print(linked_list)"
   ],
   "metadata": {
    "collapsed": false,
    "pycharm": {
     "name": "#%%\n"
    }
   }
  },
  {
   "cell_type": "code",
   "execution_count": 22,
   "outputs": [
    {
     "data": {
      "text/plain": "4"
     },
     "execution_count": 22,
     "metadata": {},
     "output_type": "execute_result"
    }
   ],
   "source": [
    "len_link(linked_list)"
   ],
   "metadata": {
    "collapsed": false,
    "pycharm": {
     "name": "#%%\n"
    }
   }
  }
 ],
 "metadata": {
  "kernelspec": {
   "display_name": "Python 3",
   "language": "python",
   "name": "python3"
  },
  "language_info": {
   "codemirror_mode": {
    "name": "ipython",
    "version": 3
   },
   "file_extension": ".py",
   "mimetype": "text/x-python",
   "name": "python",
   "nbconvert_exporter": "python",
   "pygments_lexer": "ipython3",
   "version": "3.7.2"
  }
 },
 "nbformat": 4,
 "nbformat_minor": 1
}