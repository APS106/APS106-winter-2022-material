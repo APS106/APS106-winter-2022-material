{
 "cells": [
  {
   "cell_type": "markdown",
   "metadata": {
    "collapsed": true
   },
   "source": [
    "# APS106 - Fundamentals of Computer Programming\n",
    "## Week 2 | Lecture 1 (2.1) - Functions, Input & Output, Importing Modules\n",
    "\n",
    "### This Week\n",
    "| Lecture | Topics | Reading |\n",
    "| --- | --- | --- | \n",
    "| **2.1** | **functions, input & output, importing modules** | **Section 3.1-3.10, 4.4-4.5** |\n",
    "| 2.2 | defining your own function | Section 6.1-6.2  |\n",
    "| 2.3 | engineering design, design problem: forward kinematics | | \n",
    "\n",
    "### Lecture Structure\n",
    "1. [Why do we write functions?](#section1)\n",
    "2. [Function Call](#section2)\n",
    "3. [Back to Evaluation and Expressions](#section3)\n",
    "4. [Breakout Session 1](#section4)\n",
    "5. [Built-in Functions](#section5)\n",
    "6. [Function Help](#section6)\n",
    "7. [Output](#section7)\n",
    "8. [Input](#section8)\n",
    "9. [Breakout Session 2](#section9)\n",
    "10. [Importing Functions and Modules](#section10)\n",
    "11. [Defining Your Own Functions](#section11)\n",
    "12. [Breakout Session 3](#section12)"
   ]
  },
  {
   "cell_type": "markdown",
   "metadata": {},
   "source": [
    "<a id='section1'></a>\n",
    "## 1. Why do we write functions?\n",
    "Let's imagine that the algorithm takes 10 lines of code. It would be painful and inefficient if you had to write the exact same 10 lines of code everytime you wanted to calculate sine."
   ]
  },
  {
   "cell_type": "markdown",
   "metadata": {},
   "source": [
    "```python\n",
    "# Note: this code won't run as it is just a sketch of what you would need to do\n",
    "# without functions\n",
    "\n",
    "angle1 = 1.57 # radians\n",
    "# 10 lines to calculate sin\n",
    "# sin_angle1 = <something>\n",
    "\n",
    "angle2 = 3.14 # radians\n",
    "# 10 lines to calculate sin\n",
    "# sin_angle2 = <something>\n",
    "\n",
    "result = sin_angle1 + sin_angle2\n",
    "print(result)\n",
    "```"
   ]
  },
  {
   "cell_type": "markdown",
   "metadata": {},
   "source": [
    "Does anyone actually know how to calculate sine? This is what the code above would look like if I actually incerted code to compute the sine of an angle."
   ]
  },
  {
   "cell_type": "code",
   "execution_count": 72,
   "metadata": {},
   "outputs": [
    {
     "name": "stdout",
     "output_type": "stream",
     "text": [
      "1.0016\n"
     ]
    }
   ],
   "source": [
    "# The first angle\n",
    "angle1 = 1.57 # radians \n",
    "\n",
    "\"\"\"\n",
    "Code to compute sine below\n",
    "\"\"\"\n",
    "multiplier = -1.0\n",
    "sin_angle1 = angle1\n",
    "n = 21\n",
    "factorials = []\n",
    "memoized_to = n\n",
    "prev = 1\n",
    "factorials.append(1)\n",
    "\n",
    "for i in range(1, n + 1):\n",
    "    factorials.append(i * prev)\n",
    "    prev = factorials[i]\n",
    "\n",
    "for currentdegree in range(3, (n + 1), 2):\n",
    "\n",
    "    sin_angle1 += ( (angle1 ** currentdegree) / factorials[currentdegree] * multiplier )\n",
    "\n",
    "    multiplier *= -1\n",
    "\n",
    "# The second angle\n",
    "angle2 = 3.14 # radians\n",
    "\n",
    "\"\"\"\n",
    "Code to compute sine below (AGAIN!)\n",
    "\"\"\"\n",
    "multiplier = -1.0\n",
    "sin_angle2 = angle2\n",
    "n = 16\n",
    "factorials = []\n",
    "memoized_to = n\n",
    "prev = 1\n",
    "factorials.append(1)\n",
    "\n",
    "for i in range(1, n + 1):\n",
    "    factorials.append(i * prev)\n",
    "    prev = factorials[i]\n",
    "\n",
    "for currentdegree in range(3, (n + 1), 2):\n",
    "\n",
    "    sin_angle2 += ( (angle2 ** currentdegree) / factorials[currentdegree] * multiplier )\n",
    "\n",
    "    multiplier *= -1\n",
    "\n",
    "# Let's add the two sines\n",
    "result = sin_angle1 + sin_angle2\n",
    "\n",
    "# And print the results\n",
    "print('{:.4f}'.format(result))"
   ]
  },
  {
   "cell_type": "markdown",
   "metadata": {},
   "source": [
    "This is code hurts my head just looking at it. Instead, you could create (or, in fact, someone else has already created) a function called `sin` that you can \"call\" (i.e., execute the code) whenever you want to calculate the sine of an angle.\n",
    "\n",
    "And so you can write code like this (you won't understand everything in this code until the end of this lecture)."
   ]
  },
  {
   "cell_type": "code",
   "execution_count": 73,
   "metadata": {},
   "outputs": [
    {
     "name": "stdout",
     "output_type": "stream",
     "text": [
      "1.0016\n"
     ]
    }
   ],
   "source": [
    "import math\n",
    "\n",
    "angle1 = 1.57 # radians\n",
    "angle2 = 3.14 # radians\n",
    "\n",
    "result = math.sin(angle1) + math.sin(angle2)\n",
    "\n",
    "print('{:.4f}'.format(result))"
   ]
  },
  {
   "cell_type": "markdown",
   "metadata": {},
   "source": [
    "The take away is simple. Functions make code:\n",
    "- easy to ready\n",
    "- easy to maintain\n",
    "- easy to write\n",
    "- easy to share\n",
    "\n",
    "You'll also notice that the above code calls the function `sin()` twice in the same expression! (As well as the the `+` operator.)"
   ]
  },
  {
   "cell_type": "markdown",
   "metadata": {},
   "source": [
    "<a id='section2'></a>\n",
    "## 2. Function Call\n",
    "To use a function you need to \"call\" it. The general form of a function call is:\n",
    "\n",
    "  **function_name(arguments)**\n",
    "\n",
    "The **function_name** is the name of the function (like `sin` or `print`). The **arguments** are values that you pass into a function. It wouldn't be very useful to have a separate function to calculate the sine of every angle. So what you do is take \"pass in\" the value of the angle that you want the sine of. Note this is very similar to the usual mathematical definition of a function.\n",
    "\n",
    "A function then executes its code and **returns** the result of its computations.\n",
    "\n",
    "#### Terminology\n",
    "- argument: a value given to a function\n",
    "- pass: to provide an argument to a function\n",
    "- call: ask Python to execute a function (by name)\n",
    "- return: give a value back to where the function was called from\n",
    "\n",
    "**Examples**\n",
    "In the example below `abs()` is the **`function`** what we are **`calling`** and `-20` is the **`argument`** that we're passing to the function."
   ]
  },
  {
   "cell_type": "code",
   "execution_count": 80,
   "metadata": {},
   "outputs": [
    {
     "name": "stdout",
     "output_type": "stream",
     "text": [
      "20\n"
     ]
    }
   ],
   "source": [
    "x = abs(-20)\n",
    "print(x)"
   ]
  },
  {
   "cell_type": "markdown",
   "metadata": {},
   "source": [
    "And, `20` is what the function **`returns`**.\n",
    "\n",
    "In the example below, you can see we're using two functions calls in the same line of code."
   ]
  },
  {
   "cell_type": "code",
   "execution_count": 81,
   "metadata": {},
   "outputs": [
    {
     "name": "stdout",
     "output_type": "stream",
     "text": [
      "23\n"
     ]
    }
   ],
   "source": [
    "y = abs(-20) + abs(-3)\n",
    "print(y)"
   ]
  },
  {
   "cell_type": "markdown",
   "metadata": {},
   "source": [
    "Both `print()` and `abs()` are built-in function in Python."
   ]
  },
  {
   "cell_type": "markdown",
   "metadata": {},
   "source": [
    "<a id='section3'></a>\n",
    "## 3. Back to Evaluation and Expressions\n",
    "Last week we talked about the assignment statement (`=`) and about how it is evaluated. Recall that the value of the expression on the right-hand side of the `=` sign is figured out and then assigned to the variable on the left-hand side. \n",
    "\n",
    "So now, we have the thing on the right-hand side (RHS) containing function calls!\n",
    "\n",
    "Let's take the simpler case first."
   ]
  },
  {
   "cell_type": "code",
   "execution_count": 86,
   "metadata": {},
   "outputs": [
    {
     "name": "stdout",
     "output_type": "stream",
     "text": [
      "20\n"
     ]
    }
   ],
   "source": [
    "x = abs(-20)\n",
    "print(x)"
   ]
  },
  {
   "cell_type": "markdown",
   "metadata": {},
   "source": [
    "The thing on the RHS of the `=` sign is the name of a function and so this is a function call. Just like with expressions we've already seen, the function is evaluated, which means it is called and returns a value. This value is then assigned to the variable `x`.\n",
    "\n",
    "Let's make it a bit more complicated."
   ]
  },
  {
   "cell_type": "code",
   "execution_count": 87,
   "metadata": {},
   "outputs": [
    {
     "name": "stdout",
     "output_type": "stream",
     "text": [
      "20\n"
     ]
    }
   ],
   "source": [
    "y = -20\n",
    "x = abs(y)\n",
    "print(x)"
   ]
  },
  {
   "cell_type": "markdown",
   "metadata": {},
   "source": [
    "Now the argument of the function call is not a constant (`-20`) but rather a variable (`y`). The rules for function calls are that each argument needs to be evaluated and then the function is called. So `y` gets evaluated to its value (-20) and then -20 is passed to the function.\n",
    "\n",
    "How about this?"
   ]
  },
  {
   "cell_type": "code",
   "execution_count": 88,
   "metadata": {},
   "outputs": [
    {
     "name": "stdout",
     "output_type": "stream",
     "text": [
      "25\n"
     ]
    }
   ],
   "source": [
    "y = -20\n",
    "z = -5\n",
    "x = abs(y+z)\n",
    "print(x)"
   ]
  },
  {
   "cell_type": "markdown",
   "metadata": {},
   "source": [
    "The thing in the parenthesis is an expression! And so it can be evaluated following the normal rules. That means that:\n",
    "- `y` is evalulated to -20\n",
    "- z is evaluated to -5\n",
    "- the `+` operator is evaluated with -20 and -5 to result in -25\n",
    "- -25 is passed to the `abs` function\n",
    "- 25 is returned from the `abs` function and assigned to `x`"
   ]
  },
  {
   "cell_type": "markdown",
   "metadata": {},
   "source": [
    "<a id='section4'></a>\n",
    "## 4. Breakout Session 1\n",
    "Write the following expression in the cell below and use the built-in `print()` function to print the answer.\n",
    "\n",
    "**$x = \\frac{|y + z| + |y * z|}{y^\\alpha}$**\n",
    "\n",
    "where,\n",
    "- $y$ = -20\n",
    "- $z$ = -100\n",
    "- $\\alpha$ = 2"
   ]
  },
  {
   "cell_type": "code",
   "execution_count": 105,
   "metadata": {},
   "outputs": [],
   "source": [
    "# write your code here"
   ]
  },
  {
   "cell_type": "markdown",
   "metadata": {},
   "source": [
    "<a id='section5'></a>\n",
    "## 5. Built-in Functions"
   ]
  },
  {
   "cell_type": "markdown",
   "metadata": {},
   "source": [
    "Python has a number of built-in (i.e., already defined) functions. You can see a list by using the function `dir`."
   ]
  },
  {
   "cell_type": "code",
   "execution_count": 107,
   "metadata": {
    "scrolled": false
   },
   "outputs": [],
   "source": [
    "dir(__builtins__);"
   ]
  },
  {
   "cell_type": "markdown",
   "metadata": {},
   "source": [
    "Many of these will not make sense to you at this point - that is fine. Here are a few useful built-in functions.\n",
    "\n",
    "#### `pow()` raises a number to the power of another number"
   ]
  },
  {
   "cell_type": "code",
   "execution_count": 109,
   "metadata": {},
   "outputs": [
    {
     "name": "stdout",
     "output_type": "stream",
     "text": [
      "32\n",
      "1024\n"
     ]
    }
   ],
   "source": [
    "x = pow(2, 5)\n",
    "print(x)\n",
    "\n",
    "y = pow(x, 2)\n",
    "print(y)"
   ]
  },
  {
   "cell_type": "markdown",
   "metadata": {},
   "source": [
    "#### `int()` converts a number to an integer - throwing away everything after the decimal"
   ]
  },
  {
   "cell_type": "code",
   "execution_count": 110,
   "metadata": {},
   "outputs": [
    {
     "name": "stdout",
     "output_type": "stream",
     "text": [
      "4\n",
      "3\n"
     ]
    }
   ],
   "source": [
    "z = int(4.2)\n",
    "print(z)\n",
    "\n",
    "w = int(3.999)\n",
    "print(w)"
   ]
  },
  {
   "cell_type": "markdown",
   "metadata": {},
   "source": [
    "Because the arguments of functions are expressions and because function calls are just expressions, following the rules we already know, we can call functions with the results of other functions like this:"
   ]
  },
  {
   "cell_type": "code",
   "execution_count": 111,
   "metadata": {},
   "outputs": [
    {
     "name": "stdout",
     "output_type": "stream",
     "text": [
      "25\n"
     ]
    }
   ],
   "source": [
    "x = pow(int(5.2), abs(-2))\n",
    "print(x)"
   ]
  },
  {
   "cell_type": "markdown",
   "metadata": {},
   "source": [
    "Remember: before a function is called, its arguments must be all evaluated. And so what happens above?\n",
    "\n",
    "1. `int()` is called with the value 5.2 and returns 5\n",
    "2. `abs()` is called with the value -2 and returns 2\n",
    "3. `pow()` is called with the values 5 and 2 and returns 25"
   ]
  },
  {
   "cell_type": "markdown",
   "metadata": {},
   "source": [
    "So, `x = pow(int(5.2), abs(-2))` is the same as:"
   ]
  },
  {
   "cell_type": "code",
   "execution_count": 112,
   "metadata": {},
   "outputs": [
    {
     "name": "stdout",
     "output_type": "stream",
     "text": [
      "25\n"
     ]
    }
   ],
   "source": [
    "x = pow(5, 2)\n",
    "print(x)"
   ]
  },
  {
   "cell_type": "markdown",
   "metadata": {},
   "source": [
    "You can go even further with these expressions."
   ]
  },
  {
   "cell_type": "code",
   "execution_count": 113,
   "metadata": {},
   "outputs": [
    {
     "name": "stdout",
     "output_type": "stream",
     "text": [
      "3125\n"
     ]
    }
   ],
   "source": [
    "x = pow(abs(int(-5.2)), abs(-2) + 12 - pow(3, 2))\n",
    "print(x)"
   ]
  },
  {
   "cell_type": "markdown",
   "metadata": {},
   "source": [
    "This isn't very good code because it is hard to understand. But it is legal! Just because Python will let you do something doesn't mean its the best way to do it."
   ]
  },
  {
   "cell_type": "markdown",
   "metadata": {},
   "source": [
    "<a id='section6'></a>\n",
    "## 6. Function Help\n",
    "One very useful function is `help()` which gives you documentation on functions."
   ]
  },
  {
   "cell_type": "code",
   "execution_count": 117,
   "metadata": {},
   "outputs": [
    {
     "name": "stdout",
     "output_type": "stream",
     "text": [
      "Help on built-in function abs in module builtins:\n",
      "\n",
      "abs(x, /)\n",
      "    Return the absolute value of the argument.\n",
      "\n"
     ]
    }
   ],
   "source": [
    "help(abs)"
   ]
  },
  {
   "cell_type": "code",
   "execution_count": 118,
   "metadata": {},
   "outputs": [
    {
     "name": "stdout",
     "output_type": "stream",
     "text": [
      "Help on built-in function pow in module builtins:\n",
      "\n",
      "pow(x, y, z=None, /)\n",
      "    Equivalent to x**y (with two arguments) or x**y % z (with three arguments)\n",
      "    \n",
      "    Some types, such as ints, are able to use a more efficient algorithm when\n",
      "    invoked using the three argument form.\n",
      "\n"
     ]
    }
   ],
   "source": [
    "help(pow)"
   ]
  },
  {
   "cell_type": "code",
   "execution_count": 119,
   "metadata": {},
   "outputs": [
    {
     "name": "stdout",
     "output_type": "stream",
     "text": [
      "Help on _Helper in module _sitebuiltins object:\n",
      "\n",
      "class _Helper(builtins.object)\n",
      " |  Define the builtin 'help'.\n",
      " |  \n",
      " |  This is a wrapper around pydoc.help that provides a helpful message\n",
      " |  when 'help' is typed at the Python interactive prompt.\n",
      " |  \n",
      " |  Calling help() at the Python prompt starts an interactive help session.\n",
      " |  Calling help(thing) prints help for the python object 'thing'.\n",
      " |  \n",
      " |  Methods defined here:\n",
      " |  \n",
      " |  __call__(self, *args, **kwds)\n",
      " |      Call self as a function.\n",
      " |  \n",
      " |  __repr__(self)\n",
      " |      Return repr(self).\n",
      " |  \n",
      " |  ----------------------------------------------------------------------\n",
      " |  Data descriptors defined here:\n",
      " |  \n",
      " |  __dict__\n",
      " |      dictionary for instance variables (if defined)\n",
      " |  \n",
      " |  __weakref__\n",
      " |      list of weak references to the object (if defined)\n",
      "\n"
     ]
    }
   ],
   "source": [
    "help(help)"
   ]
  },
  {
   "cell_type": "markdown",
   "metadata": {},
   "source": [
    "Another alternative is to type **```SHIFT-TAB```** inside the function parentheses."
   ]
  },
  {
   "cell_type": "code",
   "execution_count": null,
   "metadata": {},
   "outputs": [],
   "source": [
    "pow()"
   ]
  },
  {
   "cell_type": "markdown",
   "metadata": {},
   "source": [
    "<a id='section7'></a>\n",
    "## 7. Ouput\n",
    "Last week we saw the `print()` function. It's one of the built-in functions and so we can do things like this."
   ]
  },
  {
   "cell_type": "code",
   "execution_count": 122,
   "metadata": {},
   "outputs": [
    {
     "name": "stdout",
     "output_type": "stream",
     "text": [
      "15\n"
     ]
    }
   ],
   "source": [
    "print(3 + 7 + abs(-5))"
   ]
  },
  {
   "cell_type": "markdown",
   "metadata": {},
   "source": [
    "`print()` can take more than one argument and its default behavior is to print each argument out, separated by a space."
   ]
  },
  {
   "cell_type": "code",
   "execution_count": 123,
   "metadata": {},
   "outputs": [
    {
     "name": "stdout",
     "output_type": "stream",
     "text": [
      "hello there\n"
     ]
    }
   ],
   "source": [
    "print(\"hello\", \"there\")"
   ]
  },
  {
   "cell_type": "code",
   "execution_count": 124,
   "metadata": {},
   "outputs": [
    {
     "name": "stdout",
     "output_type": "stream",
     "text": [
      "hello there how are you\n"
     ]
    }
   ],
   "source": [
    "print(\"hello\", \"there\", \"how\", \"are\", 'you')"
   ]
  },
  {
   "cell_type": "markdown",
   "metadata": {},
   "source": [
    "We can mix different constant and variable types."
   ]
  },
  {
   "cell_type": "code",
   "execution_count": 129,
   "metadata": {},
   "outputs": [
    {
     "name": "stdout",
     "output_type": "stream",
     "text": [
      "Hello, my name is Sebastian and I am age 36 years old.\n"
     ]
    }
   ],
   "source": [
    "name = 'Sebastian'\n",
    "age = 36\n",
    "print(\"Hello, my name is\", name, \"and I am age\", age, \"years old.\")"
   ]
  },
  {
   "cell_type": "markdown",
   "metadata": {},
   "source": [
    "<a id='section8'></a>\n",
    "## 8. Input\n",
    "It is also important to be able to input values to a program. Python does this via the `input()` function.\n",
    "\n",
    "The function `input()` is a built-in function that prompts the user to enter some input. The program waits for the user to enter the input (and press Enter), before continuing. **The value returned from this function is always a string.**\n",
    "\n",
    "For example:"
   ]
  },
  {
   "cell_type": "code",
   "execution_count": 136,
   "metadata": {},
   "outputs": [
    {
     "name": "stdout",
     "output_type": "stream",
     "text": [
      "What is your name? Sebastian\n",
      "Hello, my name is Sebastian\n"
     ]
    }
   ],
   "source": [
    "name = input(\"What is your name? \")\n",
    "print(\"Hello, my name is\", name)"
   ]
  },
  {
   "cell_type": "markdown",
   "metadata": {},
   "source": [
    "<a id='section9'></a>\n",
    "## 9. Breakout Session 2\n",
    "Write code to print out the following text:\n",
    "\n",
    "```\"Hello, my name is {} and I'm hoping to get a grade of {} in APS106 this term.\"```\n",
    "\n",
    "Where you see curly brackets `{}` you need to use the `input` function to prompt the user to enter that information."
   ]
  },
  {
   "cell_type": "code",
   "execution_count": 137,
   "metadata": {},
   "outputs": [],
   "source": [
    "# write your code here"
   ]
  },
  {
   "cell_type": "markdown",
   "metadata": {},
   "source": [
    "<a id='section10'></a>\n",
    "## 10. Importing Functions and Modules\n",
    "Write code to print out the following text:\n",
    "\n",
    "### Modules\n",
    "\n",
    "Not all useful functions are built-in. In fact, one of the most valuable aspects of Python is that there are many **modules** (sets of functions) that you can import and use. For example, there are a lot of machine learning methods implemented in the [scikit-learn](https://scikit-learn.org/stable/) modules.\n",
    "\n",
    "A module is another Python file containing definitions of new functions (and other things).\n",
    "\n",
    "### Importing Modules\n",
    "\n",
    "To get access to the functions in a module, you need to `import` the module. You've already seen this earlier in the lecture.\n",
    "\n",
    "This code gets you access to the functions in the math module."
   ]
  },
  {
   "cell_type": "code",
   "execution_count": 138,
   "metadata": {},
   "outputs": [],
   "source": [
    "import math"
   ]
  },
  {
   "cell_type": "markdown",
   "metadata": {},
   "source": [
    "Once you have imported the module, you can get a list of the function using the `help()` function."
   ]
  },
  {
   "cell_type": "code",
   "execution_count": 151,
   "metadata": {
    "scrolled": false
   },
   "outputs": [
    {
     "name": "stdout",
     "output_type": "stream",
     "text": [
      "Help on built-in module math:\n",
      "\n",
      "NAME\n",
      "    math\n",
      "\n",
      "DESCRIPTION\n",
      "    This module provides access to the mathematical functions\n",
      "    defined by the C standard.\n",
      "\n",
      "FUNCTIONS\n",
      "    acos(x, /)\n",
      "        Return the arc cosine (measured in radians) of x.\n",
      "    \n",
      "    acosh(x, /)\n",
      "        Return the inverse hyperbolic cosine of x.\n",
      "    \n",
      "    asin(x, /)\n",
      "        Return the arc sine (measured in radians) of x.\n",
      "    \n",
      "    asinh(x, /)\n",
      "        Return the inverse hyperbolic sine of x.\n",
      "    \n",
      "    atan(x, /)\n",
      "        Return the arc tangent (measured in radians) of x.\n",
      "    \n",
      "    atan2(y, x, /)\n",
      "        Return the arc tangent (measured in radians) of y/x.\n",
      "        \n",
      "        Unlike atan(y/x), the signs of both x and y are considered.\n",
      "    \n",
      "    atanh(x, /)\n",
      "        Return the inverse hyperbolic tangent of x.\n",
      "    \n",
      "    ceil(x, /)\n",
      "        Return the ceiling of x as an Integral.\n",
      "        \n",
      "        This is the smallest integer >= x.\n",
      "    \n",
      "    copysign(x, y, /)\n",
      "        Return a float with the magnitude (absolute value) of x but the sign of y.\n",
      "        \n",
      "        On platforms that support signed zeros, copysign(1.0, -0.0)\n",
      "        returns -1.0.\n",
      "    \n",
      "    cos(x, /)\n",
      "        Return the cosine of x (measured in radians).\n",
      "    \n",
      "    cosh(x, /)\n",
      "        Return the hyperbolic cosine of x.\n",
      "    \n",
      "    degrees(x, /)\n",
      "        Convert angle x from radians to degrees.\n",
      "    \n",
      "    erf(x, /)\n",
      "        Error function at x.\n",
      "    \n",
      "    erfc(x, /)\n",
      "        Complementary error function at x.\n",
      "    \n",
      "    exp(x, /)\n",
      "        Return e raised to the power of x.\n",
      "    \n",
      "    expm1(x, /)\n",
      "        Return exp(x)-1.\n",
      "        \n",
      "        This function avoids the loss of precision involved in the direct evaluation of exp(x)-1 for small x.\n",
      "    \n",
      "    fabs(x, /)\n",
      "        Return the absolute value of the float x.\n",
      "    \n",
      "    factorial(x, /)\n",
      "        Find x!.\n",
      "        \n",
      "        Raise a ValueError if x is negative or non-integral.\n",
      "    \n",
      "    floor(x, /)\n",
      "        Return the floor of x as an Integral.\n",
      "        \n",
      "        This is the largest integer <= x.\n",
      "    \n",
      "    fmod(x, y, /)\n",
      "        Return fmod(x, y), according to platform C.\n",
      "        \n",
      "        x % y may differ.\n",
      "    \n",
      "    frexp(x, /)\n",
      "        Return the mantissa and exponent of x, as pair (m, e).\n",
      "        \n",
      "        m is a float and e is an int, such that x = m * 2.**e.\n",
      "        If x is 0, m and e are both 0.  Else 0.5 <= abs(m) < 1.0.\n",
      "    \n",
      "    fsum(seq, /)\n",
      "        Return an accurate floating point sum of values in the iterable seq.\n",
      "        \n",
      "        Assumes IEEE-754 floating point arithmetic.\n",
      "    \n",
      "    gamma(x, /)\n",
      "        Gamma function at x.\n",
      "    \n",
      "    gcd(x, y, /)\n",
      "        greatest common divisor of x and y\n",
      "    \n",
      "    hypot(x, y, /)\n",
      "        Return the Euclidean distance, sqrt(x*x + y*y).\n",
      "    \n",
      "    isclose(a, b, *, rel_tol=1e-09, abs_tol=0.0)\n",
      "        Determine whether two floating point numbers are close in value.\n",
      "        \n",
      "          rel_tol\n",
      "            maximum difference for being considered \"close\", relative to the\n",
      "            magnitude of the input values\n",
      "          abs_tol\n",
      "            maximum difference for being considered \"close\", regardless of the\n",
      "            magnitude of the input values\n",
      "        \n",
      "        Return True if a is close in value to b, and False otherwise.\n",
      "        \n",
      "        For the values to be considered close, the difference between them\n",
      "        must be smaller than at least one of the tolerances.\n",
      "        \n",
      "        -inf, inf and NaN behave similarly to the IEEE 754 Standard.  That\n",
      "        is, NaN is not close to anything, even itself.  inf and -inf are\n",
      "        only close to themselves.\n",
      "    \n",
      "    isfinite(x, /)\n",
      "        Return True if x is neither an infinity nor a NaN, and False otherwise.\n",
      "    \n",
      "    isinf(x, /)\n",
      "        Return True if x is a positive or negative infinity, and False otherwise.\n",
      "    \n",
      "    isnan(x, /)\n",
      "        Return True if x is a NaN (not a number), and False otherwise.\n",
      "    \n",
      "    ldexp(x, i, /)\n",
      "        Return x * (2**i).\n",
      "        \n",
      "        This is essentially the inverse of frexp().\n",
      "    \n",
      "    lgamma(x, /)\n",
      "        Natural logarithm of absolute value of Gamma function at x.\n",
      "    \n",
      "    log(...)\n",
      "        log(x, [base=math.e])\n",
      "        Return the logarithm of x to the given base.\n",
      "        \n",
      "        If the base not specified, returns the natural logarithm (base e) of x.\n",
      "    \n",
      "    log10(x, /)\n",
      "        Return the base 10 logarithm of x.\n",
      "    \n",
      "    log1p(x, /)\n",
      "        Return the natural logarithm of 1+x (base e).\n",
      "        \n",
      "        The result is computed in a way which is accurate for x near zero.\n",
      "    \n",
      "    log2(x, /)\n",
      "        Return the base 2 logarithm of x.\n",
      "    \n",
      "    modf(x, /)\n",
      "        Return the fractional and integer parts of x.\n",
      "        \n",
      "        Both results carry the sign of x and are floats.\n",
      "    \n",
      "    pow(x, y, /)\n",
      "        Return x**y (x to the power of y).\n",
      "    \n",
      "    radians(x, /)\n",
      "        Convert angle x from degrees to radians.\n",
      "    \n",
      "    remainder(x, y, /)\n",
      "        Difference between x and the closest integer multiple of y.\n",
      "        \n",
      "        Return x - n*y where n*y is the closest integer multiple of y.\n",
      "        In the case where x is exactly halfway between two multiples of\n",
      "        y, the nearest even value of n is used. The result is always exact.\n",
      "    \n",
      "    sin(x, /)\n",
      "        Return the sine of x (measured in radians).\n",
      "    \n",
      "    sinh(x, /)\n",
      "        Return the hyperbolic sine of x.\n",
      "    \n",
      "    sqrt(x, /)\n",
      "        Return the square root of x.\n",
      "    \n",
      "    tan(x, /)\n",
      "        Return the tangent of x (measured in radians).\n",
      "    \n",
      "    tanh(x, /)\n",
      "        Return the hyperbolic tangent of x.\n",
      "    \n",
      "    trunc(x, /)\n",
      "        Truncates the Real x to the nearest Integral toward 0.\n",
      "        \n",
      "        Uses the __trunc__ magic method.\n",
      "\n",
      "DATA\n",
      "    e = 2.718281828459045\n",
      "    inf = inf\n",
      "    nan = nan\n",
      "    pi = 3.141592653589793\n",
      "    tau = 6.283185307179586\n",
      "\n",
      "FILE\n",
      "    (built-in)\n",
      "\n",
      "\n"
     ]
    }
   ],
   "source": [
    "help(math)"
   ]
  },
  {
   "cell_type": "markdown",
   "metadata": {},
   "source": [
    "You can access the functions in a module by using the syntax:\n",
    "\n",
    "**`module_name.function_name(arguments)`**\n",
    "\n",
    "So for example:"
   ]
  },
  {
   "cell_type": "code",
   "execution_count": 140,
   "metadata": {},
   "outputs": [
    {
     "name": "stdout",
     "output_type": "stream",
     "text": [
      "4.0\n"
     ]
    }
   ],
   "source": [
    "print(math.sqrt(16))"
   ]
  },
  {
   "cell_type": "code",
   "execution_count": 142,
   "metadata": {},
   "outputs": [
    {
     "name": "stdout",
     "output_type": "stream",
     "text": [
      "0.8939966636005579\n"
     ]
    }
   ],
   "source": [
    "degrees = 90\n",
    "sin30 = math.sin(degrees)\n",
    "print(sin30)"
   ]
  },
  {
   "cell_type": "markdown",
   "metadata": {},
   "source": [
    "Does the above look problematic to you? Is the sine of 30 degrees correct?\n",
    "\n",
    "Maybe you are confused about the function `math.sin()`."
   ]
  },
  {
   "cell_type": "code",
   "execution_count": 143,
   "metadata": {},
   "outputs": [
    {
     "name": "stdout",
     "output_type": "stream",
     "text": [
      "Help on built-in function sin in module math:\n",
      "\n",
      "sin(x, /)\n",
      "    Return the sine of x (measured in radians).\n",
      "\n"
     ]
    }
   ],
   "source": [
    "help(math.sin)"
   ]
  },
  {
   "cell_type": "markdown",
   "metadata": {},
   "source": [
    "Aha! The input angle should be in radians not degrees!"
   ]
  },
  {
   "cell_type": "code",
   "execution_count": 145,
   "metadata": {},
   "outputs": [
    {
     "name": "stdout",
     "output_type": "stream",
     "text": [
      "1.0\n"
     ]
    }
   ],
   "source": [
    "degrees = 90\n",
    "sin30 = math.sin(math.radians(degrees))\n",
    "print(sin30)"
   ]
  },
  {
   "cell_type": "markdown",
   "metadata": {},
   "source": [
    "<a id='section11'></a>\n",
    "## 11. Defining Your Own Functions\n",
    "The real power of functions is in defining your own. Good programs typically consist of many small functions that call each other. If you have a function that does only one thing (like calculate the sine of an angle), it is likely not too large: you can test it and make sure that it works without bugs. \n",
    "\n",
    "**As a general rule, you should not write functions more than a 30 or 40 lines (and smaller is better: 10 or less is good). If you need something bigger, break it up into multiple functions.**\n",
    "\n",
    "### Function Definitions\n",
    "\n",
    "The general form of a function definition is:\n",
    "\n",
    "`def function_body(parameters):\n",
    "    body`\n",
    "\n",
    "- `def` is a keyword, standing for \"definition\". All function definitions must begin with `def`. The `def` statement must end with a colon.\n",
    "- `function_name` is the name you will use to call the function (like `sin`, `abs` but you need to create your own name)\n",
    "- `parameters` are the variables that get values when you call the function. You can have 0 or more arguments, separated by commas. Must be in parenthesis.\n",
    "- `body` is a sequence of commands like we've already seen (assignment, multiplication, function calls).\n",
    "\n",
    "**Important: all the lines of `body` must be indented. That is how Python knows that they are part of the function.**\n",
    "\n",
    "For example:"
   ]
  },
  {
   "cell_type": "code",
   "execution_count": 152,
   "metadata": {},
   "outputs": [
    {
     "name": "stdout",
     "output_type": "stream",
     "text": [
      "4 16\n",
      "64\n"
     ]
    }
   ],
   "source": [
    "def square(x):\n",
    "    return x*x\n",
    "\n",
    "num = 4\n",
    "num_sq = square(num)\n",
    "print(num, num_sq)\n",
    "\n",
    "print(square(8))"
   ]
  },
  {
   "cell_type": "markdown",
   "metadata": {},
   "source": [
    "Note that the variable inside the function:\n",
    "- does not have to be the same name as the variable you pass in (e.g. `num` and `x`)\n",
    "- does not conflict with variable names outside the function. Even if they have the same name, they are different variables."
   ]
  },
  {
   "cell_type": "code",
   "execution_count": 153,
   "metadata": {},
   "outputs": [
    {
     "name": "stdout",
     "output_type": "stream",
     "text": [
      "4 64\n"
     ]
    }
   ],
   "source": [
    "def square(x):\n",
    "    return x*x\n",
    "\n",
    "x = 4\n",
    "num_sq = square(8)\n",
    "print(x, num_sq)"
   ]
  },
  {
   "cell_type": "code",
   "execution_count": 154,
   "metadata": {},
   "outputs": [
    {
     "name": "stdout",
     "output_type": "stream",
     "text": [
      "Outside function. x =  4\n",
      "Inside function. x =  8\n",
      "Outside function. x =  4\n"
     ]
    }
   ],
   "source": [
    "def square(x):\n",
    "    print(\"Inside function. x = \", x)\n",
    "    return x*x\n",
    "\n",
    "x = 4\n",
    "print(\"Outside function. x = \", x)\n",
    "num_sq = square(8)\n",
    "print(\"Outside function. x = \", x)"
   ]
  },
  {
   "cell_type": "markdown",
   "metadata": {},
   "source": [
    "**The `x` variable inside the function and the `x` variable outside the function are completely independent!**\n",
    "\n",
    "You should think variables named in the arguments of a function or created inside the function as living **only** in side the function. The variable does not exist before the function is called. It is created when the function is called and it is destroyed with the function ends."
   ]
  },
  {
   "cell_type": "markdown",
   "metadata": {},
   "source": [
    "<a id='section12'></a>\n",
    "## 12. Breakout Session 3\n",
    "A module is simply a python file with functions and other things inside of it. You can easily write a python file, which means you can easy write a module.\n",
    "\n",
    "Inside the file `my_module.py` there is an incomplete function called `my_print_function`, which looks like this.\n",
    "\n",
    "```python\n",
    "def my_print_function(text):\n",
    "    \n",
    "    \"\"\"\n",
    "    This function will print the contents of the parameter text.\n",
    "\n",
    "    Parameters:\n",
    "        text (string): Text to print.\n",
    "    \"\"\"\n",
    "    \n",
    "    # Write your code here\n",
    "    ...\n",
    "```\n",
    "\n",
    "This function takes some text (a string) as input and simply prints that text. First, open up `my_module.py` and complete this function by adding the `print` function. Next, import the module and use the function `my_print_function` to print the following text:\n",
    "\n",
    "`\"I am using a function from my custom module!\"`"
   ]
  },
  {
   "cell_type": "code",
   "execution_count": 155,
   "metadata": {},
   "outputs": [
    {
     "name": "stdout",
     "output_type": "stream",
     "text": [
      "I am using a function from my custom module!\n"
     ]
    }
   ],
   "source": [
    "import my_module\n",
    "my_module.my_print_function('I am using a function from my custom module!')"
   ]
  }
 ],
 "metadata": {
  "kernelspec": {
   "display_name": "Python 3 (ipykernel)",
   "language": "python",
   "name": "python3"
  },
  "language_info": {
   "codemirror_mode": {
    "name": "ipython",
    "version": 3
   },
   "file_extension": ".py",
   "mimetype": "text/x-python",
   "name": "python",
   "nbconvert_exporter": "python",
   "pygments_lexer": "ipython3",
   "version": "3.7.11"
  }
 },
 "nbformat": 4,
 "nbformat_minor": 1
}
