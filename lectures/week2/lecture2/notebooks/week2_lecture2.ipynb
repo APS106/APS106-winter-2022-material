{
 "cells": [
  {
   "cell_type": "markdown",
   "metadata": {
    "collapsed": true
   },
   "source": [
    "# APS106 - Fundamentals of Computer Programming\n",
    "## Week 2 | Lecture 2 (2.2) - Writing Your Own Functions\n",
    "\n",
    "### This Week\n",
    "| Lecture | Topics | Reading |\n",
    "| --- | --- | --- | \n",
    "| 2.1 | functions, input & output, importing modules | Section 3.1-3.10, 4.4-4.5 |\n",
    "| **2.2** | **defining your own function** | **Section 6.1-6.2**  |\n",
    "| 2.3 | engineering design, design problem: forward kinematics | | \n",
    "\n",
    "### Lecture Structure\n",
    "1. [Defining Your Own Functions](#section1)\n",
    "2. [Design Recipe](#section2)\n",
    "3. [Docstrings](#section3)\n",
    "4. [Breakout Session 1](#section4)\n",
    "5. [Nested Function Calls](#section5)\n",
    "6. [Calling Functions within Functions](#section6)\n",
    "7. [From Functions to Programs](#section7)\n",
    "8. [A Design Process for Programming](#section8)"
   ]
  },
  {
   "cell_type": "markdown",
   "metadata": {},
   "source": [
    "<a id='section1'></a>\n",
    "## 1. Defining Your Own Functions\n",
    "\n",
    "From the last lecture:\n",
    "\n",
    "The general form of a function definition is:\n",
    "\n",
    "```python\n",
    "def function_body(parameters):\n",
    "    \n",
    "    \"\"\"\n",
    "    DOCSTRING\n",
    "    This is what my function does.\n",
    "    This is what the parameters are.\n",
    "    This is what the function returns.\n",
    "    \"\"\"\n",
    "    \n",
    "    \"This is where you code goes to do the thing that the function does\"\n",
    "    \n",
    "    return \"This is where you return what the function returns\"\n",
    "```\n",
    "\n",
    "- `def` is a keyword, standing for \"definition\". All function definitions must begin with `def`. The `def` statement must end with a colon.\n",
    "- `function_name` is the name you will use to call the function (like `sin`, `abs` but you need to create your own name)\n",
    "- `parameters` are the variables that get values when you call the function. You can have 0 or more parameters, separated by commas. Must be in parenthesis.\n",
    "- `body` is a sequence of commands like we've already seen (assignment, multiplication, function calls).\n",
    "\n",
    "**Important: all the lines of `body` must be indented. That is how Python knows that they are part of the function.**\n",
    "\n",
    "For example, imagine you need to repeatedly take the absolute value of a number, round-up, divide by 2, and round down. You can do this using by chaining together functions."
   ]
  },
  {
   "cell_type": "code",
   "execution_count": 5,
   "metadata": {},
   "outputs": [
    {
     "name": "stdout",
     "output_type": "stream",
     "text": [
      "2\n"
     ]
    }
   ],
   "source": [
    "import math\n",
    "\n",
    "num = -4.2\n",
    "result = int(math.ceil(abs(num)) / 2)\n",
    "print(result)"
   ]
  },
  {
   "cell_type": "markdown",
   "metadata": {},
   "source": [
    "This is fine but the code is a bit complicated and it may take you too much time (and introduce bugs) if you repeat the code every time you need it. Since you've found some application where it is interesting you might want to create a function and give it a name. I am going to call it the **`seb transform`**."
   ]
  },
  {
   "cell_type": "code",
   "execution_count": null,
   "metadata": {},
   "outputs": [],
   "source": [
    "import math\n",
    "\n",
    "def seb_transform(num):\n",
    "    return int(math.ceil(abs(num)) / 2)"
   ]
  },
  {
   "cell_type": "markdown",
   "metadata": {},
   "source": [
    "Running the code above is just defining the function, not calling it. Below is where we call it."
   ]
  },
  {
   "cell_type": "code",
   "execution_count": 17,
   "metadata": {},
   "outputs": [
    {
     "name": "stdout",
     "output_type": "stream",
     "text": [
      "2\n"
     ]
    }
   ],
   "source": [
    "num = -4.2\n",
    "result = seb_transform(num)\n",
    "print(result)"
   ]
  },
  {
   "cell_type": "markdown",
   "metadata": {},
   "source": [
    "<a id='section2'></a>\n",
    "## 2. Design Recipe\n",
    "\n",
    "When designing a function you should consider six main steps in a function design recipe:\n",
    "\n",
    "### The Six Steps\n",
    "\n",
    "1. **Examples**\n",
    "    - What should your function do?\n",
    "    - Create a couple of example calls.\n",
    "    - Pick a meaningful name (often a verb or verb phrase): What is a short answer to \"What does your function do\"?\n",
    "2. **Type Contract: define your arguments and their types (int, float, str, ...)**\n",
    "    - What are the arguments types?\n",
    "    - What type of value is returned?\n",
    "3. **Header: write the `def` line of your function**\n",
    "    - Pick meaningful argument names. Don’t just use x or y – it is much easier to understand a function if the variables have names that reflect their meaning.\n",
    "4. **Description**\n",
    "    - Write a docstring describing of the function in the code. Mention every argument in your description. (Wait, what is a docstring? Stay tuned.)\n",
    "    - Describe the return value.\n",
    "1. **Body**\n",
    "    - Write the body of your function.\n",
    "6. **Test**\n",
    "    - Run the examples you designed in Step 1 to make sure they work as expected.\n",
    "    \n",
    "### Applying the Recipe\n",
    "\n",
    "The United States measures temperature in Fahrenheit and Canada (and the rest of the world) measures it in Celsius. I have a neice who lives in Alaska and we are always talking about how cold it is there and how warm it is here. And so we keep needing to covert between the two temperature scales. \n",
    "\n",
    "Write a function that converts from Fahrenheit to Celsius.\n",
    "\n",
    "**1. Examples**\n",
    "What do you want your function calls to look like?"
   ]
  },
  {
   "cell_type": "code",
   "execution_count": null,
   "metadata": {},
   "outputs": [],
   "source": [
    "celsius = convert_to_celsius(32) # celsius should be 0\n",
    "celsius = convert_to_celsius(212) # celsius should be 100\n",
    "celsius = convert_to_celsius(98.6) # celsius should be 37.0"
   ]
  },
  {
   "cell_type": "markdown",
   "metadata": {},
   "source": [
    "**2. Type Contract**\n",
    "Specify the type(s) of the arguments and the type of the return values.\n",
    "\n",
    "`(number) -> number`\n",
    "\n",
    "This syntax shows the type(s) of the argument(s) in parenthesis and the type of the return value after an arrow.\n",
    "\n",
    "Since your function can take (and return) both `int` and `float` we use `number` to indicate both.\n",
    "\n",
    "**3. Header**\n",
    "Decide on the name of the function (you probably already did this in Step 1) and the name(s) of the arguments.\n",
    "\n",
    "`def convert_to_celsius(degrees_f):`\n",
    "\n",
    "If you are writing code, by this point, you have the following:"
   ]
  },
  {
   "cell_type": "code",
   "execution_count": null,
   "metadata": {},
   "outputs": [],
   "source": [
    "def convert_to_celsius(degrees_f):\n",
    "    \"\"\"\n",
    "    (number) -> number\n",
    "    \"\"\""
   ]
  },
  {
   "cell_type": "markdown",
   "metadata": {},
   "source": [
    "Hey, what are those triple quote marks?\n",
    "\n",
    "They are quote makes that allow you to have line-breaks: strings that span multiple lines. They are used in functions to specify **docstrings** - more on that below!\n",
    "\n",
    "**4. Description**\n",
    "Write a short description about what the function does.\n",
    "\n",
    "`Return the temperature in degrees Celsius corresponding to the degrees Fahrenheit passed in`\n",
    "\n",
    "**5. Write the Body**\n",
    "Write the code that actually does the calculation that you want."
   ]
  },
  {
   "cell_type": "code",
   "execution_count": 11,
   "metadata": {},
   "outputs": [],
   "source": [
    "def convert_to_celsius(degrees_f):\n",
    "    \"\"\"\n",
    "    (number) -> number\n",
    "    Return the temperature in degrees Celsius corresponding to the degrees \n",
    "    Fahrenheit passed in\n",
    "    \"\"\"\n",
    "    degrees_c = (degrees_f - 32) * 5 / 9\n",
    "    return degrees_c"
   ]
  },
  {
   "cell_type": "markdown",
   "metadata": {},
   "source": [
    "**6. Test**\n",
    "Run all the examples that you created in Step 1. You might also want to create new examples to test the code.\n",
    "\n",
    "The example here is pretty simple and you will probably have problems coming up with many interesting examples. However, the value of testing your functions cannot be over-estimated. When you get to more complicated code you will spend **most of your time** debugging (that is, searching for and fixing your mistakes). Testing first may seem like a waste of time but in fact it will save a lot of time later."
   ]
  },
  {
   "cell_type": "code",
   "execution_count": 12,
   "metadata": {},
   "outputs": [
    {
     "name": "stdout",
     "output_type": "stream",
     "text": [
      "0.0\n",
      "100.0\n",
      "37.0\n"
     ]
    }
   ],
   "source": [
    "celsius = convert_to_celsius(32) # celsius should be 0\n",
    "print(celsius)\n",
    "celsius = convert_to_celsius(212) # celsius should be 100\n",
    "print(celsius)\n",
    "celsius = convert_to_celsius(98.6) # celsius should be 37.0\n",
    "print(celsius)"
   ]
  },
  {
   "cell_type": "markdown",
   "metadata": {},
   "source": [
    "<a id='section3'></a>\n",
    "## 3. Docstrings\n",
    "\n",
    "As we saw before, the built-in function `help` prints information about a function. The help function actually prints out the “docstring” that we write as part of a function definition. For the function we just wrote, we could type:"
   ]
  },
  {
   "cell_type": "code",
   "execution_count": 13,
   "metadata": {},
   "outputs": [
    {
     "name": "stdout",
     "output_type": "stream",
     "text": [
      "Help on function convert_to_celsius in module __main__:\n",
      "\n",
      "convert_to_celsius(degrees_f)\n",
      "    (number) -> number\n",
      "    Return the temperature in degrees Celsius corresponding to the degrees \n",
      "    Fahrenheit passed in\n",
      "\n"
     ]
    }
   ],
   "source": [
    "help(convert_to_celsius)"
   ]
  },
  {
   "cell_type": "markdown",
   "metadata": {},
   "source": [
    "The `doctstring` is whatever you write between the triple quotes `\"\"\"(This is the docstring)\"\"\"`."
   ]
  },
  {
   "cell_type": "code",
   "execution_count": 21,
   "metadata": {},
   "outputs": [
    {
     "name": "stdout",
     "output_type": "stream",
     "text": [
      "Help on function dummy in module __main__:\n",
      "\n",
      "dummy()\n",
      "    This is the docstring!\n",
      "\n"
     ]
    }
   ],
   "source": [
    "def dummy():\n",
    "    \"\"\"\n",
    "    This is the docstring!\n",
    "    \"\"\"\n",
    "help(dummy)"
   ]
  },
  {
   "cell_type": "markdown",
   "metadata": {},
   "source": [
    "This can be very valuable:\n",
    "1. For other programmers to figure out what a function is supposed to do.\n",
    "1. For you in the future when you have forgotten what you wrote (this happens a lot!).\n",
    "\n",
    "You should write a docstring for every function."
   ]
  },
  {
   "cell_type": "markdown",
   "metadata": {},
   "source": [
    "<a id='section4'></a>\n",
    "## 4. Breakout Session 1\n",
    "### Write Your Own Function\n",
    "Following the Design Recipe, write a function to calculate the area of a triangle.\n",
    "<br>\n",
    "<img src=\"images/triangle.png\" alt=\"drawing\" width=\"400\"/>\n",
    "<br>\n",
    "\n",
    "**1. Examples**"
   ]
  },
  {
   "cell_type": "code",
   "execution_count": null,
   "metadata": {},
   "outputs": [],
   "source": [
    "# Write your code here"
   ]
  },
  {
   "cell_type": "markdown",
   "metadata": {},
   "source": [
    "**2. Type Contract**"
   ]
  },
  {
   "cell_type": "code",
   "execution_count": null,
   "metadata": {},
   "outputs": [],
   "source": [
    "# Write your code here"
   ]
  },
  {
   "cell_type": "markdown",
   "metadata": {},
   "source": [
    "**3. Header**"
   ]
  },
  {
   "cell_type": "code",
   "execution_count": null,
   "metadata": {},
   "outputs": [],
   "source": [
    "# Write your code here"
   ]
  },
  {
   "cell_type": "markdown",
   "metadata": {},
   "source": [
    "**4. Description/Docstring**"
   ]
  },
  {
   "cell_type": "code",
   "execution_count": null,
   "metadata": {},
   "outputs": [],
   "source": [
    "# Write your code here"
   ]
  },
  {
   "cell_type": "markdown",
   "metadata": {},
   "source": [
    "**5. Body**"
   ]
  },
  {
   "cell_type": "code",
   "execution_count": null,
   "metadata": {},
   "outputs": [],
   "source": [
    "# Write your code here"
   ]
  },
  {
   "cell_type": "markdown",
   "metadata": {},
   "source": [
    "**6. Test**"
   ]
  },
  {
   "cell_type": "code",
   "execution_count": null,
   "metadata": {},
   "outputs": [],
   "source": [
    "# Write your code here"
   ]
  },
  {
   "cell_type": "markdown",
   "metadata": {},
   "source": [
    "<a id='section5'></a>\n",
    "## More Stuff You Can Do With Functions\n",
    "## 5. Nested Function Calls\n",
    "We've already seen this, but one more time doesn't hurt.\n",
    "\n",
    "Because the arguments of a function call are expressions, they have to be evaluated. When you evaluate a function call, Python calls the function and gives it the return value.\n",
    "\n",
    "So it is perfectly normal to do something like this:"
   ]
  },
  {
   "cell_type": "code",
   "execution_count": 22,
   "metadata": {},
   "outputs": [
    {
     "name": "stdout",
     "output_type": "stream",
     "text": [
      "15\n"
     ]
    }
   ],
   "source": [
    "print(3 + 7 + abs(-5))"
   ]
  },
  {
   "cell_type": "markdown",
   "metadata": {},
   "source": [
    "Before `print` is called, its argument(s) are evaluated. Here there is one argument and the evaluation adds 3 to 7 to the return value of the `abs(-5)` function call. So it is 10+5 = 15. The value 15 is then passed to print and it gets printed.\n",
    "\n",
    "These are called nested function calls because one function call (e.g., to `abs`) \"nests\" inside another (the call to `print`).\n",
    "\n",
    "You can also do stuff like:"
   ]
  },
  {
   "cell_type": "code",
   "execution_count": null,
   "metadata": {},
   "outputs": [],
   "source": [
    "bigger_area = max(triangle_area(3.8, 7.0), triangle_area(3.5, 6.8))\n",
    "print(bigger_area)"
   ]
  },
  {
   "cell_type": "markdown",
   "metadata": {},
   "source": [
    "**Q: Can someone describe what is happening above?**"
   ]
  },
  {
   "cell_type": "markdown",
   "metadata": {},
   "source": [
    "<a id='section6'></a>\n",
    "## 6. Calling Functions within Functions\n",
    "The code in the body of a function is just code and can do everything that code outside a function can do. In particular, it can call other functions!\n",
    "\n",
    "For example, we already wrote a function to convert Fahrenheit to Celsius. What about a function to convert Fahrenheit to Kelvin? We could write a separate function with the math inside. Or we could observe that the function we've already written gets us most of the way there."
   ]
  },
  {
   "cell_type": "code",
   "execution_count": 24,
   "metadata": {},
   "outputs": [
    {
     "name": "stdout",
     "output_type": "stream",
     "text": [
      "273.15\n",
      "373.15\n",
      "310.15\n"
     ]
    }
   ],
   "source": [
    "def convert_to_kelvin(degrees_f):\n",
    "    '''\n",
    "    (number) -> number\n",
    "    Return the temperature in degrees Kelvin corresponding to the degrees \n",
    "    Fahrenheit passed in\n",
    "    '''\n",
    "    degrees_k = convert_to_celsius(degrees_f) + 273.15\n",
    "    return degrees_k    \n",
    "\n",
    "kelvin = convert_to_kelvin(32) # kelvin should be 273.15\n",
    "print(kelvin)\n",
    "kelvin = convert_to_kelvin(212) # kelvin should be 373.15\n",
    "print(kelvin)\n",
    "kelvin = convert_to_kelvin(98.6) # kelvin should be 310.15\n",
    "print(kelvin)"
   ]
  },
  {
   "cell_type": "markdown",
   "metadata": {},
   "source": [
    "Exercise:\n",
    "1. Write a function to convert a number of hours to the corresponding number of minutes\n",
    "2. Write a function to convert a number of hours to the corresponding number of seconds."
   ]
  },
  {
   "cell_type": "markdown",
   "metadata": {},
   "source": [
    "<a id='section7'></a>\n",
    "## 7. From Functions to Programs\n",
    "The recipe above highlights a few of the realities about programming whether for individual functions or for large pieces of software.\n",
    "\n",
    "1. A formal design process (or even a recipe) can help. Especially when you are writing a large program with many programmers, it is easy to get lost. In fact, it is more often impossible to hold the entire program in your head. Having a process helps you to figure out where you are and what you should do next.\n",
    "\n",
    "2. Functions can be written and then their insides can be forgotten about. Do you know how Python calculates `sin()`? Do you care? You can successfully use functions without knowing how they are implemented if you know what they take in and what they return. This is **very** important for large projects. \n",
    "\n",
    "<div class=\"alert alert-block alert-warning\">\n",
    "<big><b>How Big is Google?</b></big>\n",
    "    \n",
    "It is estimated (see https://www.wired.com/2015/09/google-2-billion-lines-codeand-one-place/) that there are 2 billion (with a B!) lines of code to run all of Google's internet services (gmail, search, maps, ...). If a programmer has to understand every line of code (and how it relates to every other line of code), Google would be impossible. However, let's imagine that Google has created a function called `search` which takes a string and returns the top 10 results of a Google search. This function will call other functions which call other functions, etc.; probably totalling hundreds of thousands or millions of lines of code. But if you are responsible for part of Google Maps and something in Google Maps requires you to do an internet search, you can just call the `search` function! You do not have to have any idea how it works -- you can just use it.\n",
    "</div>\n",
    "\n",
    "3. Start with examples. This helps in communication with the client, helps (a lot) to figure out what the problem really is, and is the core for testing your code."
   ]
  },
  {
   "cell_type": "markdown",
   "metadata": {},
   "source": [
    "<a id='section8'></a>\n",
    "## 8. A Design Process for Programming\n",
    "In the next lecture, we are going to talk about a detailed design process for programming, based on the engineering design processes that are key to any engineering. The steps are as follows:\n",
    "\n",
    "1. **Define the Problem.** Write down what the problem actually is.\n",
    "2. **Define Test Cases.** Create some examples that reflect your code solving the problem: input and output. \n",
    "3. **Generate Multiple Solutions.** At this point a \"solution\" consists of an **algorithm plan** (the high-level sequence steps defining what your algorithm will do) and a **programming plan** (the high-level sequence of steps that you will take to code the algorithm). These two plans are not the same thing! If the hardest part of your algorithm plan is late in the sequence, you may still choose to code it first to figure out how to do it. (Figuring it out may change other parts of your algorithm plan!).\n",
    "4. **Select a Solution.** Based on the different algorithm and programming plans, decide which is the most promising.\n",
    "5. **Implement the Solution.** Start to execute your programming plan. Test as you go! You may realize that your algorithm plan doesn't solve the problem, or even that you do not understand the problem. If so, go back to earlier steps.\n",
    "6. **Perform Final Testing.** Make sure that your original test cases as well as any others that you have thought up work.\n",
    "\n",
    "It is critical to realize that programming is:\n",
    "- Iterative: you will go back and change your algorithm/programming plan. You will write some code during Step 3: you might not be able to define a solution without writing some code to solve part of the problem. You will move back-and-forth in this process.\n",
    "- A lot about finding your own mistakes: even for good programmers, most of their time is spent testing and debugging!"
   ]
  }
 ],
 "metadata": {
  "kernelspec": {
   "display_name": "Python 3 (ipykernel)",
   "language": "python",
   "name": "python3"
  },
  "language_info": {
   "codemirror_mode": {
    "name": "ipython",
    "version": 3
   },
   "file_extension": ".py",
   "mimetype": "text/x-python",
   "name": "python",
   "nbconvert_exporter": "python",
   "pygments_lexer": "ipython3",
   "version": "3.7.11"
  }
 },
 "nbformat": 4,
 "nbformat_minor": 1
}
