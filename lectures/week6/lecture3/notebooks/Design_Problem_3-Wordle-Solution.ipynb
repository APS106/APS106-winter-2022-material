{
 "cells": [
  {
   "cell_type": "code",
   "execution_count": 1,
   "id": "8496f9ac",
   "metadata": {},
   "outputs": [
    {
     "name": "stdout",
     "output_type": "stream",
     "text": [
      "Collecting pyenchant\n",
      "  Using cached pyenchant-3.2.2-py3-none-any.whl (55 kB)\n",
      "Installing collected packages: pyenchant\n",
      "Successfully installed pyenchant-3.2.2\n",
      "Note: you may need to restart the kernel to use updated packages.\n"
     ]
    }
   ],
   "source": [
    "pip install pyenchant"
   ]
  },
  {
   "cell_type": "code",
   "execution_count": 1,
   "id": "d210d674",
   "metadata": {},
   "outputs": [
    {
     "name": "stdout",
     "output_type": "stream",
     "text": [
      "Give me a super secret 5-letter word: hello\n"
     ]
    }
   ],
   "source": [
    "import enchant\n",
    "\n",
    "dictionary = enchant.Dict(\"en_US\")\n",
    "\n",
    "solution = input('Give me a super secret 5-letter word: ')\n",
    "solution = solution.lower()\n",
    "\n",
    "while len(solution) != 5 or dictionary.check(solution) == False :\n",
    "    if len(solution) > 5:\n",
    "        print('Your word is too long!')\n",
    "    elif len(solution) < 5:\n",
    "        print('Your word is too short!')      \n",
    "    if dictionary.check(solution) == False:\n",
    "        print(\"This isn't a real word!\")\n",
    "        \n",
    "    solution = input('Give me a super secret 5-letter word: ')\n",
    "    solution = solution.lower()\n",
    "\n",
    "#print(solution)"
   ]
  },
  {
   "cell_type": "code",
   "execution_count": 2,
   "id": "6fb159fa",
   "metadata": {},
   "outputs": [],
   "source": [
    "def check_guess(letter, solution):\n",
    "    \n",
    "    if letter == solution[i]:  \n",
    "        return True, True, \"\\x1b[42m\"\n",
    "    elif letter in solution:\n",
    "        return False, True, \"\\x1b[43m\"\n",
    "    else: \n",
    "        return False, False, \"\\x1b[47m\""
   ]
  },
  {
   "cell_type": "code",
   "execution_count": 3,
   "id": "64d70ac1",
   "metadata": {},
   "outputs": [
    {
     "name": "stdout",
     "output_type": "stream",
     "text": [
      "Print Guess #1: meows\n",
      "\u001b[47mm \u001b[42me \u001b[43mo \u001b[47mw \u001b[47ms \u001b[0m\t Incorrect Letters:  \u001b[47mm \u001b[47ms \u001b[47mw \u001b[0m\n",
      "\n",
      "Print Guess #2: apple\n",
      "\u001b[47ma \u001b[47mp \u001b[47mp \u001b[42ml \u001b[43me \u001b[0m\t Incorrect Letters:  \u001b[47ma \u001b[47mm \u001b[47mp \u001b[47ms \u001b[47mw \u001b[0m\n",
      "\n",
      "Print Guess #3: below\n",
      "\u001b[47mb \u001b[42me \u001b[42ml \u001b[43mo \u001b[47mw \u001b[0m\t Incorrect Letters:  \u001b[47ma \u001b[47mb \u001b[47mm \u001b[47mp \u001b[47ms \u001b[47mw \u001b[0m\n",
      "\n",
      "Print Guess #4: elbow\n",
      "\u001b[43me \u001b[43ml \u001b[47mb \u001b[43mo \u001b[47mw \u001b[0m\t Incorrect Letters:  \u001b[47ma \u001b[47mb \u001b[47mm \u001b[47mp \u001b[47ms \u001b[47mw \u001b[0m\n",
      "\n",
      "Print Guess #5: tried\n",
      "\u001b[47mt \u001b[47mr \u001b[47mi \u001b[43me \u001b[47md \u001b[0m\t Incorrect Letters:  \u001b[47ma \u001b[47mb \u001b[47md \u001b[47mi \u001b[47mm \u001b[47mp \u001b[47mr \u001b[47ms \u001b[47mt \u001b[47mw \u001b[0m\n",
      "\n",
      "Print Guess #6: helps\n",
      "\u001b[42mh \u001b[42me \u001b[42ml \u001b[47mp \u001b[47ms \u001b[0m\t Incorrect Letters:  \u001b[47ma \u001b[47mb \u001b[47md \u001b[47mi \u001b[47mm \u001b[47mp \u001b[47mr \u001b[47ms \u001b[47mt \u001b[47mw \u001b[0m\n",
      "\n",
      "Better luck next time..., the answer was hello\n"
     ]
    }
   ],
   "source": [
    "attempts = 6\n",
    "incorrect = \"\"\n",
    "score = 0\n",
    "\n",
    "while (attempts > 0 and score != 5 ):\n",
    "    score = 0\n",
    "    guess = input('Print Guess #' +str(7-attempts)+': ')\n",
    "    guess = guess.lower()\n",
    "\n",
    "    while len(guess) != 5 or dictionary.check(guess) == False :\n",
    "        if len(guess) > 5:\n",
    "            print('Your word is too long!')\n",
    "        elif len(guess) < 5:\n",
    "            print('Your word is too short!')      \n",
    "        if dictionary.check(guess) == False:\n",
    "            print(\"This isn't a real word!\")\n",
    "\n",
    "        guess = input('Give me a new guess: ')\n",
    "        guess = guess.lower()\n",
    "    \n",
    "    for i in range(0, len(guess)):\n",
    "        \n",
    "        check, present, color = check_guess(guess[i], solution)\n",
    "        \n",
    "        score += check\n",
    "        \n",
    "        if present is False and guess[i] not in incorrect:\n",
    "            incorrect = incorrect + guess[i]\n",
    "                \n",
    "        print(color+guess[i], end=\" \")\n",
    "        if i == (len(guess)-1):\n",
    "            color=\"\\x1b[0m\"\n",
    "            print(color+'\\t Incorrect Letters: ', end=\" \")\n",
    "            for j in sorted(incorrect): \n",
    "                    print(\"\\x1b[47m\"+ j, end=\" \")\n",
    "\n",
    "    attempts=attempts-1\n",
    "    print(color+'\\n')\n",
    "\n",
    "if (score == 5):\n",
    "    print(\"Well done! You got the word \" +solution)\n",
    "else:\n",
    "    print(\"Better luck next time... the answer was: \" +solution)\n",
    "    #print(\"\\x1b[42m\"+str(i)) #42 is green, 43 is yellow, 47 is grey "
   ]
  },
  {
   "cell_type": "code",
   "execution_count": null,
   "id": "c3710235",
   "metadata": {},
   "outputs": [],
   "source": []
  }
 ],
 "metadata": {
  "kernelspec": {
   "display_name": "Python 3 (ipykernel)",
   "language": "python",
   "name": "python3"
  },
  "language_info": {
   "codemirror_mode": {
    "name": "ipython",
    "version": 3
   },
   "file_extension": ".py",
   "mimetype": "text/x-python",
   "name": "python",
   "nbconvert_exporter": "python",
   "pygments_lexer": "ipython3",
   "version": "3.8.12"
  }
 },
 "nbformat": 4,
 "nbformat_minor": 5
}
