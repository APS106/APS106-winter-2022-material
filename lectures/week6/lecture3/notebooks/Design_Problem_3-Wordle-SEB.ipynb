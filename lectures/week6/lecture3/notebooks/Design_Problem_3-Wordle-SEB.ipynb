{
 "cells": [
  {
   "cell_type": "code",
   "execution_count": 1,
   "id": "8496f9ac",
   "metadata": {},
   "outputs": [
    {
     "name": "stdout",
     "output_type": "stream",
     "text": [
      "Collecting pyenchant\n",
      "  Downloading pyenchant-3.2.2-py3-none-win_amd64.whl (11.9 MB)\n",
      "Installing collected packages: pyenchant\n",
      "Successfully installed pyenchant-3.2.2\n",
      "Note: you may need to restart the kernel to use updated packages.\n"
     ]
    }
   ],
   "source": [
    "pip install pyenchant"
   ]
  },
  {
   "cell_type": "code",
   "execution_count": 15,
   "id": "d210d674",
   "metadata": {},
   "outputs": [
    {
     "name": "stdout",
     "output_type": "stream",
     "text": [
      "Give me a super secret 5-letter word: foods\n"
     ]
    }
   ],
   "source": [
    "import enchant\n",
    "\n",
    "dictionary = enchant.Dict(\"en_US\")\n",
    "\n",
    "solution = input('Give me a super secret 5-letter word: ')\n",
    "solution = solution.lower()\n",
    "\n",
    "while len(solution) != 5 or dictionary.check(solution) == False :\n",
    "    if len(solution) > 5:\n",
    "        print('Your word is too long!')\n",
    "    elif len(solution) < 5:\n",
    "        print('Your word is too short!')      \n",
    "    if dictionary.check(solution) == False:\n",
    "        print(\"This isn't a real word!\")\n",
    "        \n",
    "    solution = input('Give me a super secret 5-letter word: ')\n",
    "    solution = solution.lower()\n",
    "\n",
    "#print(solution)\n",
    "#other idea: generate a random word for the very end"
   ]
  },
  {
   "cell_type": "code",
   "execution_count": 16,
   "id": "6fb159fa",
   "metadata": {},
   "outputs": [],
   "source": [
    "def check_guess(guess, solution):\n",
    "    \n",
    "    if guess == solution:  \n",
    "        return True, \"\\x1b[42m\"\n",
    "    elif guess in solution:\n",
    "        return False, \"\\x1b[43m\"\n",
    "    else: \n",
    "        return False, \"\\x1b[47m\""
   ]
  },
  {
   "cell_type": "code",
   "execution_count": null,
   "id": "64d70ac1",
   "metadata": {},
   "outputs": [
    {
     "name": "stdout",
     "output_type": "stream",
     "text": [
      "Print Guess #1: homes\n",
      "\u001B[47mh \u001B[43mo \u001B[47mm \u001B[47me \u001B[43ms \u001B[0m\t Incorrect Letters:  \u001B[47me \u001B[47mh \u001B[47mm \u001B[47mo \u001B[47ms \u001B[0m\n",
      "\n",
      "Print Guess #2: foods\n",
      "\u001B[43mf \u001B[43mo \u001B[43mo \u001B[43md \u001B[43ms \u001B[0m\t Incorrect Letters:  \u001B[47md \u001B[47me \u001B[47mf \u001B[47mh \u001B[47mm \u001B[47mo \u001B[47mo \u001B[47mo \u001B[47ms \u001B[47ms \u001B[0m\n",
      "\n"
     ]
    }
   ],
   "source": [
    "attempts = 6\n",
    "incorrect = \"\"\n",
    "score = 0\n",
    "\n",
    "while (attempts > 0 and score != 5 ):\n",
    "    score = 0\n",
    "    guess = input('Print Guess #' +str(7-attempts)+': ')\n",
    "    guess = guess.lower()\n",
    "\n",
    "    while len(guess) != 5 or dictionary.check(guess) == False :\n",
    "        if len(guess) > 5:\n",
    "            print('Your word is too long!')\n",
    "        elif len(guess) < 5:\n",
    "            print('Your word is too short!')      \n",
    "        if dictionary.check(guess) == False:\n",
    "            print(\"This isn't a real word!\")\n",
    "\n",
    "        guess = input('Give me a new guess: ')\n",
    "        guess = guess.lower()\n",
    "    \n",
    "    for i in range(0, len(guess)):\n",
    "        \n",
    "        check, color = check_guess(guess[i], solution)\n",
    "        \n",
    "        score += check\n",
    "        \n",
    "        if check is False:\n",
    "            incorrect = incorrect + guess[i]\n",
    "            \n",
    "        \n",
    "        print(color+guess[i], end=\" \")\n",
    "        if i == (len(guess)-1):\n",
    "            color=\"\\x1b[0m\"\n",
    "            print(color+'\\t Incorrect Letters: ', end=\" \")\n",
    "            for j in sorted(incorrect): \n",
    "                    print(\"\\x1b[47m\"+ j, end=\" \")\n",
    "\n",
    "    attempts=attempts-1\n",
    "    print(color+'\\n')\n",
    "\n",
    "if (score == 5):\n",
    "    print(\"Well done! You got the word\")\n",
    "else:\n",
    "    print(\"Better luck next time...\")\n",
    "    #print(\"\\x1b[42m\"+str(i)) #42 is green, 43 is yellow, 47 is grey\n",
    "    "
   ]
  }
 ],
 "metadata": {
  "kernelspec": {
   "display_name": "Python 3 (ipykernel)",
   "language": "python",
   "name": "python3"
  },
  "language_info": {
   "codemirror_mode": {
    "name": "ipython",
    "version": 3
   },
   "file_extension": ".py",
   "mimetype": "text/x-python",
   "name": "python",
   "nbconvert_exporter": "python",
   "pygments_lexer": "ipython3",
   "version": "3.7.11"
  }
 },
 "nbformat": 4,
 "nbformat_minor": 5
}