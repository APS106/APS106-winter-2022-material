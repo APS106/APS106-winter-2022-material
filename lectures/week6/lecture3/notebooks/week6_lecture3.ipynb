{
 "cells": [
  {
   "cell_type": "markdown",
   "metadata": {
    "collapsed": true
   },
   "source": [
    "# APS106 - Fundamentals of Computer Programming\n",
    "## Week 6 | Lecture 3 (6.3) - MadLibs\n",
    "\n",
    "### This Week\n",
    "| Lecture | Topics | Reading |\n",
    "| --- | --- | --- | \n",
    "| 6.1 | for-loops: `while` is so last month | Section 9.3, 9.4 |\n",
    "| 6.2 | for-loops on indices, nested loops | Section 9.5 - 9.9  |\n",
    "| **6.3** | **Design Problem: MadLib** | | \n",
    "\n",
    "### Lecture Structure\n",
    "1. [Define the Problem](#section1)\n",
    "2. [Define Test Cases](#section2)\n",
    "3. [Generate Many Creative Solutions](#section3)\n",
    "4. [Select a Solution](#section4)\n",
    "5. [Implement the Solution](#section5)\n",
    "    - [Programming Step 1](#section5a)\n",
    "    - [Programming Step 2](#section5b)\n",
    "    - [Programming Step 3](#section5c)\n",
    "    - [Programming Step 4](#section5d)\n",
    "    - [Bonus](#section5e)\n",
    "6. [Perform Final Testing](#section6)"
   ]
  },
  {
   "cell_type": "markdown",
   "metadata": {},
   "source": [
    "<a id='section1'></a>\n",
    "## 1. Define the Problem\n",
    "We have learned up to now, we would like to develop a simple Madlib game. Internally the game will be provided with sample stories with certain words removed. The player will be repeatedly prompted for new words that match certain grammatical or descriptive requirements. Once all the words have been entered, the story will be output for everyone to read and enjoy.\n",
    "\n",
    "It would be great if the sample stories would be randomly generated each time we run the game or if we had a library of stories that we could read in. These are a bit beyond our abilities at the moment so for now, let’s go with some “hard-coded” story."
   ]
  },
  {
   "cell_type": "markdown",
   "metadata": {},
   "source": [
    "<a id='section2'></a>\n",
    "## 2. Define Test Cases"
   ]
  },
  {
   "cell_type": "code",
   "execution_count": 1,
   "metadata": {},
   "outputs": [],
   "source": [
    "original_story = \"\"\"\n",
    "Once upon a time, deep in an ancient jungle,\n",
    "there lived a animal.  This animal\n",
    "liked to eat food, but the jungle had\n",
    "very little food to offer.  One day, an\n",
    "explorer found the animal and discovered\n",
    "it liked food.  The explorer took the\n",
    "animal back to city, where it could\n",
    "eat as much food as it wanted.  However,\n",
    "the animal became homesick, so the\n",
    "explorer brought it back to the jungle,\n",
    "leaving behind a large supply of food.\n",
    "\n",
    "The End\n",
    "\"\"\""
   ]
  },
  {
   "cell_type": "code",
   "execution_count": 2,
   "metadata": {},
   "outputs": [
    {
     "name": "stdout",
     "output_type": "stream",
     "text": [
      "\n",
      "Once upon a time, deep in an ancient jungle,\n",
      "there lived a animal.  This animal\n",
      "liked to eat food, but the jungle had\n",
      "very little food to offer.  One day, an\n",
      "explorer found the animal and discovered\n",
      "it liked food.  The explorer took the\n",
      "animal back to city, where it could\n",
      "eat as much food as it wanted.  However,\n",
      "the animal became homesick, so the\n",
      "explorer brought it back to the jungle,\n",
      "leaving behind a large supply of food.\n",
      "\n",
      "The End\n",
      "\n"
     ]
    }
   ],
   "source": [
    "print(original_story)"
   ]
  },
  {
   "cell_type": "markdown",
   "metadata": {},
   "source": [
    "<a id='section3'></a>\n",
    "## 3. Generate Many Creative Solutions\n",
    "Things to consider:\n",
    "-\tStoring a long story in a form that can easily be modified\n",
    "-\tPrompting the user for words\n",
    "-\tReplacing the words in the story with the ones entered by the user\n",
    "-\tDisplaying the story\n",
    "\n",
    "An obvious approach is to store the story as a string. However, how are we going to modify the story? (Strings are immutable!) How do we represent the words we want to replace with the user’s input?\n",
    "\n",
    "We talked about the `replace` method this week. It allows you to find and replace sub-strings. So that seems promising. \n",
    "\n",
    "How are we going to represent missing words? One idea (which has some weaknesses) is to use unusual characters to represent the blanks. For example, we could store the blanks in the story between curly braces.\n",
    "\n",
    "`This is the {season} of our discount tent.`\n",
    "\n",
    "The idea is that we want to replace all the words inside curly braces.\n",
    "\n",
    "What about a Programming Plan?\n",
    "\n",
    "1.\twrite a story and display a story. Notice we are doing the first and last thing in the algorithm but since they should be pretty easy it’s not a bad idea. This way we get a “working” program right away – but of course it only does part of what we want to do.\n",
    "2. change the story to write the word identifiers in curly braces\n",
    "3.\treplace one word: prompt user for one of the word identifiers and then replace it in the string\n",
    "4.\trepeat the code in step 3 for the other word identifiers. Since we’ve done it for one word identifier, it should be easy to do it for the rest (you don’t know about loops yet so just do the simplest thing you can think of)\n",
    "\n",
    "And remember: you should not proceed to the next step until you are sure that the previous steps are working. Test as you go!"
   ]
  },
  {
   "cell_type": "markdown",
   "metadata": {},
   "source": [
    "<a id='section4'></a>\n",
    "## 4. Select a Solution\n",
    "It seems we only have one option. Let’s try it out and see if we run into problems.\n",
    "\n",
    "(In reality, we should probably think more about how to represent the blanks. There might be a much better solution that we haven't thought of.)"
   ]
  },
  {
   "cell_type": "markdown",
   "metadata": {},
   "source": [
    "<a id='section5'></a>\n",
    "## 5. Implement the Solution\n",
    "Start working through the programming plan.\n",
    "<a id='section5a'></a>\n",
    "### Programming Step 1: Write a story and display a story."
   ]
  },
  {
   "cell_type": "code",
   "execution_count": 11,
   "metadata": {},
   "outputs": [
    {
     "name": "stdout",
     "output_type": "stream",
     "text": [
      "\n",
      "Once upon a time, deep in an ancient jungle,\n",
      "there lived a animal.  This animal\n",
      "liked to eat food, but the jungle had\n",
      "very little food to offer.  One day, an\n",
      "explorer found the animal and discovered\n",
      "it liked food.  The explorer took the\n",
      "animal back to city, where it could\n",
      "eat as much food as it wanted.  However,\n",
      "the animal became homesick, so the\n",
      "explorer brought it back to the jungle,\n",
      "leaving behind a large supply of food.\n",
      "\n",
      "The End\n",
      "\n"
     ]
    }
   ],
   "source": [
    "original_story = \"\"\"\n",
    "Once upon a time, deep in an ancient jungle,\n",
    "there lived a animal.  This animal\n",
    "liked to eat food, but the jungle had\n",
    "very little food to offer.  One day, an\n",
    "explorer found the animal and discovered\n",
    "it liked food.  The explorer took the\n",
    "animal back to city, where it could\n",
    "eat as much food as it wanted.  However,\n",
    "the animal became homesick, so the\n",
    "explorer brought it back to the jungle,\n",
    "leaving behind a large supply of food.\n",
    "\n",
    "The End\n",
    "\"\"\"\n",
    "\n",
    "print(original_story)"
   ]
  },
  {
   "cell_type": "markdown",
   "metadata": {},
   "source": [
    "<a id='section5b'></a>\n",
    "### Programming Step 2: Re-write the story with word identifiers.\n",
    "## Breakout Session\n",
    "Again, this might seem like an easy step (and maybe it could have been done as part of Step 1). On the other hand, if programming is a series of easy steps, then the whole thing is easy!\n",
    "\n",
    "Here's our story again with the words we want to replace highlighted.\n",
    "\n",
    "Once upon a time, deep in an ancient jungle,\n",
    "there lived a **_animal_**.  This **_animal_**\n",
    "liked to eat **_food_**, but the jungle had\n",
    "very little **_food_** to offer.  One day, an\n",
    "explorer found the **_animal_** and discovered\n",
    "it liked **_food_**.  The explorer took the\n",
    "**_animal_** back to **_city_**, where it could\n",
    "eat as much **_food_** as it wanted.  However,\n",
    "the **_animal_** became homesick, so the\n",
    "explorer brought it back to the jungle,\n",
    "leaving behind a large supply of **_food_**.\n",
    "\n",
    "The End"
   ]
  },
  {
   "cell_type": "code",
   "execution_count": 4,
   "metadata": {},
   "outputs": [
    {
     "name": "stdout",
     "output_type": "stream",
     "text": [
      "\n",
      "Once upon a time, deep in an ancient jungle,\n",
      "there lived a {animal}.  This {animal}\n",
      "liked to eat {food}, but the jungle had\n",
      "very little {food} to offer.  One day, an\n",
      "explorer found the {animal} and discovered\n",
      "it liked {food}.  The explorer took the\n",
      "{animal} back to {city}, where it could\n",
      "eat as much {food} as it wanted.  However,\n",
      "the {animal} became homesick, so the\n",
      "explorer brought it back to the jungle,\n",
      "leaving behind a large supply of {food}.\n",
      "\n",
      "The End\n",
      "\n"
     ]
    }
   ],
   "source": [
    "original_story = \"\"\"\n",
    "Once upon a time, deep in an ancient jungle,\n",
    "there lived a {animal}.  This {animal}\n",
    "liked to eat {food}, but the jungle had\n",
    "very little {food} to offer.  One day, an\n",
    "explorer found the {animal} and discovered\n",
    "it liked {food}.  The explorer took the\n",
    "{animal} back to {city}, where it could\n",
    "eat as much {food} as it wanted.  However,\n",
    "the {animal} became homesick, so the\n",
    "explorer brought it back to the jungle,\n",
    "leaving behind a large supply of {food}.\n",
    "\n",
    "The End\n",
    "\"\"\"\n",
    "\n",
    "print(original_story)"
   ]
  },
  {
   "cell_type": "markdown",
   "metadata": {},
   "source": [
    "<a id='section5c'></a>\n",
    "### Programming Step 3: Replace one word: prompt user for one of the word identifiers and then replace it in the string.\n",
    "## Breakout Session"
   ]
  },
  {
   "cell_type": "code",
   "execution_count": 5,
   "metadata": {},
   "outputs": [
    {
     "name": "stdout",
     "output_type": "stream",
     "text": [
      "Enter an animal: pig\n",
      "\n",
      "Once upon a time, deep in an ancient jungle,\n",
      "there lived a pig.  This pig\n",
      "liked to eat {food}, but the jungle had\n",
      "very little {food} to offer.  One day, an\n",
      "explorer found the pig and discovered\n",
      "it liked {food}.  The explorer took the\n",
      "pig back to {city}, where it could\n",
      "eat as much {food} as it wanted.  However,\n",
      "the pig became homesick, so the\n",
      "explorer brought it back to the jungle,\n",
      "leaving behind a large supply of {food}.\n",
      "\n",
      "The End\n",
      "\n"
     ]
    }
   ],
   "source": [
    "original_story = \"\"\"\n",
    "Once upon a time, deep in an ancient jungle,\n",
    "there lived a {animal}.  This {animal}\n",
    "liked to eat {food}, but the jungle had\n",
    "very little {food} to offer.  One day, an\n",
    "explorer found the {animal} and discovered\n",
    "it liked {food}.  The explorer took the\n",
    "{animal} back to {city}, where it could\n",
    "eat as much {food} as it wanted.  However,\n",
    "the {animal} became homesick, so the\n",
    "explorer brought it back to the jungle,\n",
    "leaving behind a large supply of {food}.\n",
    "\n",
    "The End\n",
    "\"\"\"\n",
    "\n",
    "# Get user input for animal\n",
    "animal = input('Enter an animal: ')\n",
    "\n",
    "# Replace {animal} in the text with what the user specified\n",
    "original_story = original_story.replace('{animal}', animal)\n",
    "\n",
    "print(original_story)"
   ]
  },
  {
   "cell_type": "markdown",
   "metadata": {},
   "source": [
    "### Improve the solution\n",
    "OK, seems to work. But the code we wrote is very specific for the animal. And notice that we need the string “animal” in both the `input` statement and the `replace` statement (albeit inside {}). If we introduce another variable, we can write more flexible code.\n",
    "\n",
    "**Notice what we are doing here. Just because the code \"works\" doesn't mean there does not exist a better solution to the design problem. As you do the steps in the programming plan, you should still be thinking about the big picture.**"
   ]
  },
  {
   "cell_type": "code",
   "execution_count": 6,
   "metadata": {},
   "outputs": [
    {
     "name": "stdout",
     "output_type": "stream",
     "text": [
      "Enter a animal: pig\n",
      "\n",
      "Once upon a time, deep in an ancient jungle,\n",
      "there lived a pig.  This pig\n",
      "liked to eat {food}, but the jungle had\n",
      "very little {food} to offer.  One day, an\n",
      "explorer found the pig and discovered\n",
      "it liked {food}.  The explorer took the\n",
      "pig back to {city}, where it could\n",
      "eat as much {food} as it wanted.  However,\n",
      "the pig became homesick, so the\n",
      "explorer brought it back to the jungle,\n",
      "leaving behind a large supply of {food}.\n",
      "\n",
      "The End\n",
      "\n"
     ]
    }
   ],
   "source": [
    "original_story = \"\"\"\n",
    "Once upon a time, deep in an ancient jungle,\n",
    "there lived a {animal}.  This {animal}\n",
    "liked to eat {food}, but the jungle had\n",
    "very little {food} to offer.  One day, an\n",
    "explorer found the {animal} and discovered\n",
    "it liked {food}.  The explorer took the\n",
    "{animal} back to {city}, where it could\n",
    "eat as much {food} as it wanted.  However,\n",
    "the {animal} became homesick, so the\n",
    "explorer brought it back to the jungle,\n",
    "leaving behind a large supply of {food}.\n",
    "\n",
    "The End\n",
    "\"\"\"\n",
    "# second try: replace one word with more general code\n",
    "\n",
    "word_to_replace = '{animal}'\n",
    "replacer = input('Enter a ' + word_to_replace[1:-1] + ': ')\n",
    "\n",
    "original_story = original_story.replace(word_to_replace, replacer)\n",
    "\n",
    "print(original_story)"
   ]
  },
  {
   "cell_type": "markdown",
   "metadata": {},
   "source": [
    "<a id='section5d'></a>\n",
    "### Programming Step 4: Repeat the code in step 3 for the other word identifiers.\n",
    "## Breakout Session"
   ]
  },
  {
   "cell_type": "code",
   "execution_count": 7,
   "metadata": {},
   "outputs": [
    {
     "name": "stdout",
     "output_type": "stream",
     "text": [
      "Enter an animal: animal\n",
      "Enter an food: pizzza\n",
      "Enter an city: ottawa\n",
      "\n",
      "Once upon a time, deep in an ancient jungle,\n",
      "there lived a animal.  This animal\n",
      "liked to eat pizzza, but the jungle had\n",
      "very little pizzza to offer.  One day, an\n",
      "explorer found the animal and discovered\n",
      "it liked pizzza.  The explorer took the\n",
      "animal back to ottawa, where it could\n",
      "eat as much pizzza as it wanted.  However,\n",
      "the animal became homesick, so the\n",
      "explorer brought it back to the jungle,\n",
      "leaving behind a large supply of pizzza.\n",
      "\n",
      "The End\n",
      "\n"
     ]
    }
   ],
   "source": [
    "original_story = \"\"\"\n",
    "Once upon a time, deep in an ancient jungle,\n",
    "there lived a {animal}.  This {animal}\n",
    "liked to eat {food}, but the jungle had\n",
    "very little {food} to offer.  One day, an\n",
    "explorer found the {animal} and discovered\n",
    "it liked {food}.  The explorer took the\n",
    "{animal} back to {city}, where it could\n",
    "eat as much {food} as it wanted.  However,\n",
    "the {animal} became homesick, so the\n",
    "explorer brought it back to the jungle,\n",
    "leaving behind a large supply of {food}.\n",
    "\n",
    "The End\n",
    "\"\"\"\n",
    "# second try: replace one word with more general code\n",
    "\n",
    "# replace animal\n",
    "word_to_replace = '{animal}'\n",
    "replacer = input('Enter an ' + word_to_replace[1:-1] + ': ')\n",
    "original_story = original_story.replace(word_to_replace, replacer)\n",
    "\n",
    "# replace food\n",
    "word_to_replace = '{food}'\n",
    "replacer = input('Enter an ' + word_to_replace[1:-1] + ': ')\n",
    "original_story = original_story.replace(word_to_replace, replacer)\n",
    "\n",
    "# replace city\n",
    "word_to_replace = '{city}'\n",
    "replacer = input('Enter an ' + word_to_replace[1:-1] + ': ')\n",
    "original_story = original_story.replace(word_to_replace, replacer)\n",
    "\n",
    "print(original_story)"
   ]
  },
  {
   "cell_type": "markdown",
   "metadata": {},
   "source": [
    "### Improve the solution\n",
    "## Breakout Session\n",
    "That's an awful lot of repeated code. Your spidey senses should be tingling. \n",
    "\n",
    "Be lazy -- write as little code as you can. You should be very suspicious of repeating almost identical lines of code. It almost always means you can write better, shorter code. </div>\n",
    "\n",
    "Can we do better?"
   ]
  },
  {
   "cell_type": "code",
   "execution_count": 8,
   "metadata": {},
   "outputs": [
    {
     "name": "stdout",
     "output_type": "stream",
     "text": [
      "Enter an animal: pig\n",
      "Enter an food: pizza\n",
      "Enter an city: ottawa\n",
      "\n",
      "Once upon a time, deep in an ancient jungle,\n",
      "there lived a pig.  This pig\n",
      "liked to eat pizza, but the jungle had\n",
      "very little pizza to offer.  One day, an\n",
      "explorer found the pig and discovered\n",
      "it liked pizza.  The explorer took the\n",
      "pig back to ottawa, where it could\n",
      "eat as much pizza as it wanted.  However,\n",
      "the pig became homesick, so the\n",
      "explorer brought it back to the jungle,\n",
      "leaving behind a large supply of pizza.\n",
      "\n",
      "The End\n",
      "\n"
     ]
    }
   ],
   "source": [
    "original_story = \"\"\"\n",
    "Once upon a time, deep in an ancient jungle,\n",
    "there lived a {animal}.  This {animal}\n",
    "liked to eat {food}, but the jungle had\n",
    "very little {food} to offer.  One day, an\n",
    "explorer found the {animal} and discovered\n",
    "it liked {food}.  The explorer took the\n",
    "{animal} back to {city}, where it could\n",
    "eat as much {food} as it wanted.  However,\n",
    "the {animal} became homesick, so the\n",
    "explorer brought it back to the jungle,\n",
    "leaving behind a large supply of {food}.\n",
    "\n",
    "The End\n",
    "\"\"\"\n",
    "# third try: add a function\n",
    "\n",
    "def replace_template(word_to_replace, story):\n",
    "    replacer = input('Enter an ' + word_to_replace[1:-1] + ': ')\n",
    "    return story.replace(word_to_replace, replacer)\n",
    " \n",
    "\n",
    "# replace animal\n",
    "word_to_replace = '{animal}'\n",
    "original_story = replace_template(word_to_replace, original_story)\n",
    "\n",
    "# replace food\n",
    "word_to_replace = '{food}'\n",
    "original_story = replace_template(word_to_replace, original_story)\n",
    "\n",
    "# replace city\n",
    "word_to_replace = '{city}'\n",
    "original_story = replace_template(word_to_replace, original_story)\n",
    "\n",
    "print(original_story)"
   ]
  },
  {
   "cell_type": "markdown",
   "metadata": {},
   "source": [
    "<a id='section5e'></a>\n",
    "### Bonus\n",
    "The code still has a bunch of very similar lines. What would you do to get rid of that repeated code?\n",
    "\n",
    "We already have seen that we can use loops to repeatedly execute some code. But a `while` loop would be pretty awkward in this case and we haven't yet seen a key data structure that would make all of this a bit easier: a list.\n",
    "\n",
    "So as a hint of something we will see after reading week, here's another version of the code - you don't have to be worried that you do not know this yet."
   ]
  },
  {
   "cell_type": "code",
   "execution_count": null,
   "metadata": {},
   "outputs": [],
   "source": [
    "original_story = \"\"\"\n",
    "Once upon a time, deep in an ancient jungle,\n",
    "there lived a {animal}.  This {animal}\n",
    "liked to eat {food}, but the jungle had\n",
    "very little {food} to offer.  One day, an\n",
    "explorer found the {animal} and discovered\n",
    "it liked {food}.  The explorer took the\n",
    "{animal} back to {city}, where it could\n",
    "eat as much {food} as it wanted.  However,\n",
    "the {animal} became homesick, so the\n",
    "explorer brought it back to the jungle,\n",
    "leaving behind a large supply of {food}.\n",
    "\n",
    "The End\n",
    "\"\"\"\n",
    "\n",
    "def replace_template(word_to_replace, story):\n",
    "    replacer = input('Enter an ' + word_to_replace[1:-1] + ': ')\n",
    "    return story.replace(word_to_replace, replacer)\n",
    "\n",
    "# A solution with a list and a loop\n",
    "\n",
    "# A list of the words that we want to replace (you don't know about lists yet)\n",
    "templates = ['{animal}','{food}','{city}']\n",
    "\n",
    "# A for-loop \n",
    "for word_to_replace in templates:\n",
    "    original_story = replace_template(word_to_replace, original_story)\n",
    "\n",
    "print(original_story)"
   ]
  },
  {
   "cell_type": "markdown",
   "metadata": {},
   "source": [
    "<a id='section6'></a>\n",
    "## 6. Perform Final Testing\n",
    "Evaluation of all the test cases to make sure the code is working."
   ]
  },
  {
   "cell_type": "code",
   "execution_count": null,
   "metadata": {},
   "outputs": [],
   "source": [
    "..."
   ]
  }
 ],
 "metadata": {
  "kernelspec": {
   "display_name": "Python 3 (ipykernel)",
   "language": "python",
   "name": "python3"
  },
  "language_info": {
   "codemirror_mode": {
    "name": "ipython",
    "version": 3
   },
   "file_extension": ".py",
   "mimetype": "text/x-python",
   "name": "python",
   "nbconvert_exporter": "python",
   "pygments_lexer": "ipython3",
   "version": "3.7.11"
  }
 },
 "nbformat": 4,
 "nbformat_minor": 1
}
