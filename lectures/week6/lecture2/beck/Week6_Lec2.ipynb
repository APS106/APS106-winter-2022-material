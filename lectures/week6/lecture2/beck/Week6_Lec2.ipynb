{
 "cells": [
  {
   "cell_type": "markdown",
   "metadata": {},
   "source": [
    "## APS106 Lecture Notes - Week 6, Lecture 2\n",
    "# More On Loops"
   ]
  },
  {
   "cell_type": "markdown",
   "metadata": {},
   "source": [
    "## For loops over indices\n",
    "\n",
    "Last lecture we saw that we can use `while` loops to loop over the indices of a string."
   ]
  },
  {
   "cell_type": "code",
   "execution_count": null,
   "metadata": {},
   "outputs": [],
   "source": [
    "chrome_4 = \"ATGGGCAATCGATGGCCTAATCTCTCTAAG\"\n",
    "i = 0\n",
    "while i < len(chrome_4):\n",
    "    print(i, chrome_4[i])\n",
    "    i += 1"
   ]
  },
  {
   "cell_type": "markdown",
   "metadata": {},
   "source": [
    "Then we saw that a `for`-loop requires less code but it iterates over the values, not the indices (what not where)."
   ]
  },
  {
   "cell_type": "code",
   "execution_count": null,
   "metadata": {},
   "outputs": [],
   "source": [
    "for ch in chrome_4:\n",
    "    print(ch)\n"
   ]
  },
  {
   "cell_type": "markdown",
   "metadata": {},
   "source": [
    "Can we use a `for`-loop to loop over indices? Or more generally, can we use a `for`-loop if we want to execute some code a variable number of times?"
   ]
  },
  {
   "cell_type": "markdown",
   "metadata": {},
   "source": [
    "### Looping on a range\n",
    "\n",
    "Python has a built-in function called `range()` that is useful to use when you want to generate a sequence of numbers. You can type `help(range)` in the Python interpreter."
   ]
  },
  {
   "cell_type": "code",
   "execution_count": null,
   "metadata": {},
   "outputs": [],
   "source": [
    "help(range)"
   ]
  },
  {
   "cell_type": "markdown",
   "metadata": {},
   "source": [
    "`range` produces a sequence of numbers starting at start and up to but *not including* stop. Just like in slicing.\n",
    "\n",
    "`range` is typically used in a for loop to iterate over a sequence of numbers. "
   ]
  },
  {
   "cell_type": "code",
   "execution_count": null,
   "metadata": {},
   "outputs": [],
   "source": [
    "for i in range(5):\n",
    "    print(i)"
   ]
  },
  {
   "cell_type": "markdown",
   "metadata": {},
   "source": [
    "What about our DNA example? How can we iterate over the indices?"
   ]
  },
  {
   "cell_type": "code",
   "execution_count": null,
   "metadata": {},
   "outputs": [],
   "source": [
    "# while version\n",
    "i = 0\n",
    "while i < len(chrome_4):\n",
    "    print(i, chrome_4[i])\n",
    "    i += 1\n",
    "\n",
    "# for version\n",
    "for i in range(len(chrome_4)):\n",
    "    print(i, chrome_4[i])\n"
   ]
  },
  {
   "cell_type": "markdown",
   "metadata": {},
   "source": [
    "**What Can You Do with range()?**\n"
   ]
  },
  {
   "cell_type": "markdown",
   "metadata": {},
   "source": [
    "You can tell `range()` what index to start at if you don't want to start at the default which is 0."
   ]
  },
  {
   "cell_type": "code",
   "execution_count": null,
   "metadata": {},
   "outputs": [],
   "source": [
    "for i in range(1, len(chrome_4)):\n",
    "    print(i, chrome_4[i])"
   ]
  },
  {
   "cell_type": "markdown",
   "metadata": {},
   "source": [
    "You can even specify the \"step\" for range: how do you increment the numbers?. The default step size is 1, which means that numbers increment by 1. The example below starts at index 1 and its step size is three (goes to every third index)."
   ]
  },
  {
   "cell_type": "code",
   "execution_count": null,
   "metadata": {},
   "outputs": [],
   "source": [
    "for i in range(1, len(chrome_4), 3):\n",
    "    print(i, chrome_4[i])"
   ]
  },
  {
   "cell_type": "markdown",
   "metadata": {},
   "source": [
    "This also gives us flexibility to process only part of a string. For example, we can print only the first half of the list:"
   ]
  },
  {
   "cell_type": "code",
   "execution_count": null,
   "metadata": {},
   "outputs": [],
   "source": [
    "for i in range(len(chrome_4) // 2):\n",
    "    print(chrome_4[i], end=\" \")"
   ]
  },
  {
   "cell_type": "markdown",
   "metadata": {},
   "source": [
    "Can you do this with the other form of `for`: ``for ch in chrome_4:``?\n",
    "\n",
    "You can but you will end up creating a variable to count the number of characters and stop the loop when it leaves half of the length. Which is going to be way more complicated."
   ]
  },
  {
   "cell_type": "markdown",
   "metadata": {},
   "source": [
    "More examples"
   ]
  },
  {
   "cell_type": "code",
   "execution_count": null,
   "metadata": {},
   "outputs": [],
   "source": [
    "# Iterate over the numbers 0, 1, 2, 3, and 4.\n",
    "for i in range(5):\n",
    "    print(i)"
   ]
  },
  {
   "cell_type": "code",
   "execution_count": null,
   "metadata": {},
   "outputs": [],
   "source": [
    "# Iterate over the numbers 2, 3, and 4.\n",
    "for i in range(2, 5):\n",
    "    print(i)"
   ]
  },
  {
   "cell_type": "code",
   "execution_count": null,
   "metadata": {},
   "outputs": [],
   "source": [
    "# Iterate over the numbers 3, 6, 9, 12, 15, and 18.\n",
    "for i in range(3, 20, 3):\n",
    "    print(i)"
   ]
  },
  {
   "cell_type": "markdown",
   "metadata": {},
   "source": [
    "## Write Some Code\n",
    "\n",
    "Write a function that returns the number of times that a character and the next character are the same.  \n",
    "```\n",
    "count_adjacent_repeats('abccdeffggh')\n",
    "3\n",
    "```"
   ]
  },
  {
   "cell_type": "code",
   "execution_count": null,
   "metadata": {},
   "outputs": [],
   "source": [
    "def count_adjacent_repeats(s):\n",
    "    '''\n",
    "    str -> int\n",
    "    Returns the number of times that two consecutive characters are the same\n",
    "    '''\n",
    "    repeats = 0\n",
    "    \n",
    "    for i in range(len(s) - 1):\n",
    "        if s[i] == s[i + 1]:\n",
    "            repeats += 1\n",
    "\n",
    "    return repeats\n"
   ]
  },
  {
   "cell_type": "code",
   "execution_count": null,
   "metadata": {},
   "outputs": [],
   "source": [
    "print(count_adjacent_repeats('abccdeffggh'))"
   ]
  },
  {
   "cell_type": "markdown",
   "metadata": {},
   "source": [
    "We want to compare a character in the string with another character in the string beside it. We need to know not just what the character is but also where it is in the string. \n",
    "\n",
    "And so we iterate over the indices: only knowing the value of the character does not provide us with enough information. \n",
    "\n",
    "Look at the `count_adjacent_repeats` code again. What if we use `range(len(s))` for the loop?"
   ]
  },
  {
   "cell_type": "code",
   "execution_count": null,
   "metadata": {},
   "outputs": [],
   "source": [
    "def count_adjacent_repeats(s):\n",
    "    repeats = 0\n",
    "    \n",
    "    for i in range(len(s)):\n",
    "        if s[i] == s[i + 1]:\n",
    "            repeats += 1\n",
    "\n",
    "    return repeats"
   ]
  },
  {
   "cell_type": "code",
   "execution_count": null,
   "metadata": {},
   "outputs": [],
   "source": [
    "print(count_adjacent_repeats('abccdeffggh'))"
   ]
  },
  {
   "cell_type": "markdown",
   "metadata": {},
   "source": [
    "We get an `IndexError` because we access `s[i + 1]` and if `i` is already the maximum index, we try to read off the end of the list. This is an example of an “off-by-one” error. \n",
    "\n",
    "Off-by-one error: It is a very common bug to either do one too many or one too few loop iterations than you meant to.\n",
    "\n",
    "<div class=\"alert alert-block alert-danger\">\n",
    "<big><b>Beck's Rule #2 for Programmers</b></big>\n",
    " If you have a bug in a loop, with probability 1 its an off-by-one error. (Note: Beck's Tule #2 for Programmers is subject to Beck's Rule #2 of Programming and so may itself contain an off-by-one error.) </div>\n"
   ]
  },
  {
   "cell_type": "markdown",
   "metadata": {},
   "source": [
    "# Nested Loops\n",
    "\n",
    "Look again at the code above for `count_adjacent_repeats`. We have included an `if`-statement inside a `for`-loop. Perhaps it will not surprise (or maybe it would) to know that we can put loops inside of loops. These are called **nested loops**."
   ]
  },
  {
   "cell_type": "code",
   "execution_count": null,
   "metadata": {
    "scrolled": false
   },
   "outputs": [],
   "source": [
    "for i in range(10, 13):\n",
    "    for j in range(1, 5):\n",
    "        print(i, j)"
   ]
  },
  {
   "cell_type": "markdown",
   "metadata": {},
   "source": [
    "What is going on here? Let's add some `print` statements to help jus understand."
   ]
  },
  {
   "cell_type": "code",
   "execution_count": null,
   "metadata": {},
   "outputs": [],
   "source": [
    "for i in range(10, 13):\n",
    "    print(\"Outer loop. i =\", i)\n",
    "    for j in range(1, 5):\n",
    "        print(\"  Inner loop:\", end = \" \")\n",
    "        print(i, j)"
   ]
  },
  {
   "cell_type": "markdown",
   "metadata": {},
   "source": [
    "Notice that when `i` is 10, the inner loop executes in its entirety, and only after `j` has ranged from 1 through 4 is `i` incremented to the value 11.\n",
    " \n",
    "### Example of Nested Loops\n",
    "\n",
    "What does the following code do?"
   ]
  },
  {
   "cell_type": "code",
   "execution_count": 1,
   "metadata": {},
   "outputs": [],
   "source": [
    "import turtle \n",
    "\n",
    "tina = turtle.Turtle()\n",
    "\n",
    "dot_distance = 25\n",
    "width = 5\n",
    "height = 7\n",
    "\n",
    "tina.penup()\n",
    "\n",
    "for y in range(height):\n",
    "    for i in range(width):\n",
    "        tina.dot()\n",
    "        tina.forward(dot_distance)\n",
    "    tina.backward(dot_distance * width)\n",
    "    tina.right(90)\n",
    "    tina.forward(dot_distance)\n",
    "    tina.left(90)\n",
    "    \n",
    "turtle.done()"
   ]
  },
  {
   "cell_type": "markdown",
   "metadata": {},
   "source": [
    "\n",
    "Can we use turtles to draw the Olympic Rings."
   ]
  },
  {
   "cell_type": "code",
   "execution_count": null,
   "metadata": {},
   "outputs": [],
   "source": [
    "import turtle\n",
    "\n",
    "# Previously defined function\n",
    "def circle(t, x, y, size):\n",
    "    '''\n",
    "    (Turtle, int, int, int)\n",
    "    Draw a circle of radius size at coordinate (x,y)'''\n",
    "    t.up()\n",
    "    t.goto(x,y)\n",
    "    t.down()\n",
    "    t.circle(size,360)\n",
    "\n",
    "tina = turtle.Turtle()\n",
    "\n",
    "# Draw Olympic Rings\n",
    "size = 45\n",
    "\n",
    "rows = 2\n",
    "cols = 3\n",
    "\n",
    "for y in range(rows):\n",
    "    for x in range(cols-y):\n",
    "        circle(tina, 100*x + 50*y, -50*y, size)\n",
    "\n",
    "turtle.done()\n"
   ]
  },
  {
   "cell_type": "markdown",
   "metadata": {},
   "source": [
    "**Visual Example: Wheel of Fortune**\n",
    "Can you design code to play \"Wheel of Fortune\" (aka \"Hangman\")?\n",
    "- pick a secret sentence\n",
    "- draw the sentence but with blanks instead of letters\n",
    "- while the user still wants to play\n",
    "  - ask the user to choose a letter\n",
    "  - if the letter is in the secret sentence replace the corresponding blanks\n",
    "  - otherwise, ask the user for another letter\n",
    "  - if the user enters no letter (just hits \"Enter\") the game is over"
   ]
  },
  {
   "cell_type": "code",
   "execution_count": null,
   "metadata": {},
   "outputs": [],
   "source": [
    "import turtle\n",
    "\n",
    "def WOF_display(t, s, loc, height):\n",
    "    '''\n",
    "    (Turtle, str, int, int)\n",
    "    Write the letter in s at (relative) location loc with given height\n",
    "    '''\n",
    "    font_size = 24\n",
    "    starting_position = -300\n",
    "\n",
    "    t.up()\n",
    "    t.goto(starting_position+loc*(font_size+2),height)\n",
    "    t.down()\n",
    "    t.write(s, font=(\"Arial\", font_size, \"normal\"))\n",
    "\n",
    "\n",
    "tina = turtle.Turtle()\n",
    "\n",
    "# The secret sentence\n",
    "sentence = \"Do not eat yellow snow\"\n",
    "\n",
    "a = len(sentence)\n",
    "\n",
    "# create the initial blanks\n",
    "visible = \"\" # keep track of what is visible\n",
    "for x in range(a):\n",
    "    if sentence[x] != ' ':\n",
    "        visible += '-' # initially all blanks (except spaces)\n",
    "        WOF_display(tina, '_', x, 0)\n",
    "    else:\n",
    "        visible += ' '\n",
    "\n",
    "user_quit = False\n",
    "have_solution = False\n",
    "while (not user_quit) and (not have_solution):\n",
    "    char = input(\"Pick a character <Enter to quit>: \")\n",
    "    if char != '':\n",
    "        have_solution = True\n",
    "        for x in range(a):\n",
    "            if sentence[x].lower() == char.lower():\n",
    "                # make correctly guessed char visible\n",
    "                visible = visible[:x] + sentence[x] + visible[x+1:] \n",
    "                WOF_display(tina, sentence[x],x,0)  \n",
    "            elif visible[x] == '-':\n",
    "                # if there is any non-visible character, we haven't found a solution\n",
    "                have_solution = False\n",
    "    else:\n",
    "        user_quit = True\n",
    "\n",
    "if have_solution:\n",
    "    WOF_display(tina, 'You Win!',0,30)\n",
    "else:\n",
    "    WOF_display(tina, 'You Lose!',0,30)\n",
    "    \n",
    "turtle.done()\n"
   ]
  },
  {
   "cell_type": "markdown",
   "metadata": {},
   "source": [
    "<div class=\"alert alert-block alert-info\">\n",
    "<big><b>This Lecture</b></big>\n",
    "<ul>\n",
    "    <li>for-loops over range</li>\n",
    "    <li>iterating over values vs. iterating over indices</li>\n",
    "    <li>off-by-one errors</li>\n",
    "    <li>nested loops</li>\n",
    " </ul>\n",
    "</div>\n"
   ]
  },
  {
   "cell_type": "code",
   "execution_count": null,
   "metadata": {},
   "outputs": [],
   "source": []
  }
 ],
 "metadata": {
  "kernelspec": {
   "display_name": "Python 3 (ipykernel)",
   "language": "python",
   "name": "python3"
  },
  "language_info": {
   "codemirror_mode": {
    "name": "ipython",
    "version": 3
   },
   "file_extension": ".py",
   "mimetype": "text/x-python",
   "name": "python",
   "nbconvert_exporter": "python",
   "pygments_lexer": "ipython3",
   "version": "3.7.11"
  }
 },
 "nbformat": 4,
 "nbformat_minor": 1
}
