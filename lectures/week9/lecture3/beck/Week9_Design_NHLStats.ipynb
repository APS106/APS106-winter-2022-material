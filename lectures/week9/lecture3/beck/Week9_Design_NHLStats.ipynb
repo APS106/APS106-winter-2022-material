{
 "cells": [
  {
   "cell_type": "markdown",
   "source": [],
   "metadata": {
    "collapsed": false,
    "pycharm": {
     "name": "#%% md\n"
    }
   }
  },
  {
   "cell_type": "markdown",
   "source": [
    "## Problem Background\n",
    "\n",
    "A lot of introductory problems in this course can be seen as impractical due to their lack of application to everyday life. Here, we try to show how, using real world data, coding can be fun! In many data-focused jobs or applications, CSV files are used to store large matrices and sets of data. In these files, each column generally represents a piece of data. Here, we are looking at data from the National Hockey League (NHL) that contains the past head-to-head (H2H) information of teams since the beginning of the league (with modified names). But, we are not interested in ANY team - we are interested in the best hockey team of all time: the Toronto Maple Leafs. Your goal is to read this data file containing the Leafs' H2H record against other teams and be able to make an application where search for a team  and determine their head-to-head record and information regarding these match ups that are also contained in the CSV file."
   ],
   "metadata": {
    "collapsed": false,
    "pycharm": {
     "name": "#%% md\n"
    }
   }
  },
  {
   "cell_type": "markdown",
   "source": [
    "Let's read in the file:"
   ],
   "metadata": {
    "collapsed": false,
    "pycharm": {
     "name": "#%% md\n"
    }
   }
  },
  {
   "cell_type": "code",
   "execution_count": 1,
   "outputs": [
    {
     "name": "stdout",
     "output_type": "stream",
     "text": [
      "['Rk', 'Franchise', 'GP', 'W', 'L', 'T', 'OL', 'PTS', 'PTS%', 'GF', 'GA', 'GF/G', 'GA/G']\n",
      "['1', 'Anaheim Ducks', '48', '30', '12', '5', '1', '66', '.688', '159', '120', '3.31', '2.50']\n",
      "['2', 'Boston Bruins', '680', '281', '291', '98', '10', '670', '.493', '2026', '2012', '2.98', '2.96']\n",
      "['3', 'Buffalo Sabres', '222', '84', '109', '18', '11', '197', '.444', '628', '792', '2.83', '3.57']\n",
      "['4', 'Carolina Hurricanes', '127', '49', '60', '11', '7', '116', '.457', '397', '446', '3.13', '3.51']\n",
      "['5', 'Columbus Blue Jackets', '33', '16', '11', '1', '5', '38', '.576', '104', '99', '3.15', '3.00']\n",
      "['6', 'Calgary Flames', '149', '68', '63', '12', '6', '154', '.517', '494', '525', '3.32', '3.52']\n",
      "['7', 'Chicago Blackhawks', '655', '291', '265', '96', '3', '681', '.520', '1971', '1879', '3.01', '2.87']\n",
      "['8', 'Cleveland Barons', '62', '38', '15', '9', '0', '85', '.685', '238', '171', '3.84', '2.76']\n",
      "['9', 'Colorado Avalanche', '86', '33', '40', '9', '4', '79', '.459', '285', '315', '3.31', '3.66']\n",
      "['10', 'Dallas Stars', '220', '99', '92', '28', '1', '227', '.516', '736', '748', '3.35', '3.40']\n",
      "['11', 'Detroit Red Wings', '676', '297', '281', '93', '5', '692', '.512', '1968', '1916', '2.91', '2.83']\n",
      "['12', 'Edmonton Oilers', '115', '60', '44', '8', '3', '131', '.570', '418', '418', '3.63', '3.63']\n",
      "['13', 'Florida Panthers', '94', '45', '35', '7', '7', '104', '.553', '281', '288', '2.99', '3.06']\n",
      "['14', 'Hamilton Tigers', '46', '29', '17', '0', '0', '58', '.630', '208', '183', '4.52', '3.98']\n",
      "['15', 'Los Angeles Kings', '155', '66', '65', '21', '3', '156', '.503', '512', '515', '3.30', '3.32']\n",
      "['16', 'Minnesota Wild', '26', '13', '11', '0', '2', '28', '.538', '67', '59', '2.58', '2.27']\n",
      "['17', 'Montreal Canadiens', '761', '309', '346', '88', '18', '724', '.476', '2120', '2323', '2.79', '3.05']\n",
      "['18', 'Montreal Maroons', '92', '43', '43', '6', '0', '92', '.500', '216', '216', '2.35', '2.35']\n",
      "['19', 'Montreal Wanderers', '2', '1', '1', '0', '0', '2', '.500', '10', '10', '5.00', '5.00']\n",
      "['20', 'New Jersey Devils', '148', '78', '41', '20', '9', '185', '.625', '493', '435', '3.33', '2.94']\n",
      "['21', 'Nashville Predators', '28', '13', '13', '1', '1', '28', '.500', '73', '82', '2.61', '2.93']\n",
      "['22', 'New York Americans', '118', '64', '32', '22', '0', '150', '.636', '379', '244', '3.21', '2.07']\n",
      "['23', 'New York Islanders', '162', '77', '68', '7', '10', '171', '.528', '526', '560', '3.25', '3.46']\n",
      "['24', 'New York Rangers', '620', '289', '224', '95', '12', '685', '.552', '1963', '1796', '3.17', '2.90']\n",
      "['25', 'Ottawa Senators', '119', '54', '55', '10', '0', '118', '.496', '347', '375', '2.92', '3.15']\n",
      "['26', 'Ottawa Senators', '136', '64', '56', '3', '13', '144', '.529', '408', '413', '3.00', '3.04']\n",
      "['27', 'Philadelphia Flyers', '189', '67', '93', '22', '7', '163', '.431', '532', '649', '2.81', '3.43']\n",
      "['28', 'Arizona Coyotes', '104', '39', '54', '8', '3', '89', '.428', '353', '395', '3.39', '3.80']\n",
      "['29', 'Pittsburgh Penguins', '191', '85', '82', '17', '7', '194', '.508', '657', '676', '3.44', '3.54']\n",
      "['30', 'Pittsburgh Pirates', '26', '13', '10', '3', '0', '29', '.558', '70', '61', '2.69', '2.35']\n",
      "['31', 'Seattle Kraken', '2', '2', '0', '0', '0', '4', '1.000', '12', '6', '6.00', '3.00']\n",
      "['32', 'San Jose Sharks', '55', '25', '23', '5', '2', '57', '.518', '165', '157', '3.00', '2.85']\n",
      "['33', 'St. Louis Blues', '223', '95', '97', '25', '6', '221', '.496', '710', '720', '3.18', '3.23']\n",
      "['34', 'Tampa Bay Lightning', '104', '58', '37', '2', '7', '125', '.601', '326', '287', '3.13', '2.76']\n",
      "['35', 'Vancouver Canucks', '159', '66', '67', '22', '4', '158', '.497', '539', '528', '3.39', '3.32']\n",
      "['36', 'Vegas Golden Knights', '8', '6', '2', '0', '0', '12', '.750', '28', '21', '3.50', '2.63']\n",
      "['37', 'Winnipeg Jets', '75', '41', '24', '1', '9', '92', '.613', '263', '213', '3.51', '2.84']\n",
      "['38', 'Washington Capitals', '152', '66', '71', '10', '5', '147', '.484', '510', '522', '3.36', '3.43']\n"
     ]
    }
   ],
   "source": [
    "import csv\n",
    "\n",
    "nhl_data = []\n",
    "with open('TML_WinLoss.csv', 'r') as csvfile:\n",
    "    nhl_stats_reader = csv.reader(csvfile)\n",
    "\n",
    "    for row in nhl_stats_reader:\n",
    "        nhl_data.append(row)\n",
    "\n",
    "for row in nhl_data:\n",
    "    print(row)"
   ],
   "metadata": {
    "collapsed": false,
    "pycharm": {
     "name": "#%%\n"
    }
   }
  },
  {
   "cell_type": "markdown",
   "source": [
    "With all this data, we want to be able to search for a team in this database of teams. Which data structure have we learned that might be best for this?"
   ],
   "metadata": {
    "collapsed": false,
    "pycharm": {
     "name": "#%% md\n"
    }
   }
  },
  {
   "cell_type": "code",
   "execution_count": 2,
   "outputs": [
    {
     "name": "stdout",
     "output_type": "stream",
     "text": [
      "{'Anaheim Ducks'}\n"
     ]
    }
   ],
   "source": [
    " # Get the teams from the user and store them in a set\n",
    "team_set = set()\n",
    "\n",
    "team = input(\"Enter a team name (type exit to end): \")\n",
    "while team != \"exit\":\n",
    "    team_set.add(team)\n",
    "    team = input(\"Enter a team name (type exit to end): \")\n",
    "\n",
    "print(team_set)"
   ],
   "metadata": {
    "collapsed": false,
    "pycharm": {
     "name": "#%%\n"
    }
   }
  },
  {
   "cell_type": "markdown",
   "source": [
    "One awkward thing about this code is that we have to write the user prompt twice. And so if we want to change it, we need to remember to do it twice. We can get around this with a variable."
   ],
   "metadata": {
    "collapsed": false
   }
  },
  {
   "cell_type": "code",
   "execution_count": 94,
   "outputs": [
    {
     "name": "stdout",
     "output_type": "stream",
     "text": [
      "{'Anaheim Ducks', 'Montreal Canadiens'}\n"
     ]
    }
   ],
   "source": [
    "# Get the teams from the user and store them in a set\n",
    "team_set = set()\n",
    "\n",
    "prompt = \"Enter a team name (type exit to end):  \"\n",
    "\n",
    "team = input(prompt)\n",
    "while team != \"exit\":\n",
    "    team_set.add(team)\n",
    "    team = input(prompt)\n",
    "\n",
    "print(team_set)"
   ],
   "metadata": {
    "collapsed": false,
    "pycharm": {
     "name": "#%%\n"
    }
   }
  },
  {
   "cell_type": "markdown",
   "source": [
    "The question initially asked us to search for a team and print out their H2H information against the Leafs and some other info. Let's code for the wins, losses, ties, if they lost in overtimes, and games played. If they played no games against each other ever, then print \"No games played\".\n",
    "\n",
    "A pseudo-code plan might look like:"
   ],
   "metadata": {
    "collapsed": false,
    "pycharm": {
     "name": "#%% md\n"
    }
   }
  },
  {
   "cell_type": "code",
   "execution_count": 4,
   "outputs": [
    {
     "ename": "SyntaxError",
     "evalue": "invalid syntax (3561987836.py, line 1)",
     "output_type": "error",
     "traceback": [
      "\u001B[1;36m  Input \u001B[1;32mIn [4]\u001B[1;36m\u001B[0m\n\u001B[1;33m    for team name in street_set:\u001B[0m\n\u001B[1;37m             ^\u001B[0m\n\u001B[1;31mSyntaxError\u001B[0m\u001B[1;31m:\u001B[0m invalid syntax\n"
     ]
    }
   ],
   "source": [
    "for team name in street_set:\n",
    "    # search for team_name in NHL data\n",
    "    # if found - print out wins, losses, games played\n",
    "    # else - print out \"No games played\""
   ],
   "metadata": {
    "collapsed": false,
    "pycharm": {
     "name": "#%%\n"
    }
   }
  },
  {
   "cell_type": "markdown",
   "source": [
    "It might be wise to have a function that prints everything for us nicely since we are accessing so much data from the CSV"
   ],
   "metadata": {
    "collapsed": false,
    "pycharm": {
     "name": "#%% md\n"
    }
   }
  },
  {
   "cell_type": "code",
   "execution_count": 8,
   "outputs": [],
   "source": [
    "def print_headtohead(data, index, team_index):\n",
    "    # display showing Team name, games played, wins, losses, ties, overtime losses\n",
    "    print(\"Team Name:\",data[index][team_index], \"Games played:\",\n",
    "          data[index][team_index+1], \"Wins:\", data[index][team_index+2], \"Losses:\", data[index][team_index+3], \"Ties: \", data[index][team_index+4], \"Overtime Losses: \",data[index][team_index+5])\n"
   ],
   "metadata": {
    "collapsed": false,
    "pycharm": {
     "name": "#%%\n"
    }
   }
  },
  {
   "cell_type": "markdown",
   "source": [
    "So, how can we sort through the set? One way might be:"
   ],
   "metadata": {
    "collapsed": false,
    "pycharm": {
     "name": "#%% md\n"
    }
   }
  },
  {
   "cell_type": "code",
   "execution_count": 11,
   "outputs": [
    {
     "name": "stdout",
     "output_type": "stream",
     "text": [
      "Head to Head for:  Anaheim Ducks\n",
      "No Head to Head for:  ['Rk', 'Franchise', 'GP', 'W', 'L', 'T', 'OL', 'PTS', 'PTS%', 'GF', 'GA', 'GF/G', 'GA/G']\n",
      "No Head to Head for:  ['1', 'Anaheim Ducks', '48', '30', '12', '5', '1', '66', '.688', '159', '120', '3.31', '2.50']\n",
      "No Head to Head for:  ['2', 'Boston Bruins', '680', '281', '291', '98', '10', '670', '.493', '2026', '2012', '2.98', '2.96']\n",
      "No Head to Head for:  ['3', 'Buffalo Sabres', '222', '84', '109', '18', '11', '197', '.444', '628', '792', '2.83', '3.57']\n",
      "No Head to Head for:  ['4', 'Carolina Hurricanes', '127', '49', '60', '11', '7', '116', '.457', '397', '446', '3.13', '3.51']\n",
      "No Head to Head for:  ['5', 'Columbus Blue Jackets', '33', '16', '11', '1', '5', '38', '.576', '104', '99', '3.15', '3.00']\n",
      "No Head to Head for:  ['6', 'Calgary Flames', '149', '68', '63', '12', '6', '154', '.517', '494', '525', '3.32', '3.52']\n",
      "No Head to Head for:  ['7', 'Chicago Blackhawks', '655', '291', '265', '96', '3', '681', '.520', '1971', '1879', '3.01', '2.87']\n",
      "No Head to Head for:  ['8', 'Cleveland Barons', '62', '38', '15', '9', '0', '85', '.685', '238', '171', '3.84', '2.76']\n",
      "No Head to Head for:  ['9', 'Colorado Avalanche', '86', '33', '40', '9', '4', '79', '.459', '285', '315', '3.31', '3.66']\n",
      "No Head to Head for:  ['10', 'Dallas Stars', '220', '99', '92', '28', '1', '227', '.516', '736', '748', '3.35', '3.40']\n",
      "No Head to Head for:  ['11', 'Detroit Red Wings', '676', '297', '281', '93', '5', '692', '.512', '1968', '1916', '2.91', '2.83']\n",
      "No Head to Head for:  ['12', 'Edmonton Oilers', '115', '60', '44', '8', '3', '131', '.570', '418', '418', '3.63', '3.63']\n",
      "No Head to Head for:  ['13', 'Florida Panthers', '94', '45', '35', '7', '7', '104', '.553', '281', '288', '2.99', '3.06']\n",
      "No Head to Head for:  ['14', 'Hamilton Tigers', '46', '29', '17', '0', '0', '58', '.630', '208', '183', '4.52', '3.98']\n",
      "No Head to Head for:  ['15', 'Los Angeles Kings', '155', '66', '65', '21', '3', '156', '.503', '512', '515', '3.30', '3.32']\n",
      "No Head to Head for:  ['16', 'Minnesota Wild', '26', '13', '11', '0', '2', '28', '.538', '67', '59', '2.58', '2.27']\n",
      "No Head to Head for:  ['17', 'Montreal Canadiens', '761', '309', '346', '88', '18', '724', '.476', '2120', '2323', '2.79', '3.05']\n",
      "No Head to Head for:  ['18', 'Montreal Maroons', '92', '43', '43', '6', '0', '92', '.500', '216', '216', '2.35', '2.35']\n",
      "No Head to Head for:  ['19', 'Montreal Wanderers', '2', '1', '1', '0', '0', '2', '.500', '10', '10', '5.00', '5.00']\n",
      "No Head to Head for:  ['20', 'New Jersey Devils', '148', '78', '41', '20', '9', '185', '.625', '493', '435', '3.33', '2.94']\n",
      "No Head to Head for:  ['21', 'Nashville Predators', '28', '13', '13', '1', '1', '28', '.500', '73', '82', '2.61', '2.93']\n",
      "No Head to Head for:  ['22', 'New York Americans', '118', '64', '32', '22', '0', '150', '.636', '379', '244', '3.21', '2.07']\n",
      "No Head to Head for:  ['23', 'New York Islanders', '162', '77', '68', '7', '10', '171', '.528', '526', '560', '3.25', '3.46']\n",
      "No Head to Head for:  ['24', 'New York Rangers', '620', '289', '224', '95', '12', '685', '.552', '1963', '1796', '3.17', '2.90']\n",
      "No Head to Head for:  ['25', 'Ottawa Senators', '119', '54', '55', '10', '0', '118', '.496', '347', '375', '2.92', '3.15']\n",
      "No Head to Head for:  ['26', 'Ottawa Senators', '136', '64', '56', '3', '13', '144', '.529', '408', '413', '3.00', '3.04']\n",
      "No Head to Head for:  ['27', 'Philadelphia Flyers', '189', '67', '93', '22', '7', '163', '.431', '532', '649', '2.81', '3.43']\n",
      "No Head to Head for:  ['28', 'Arizona Coyotes', '104', '39', '54', '8', '3', '89', '.428', '353', '395', '3.39', '3.80']\n",
      "No Head to Head for:  ['29', 'Pittsburgh Penguins', '191', '85', '82', '17', '7', '194', '.508', '657', '676', '3.44', '3.54']\n",
      "No Head to Head for:  ['30', 'Pittsburgh Pirates', '26', '13', '10', '3', '0', '29', '.558', '70', '61', '2.69', '2.35']\n",
      "No Head to Head for:  ['31', 'Seattle Kraken', '2', '2', '0', '0', '0', '4', '1.000', '12', '6', '6.00', '3.00']\n",
      "No Head to Head for:  ['32', 'San Jose Sharks', '55', '25', '23', '5', '2', '57', '.518', '165', '157', '3.00', '2.85']\n",
      "No Head to Head for:  ['33', 'St. Louis Blues', '223', '95', '97', '25', '6', '221', '.496', '710', '720', '3.18', '3.23']\n",
      "No Head to Head for:  ['34', 'Tampa Bay Lightning', '104', '58', '37', '2', '7', '125', '.601', '326', '287', '3.13', '2.76']\n",
      "No Head to Head for:  ['35', 'Vancouver Canucks', '159', '66', '67', '22', '4', '158', '.497', '539', '528', '3.39', '3.32']\n",
      "No Head to Head for:  ['36', 'Vegas Golden Knights', '8', '6', '2', '0', '0', '12', '.750', '28', '21', '3.50', '2.63']\n",
      "No Head to Head for:  ['37', 'Winnipeg Jets', '75', '41', '24', '1', '9', '92', '.613', '263', '213', '3.51', '2.84']\n",
      "No Head to Head for:  ['38', 'Washington Capitals', '152', '66', '71', '10', '5', '147', '.484', '510', '522', '3.36', '3.43']\n"
     ]
    }
   ],
   "source": [
    "nhl_team_index = 1\n",
    "for team in team_set:\n",
    "    print(\"Head to Head for: \", team)\n",
    "    for team in nhl_data:\n",
    "        if team[nhl_team_index] == team:\n",
    "            print_team(team)\n",
    "        else:\n",
    "            print(\"No Head to Head for: \", team)"
   ],
   "metadata": {
    "collapsed": false,
    "pycharm": {
     "name": "#%%\n"
    }
   }
  },
  {
   "cell_type": "markdown",
   "source": [],
   "metadata": {
    "collapsed": false,
    "pycharm": {
     "name": "#%% md\n"
    }
   }
  },
  {
   "cell_type": "code",
   "execution_count": 12,
   "outputs": [
    {
     "name": "stdout",
     "output_type": "stream",
     "text": [
      "Head to Head for:  Anaheim Ducks\n",
      "Team Name: Anaheim Ducks Games played: 48 Wins: 30 Losses: 12 Ties:  5 Overtime Losses:  1\n"
     ]
    }
   ],
   "source": [
    "nhl_team_index = 1\n",
    "i = 2\n",
    "for team in team_set:\n",
    "    print(\"Head to Head for: \", team)\n",
    "    found_team = False        # this is the \"flag\"\n",
    "    for i in range (len(nhl_data)):\n",
    "        if nhl_data[i][nhl_team_index] == team:\n",
    "            print_headtohead(nhl_data, i, nhl_team_index)\n",
    "            found_team = True\n",
    "\n",
    "        #else:   # if the flag hasn't been reset, then we didn't find a house\n",
    "            #print(\"No Head to Head for: \", team)\n"
   ],
   "metadata": {
    "collapsed": false,
    "pycharm": {
     "name": "#%%\n"
    }
   }
  },
  {
   "cell_type": "markdown",
   "source": [
    "As problems have multiple solutions: Let's think of another data structure we can use:"
   ],
   "metadata": {
    "collapsed": false,
    "pycharm": {
     "name": "#%% md\n"
    }
   }
  },
  {
   "cell_type": "code",
   "execution_count": 115,
   "outputs": [
    {
     "name": "stdout",
     "output_type": "stream",
     "text": [
      "{'Anaheim Ducks': [['1', 'Anaheim Ducks', '48', '30', '12', '5', '1', '66', '.688', '159', '120', '3.31', '2.50']], 'Boston Bruins': [['2', 'Boston Bruins', '680', '281', '291', '98', '10', '670', '.493', '2026', '2012', '2.98', '2.96']], 'Buffalo Sabres': [['3', 'Buffalo Sabres', '222', '84', '109', '18', '11', '197', '.444', '628', '792', '2.83', '3.57']], 'Carolina Hurricanes': [['4', 'Carolina Hurricanes', '127', '49', '60', '11', '7', '116', '.457', '397', '446', '3.13', '3.51']], 'Columbus Blue Jackets': [['5', 'Columbus Blue Jackets', '33', '16', '11', '1', '5', '38', '.576', '104', '99', '3.15', '3.00']], 'Calgary Flames': [['6', 'Calgary Flames', '149', '68', '63', '12', '6', '154', '.517', '494', '525', '3.32', '3.52']], 'Chicago Blackhawks': [['7', 'Chicago Blackhawks', '655', '291', '265', '96', '3', '681', '.520', '1971', '1879', '3.01', '2.87']], 'Cleveland Barons': [['8', 'Cleveland Barons', '62', '38', '15', '9', '0', '85', '.685', '238', '171', '3.84', '2.76']], 'Colorado Avalanche': [['9', 'Colorado Avalanche', '86', '33', '40', '9', '4', '79', '.459', '285', '315', '3.31', '3.66']], 'Dallas Stars': [['10', 'Dallas Stars', '220', '99', '92', '28', '1', '227', '.516', '736', '748', '3.35', '3.40']], 'Detroit Red Wings': [['11', 'Detroit Red Wings', '676', '297', '281', '93', '5', '692', '.512', '1968', '1916', '2.91', '2.83']], 'Edmonton Oilers': [['12', 'Edmonton Oilers', '115', '60', '44', '8', '3', '131', '.570', '418', '418', '3.63', '3.63']], 'Florida Panthers': [['13', 'Florida Panthers', '94', '45', '35', '7', '7', '104', '.553', '281', '288', '2.99', '3.06']], 'Hamilton Tigers': [['14', 'Hamilton Tigers', '46', '29', '17', '0', '0', '58', '.630', '208', '183', '4.52', '3.98']], 'Los Angeles Kings': [['15', 'Los Angeles Kings', '155', '66', '65', '21', '3', '156', '.503', '512', '515', '3.30', '3.32']], 'Minnesota Wild': [['16', 'Minnesota Wild', '26', '13', '11', '0', '2', '28', '.538', '67', '59', '2.58', '2.27']], 'Montreal Canadiens': [['17', 'Montreal Canadiens', '761', '309', '346', '88', '18', '724', '.476', '2120', '2323', '2.79', '3.05']], 'Montreal Maroons': [['18', 'Montreal Maroons', '92', '43', '43', '6', '0', '92', '.500', '216', '216', '2.35', '2.35']], 'Montreal Wanderers': [['19', 'Montreal Wanderers', '2', '1', '1', '0', '0', '2', '.500', '10', '10', '5.00', '5.00']], 'New Jersey Devils': [['20', 'New Jersey Devils', '148', '78', '41', '20', '9', '185', '.625', '493', '435', '3.33', '2.94']], 'Nashville Predators': [['21', 'Nashville Predators', '28', '13', '13', '1', '1', '28', '.500', '73', '82', '2.61', '2.93']], 'New York Americans': [['22', 'New York Americans', '118', '64', '32', '22', '0', '150', '.636', '379', '244', '3.21', '2.07']], 'New York Islanders': [['23', 'New York Islanders', '162', '77', '68', '7', '10', '171', '.528', '526', '560', '3.25', '3.46']], 'New York Rangers': [['24', 'New York Rangers', '620', '289', '224', '95', '12', '685', '.552', '1963', '1796', '3.17', '2.90']], 'Ottawa Senators': [['25', 'Ottawa Senators', '119', '54', '55', '10', '0', '118', '.496', '347', '375', '2.92', '3.15'], ['26', 'Ottawa Senators', '136', '64', '56', '3', '13', '144', '.529', '408', '413', '3.00', '3.04']], 'Philadelphia Flyers': [['27', 'Philadelphia Flyers', '189', '67', '93', '22', '7', '163', '.431', '532', '649', '2.81', '3.43']], 'Arizona Coyotes': [['28', 'Arizona Coyotes', '104', '39', '54', '8', '3', '89', '.428', '353', '395', '3.39', '3.80']], 'Pittsburgh Penguins': [['29', 'Pittsburgh Penguins', '191', '85', '82', '17', '7', '194', '.508', '657', '676', '3.44', '3.54']], 'Pittsburgh Pirates': [['30', 'Pittsburgh Pirates', '26', '13', '10', '3', '0', '29', '.558', '70', '61', '2.69', '2.35']], 'Seattle Kraken': [['31', 'Seattle Kraken', '2', '2', '0', '0', '0', '4', '1.000', '12', '6', '6.00', '3.00']], 'San Jose Sharks': [['32', 'San Jose Sharks', '55', '25', '23', '5', '2', '57', '.518', '165', '157', '3.00', '2.85']], 'St. Louis Blues': [['33', 'St. Louis Blues', '223', '95', '97', '25', '6', '221', '.496', '710', '720', '3.18', '3.23']], 'Tampa Bay Lightning': [['34', 'Tampa Bay Lightning', '104', '58', '37', '2', '7', '125', '.601', '326', '287', '3.13', '2.76']], 'Vancouver Canucks': [['35', 'Vancouver Canucks', '159', '66', '67', '22', '4', '158', '.497', '539', '528', '3.39', '3.32']], 'Vegas Golden Knights': [['36', 'Vegas Golden Knights', '8', '6', '2', '0', '0', '12', '.750', '28', '21', '3.50', '2.63']], 'Winnipeg Jets': [['37', 'Winnipeg Jets', '75', '41', '24', '1', '9', '92', '.613', '263', '213', '3.51', '2.84']], 'Washington Capitals': [['38', 'Washington Capitals', '152', '66', '71', '10', '5', '147', '.484', '510', '522', '3.36', '3.43']]}\n"
     ]
    }
   ],
   "source": [
    "# Data Structure Design #2. Store the H2H data in a dict\n",
    "# key is team name : the value will be a list of lists of stats\n",
    "\n",
    "def nhl_to_dict(nhl_list):\n",
    "    \"\"\" (list of lists) -> (dict of list of lists)\n",
    "    creates a dict from nhl_data with key being the team name\n",
    "    and the value being the list of lists of data for each team\n",
    "    \"\"\"\n",
    "\n",
    "    team_dict = {}\n",
    "    for team in nhl_list:\n",
    "        if team[1] in team_dict:\n",
    "            team_dict[team[1]].append(team)\n",
    "        else:\n",
    "            team_dict[team[1]] = [team]\n",
    "\n",
    "    return team_dict\n",
    "\n",
    "nhl_dict = nhl_to_dict(nhl_data[1:])\n",
    "print(nhl_dict)"
   ],
   "metadata": {
    "collapsed": false,
    "pycharm": {
     "name": "#%%\n"
    }
   }
  },
  {
   "cell_type": "markdown",
   "source": [
    "So let's pause and think about this solution.\n",
    "\n",
    "What is good about it?\n",
    "\n",
    "What is bad about it?\n",
    "\n",
    "Brainstorm: what data structures might fix some of the problems?"
   ],
   "metadata": {
    "collapsed": false
   }
  },
  {
   "cell_type": "code",
   "execution_count": 116,
   "outputs": [
    {
     "name": "stdout",
     "output_type": "stream",
     "text": [
      "Head to Head for Anaheim Ducks\n",
      "Team Name: Anaheim Ducks Games played: 48 Wins: 30 Losses: 12 Ties:  5 Overtime Losses:  1\n",
      "Head to Head for Montreal Canadiens\n",
      "Team Name: Montreal Canadiens Games played: 761 Wins: 309 Losses: 346 Ties:  88 Overtime Losses:  18\n"
     ]
    }
   ],
   "source": [
    "for team in team_set:\n",
    "    if team in nhl_dict:\n",
    "        print(\"Head to Head for\", team)\n",
    "        for i in range (len(nhl_data)):\n",
    "            if nhl_data[i][nhl_team_index] == team:\n",
    "                print_headtohead(nhl_data, i, nhl_team_index)"
   ],
   "metadata": {
    "collapsed": false,
    "pycharm": {
     "name": "#%%\n"
    }
   }
  },
  {
   "cell_type": "markdown",
   "source": [
    "## Programming Plan: Step 4: Translate NHL data to our data structure.\n",
    "\n",
    "Happily, this is almost done already since we did it in figuring out the previous step. Is there anything we want to change about this code? What don't you like?"
   ],
   "metadata": {
    "collapsed": false,
    "pycharm": {
     "name": "#%% md\n"
    }
   }
  },
  {
   "cell_type": "code",
   "execution_count": 117,
   "outputs": [
    {
     "name": "stdout",
     "output_type": "stream",
     "text": [
      "{'Anaheim Ducks': [['1', 'Anaheim Ducks', '48', '30', '12', '5', '1', '66', '.688', '159', '120', '3.31', '2.50']], 'Boston Bruins': [['2', 'Boston Bruins', '680', '281', '291', '98', '10', '670', '.493', '2026', '2012', '2.98', '2.96']], 'Buffalo Sabres': [['3', 'Buffalo Sabres', '222', '84', '109', '18', '11', '197', '.444', '628', '792', '2.83', '3.57']], 'Carolina Hurricanes': [['4', 'Carolina Hurricanes', '127', '49', '60', '11', '7', '116', '.457', '397', '446', '3.13', '3.51']], 'Columbus Blue Jackets': [['5', 'Columbus Blue Jackets', '33', '16', '11', '1', '5', '38', '.576', '104', '99', '3.15', '3.00']], 'Calgary Flames': [['6', 'Calgary Flames', '149', '68', '63', '12', '6', '154', '.517', '494', '525', '3.32', '3.52']], 'Chicago Blackhawks': [['7', 'Chicago Blackhawks', '655', '291', '265', '96', '3', '681', '.520', '1971', '1879', '3.01', '2.87']], 'Cleveland Barons': [['8', 'Cleveland Barons', '62', '38', '15', '9', '0', '85', '.685', '238', '171', '3.84', '2.76']], 'Colorado Avalanche': [['9', 'Colorado Avalanche', '86', '33', '40', '9', '4', '79', '.459', '285', '315', '3.31', '3.66']], 'Dallas Stars': [['10', 'Dallas Stars', '220', '99', '92', '28', '1', '227', '.516', '736', '748', '3.35', '3.40']], 'Detroit Red Wings': [['11', 'Detroit Red Wings', '676', '297', '281', '93', '5', '692', '.512', '1968', '1916', '2.91', '2.83']], 'Edmonton Oilers': [['12', 'Edmonton Oilers', '115', '60', '44', '8', '3', '131', '.570', '418', '418', '3.63', '3.63']], 'Florida Panthers': [['13', 'Florida Panthers', '94', '45', '35', '7', '7', '104', '.553', '281', '288', '2.99', '3.06']], 'Hamilton Tigers': [['14', 'Hamilton Tigers', '46', '29', '17', '0', '0', '58', '.630', '208', '183', '4.52', '3.98']], 'Los Angeles Kings': [['15', 'Los Angeles Kings', '155', '66', '65', '21', '3', '156', '.503', '512', '515', '3.30', '3.32']], 'Minnesota Wild': [['16', 'Minnesota Wild', '26', '13', '11', '0', '2', '28', '.538', '67', '59', '2.58', '2.27']], 'Montreal Canadiens': [['17', 'Montreal Canadiens', '761', '309', '346', '88', '18', '724', '.476', '2120', '2323', '2.79', '3.05']], 'Montreal Maroons': [['18', 'Montreal Maroons', '92', '43', '43', '6', '0', '92', '.500', '216', '216', '2.35', '2.35']], 'Montreal Wanderers': [['19', 'Montreal Wanderers', '2', '1', '1', '0', '0', '2', '.500', '10', '10', '5.00', '5.00']], 'New Jersey Devils': [['20', 'New Jersey Devils', '148', '78', '41', '20', '9', '185', '.625', '493', '435', '3.33', '2.94']], 'Nashville Predators': [['21', 'Nashville Predators', '28', '13', '13', '1', '1', '28', '.500', '73', '82', '2.61', '2.93']], 'New York Americans': [['22', 'New York Americans', '118', '64', '32', '22', '0', '150', '.636', '379', '244', '3.21', '2.07']], 'New York Islanders': [['23', 'New York Islanders', '162', '77', '68', '7', '10', '171', '.528', '526', '560', '3.25', '3.46']], 'New York Rangers': [['24', 'New York Rangers', '620', '289', '224', '95', '12', '685', '.552', '1963', '1796', '3.17', '2.90']], 'Ottawa Senators': [['25', 'Ottawa Senators', '119', '54', '55', '10', '0', '118', '.496', '347', '375', '2.92', '3.15'], ['26', 'Ottawa Senators', '136', '64', '56', '3', '13', '144', '.529', '408', '413', '3.00', '3.04']], 'Philadelphia Flyers': [['27', 'Philadelphia Flyers', '189', '67', '93', '22', '7', '163', '.431', '532', '649', '2.81', '3.43']], 'Arizona Coyotes': [['28', 'Arizona Coyotes', '104', '39', '54', '8', '3', '89', '.428', '353', '395', '3.39', '3.80']], 'Pittsburgh Penguins': [['29', 'Pittsburgh Penguins', '191', '85', '82', '17', '7', '194', '.508', '657', '676', '3.44', '3.54']], 'Pittsburgh Pirates': [['30', 'Pittsburgh Pirates', '26', '13', '10', '3', '0', '29', '.558', '70', '61', '2.69', '2.35']], 'Seattle Kraken': [['31', 'Seattle Kraken', '2', '2', '0', '0', '0', '4', '1.000', '12', '6', '6.00', '3.00']], 'San Jose Sharks': [['32', 'San Jose Sharks', '55', '25', '23', '5', '2', '57', '.518', '165', '157', '3.00', '2.85']], 'St. Louis Blues': [['33', 'St. Louis Blues', '223', '95', '97', '25', '6', '221', '.496', '710', '720', '3.18', '3.23']], 'Tampa Bay Lightning': [['34', 'Tampa Bay Lightning', '104', '58', '37', '2', '7', '125', '.601', '326', '287', '3.13', '2.76']], 'Vancouver Canucks': [['35', 'Vancouver Canucks', '159', '66', '67', '22', '4', '158', '.497', '539', '528', '3.39', '3.32']], 'Vegas Golden Knights': [['36', 'Vegas Golden Knights', '8', '6', '2', '0', '0', '12', '.750', '28', '21', '3.50', '2.63']], 'Winnipeg Jets': [['37', 'Winnipeg Jets', '75', '41', '24', '1', '9', '92', '.613', '263', '213', '3.51', '2.84']], 'Washington Capitals': [['38', 'Washington Capitals', '152', '66', '71', '10', '5', '147', '.484', '510', '522', '3.36', '3.43']]}\n"
     ]
    }
   ],
   "source": [
    "def nhl_to_dict(nhl_list):\n",
    "    \"\"\" (list of lists) -> (dict of list of lists)\n",
    "    creates a dict from nhl_data with key being the team name\n",
    "    and the value being the list of lists of data for each team\n",
    "    \"\"\"\n",
    "\n",
    "    team_dict = {}\n",
    "    for team in nhl_list:\n",
    "        if team[1] in team_dict:\n",
    "            team_dict[team[1]].append(team)\n",
    "        else:\n",
    "            team_dict[team[1]] = [team]\n",
    "\n",
    "    return team_dict\n",
    "\n",
    "nhl_dict = nhl_to_dict(nhl_data[1:])\n",
    "print(nhl_dict)"
   ],
   "metadata": {
    "collapsed": false,
    "pycharm": {
     "name": "#%%\n"
    }
   }
  },
  {
   "cell_type": "markdown",
   "source": [
    "## Programming Plan: Step 5: Implement search for teams in the file\n",
    "\n",
    "How do we search for team information in the file?"
   ],
   "metadata": {
    "collapsed": false
   }
  },
  {
   "cell_type": "code",
   "execution_count": 120,
   "outputs": [
    {
     "name": "stdout",
     "output_type": "stream",
     "text": [
      "Head to Head for Anaheim Ducks\n",
      "Team Name: Anaheim Ducks Games played: 48 Wins: 30 Losses: 12 Ties:  5 Overtime Losses:  1\n",
      "Head to Head for Montreal Canadiens\n",
      "Team Name: Montreal Canadiens Games played: 761 Wins: 309 Losses: 346 Ties:  88 Overtime Losses:  18\n"
     ]
    }
   ],
   "source": [
    "for team in team_set:\n",
    "    if team in nhl_dict:\n",
    "        print(\"Head to Head for\", team)\n",
    "        for i in range (len(nhl_data)):\n",
    "            if nhl_data[i][nhl_team_index] == team:\n",
    "                print_headtohead(nhl_data, i, nhl_team_index)"
   ],
   "metadata": {
    "collapsed": false,
    "pycharm": {
     "name": "#%%\n"
    }
   }
  },
  {
   "cell_type": "markdown",
   "source": [
    "\n",
    "# Select a Solution\n",
    "\n",
    "As is common, we had to write code to figure out how to solve the problem. That is fine and normal. What we need to be careful of is assuming that our first solution is the best. Ask some questions:\n",
    "* Is this the most efficient way to solve this problem?\n",
    "* What are the weaknesses of the code?\n",
    "* Can the code be improved?\n",
    "* Are there other data structures that should be considered? For example, what if each house was not represented by a dictionary but by a list or a tuple?\n",
    "\n",
    "Let's put it all together."
   ],
   "metadata": {
    "collapsed": false
   }
  },
  {
   "cell_type": "code",
   "execution_count": null,
   "outputs": [],
   "source": [
    "import csv\n",
    "\n",
    "def print_headtohead(data, index, team_index):\n",
    "\n",
    "    print(\"Team Name:\",data[index][team_index], \"Games played:\",\n",
    "          data[index][team_index+1], \"Wins:\", data[index][team_index+2], \"Losses:\", data[index][team_index+3], \"Ties: \", data[index][team_index+4], \"Overtime Losses: \",data[index][team_index+5])\n",
    "\n",
    "\n",
    "def nhl_to_dict(nhl_list):\n",
    "    \"\"\" (list of lists) -> (dict of list of lists)\n",
    "    creates a dict from nhl_list with key being the street name\n",
    "    and the value being the list of lists of data for each team\n",
    "    on the street\n",
    "    \"\"\"\n",
    "\n",
    "    team_dict = {}\n",
    "    for team in nhl_list:\n",
    "        if team[1] in team_dict:\n",
    "            team_dict[team[1]].append(team)\n",
    "        else:\n",
    "            team_dict[team[1]] = [team]\n",
    "\n",
    "    return team_dict\n",
    "\n",
    "nhl_dict = nhl_to_dict(nhl_data[1:])\n",
    "print(nhl_dict)\n",
    "\n",
    "\n",
    "# read in the database\n",
    "nhl_data = []\n",
    "with open('TML_WinLoss.csv', 'r') as csvfile:\n",
    "    nhl_stats_reader = csv.reader(csvfile)\n",
    "\n",
    "    for row in nhl_stats_reader:\n",
    "        nhl_data.append(row)\n",
    "\n",
    "\n",
    "\n",
    "# Get the teams from the user and store them in a set\n",
    "\n",
    "team_set = set()\n",
    "prompt = \"Enter a team name (type exit to end):  \"\n",
    "\n",
    "team = input(prompt)\n",
    "while team != \"exit\":\n",
    "    team_set.add(team)\n",
    "    team = input(prompt)\n",
    "\n",
    "%print(team_set)\n",
    "\n",
    "for team in team_set:\n",
    "    if team in nhl_dict:\n",
    "        print(\"Head to Head for\", team)\n",
    "        for i in range (len(nhl_data)):\n",
    "            if nhl_data[i][nhl_team_index] == team:\n",
    "                print_headtohead(nhl_data, i, nhl_team_index)"
   ],
   "metadata": {
    "collapsed": false,
    "pycharm": {
     "name": "#%%\n",
     "is_executing": true
    }
   }
  },
  {
   "cell_type": "markdown",
   "source": [
    "Is there anything we might want to fix-up? Any functions that we should write?\n",
    "\n",
    "There are a number of sections of code that could usefully go into a function in order to make the code more readable."
   ],
   "metadata": {
    "collapsed": false
   }
  },
  {
   "cell_type": "code",
   "execution_count": 126,
   "outputs": [
    {
     "name": "stdout",
     "output_type": "stream",
     "text": [
      "Head to Head for Anaheim Ducks\n",
      "Team Name: Anaheim Ducks Games played: 48 Wins: 30 Losses: 12 Ties:  5 Overtime Losses:  1\n",
      "Head to Head for Montreal Canadiens\n",
      "Team Name: Montreal Canadiens Games played: 761 Wins: 309 Losses: 346 Ties:  88 Overtime Losses:  18\n"
     ]
    }
   ],
   "source": [
    "import csv\n",
    "\n",
    "def print_headtohead(data, index, team_index):\n",
    "    # display showing team name, games played, wins, losses, ties, overtime losses\n",
    "\n",
    "    print(\"Team Name:\",data[index][team_index], \"Games played:\",\n",
    "          data[index][team_index+1], \"Wins:\", data[index][team_index+2], \"Losses:\", data[index][team_index+3], \"Ties: \", data[index][team_index+4], \"Overtime Losses: \",data[index][team_index+5])\n",
    "\n",
    "\n",
    "def nhl_to_dict(nhl_list):\n",
    "    \"\"\" (list of lists) -> (dict of list of lists)\n",
    "    creates a dict from nhl_list with key being the team name\n",
    "    and the value being the list of lists of data for each team\n",
    "    \"\"\"\n",
    "\n",
    "    team_dict = {}\n",
    "    for team in nhl_list:\n",
    "        if team[1] in team_dict:\n",
    "            team_dict[team[1]].append(team)\n",
    "        else:\n",
    "            team_dict[team[1]] = [team]\n",
    "\n",
    "    return team_dict\n",
    "\n",
    "def get_nhl_data(filename):\n",
    "    '''\n",
    "    (str)->list of lists of string\n",
    "    Opens <filename> as a CSV file, reads in each row and returns the list of rows\n",
    "    '''\n",
    "\n",
    "    # read in the database\n",
    "    nhl_data = []\n",
    "    with open('TML_WinLoss.csv', 'r') as file:\n",
    "        nhl_stats_reader = csv.reader(file)\n",
    "\n",
    "        for row in nhl_stats_reader:\n",
    "            nhl_data.append(row)\n",
    "    return nhl_data\n",
    "\n",
    "\n",
    "def get_team_queries():\n",
    "    '''\n",
    "    None -> set of strings\n",
    "    Prompts user to enter team names to query database\n",
    "    '''\n",
    "    team_set = set()\n",
    "\n",
    "    team = input(\"Enter a team name in the format of 'City Mascot' (e.g., 'Montreal Canadiens') (type exit to end): \")\n",
    "    while team != \"exit\":\n",
    "        team_set.add(team)\n",
    "        team = input(\"Enter a team name in the format of 'City Mascot' (e.g., 'Montreal Canadiens') (type exit to end): \")\n",
    "\n",
    "    return team_set\n",
    "\n",
    "def process_queries(teams, nhl):\n",
    "    '''\n",
    "    (set of str, dictionary of lists of list) -> None\n",
    "    Looks up each entry in teams CSV and prints the team info or an error message\n",
    "    '''\n",
    "    for team in team_set:\n",
    "        if team in nhl_dict:\n",
    "            print(\"Head to Head for\", team)\n",
    "            for i in range (len(nhl_data)):\n",
    "                if nhl_data[i][nhl_team_index] == team:\n",
    "                    print_headtohead(nhl_data, i, nhl_team_index)\n",
    "\n",
    "# *** Main code ***\n",
    "\n",
    "# Read in NHL data and convert to dictionary\n",
    "nhl_data = get_nhl_data(\"TML_WinLoss.csv\")\n",
    "nhl_dict = nhl_to_dict(nhl_data[1:])\n",
    "\n",
    "# Get the teams from the user and store them in a set\n",
    "team_set = get_team_queries()\n",
    "\n",
    "# Run the queries on the NHL CSV\n",
    "process_queries(team_set, nhl_dict)"
   ],
   "metadata": {
    "collapsed": false,
    "pycharm": {
     "name": "#%%\n"
    }
   }
  }
 ],
 "metadata": {
  "kernelspec": {
   "display_name": "Python 3",
   "language": "python",
   "name": "python3"
  },
  "language_info": {
   "codemirror_mode": {
    "name": "ipython",
    "version": 2
   },
   "file_extension": ".py",
   "mimetype": "text/x-python",
   "name": "python",
   "nbconvert_exporter": "python",
   "pygments_lexer": "ipython2",
   "version": "2.7.6"
  }
 },
 "nbformat": 4,
 "nbformat_minor": 0
}