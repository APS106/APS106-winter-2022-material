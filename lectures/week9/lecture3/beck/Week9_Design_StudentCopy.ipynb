{
 "cells": [
  {
   "cell_type": "markdown",
   "metadata": {},
   "source": [
    "### APS106 Lecture Notes - Week 8, Design Problem\n",
    "\n",
    "# Real Estate"
   ]
  },
  {
   "cell_type": "markdown",
   "metadata": {},
   "source": [
    "## Problem Background\n",
    "\n",
    "If you want to buy a house, you need to find houses that are for sale. The multiple listing service (MLS) is a real estate listings service in Toronto that is updated throughout the day with new listings. The service has limited capabilities with housing listed by district, rather than particular streets. It would be much more convenient for the user to be able to input a list of streets and see all the houses for sale on those streets. Your goal is to take the current listings and create such an app. "
   ]
  },
  {
   "cell_type": "markdown",
   "metadata": {},
   "source": [
    "## Define the Problem\n",
    "\n",
    "We assume that you have basic MLS real estate data in a CSV file called `real_estate.csv`. \n",
    "\n",
    "First let's look at the file.\n",
    "\n",
    "![](real_estate_csv.png)"
   ]
  },
  {
   "cell_type": "markdown",
   "source": [
    "# Key idea: I have a question that I need to answer but I have sift through lots of data in a file to do it. Python is ideal for this!"
   ],
   "metadata": {
    "collapsed": false,
    "pycharm": {
     "name": "#%% md\n"
    }
   }
  },
  {
   "cell_type": "markdown",
   "metadata": {},
   "source": [
    "You want to create an app that prompts the user for a list of streets and then, for each street, prints out the houses available on that street. \n",
    "\n",
    "```\n",
    "Enter a street name (type exit when done): manning\n",
    "Enter a street name (type exit when done): wells\n",
    "Enter a street name (type exit when done): perth\n",
    "Enter a street name (type exit when done): exit\n",
    "\n",
    "Houses on manning\n",
    "Address: 194 manning Size: 900 Price: $649880\n",
    "\n",
    "Houses on wells\n",
    "No houses on wells\n",
    "\n",
    "Houses on perth\n",
    "Address: 436 perth Size: 900 Price: $479900\n",
    "Address: 115 perth Size: 1100 Price: $699900\n",
    "Address: 516 perth Size: 800 Price: $498900\n",
    "Address: 288 perth Size: 1300 Price: $699000\n",
    "Address: 179 perth Size: 1100 Price: $699000\n",
    "```\n",
    "\n",
    "Some things to notice and assume:\n",
    "- you need to ask for all the streets first before printing anything out\n",
    "- the database is small enough that you can read it all into memory at once"
   ]
  },
  {
   "cell_type": "markdown",
   "metadata": {},
   "source": [
    "## Define Test Cases \n",
    "\n",
    "The above is one test case. You can also think of some others.\n",
    "\n",
    "Test case 2: Find all houses on Perth\n",
    "\n",
    "```\n",
    "Enter a street name (type exit when done): perth\n",
    "Enter a street name (type exit when done): exit\n",
    "\n",
    "Houses on perth\n",
    "Address: 436 perth Size: 900 Price: $479900\n",
    "Address: 115 perth Size: 1100 Price: $699900\n",
    "Address: 516 perth Size: 800 Price: $498900\n",
    "Address: 288 perth Size: 1300 Price: $699000\n",
    "Address: 179 perth Size: 1100 Price: $699000\n",
    "```"
   ]
  },
  {
   "cell_type": "markdown",
   "metadata": {},
   "source": [
    "## Generate Many Creative Solutions \n",
    "\n",
    "There are four steps in the solution and so we can immediately come up with an initial Algorithm Plan:\n",
    "* Read in the data and store it somehow\n",
    "* Get the user input and store it somehow\n",
    "* For each street entered, find houses on the street\n",
    "* Print-out the address, size, and price of each house found\n",
    "\n",
    "The first step and the last two steps will probably be related since the way we store the MLS data is going to determine what we have to do to find the houses on a given street and what we need to do to print out the information on each house. The fundamental question is how to represent the MLS data so that we can efficiently search for street names and then print out the data from the houses no that street. We've studied a number of data structures: lists? nested lists? tuples? sets? dictionaries?\n",
    "\n",
    "It is not clear right now what the best options are. We could tackle this problem immediately but it seems hard. Sometimes it is better to do the steps that seem easier first to get them out of the way (and in the meantime we can let the hard problem sit in the back of our heads).\n",
    "\n",
    "So here's my proposed Programming Plan:\n",
    "\n",
    "1. Implement code to get the user input and store it somehow (i.e., Algorithm Plan Step 2)\n",
    "1. Read the CSV file.\n",
    "1.\tDesign data structure for the MLS data.\n",
    "1.\tConvert the data read from the CSV file to our data structure. Or maybe go back to Step 2 and directly put the data into our data structure while reading it.\n",
    "1.\tImplement the searching for houses on a street\n",
    "1.\tImplement the output of the data for the houses found\n",
    "\n",
    "Steps 3 to 6 will take some more thought. Even Step 1 seems a bit challenging, but let's see what we can do."
   ]
  },
  {
   "cell_type": "markdown",
   "metadata": {},
   "source": [
    "## Programming Plan: Step 1: Implement code to get user input and store it\n",
    "\n",
    "We are going to get a sequence of street names from the user. The obvious data structure is a list but it might make some sense to think about other ideas: tuples? sets? dictionaries?\n",
    "\n",
    "* We probably do not want to use a dictionary because there is no key:value pattern. \n",
    "* A set has an advantage in that if the user puts the same street name in twice, we will only store it once and therefore only print out the houses on that street once. \n",
    "\n",
    "This decision comes down to the behaviour you want of your program. If the user makes a mistake do you want to print out the same data twice. One answer is: assume the user knows what they are doing. Another is: why would the user want to see the same data twice.\n",
    "\n",
    "There is probably not one right answer. Let's go with a set since we have had less practice with them.\n",
    "\n",
    "We need to keep asking the user for a street name until they type `exit`. So this suggests a loop that will exit when the user types 'exit`. We've seen such a pattern before."
   ]
  },
  {
   "cell_type": "code",
   "execution_count": 3,
   "metadata": {},
   "outputs": [
    {
     "name": "stdout",
     "output_type": "stream",
     "text": [
      "Enter a street name (type exit to end): clinton\n",
      "Enter a street name (type exit to end): perth\n",
      "Enter a street name (type exit to end): bloor\n",
      "Enter a street name (type exit to end): exit\n",
      "{'clinton', 'bloor', 'perth'}\n"
     ]
    }
   ],
   "source": [
    "# Get the streets from the user and store them in a set\n",
    "street_set = set()\n",
    "\n",
    "street = input(\"Enter a street name (type exit to end): \")\n",
    "while street != \"exit\":\n",
    "    street_set.add(street)\n",
    "    street = input(\"Enter a street name (type exit to end): \")\n",
    "        \n",
    "print(street_set)"
   ]
  },
  {
   "cell_type": "markdown",
   "metadata": {},
   "source": [
    "One awkward thing about this code is that we have to write the user prompt twice. And so if we want to change it, we need to remember to do it twice. We can get around this with a variable."
   ]
  },
  {
   "cell_type": "code",
   "execution_count": 4,
   "metadata": {},
   "outputs": [
    {
     "name": "stdout",
     "output_type": "stream",
     "text": [
      "Enter a street name (type exit to end): clinton\n",
      "Enter a street name (type exit to end): perth\n",
      "Enter a street name (type exit to end): bloor\n",
      "Enter a street name (type exit to end): exit\n",
      "{'clinton', 'perth', 'bloor'}\n"
     ]
    }
   ],
   "source": [
    "# Get the streets from the user and store them in a set\n",
    "street_set = set()\n",
    "\n",
    "prompt = \"Enter a street name (type exit to end): \"\n",
    "\n",
    "street = input(prompt)\n",
    "while street != \"exit\":\n",
    "    street_set.add(street)\n",
    "    street = input(prompt)\n",
    "        \n",
    "print(street_set)"
   ]
  },
  {
   "cell_type": "markdown",
   "metadata": {},
   "source": [
    "We can now write a skeleton for the next step."
   ]
  },
  {
   "cell_type": "code",
   "execution_count": null,
   "metadata": {},
   "outputs": [],
   "source": [
    "\n",
    "for street_name in street_set:\n",
    "    # search for street_name in MLS data\n",
    "    # if found - print out address, size, and price\n",
    "    # else - print out \"No houses on <street name>\""
   ]
  },
  {
   "cell_type": "markdown",
   "metadata": {},
   "source": [
    "This code is really to remind us where we need to come back to after we deal with Programming Step 2.\n",
    "\n",
    "## Programming Plan: Step 2: Read the CSV file.\n",
    "\n",
    "We have a number of ways to do this. The most straightforward is to use the `csvreader`.\n"
   ]
  },
  {
   "cell_type": "code",
   "execution_count": 2,
   "metadata": {},
   "outputs": [
    {
     "name": "stdout",
     "output_type": "stream",
     "text": [
      "['number', ' street', ' type', ' size', ' floors', ' bedrooms', ' bathrooms', ' lot-size', ' parking', ' facing', ' age', ' taxes', ' price']\n",
      "['436', 'perth', 'semi-detatched', '900', '1', '3', '2', '1200', '0', 'east', '100', '2100', '479900']\n",
      "['115', 'perth', 'semi-detatched', '1100', '2', '3', '2', '1800', '1', 'west', '100', '3500', '699900']\n",
      "['516', 'perth', 'detatched', '800', '1', '1', '1', '2600', '2', 'east', '100', '2000', '498900']\n",
      "['194', 'manning', 'semi-detatched', '900', '1', '2', '2', '1400', '0', 'west', '50', '4000', '649880']\n",
      "['288', 'perth', 'detatched', '1300', '3', '5', '3', '2000', '1', 'west', '100', '3200', '699000']\n",
      "['753', 'shaw', 'semi-detatched', '1200', '2', '3', '4', '2200', '1', 'east', '100', '4500', '899000']\n",
      "['152', 'palmerston', 'semi-detatched', '1100', '2', '4', '3', '1800', '1', 'west', '100', '4300', '799000']\n",
      "['179', 'perth', 'detatched', '1100', '2', '3', '2', '2200', '1', 'west', '50', '2800', '699000']\n",
      "['295', 'clinton', 'semi-detatched', '1300', '3', '5', '3', '2000', '1', 'east', '100', '4600', '899000']\n",
      "['189', 'clinton', 'semi-detatched', '1250', '2', '3', '2', '2100', '0', 'west', '80', '4200', '849900']\n",
      "['277', 'clinton', 'detatched', '1100', '1', '2', '2', '2200', '2', 'east', '50', '4800', '949800']\n",
      "['264', 'clinton', 'detatched', '1300', '2', '3', '2', '1800', '0', 'east', '100', '4400', '799900']\n",
      "['265', 'clinton', 'detatched', '1100', '1', '2', '1', '1800', '0', 'west', '100', '4300', '790000']\n",
      "['517', 'delaware', 'semi-detatched', '1200', '2', '3', '1', '2100', '2', 'east', '80', '3200', '699900']\n",
      "['713', 'euclid', 'semi-detatched', '1100', '3', '3', '2', '1500', '0', 'west', '70', '4100', '749000']\n",
      "['808', 'shaw', 'detatched', '1300', '3', '3', '2', '1700', '1', 'east', '100', '3500', '929000']\n",
      "['488', 'delaware', 'detatched', '1100', '1', '2', '2', '1900', '1', 'west', '80', '3400', '849000']\n",
      "['308', 'delaware', 'semi-detatched', '1100', '2', '3', '3', '1200', '1', 'east', '100', '2600', '599000']\n",
      "['332', 'delaware', 'semi-detatched', '1000', '3', '5', '2', '1400', '1', 'west', '80', '3300', '799000']\n",
      "['17', 'mansfield', 'semi-detatched', '900', '2', '3', '2', '1300', '0', 'north', '50', '3500', '699000']\n",
      "['13', 'mansfield', 'semi-detatched', '1300', '2', '3', '2', '1300', '0', 'north', '50', '3800', '899000']\n"
     ]
    }
   ],
   "source": [
    "import csv\n",
    "\n",
    "MLS_data = [] \n",
    "with open('real_estate.csv', 'r') as csvfile:\n",
    "    real_estate_reader = csv.reader(csvfile)\n",
    "\n",
    "    for row in real_estate_reader:\n",
    "        MLS_data.append(row)\n",
    "\n",
    "for house in MLS_data:\n",
    "    print(house)"
   ]
  },
  {
   "cell_type": "markdown",
   "metadata": {},
   "source": [
    "## Programming Plan: Step 3: Design data structure for the MLS data.\n",
    "\n",
    "Now that we know about a variety of data structures in Python (e.g. lists, tuples, sets, dictionaries), we have the problem of figuring out which one we should use. The real answer is that you could use just about any of them but you have to face two issues:\n",
    "1. How complicated is the code to write (and maintain) if I choose a particular data structure?\n",
    "2. How efficient is the code in executing the tasks it needs to frequently do?\n",
    "\n",
    "### Two Important Questions\n",
    "1. What is the main task that we will want this data structure to be able to perform?\n",
    "2. What is the simplest data structure?\n",
    "\n",
    "Let's answer the second one first."
   ]
  },
  {
   "cell_type": "code",
   "execution_count": 6,
   "metadata": {},
   "outputs": [
    {
     "name": "stdout",
     "output_type": "stream",
     "text": [
      "Address: 295 clinton Size: 1300 Price: 899000\n",
      "Address: 189 clinton Size: 1250 Price: 849900\n",
      "Address: 277 clinton Size: 1100 Price: 949800\n",
      "Address: 264 clinton Size: 1300 Price: 799900\n",
      "Address: 265 clinton Size: 1100 Price: 790000\n",
      "Address: 436 perth Size: 900 Price: 479900\n",
      "Address: 115 perth Size: 1100 Price: 699900\n",
      "Address: 516 perth Size: 800 Price: 498900\n",
      "Address: 288 perth Size: 1300 Price: 699000\n",
      "Address: 179 perth Size: 1100 Price: 699000\n"
     ]
    }
   ],
   "source": [
    "# Data Structure Design #1. Using a list of MLS data.\n",
    "\n",
    "def print_house(house):\n",
    "    # display showing house address, size and price\n",
    "    # Entries are: number, street, type, size, floors, bedrooms, bathrooms, \n",
    "    #              lot-size, parking, facing, age, taxes, price\n",
    "\n",
    "    print(\"Address:\", house[0], house[1], \"Size:\",\n",
    "          house[3], \"Price:\", house[-1])\n",
    "\n",
    "# for each street on our street_set\n",
    "#    for each house on the MLS_list\n",
    "#       if the house's street equals the street we are looking for\n",
    "#          print the house info\n",
    "\n",
    "MLS_street_index = 1\n",
    "for street in street_set:\n",
    "    for house in MLS_data[1:]:\n",
    "        if house[MLS_street_index] == street:\n",
    "            print_house(house)"
   ]
  },
  {
   "cell_type": "markdown",
   "metadata": {},
   "source": [
    "This code doesn't do exactly what we want. Look again at the use case at the top, we want to be able to print out a \"header\" for each of the streets and also print out a message when there are no houses on the street. (Note that Bloor has no houses but we get no message).\n",
    "\n",
    "So let's try again."
   ]
  },
  {
   "cell_type": "code",
   "execution_count": null,
   "metadata": {},
   "outputs": [],
   "source": [
    "MLS_street_index = 1\n",
    "for street in street_set:\n",
    "    print(\"Houses on\", street)  \n",
    "    for house in MLS_data:\n",
    "        if house[MLS_street_index] == street:\n",
    "            print_house(house)\n",
    "        else:\n",
    "            print(\"No houses on\", street)"
   ]
  },
  {
   "cell_type": "markdown",
   "metadata": {},
   "source": [
    "Unfortunately, this doesn't work either. For every house in our MLS_data, if it doesn't match the street name we are looking for, we print that out. That isn't what we wanted.\n",
    "\n",
    "What we want to do is detect if none of the houses in our list are on a particular street and then print that message. This needs to be outside the inner loop - which iterates over each street.\n",
    "\n",
    "Here's a standard solution to such a problem: create a \"flag\" that is initially `False` and which gets set to `True` when the thing you are looking for happens. Then after the loop, if the flag is still `False`, then you print out the message."
   ]
  },
  {
   "cell_type": "code",
   "execution_count": 8,
   "metadata": {},
   "outputs": [
    {
     "name": "stdout",
     "output_type": "stream",
     "text": [
      "Houses on clinton\n",
      "Address: 295 clinton Size: 1300 Price: 899000\n",
      "Address: 189 clinton Size: 1250 Price: 849900\n",
      "Address: 277 clinton Size: 1100 Price: 949800\n",
      "Address: 264 clinton Size: 1300 Price: 799900\n",
      "Address: 265 clinton Size: 1100 Price: 790000\n",
      "Houses on perth\n",
      "Address: 436 perth Size: 900 Price: 479900\n",
      "Address: 115 perth Size: 1100 Price: 699900\n",
      "Address: 516 perth Size: 800 Price: 498900\n",
      "Address: 288 perth Size: 1300 Price: 699000\n",
      "Address: 179 perth Size: 1100 Price: 699000\n",
      "Houses on bloor\n",
      "No houses on bloor\n"
     ]
    }
   ],
   "source": [
    "MLS_street_index = 1\n",
    "for street in street_set:\n",
    "    print(\"Houses on\", street)  \n",
    "    found_house = False        # this is the \"flag\"\n",
    "    for house in MLS_data:\n",
    "        if house[MLS_street_index] == street:\n",
    "            print_house(house)\n",
    "            found_house = True\n",
    "            \n",
    "    if not found_house:  # if the flag hasn't been reset, then we didn't find a house\n",
    "        print(\"No houses on\", street)\n",
    "            "
   ]
  },
  {
   "cell_type": "markdown",
   "metadata": {},
   "source": [
    "So let's pause and think about this solution. \n",
    "\n",
    "What is good about it?\n",
    "\n",
    "What is bad about it?\n",
    "\n",
    "Brainstorm: what data structures might fix some of the problems?"
   ]
  },
  {
   "cell_type": "markdown",
   "source": [
    "## BREAKOUT SESSION #1:\n",
    "Data Structure Design #2. Store the MLS data in a dict key is street_name : the value will be a list of lists (the data for each house is a list and the entry for a street needs to be a list of houses on that street)"
   ],
   "metadata": {
    "collapsed": false,
    "pycharm": {
     "name": "#%% md\n"
    }
   }
  },
  {
   "cell_type": "code",
   "execution_count": null,
   "metadata": {},
   "outputs": [],
   "source": [
    "def MLS_to_dict(MLS_list):\n",
    "    \"\"\" (list of lists) -> (dict of list of lists)\n",
    "    creates a dict from MLS_list with key being the street name\n",
    "    and the value being the list of lists of data for each house\n",
    "    on the street\n",
    "    \"\"\"\n",
    "            \n",
    "    return house_dict\n",
    "\n",
    "MLS_dict = MLS_to_dict(MLS_data[1:])\n",
    "print(MLS_dict)"
   ]
  },
  {
   "cell_type": "markdown",
   "metadata": {},
   "source": [
    "Now we need to go back to our code for finding and printing a house and see how it changes. "
   ]
  },
  {
   "cell_type": "code",
   "execution_count": 10,
   "metadata": {},
   "outputs": [
    {
     "name": "stdout",
     "output_type": "stream",
     "text": [
      "Houses on clinton\n",
      "Address: 295 clinton Size: 1300 Price: 899000\n",
      "Address: 189 clinton Size: 1250 Price: 849900\n",
      "Address: 277 clinton Size: 1100 Price: 949800\n",
      "Address: 264 clinton Size: 1300 Price: 799900\n",
      "Address: 265 clinton Size: 1100 Price: 790000\n",
      "Houses on perth\n",
      "Address: 436 perth Size: 900 Price: 479900\n",
      "Address: 115 perth Size: 1100 Price: 699900\n",
      "Address: 516 perth Size: 800 Price: 498900\n",
      "Address: 288 perth Size: 1300 Price: 699000\n",
      "Address: 179 perth Size: 1100 Price: 699000\n",
      "No houses on bloor\n"
     ]
    }
   ],
   "source": [
    "for street in street_set:\n",
    "    if street in MLS_dict:\n",
    "        print(\"Houses on\", street)\n",
    "        for house in MLS_dict[street]:\n",
    "            print_house(house)\n",
    "    else:\n",
    "        print(\"No houses on\", street)"
   ]
  },
  {
   "cell_type": "markdown",
   "metadata": {},
   "source": [
    "This was all a pretty long detour in the middle of Programming Plan Step 3. We were essentially doing some prototyping to try and figure out what data structure would be best.\n",
    "\n",
    "What is the conclusions?\n",
    "\n",
    "**List**: code is simpler, algorithm is less efficient because it has to search through all the entries for a given street name.\n",
    "\n",
    "**Dictionary**: code is more complex (e.g., converting the list to a dictionary) but it will be more efficient especially if the size of the database is large.\n",
    "\n",
    "Which do we choose?\n",
    "\n",
    "At this point, with such a small database, using a list is probably the best decision. However, since we want to have some practice with dictionaries, let's finish the code using one.\n",
    "\n",
    "Let's go back to our programming plan.\n",
    "\n",
    "1. ~~Implement code to get the user input and store it somehow (i.e., Algorithm Plan Step 2)~~\n",
    "1. ~~Read the CSV file.~~\n",
    "1.\t~~Design data structure for the MLS data.~~\n",
    "1.\tConvert the data read from the CSV file to our data structure. Or maybe go back to Step 2 and directly put the data into our data structure while reading it.\n",
    "1.\tImplement the searching for houses on a street\n",
    "1.\tImplement the output of the data for the houses found\n",
    "\n",
    "We've actually written a lot of the code we need in trying out the options for Step 3."
   ]
  },
  {
   "cell_type": "markdown",
   "metadata": {},
   "source": [
    "## Programming Plan: Step 4: Translate MLS data to our data structure.\n",
    "\n",
    "Happily, this is almost done already since we did it in figuring out the previous step. Is there anything we want to change about this code? What don't you like?"
   ]
  },
  {
   "cell_type": "code",
   "execution_count": null,
   "metadata": {},
   "outputs": [],
   "source": [
    "def MLS_to_dict(MLS_list):\n",
    "    \"\"\" (list of lists) -> (dict of list of lists)\n",
    "    creates a dict from MLS_list with key being the street name\n",
    "    and the value being the list of lists of data for each house\n",
    "    on the street\n",
    "    \"\"\"  \n",
    "\n",
    "    house_dict = {}\n",
    "    for house in MLS_list:\n",
    "        if house[1] in house_dict:\n",
    "            house_dict[house[1]].append(house)\n",
    "        else:\n",
    "            house_dict[house[1]] = [house]\n",
    "            \n",
    "    return house_dict\n",
    "\n",
    "MLS_dict = MLS_to_dict(MLS_data)\n",
    "print(MLS_dict)"
   ]
  },
  {
   "cell_type": "markdown",
   "metadata": {},
   "source": [
    "## Programming Plan: Step 5: Implement search for houses on a street.\n",
    "\n",
    "How do we search for houses on a street?"
   ]
  },
  {
   "cell_type": "code",
   "execution_count": 14,
   "metadata": {},
   "outputs": [
    {
     "name": "stdout",
     "output_type": "stream",
     "text": [
      "Houses on clinton\n",
      "Address: 295 clinton Size: 1300 Price: 899000\n",
      "Address: 189 clinton Size: 1250 Price: 849900\n",
      "Address: 277 clinton Size: 1100 Price: 949800\n",
      "Address: 264 clinton Size: 1300 Price: 799900\n",
      "Address: 265 clinton Size: 1100 Price: 790000\n",
      "Houses on perth\n",
      "Address: 436 perth Size: 900 Price: 479900\n",
      "Address: 115 perth Size: 1100 Price: 699900\n",
      "Address: 516 perth Size: 800 Price: 498900\n",
      "Address: 288 perth Size: 1300 Price: 699000\n",
      "Address: 179 perth Size: 1100 Price: 699000\n",
      "No houses on bloor\n"
     ]
    }
   ],
   "source": [
    "MLS_street_index = 1\n",
    "for street in street_set:\n",
    "    if street in MLS_dict:\n",
    "        print(\"Houses on\", street)\n",
    "        for house in MLS_dict[street]:\n",
    "            print_house(house)\n",
    "    else:\n",
    "        print(\"No houses on\", street)"
   ]
  },
  {
   "cell_type": "markdown",
   "metadata": {},
   "source": [
    "## Programming Plan: Step 6: Implement the output of the data for the houses found.\n",
    "\n",
    "Turns out we already did this too."
   ]
  },
  {
   "cell_type": "code",
   "execution_count": 16,
   "metadata": {},
   "outputs": [],
   "source": [
    "def print_house(house):\n",
    "    # display showing house address, size and price\n",
    "    # Entries are: number, street, type, size, floors, bedrooms, bathrooms, \n",
    "    #              lot-size, parking, facing, age, taxes, price"
   ]
  },
  {
   "cell_type": "markdown",
   "metadata": {},
   "source": [
    "\n",
    "# Select a Solution\n",
    "\n",
    "As is common, we had to write code to figure out how to solve the problem. That is fine and normal. What we need to be careful of is assuming that our first solution is the best. Ask some questions:\n",
    "* Is this the most efficient way to solve this problem?\n",
    "* What are the weaknesses of the code?\n",
    "* Can the code be improved?\n",
    "* Are there other data structures that should be considered? For example, what if each house was not represented by a dictionary but by a list or a tuple?\n",
    "\n",
    "Let's put it all together."
   ]
  },
  {
   "cell_type": "code",
   "execution_count": 28,
   "metadata": {},
   "outputs": [
    {
     "name": "stdout",
     "output_type": "stream",
     "text": [
      "Enter a street name (type exit to end): bloor\n",
      "Enter a street name (type exit to end): manning\n",
      "Enter a street name (type exit to end): perth\n",
      "Enter a street name (type exit to end): wells\n",
      "Enter a street name (type exit to end): exit\n",
      "Houses on perth\n",
      "Address: 436 perth Size: 900 Price: 479900\n",
      "Address: 115 perth Size: 1100 Price: 699900\n",
      "Address: 516 perth Size: 800 Price: 498900\n",
      "Address: 288 perth Size: 1300 Price: 699000\n",
      "Address: 179 perth Size: 1100 Price: 699000\n",
      "Houses on manning\n",
      "Address: 194 manning Size: 900 Price: 649880\n",
      "No houses on wells\n",
      "No houses on bloor\n"
     ]
    }
   ],
   "source": [
    "# A small application to print out the housing information for\n",
    "# houses on a set of streets entered by the user.\n",
    "\n",
    "import csv\n",
    "\n",
    "def print_house(house):\n",
    "    # display showing house address, size and price\n",
    "    # Entries are: number, street, type, size, floors, bedrooms, bathrooms,\n",
    "    #              lot-size, parking, facing, age, taxes, price\n",
    "\n",
    "def MLS_to_dict(MLS_list):\n",
    "    \"\"\" (list of lists) -> (dict of list of lists)\n",
    "    creates a dict from MLS_list with key being the street name\n",
    "    and the value being the list of lists of data for each house\n",
    "    on the street\n",
    "    \"\"\"\n",
    "\n",
    "    return house_dict\n",
    "\n",
    "\n",
    "# read in the database\n",
    "MLS_data = []\n",
    "with open('real_estate.csv', 'r') as csvfile:\n",
    "    real_estate_reader = csv.reader(csvfile)\n",
    "\n",
    "    for row in real_estate_reader:\n",
    "        MLS_data.append(row)\n",
    "\n",
    "#for house in MLS_data:\n",
    "#    print(house)\n",
    "\n",
    "MLS_dict = MLS_to_dict(MLS_data[1:])\n",
    "#print(MLS_dict)\n",
    "\n",
    "# Get the streets from the user and store them in a set\n",
    "street_set = set()\n",
    "\n",
    "street = input(\"Enter a street name (type exit to end): \")\n",
    "while street != \"exit\":\n",
    "    street_set.add(street)\n",
    "    street = input(\"Enter a street name (type exit to end): \")\n",
    "\n",
    "#print(street_set)\n",
    "\n",
    "for street in street_set:\n",
    "    if street in MLS_dict:\n",
    "        print(\"Houses on\", street)\n",
    "        for house in MLS_dict[street]:\n",
    "            print_house(house)\n",
    "    else:\n",
    "        print(\"No houses on\", street)"
   ]
  },
  {
   "cell_type": "markdown",
   "metadata": {},
   "source": [
    "Is there anything we might want to fix-up? Any functions that we should write?\n",
    "\n",
    "There are a number of sections of code that could usefully go into a function in order to make the code more readable."
   ]
  },
  {
   "cell_type": "code",
   "execution_count": 19,
   "metadata": {},
   "outputs": [
    {
     "name": "stdout",
     "output_type": "stream",
     "text": [
      "Enter a street name (type exit to end): clinton\n",
      "Enter a street name (type exit to end): perth\n",
      "Enter a street name (type exit to end): bloor\n",
      "Enter a street name (type exit to end): exit\n",
      "Houses on clinton\n",
      "Address: 295 clinton Size: 1300 Price: 899000\n",
      "Address: 189 clinton Size: 1250 Price: 849900\n",
      "Address: 277 clinton Size: 1100 Price: 949800\n",
      "Address: 264 clinton Size: 1300 Price: 799900\n",
      "Address: 265 clinton Size: 1100 Price: 790000\n",
      "Houses on perth\n",
      "Address: 436 perth Size: 900 Price: 479900\n",
      "Address: 115 perth Size: 1100 Price: 699900\n",
      "Address: 516 perth Size: 800 Price: 498900\n",
      "Address: 288 perth Size: 1300 Price: 699000\n",
      "Address: 179 perth Size: 1100 Price: 699000\n",
      "No houses on bloor\n"
     ]
    }
   ],
   "source": [
    "# A small application to print out the housing information for\n",
    "# houses on a set of streets entered by the user.\n",
    "\n",
    "import csv\n",
    "\n",
    "def print_house(house):\n",
    "    # display showing house address, size and price\n",
    "    # Entries are: number, street, type, size, floors, bedrooms, bathrooms,\n",
    "    #              lot-size, parking, facing, age, taxes, price\n",
    "\n",
    "def MLS_to_dict(MLS_list):\n",
    "    \"\"\" (list of lists) -> (dict of list of lists)\n",
    "    creates a dict from MLS_list with key being the street name\n",
    "    and the value being the list of lists of data for each house\n",
    "    on the street\n",
    "    \"\"\"\n",
    "\n",
    "    return house_dict\n",
    "\n",
    "def get_MLS_data(filename):\n",
    "    '''\n",
    "    (str)->list of lists of string\n",
    "    Opens <filename> as a CSV file, reads in each row and returns the list of rows\n",
    "    '''\n",
    "\n",
    "    # read in the database\n",
    "\n",
    "    return MLS_data\n",
    "\n",
    "def get_street_queries():\n",
    "    '''\n",
    "    None -> set of strings\n",
    "    Prompts user to enter street names to query database\n",
    "    '''\n",
    "\n",
    "    return street_set\n",
    "\n",
    "def process_queries(streets, MLS):\n",
    "    '''\n",
    "    (set of str, dictionary of lists of list) -> None\n",
    "    Looks up each entry in streets in MLS and prints the house info or an error message\n",
    "    '''\n",
    "\n",
    "# *** Main code ***\n",
    "\n",
    "# Read in MLS data and convert to dictionary\n",
    "MLS_data = get_MLS_data(\"real_estate.csv\")\n",
    "MLS_dict = MLS_to_dict(MLS_data[1:])\n",
    "\n",
    "# Get the streets from the user and store them in a set\n",
    "street_set = get_street_queries()\n",
    "\n",
    "# Run the queries on the MLS database\n",
    "process_queries(street_set, MLS_dict)\n"
   ]
  },
  {
   "cell_type": "markdown",
   "metadata": {},
   "source": [
    "# Perform Final Testing"
   ]
  }
 ],
 "metadata": {
  "kernelspec": {
   "display_name": "Python 3",
   "language": "python",
   "name": "python3"
  },
  "language_info": {
   "codemirror_mode": {
    "name": "ipython",
    "version": 3
   },
   "file_extension": ".py",
   "mimetype": "text/x-python",
   "name": "python",
   "nbconvert_exporter": "python",
   "pygments_lexer": "ipython3",
   "version": "3.7.2"
  }
 },
 "nbformat": 4,
 "nbformat_minor": 1
}